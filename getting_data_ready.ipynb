{
  "nbformat": 4,
  "nbformat_minor": 0,
  "metadata": {
    "colab": {
      "name": "getting_data_ready.ipynb",
      "provenance": [],
      "collapsed_sections": [
        "1wVzLGfIFZJo"
      ],
      "toc_visible": true,
      "include_colab_link": true
    },
    "kernelspec": {
      "name": "python3",
      "display_name": "Python 3"
    }
  },
  "cells": [
    {
      "cell_type": "markdown",
      "metadata": {
        "id": "view-in-github",
        "colab_type": "text"
      },
      "source": [
        "<a href=\"https://colab.research.google.com/github/ffg-kom/mapping_evolution/blob/master/getting_data_ready.ipynb\" target=\"_parent\"><img src=\"https://colab.research.google.com/assets/colab-badge.svg\" alt=\"Open In Colab\"/></a>"
      ]
    },
    {
      "cell_type": "markdown",
      "metadata": {
        "id": "b43wvy6RBNfq",
        "colab_type": "text"
      },
      "source": [
        "# Imports"
      ]
    },
    {
      "cell_type": "markdown",
      "metadata": {
        "id": "Tlp6A0TlB3rn",
        "colab_type": "text"
      },
      "source": [
        "The following code was copied from https://colab.research.google.com/github/nestauk/im_tutorials/blob/master/notebooks/01_intro_to_pandas_tutorial.ipynb."
      ]
    },
    {
      "cell_type": "code",
      "metadata": {
        "id": "T1hId0fb7-XH",
        "colab_type": "code",
        "outputId": "faf32424-691c-4419-84d2-5351fcd8fd87",
        "colab": {
          "base_uri": "https://localhost:8080/",
          "height": 240
        }
      },
      "source": [
        "%load_ext autoreload\n",
        "%autoreload 2\n",
        "\n",
        "# install im_tutorial package\n",
        "!pip install git+https://github.com/nestauk/im_tutorials.git"
      ],
      "execution_count": 12,
      "outputs": [
        {
          "output_type": "stream",
          "text": [
            "The autoreload extension is already loaded. To reload it, use:\n",
            "  %reload_ext autoreload\n",
            "Collecting git+https://github.com/nestauk/im_tutorials.git\n",
            "  Cloning https://github.com/nestauk/im_tutorials.git to /tmp/pip-req-build-mpl_eqsl\n",
            "  Running command git clone -q https://github.com/nestauk/im_tutorials.git /tmp/pip-req-build-mpl_eqsl\n",
            "Requirement already satisfied (use --upgrade to upgrade): im-tutorials==0.1.1 from git+https://github.com/nestauk/im_tutorials.git in /usr/local/lib/python3.6/dist-packages\n",
            "Building wheels for collected packages: im-tutorials\n",
            "  Building wheel for im-tutorials (setup.py) ... \u001b[?25l\u001b[?25hdone\n",
            "  Created wheel for im-tutorials: filename=im_tutorials-0.1.1-cp36-none-any.whl size=15103 sha256=cc5fed29a8c5b1bacb2a1f495f27386b6843f0c12ec68e96dcfe70aa6c35f939\n",
            "  Stored in directory: /tmp/pip-ephem-wheel-cache-tsqvbexl/wheels/47/a3/cb/bdc5f9ba49bcfd2c6864b166a1566eb2f104113bf0c3500330\n",
            "Successfully built im-tutorials\n"
          ],
          "name": "stdout"
        }
      ]
    },
    {
      "cell_type": "code",
      "metadata": {
        "id": "xr-zKnF5ByVZ",
        "colab_type": "code",
        "colab": {}
      },
      "source": [
        "# numpy for mathematical functions\n",
        "import numpy as np\n",
        "# pandas for handling tabular data\n",
        "import pandas as pd\n",
        "# explained later\n",
        "from im_tutorials.data.cordis import h2020_projects\n",
        "\n",
        "# for plotting\n",
        "import matplotlib.pyplot as plt\n",
        "\n",
        "# data\n",
        "from im_tutorials.data.cordis import cordis_table"
      ],
      "execution_count": 0,
      "outputs": []
    },
    {
      "cell_type": "markdown",
      "metadata": {
        "id": "gD7Wa-SFFDkb",
        "colab_type": "text"
      },
      "source": [
        "# Loading data"
      ]
    },
    {
      "cell_type": "code",
      "metadata": {
        "id": "fLvnUgG5CXdf",
        "colab_type": "code",
        "outputId": "02d03735-37f1-4a09-b4bc-ae878eeee3f3",
        "colab": {
          "base_uri": "https://localhost:8080/",
          "height": 35
        }
      },
      "source": [
        "# load tables\n",
        "cordis_o_df = cordis_table('organisations')\n",
        "cordis_p_df = cordis_table('projects')\n",
        "cordis_p_o_df = cordis_table('project_organisations')\n",
        "cordis_pub_df = cordis_table('publications')\n",
        "\n",
        "# merge them\n",
        "cordis_project_orgs_df = cordis_p_o_df.merge(\n",
        "  cordis_o_df, left_on='organization_id', right_on='id', how='left'\n",
        ")\n",
        "cordis_project_orgs_df = cordis_project_orgs_df.merge(\n",
        "  cordis_p_df, left_on='project_rcn', right_on='rcn', how='left'\n",
        ")\n",
        "\n",
        "cordis_project_orgs_df.rename( columns={'contribution': 'ec_contribution_organization'\n",
        "                                        , 'ec_contribution': 'ec_contribution_project'\n",
        "                                        , 'total_cost': 'total_cost_project'\n",
        "                                       }, inplace=True )\n",
        "\n",
        "cordis_project_orgs_df.shape"
      ],
      "execution_count": 14,
      "outputs": [
        {
          "output_type": "execute_result",
          "data": {
            "text/plain": [
              "(251040, 25)"
            ]
          },
          "metadata": {
            "tags": []
          },
          "execution_count": 14
        }
      ]
    },
    {
      "cell_type": "code",
      "metadata": {
        "id": "4xAHZQ9MOd_E",
        "colab_type": "code",
        "outputId": "bac9d111-1e22-46a1-f594-b9142923e5df",
        "colab": {
          "base_uri": "https://localhost:8080/",
          "height": 35
        }
      },
      "source": [
        "# add number of partners per project as a column\n",
        "count_partners_df = cordis_project_orgs_df[['project_rcn', 'organization_id']].groupby( by='project_rcn' ).count()\n",
        "count_partners_df.rename( columns={'organization_id': 'number_of_partners'}, inplace=True )\n",
        "\n",
        "cordis_project_orgs_df = cordis_project_orgs_df.merge(\n",
        "  count_partners_df, on='project_rcn', how='left'\n",
        ")\n",
        "\n",
        "# add number of publications per project as a column\n",
        "count_publications_df = cordis_pub_df[['id', 'project_rcn']].groupby( by='project_rcn' ).count()\n",
        "count_publications_df.rename( columns={'id': 'number_of_publications'}, inplace=True )\n",
        "\n",
        "cordis_project_orgs_df = cordis_project_orgs_df.merge(\n",
        "  count_publications_df, on='project_rcn', how='left'\n",
        ")\n",
        "\n",
        "\n",
        "# shape: should by (something, 27) \n",
        "cordis_project_orgs_df.shape\n"
      ],
      "execution_count": 15,
      "outputs": [
        {
          "output_type": "execute_result",
          "data": {
            "text/plain": [
              "(251040, 27)"
            ]
          },
          "metadata": {
            "tags": []
          },
          "execution_count": 15
        }
      ]
    },
    {
      "cell_type": "code",
      "metadata": {
        "id": "URh9mweOTru4",
        "colab_type": "code",
        "colab": {}
      },
      "source": [
        "# preparing dictionaries to effectively group data\n",
        "dict_funding_schemes_along_programmes = {'BBI-CSA - Bio-based Industries Coordination and Support action': 'Bio-based Industries',\n",
        "                                         'BBI-IA-DEMO - Bio-based Industries Innovation action - Demonstration': 'Bio-based Industries', \n",
        "                                         'BBI-IA-FLAG - Bio-based Industries Innovation action - Flagship': 'Bio-based Industries',\n",
        "                                         'BBI-RIA - Bio-based Industries Research and Innovation action': 'Bio-based Industries', \n",
        "                                         'COFUND-EJP - COFUND (European Joint Programme)': '(general)', \n",
        "                                         'COFUND-PCP - COFUND (PCP)': '(general)', \n",
        "                                         'CS2-CSA - Coordination & support action': 'Clean Sky 2', \n",
        "                                         'CS2-IA - Innovation action': 'Clean Sky 2', \n",
        "                                         'CS2-RIA - Research and Innovation action': 'Clean Sky 2', \n",
        "                                         'CSA - Coordination and support action': '(general)', \n",
        "                                         'CSA-LS - CSA Lump sum': '(general)', \n",
        "                                         'ECSEL-CSA - ECSEL Coordination & Support action': 'ECSEL (Electronic Components and Systems for European Leadership)', \n",
        "                                         'ECSEL-IA - ECSEL Innovation Action': 'ECSEL (Electronic Components and Systems for European Leadership)', \n",
        "                                         'ECSEL-RIA - ECSEL Research and Innovation Action': 'ECSEL (Electronic Components and Systems for European Leadership)', \n",
        "                                         'ERA-NET-Cofund - ERA-NET Cofund': 'ERA-NET', \n",
        "                                         'ERC-ADG - Advanced Grant': 'ERC (European Research Council)', \n",
        "                                         'ERC-COG - Consolidator Grant': 'ERC (European Research Council)', \n",
        "                                         'ERC-POC - Proof of Concept Grant': 'ERC (European Research Council)', \n",
        "                                         'ERC-POC-LS - ERC Proof of Concept Lump Sum Pilot': 'ERC (European Research Council)', \n",
        "                                         'ERC-STG - Starting Grant': 'ERC (European Research Council)', \n",
        "                                         'FCH2-CSA - Coordination & support action': 'FCH2 (Fuel Cells and Hydrogen 2)', \n",
        "                                         'FCH2-IA - Innovation action': 'FCH2 (Fuel Cells and Hydrogen 2)', \n",
        "                                         'FCH2-RIA - Research and Innovation action': 'FCH2 (Fuel Cells and Hydrogen 2)', \n",
        "                                         'H2020-EEN-SGA - Specific Grant Agreement Enterprise Europe Network (EEN)': 'SME (Small and medium-sized Enterprises)', \n",
        "                                         'IA - Innovation action': '(general)', \n",
        "                                         'IA-LS - Innovation action Lump Sum': '(general)', \n",
        "                                         'IMI2-CSA - Coordination & support action': 'IMI2 (Innovative Medicines Initiative)', \n",
        "                                         'IMI2-RIA - Research and Innovation action': 'IMI2 (Innovative Medicines Initiative)', \n",
        "                                         'MSCA-COFUND-DP - Doctoral programmes': 'MSCA (Marie Skłodowska-Curie Actions)', \n",
        "                                         'MSCA-COFUND-FP - Fellowship programmes': 'MSCA (Marie Skłodowska-Curie Actions)', \n",
        "                                         'MSCA-IF-EF-CAR - CAR â€“ Career Restart panel': 'MSCA (Marie Skłodowska-Curie Actions)', \n",
        "                                         'MSCA-IF-EF-RI - RI â€“ Reintegration panel': 'MSCA (Marie Skłodowska-Curie Actions)', \n",
        "                                         'MSCA-IF-EF-SE - Society and Enterprise panel': 'MSCA (Marie Skłodowska-Curie Actions)', \n",
        "                                         'MSCA-IF-EF-ST - Standard EF': 'MSCA (Marie Skłodowska-Curie Actions)', \n",
        "                                         'MSCA-IF-GF - Global Fellowships': 'MSCA (Marie Skłodowska-Curie Actions)', \n",
        "                                         'MSCA-ITN-EID - European Industrial Doctorates': 'MSCA (Marie Skłodowska-Curie Actions)', \n",
        "                                         'MSCA-ITN-EJD - European Joint Doctorates': 'MSCA (Marie Skłodowska-Curie Actions)', \n",
        "                                         'MSCA-ITN-ETN - European Training Networks': 'MSCA (Marie Skłodowska-Curie Actions)', \n",
        "                                         'MSCA-RISE - Marie SkÅ‚odowska-Curie Research and Innovation Staff Exchange (RISE)': 'MSCA (Marie Skłodowska-Curie Actions)', \n",
        "                                         'PCP - Pre-Commercial Procurement': 'PCP & PPI (Pre-commercial or public Procurement)', \n",
        "                                         'PPI - Public Procurement of Innovative solutions': 'PCP & PPI (Pre-commercial or public Procurement)', \n",
        "                                         'RIA - Research and Innovation action': '(general)', \n",
        "                                         'RIA-LS - Research and Innovation action Lump Sum': '(general)', \n",
        "                                         'SESAR-CSA - Coordination and Support Action': 'SESAR (Single European Sky)', \n",
        "                                         'SESAR-IA - Innovation action': 'SESAR (Single European Sky)', \n",
        "                                         'SESAR-RIA - Research and Innovation action': 'SESAR (Single European Sky)', \n",
        "                                         'SGA-CSA - Specific Grant agreement and Coordination and Support Action': '(general)', \n",
        "                                         'SGA-RIA - SGA-RIA': '(general)', \n",
        "                                         'Shift2Rail-CSA - Coordination and Support Action': 'Shift2Rail', \n",
        "                                         'Shift2Rail-IA - Innovation action': 'Shift2Rail', \n",
        "                                         'Shift2Rail-IA-LS - Innovation Action Lump-Sum': 'Shift2Rail', \n",
        "                                         'Shift2Rail-RIA - Research and Innovation action': 'Shift2Rail', \n",
        "                                         'Shift2Rail-RIA-LS - Shift2Rail Research and Innovation Action Lump-Sum': 'Shift2Rail', \n",
        "                                         'SME-1 - SME instrument phase 1': 'SME (Small and medium-sized Enterprises)', \n",
        "                                         'SME-2 - SME instrument phase 2': 'SME (Small and medium-sized Enterprises)'\n",
        "                                        }\n",
        "\n",
        "dict_funding_schemes_along_actions = {'BBI-CSA - Bio-based Industries Coordination and Support action': 'CSA (Coordination and Support Action)',\n",
        "                                      'BBI-IA-DEMO - Bio-based Industries Innovation action - Demonstration': 'IA (Innovation Action)',\n",
        "                                      'BBI-IA-FLAG - Bio-based Industries Innovation action - Flagship': 'IA (Innovation Action)',\n",
        "                                      'BBI-RIA - Bio-based Industries Research and Innovation action': 'RIA (Research and Innovation Action)',\n",
        "                                      'COFUND-EJP - COFUND (European Joint Programme)': 'COFUND',\n",
        "                                      'COFUND-PCP - COFUND (PCP)': 'COFUND',\n",
        "                                      'CS2-CSA - Coordination & support action': 'CSA (Coordination and Support Action)',\n",
        "                                      'CS2-IA - Innovation action': 'IA (Innovation Action)',\n",
        "                                      'CS2-RIA - Research and Innovation action': 'RIA (Research and Innovation Action)',\n",
        "                                      'CSA - Coordination and support action': 'CSA (Coordination and Support Action)',\n",
        "                                      'CSA-LS - CSA Lump sum': 'CSA (Coordination and Support Action)',\n",
        "                                      'ECSEL-CSA - ECSEL Coordination & Support action': 'CSA (Coordination and Support Action)',\n",
        "                                      'ECSEL-IA - ECSEL Innovation Action': 'IA (Innovation Action)',\n",
        "                                      'ECSEL-RIA - ECSEL Research and Innovation Action': 'RIA (Research and Innovation Action)',\n",
        "                                      'ERA-NET-Cofund - ERA-NET Cofund': 'COFUND',\n",
        "                                      'ERC-ADG - Advanced Grant': 'Grant',\n",
        "                                      'ERC-COG - Consolidator Grant': 'Grant',\n",
        "                                      'ERC-POC - Proof of Concept Grant': 'Grant',\n",
        "                                      'ERC-POC-LS - ERC Proof of Concept Lump Sum Pilot': 'Grant',\n",
        "                                      'ERC-STG - Starting Grant': 'Grant',\n",
        "                                      'FCH2-CSA - Coordination & support action': 'CSA (Coordination and Support Action)',\n",
        "                                      'FCH2-IA - Innovation action': 'IA (Innovation Action)',\n",
        "                                      'FCH2-RIA - Research and Innovation action': 'RIA (Research and Innovation Action)',\n",
        "                                      'H2020-EEN-SGA - Specific Grant Agreement Enterprise Europe Network (EEN)': 'SME (Small and medium-sized Enterprises)',\n",
        "                                      'IA - Innovation action': 'IA (Innovation Action)',\n",
        "                                      'IA-LS - Innovation action Lump Sum': 'IA (Innovation Action)',\n",
        "                                      'IMI2-CSA - Coordination & support action': 'CSA (Coordination and Support Action)',\n",
        "                                      'IMI2-RIA - Research and Innovation action': 'RIA (Research and Innovation Action)',\n",
        "                                      'MSCA-COFUND-DP - Doctoral programmes': 'COFUND',\n",
        "                                      'MSCA-COFUND-FP - Fellowship programmes': 'COFUND',\n",
        "                                      'MSCA-IF-EF-CAR - CAR â€“ Career Restart panel': 'Fellowship',\n",
        "                                      'MSCA-IF-EF-RI - RI â€“ Reintegration panel': 'Fellowship',\n",
        "                                      'MSCA-IF-EF-SE - Society and Enterprise panel': 'Fellowship',\n",
        "                                      'MSCA-IF-EF-ST - Standard EF': 'Fellowship',\n",
        "                                      'MSCA-IF-GF - Global Fellowships': 'Fellowship',\n",
        "                                      'MSCA-ITN-EID - European Industrial Doctorates': 'Innovative Training Networks',\n",
        "                                      'MSCA-ITN-EJD - European Joint Doctorates': 'Innovative Training Networks',\n",
        "                                      'MSCA-ITN-ETN - European Training Networks': 'Innovative Training Networks',\n",
        "                                      'MSCA-RISE - Marie SkÅ‚odowska-Curie Research and Innovation Staff Exchange (RISE)': 'Research & Innovation Staff Exchange',\n",
        "                                      'PCP - Pre-Commercial Procurement': 'Procurement',\n",
        "                                      'PPI - Public Procurement of Innovative solutions': 'Procurement',\n",
        "                                      'RIA - Research and Innovation action': 'RIA (Research and Innovation Action)',\n",
        "                                      'RIA-LS - Research and Innovation action Lump Sum': 'RIA (Research and Innovation Action)',\n",
        "                                      'SESAR-CSA - Coordination and Support Action': 'CSA (Coordination and Support Action)',\n",
        "                                      'SESAR-IA - Innovation action': 'IA (Innovation Action)',\n",
        "                                      'SESAR-RIA - Research and Innovation action': 'RIA (Research and Innovation Action)',\n",
        "                                      'SGA-CSA - Specific Grant agreement and Coordination and Support Action': 'CSA (Coordination and Support Action)',\n",
        "                                      'SGA-RIA - SGA-RIA': 'RIA (Research and Innovation Action)',\n",
        "                                      'Shift2Rail-CSA - Coordination and Support Action': 'CSA (Coordination and Support Action)',\n",
        "                                      'Shift2Rail-IA - Innovation action': 'IA (Innovation Action)',\n",
        "                                      'Shift2Rail-IA-LS - Innovation Action Lump-Sum': 'IA (Innovation Action)',\n",
        "                                      'Shift2Rail-RIA - Research and Innovation action': 'RIA (Research and Innovation Action)',\n",
        "                                      'Shift2Rail-RIA-LS - Shift2Rail Research and Innovation Action Lump-Sum': 'RIA (Research and Innovation Action)',\n",
        "                                      'SME-1 - SME instrument phase 1': 'SME (Small and medium-sized Enterprises)',\n",
        "                                      'SME-2 - SME instrument phase 2': 'SME (Small and medium-sized Enterprises)'\n",
        "                                     }\n"
      ],
      "execution_count": 0,
      "outputs": []
    },
    {
      "cell_type": "code",
      "metadata": {
        "id": "UMo4DoWfU92F",
        "colab_type": "code",
        "outputId": "64af4e31-4dd2-45fc-d950-a8b9a769a515",
        "colab": {
          "base_uri": "https://localhost:8080/",
          "height": 35
        }
      },
      "source": [
        "# add dictionaries as new columns\n",
        "cordis_project_orgs_df['funding_scheme_programme'] = cordis_project_orgs_df['funding_scheme']\n",
        "cordis_project_orgs_df['funding_scheme_programme'] = cordis_project_orgs_df['funding_scheme_programme'].map(dict_funding_schemes_along_programmes)\n",
        "\n",
        "cordis_project_orgs_df['funding_scheme_action'] = cordis_project_orgs_df['funding_scheme']\n",
        "cordis_project_orgs_df['funding_scheme_action'] = cordis_project_orgs_df['funding_scheme_action'].map(dict_funding_schemes_along_actions)\n",
        "\n",
        "\n",
        "cordis_project_orgs_df.shape\n",
        "    "
      ],
      "execution_count": 17,
      "outputs": [
        {
          "output_type": "execute_result",
          "data": {
            "text/plain": [
              "(251040, 29)"
            ]
          },
          "metadata": {
            "tags": []
          },
          "execution_count": 17
        }
      ]
    },
    {
      "cell_type": "code",
      "metadata": {
        "id": "g04kcY5p6Gma",
        "colab_type": "code",
        "outputId": "9f68d52e-8b1f-4c46-84c0-10cd4c109b05",
        "colab": {
          "base_uri": "https://localhost:8080/",
          "height": 35
        }
      },
      "source": [
        "# narrow our dataset down to what we want to work with\n",
        "subset = cordis_project_orgs_df[\n",
        "    (cordis_project_orgs_df.activity_type == 'Private for-profit entities (excluding Higher or Secondary Education Establishments)')\n",
        "  & (cordis_project_orgs_df.framework == 'H2020')\n",
        "]\n",
        "\n",
        "df = subset[['organization_id', 'start_date_code', 'funding_scheme', 'funding_scheme_programme', 'funding_scheme_action', 'number_of_partners', 'number_of_publications', 'ec_contribution_organization', 'ec_contribution_project', 'total_cost_project']]\n",
        "\n",
        "# putting data in order\n",
        "df = df.sort_values( by=['organization_id', 'start_date_code'] ).reset_index()\n",
        "\n",
        "# add a column that numbers entries per organisation\n",
        "df['organization_entry_number'] = df.groupby('organization_id').cumcount()\n",
        "df.shape\n"
      ],
      "execution_count": 18,
      "outputs": [
        {
          "output_type": "execute_result",
          "data": {
            "text/plain": [
              "(37138, 12)"
            ]
          },
          "metadata": {
            "tags": []
          },
          "execution_count": 18
        }
      ]
    },
    {
      "cell_type": "markdown",
      "metadata": {
        "id": "1wVzLGfIFZJo",
        "colab_type": "text"
      },
      "source": [
        "\n",
        "## Playing with the data\n",
        "\n",
        "Just skip this part when getting data ready for exporting!"
      ]
    },
    {
      "cell_type": "code",
      "metadata": {
        "id": "qSpqE1TZGnL0",
        "colab_type": "code",
        "outputId": "44ab5939-31fe-4e22-dd55-de8094243341",
        "colab": {
          "base_uri": "https://localhost:8080/",
          "height": 165
        }
      },
      "source": [
        "cordis_project_orgs_df.columns"
      ],
      "execution_count": 0,
      "outputs": [
        {
          "output_type": "execute_result",
          "data": {
            "text/plain": [
              "Index(['project_rcn', 'organization_id', 'activity_type', 'address',\n",
              "       'ec_contribution_organization', 'type', 'website_x', 'id', 'name',\n",
              "       'country_code', 'country_name', 'rcn', 'acronym', 'end_date_code',\n",
              "       'ec_contribution_project', 'framework', 'funding_scheme',\n",
              "       'funded_under', 'objective', 'project_description', 'start_date_code',\n",
              "       'status', 'title', 'total_cost_project', 'website_y',\n",
              "       'number_of_partners'],\n",
              "      dtype='object')"
            ]
          },
          "metadata": {
            "tags": []
          },
          "execution_count": 9
        }
      ]
    },
    {
      "cell_type": "code",
      "metadata": {
        "id": "agGlHcvZEJnQ",
        "colab_type": "code",
        "outputId": "7b0310df-d477-470b-a789-dc23fdfd8f02",
        "colab": {
          "base_uri": "https://localhost:8080/",
          "height": 146
        }
      },
      "source": [
        "cordis_project_orgs_df['activity_type'].value_counts()"
      ],
      "execution_count": 0,
      "outputs": [
        {
          "output_type": "execute_result",
          "data": {
            "text/plain": [
              "Higher or Secondary Education Establishments                                                         88335\n",
              "Private for-profit entities (excluding Higher or Secondary Education Establishments)                 78810\n",
              "Research Organisations                                                                               55099\n",
              "Other                                                                                                15406\n",
              "Public bodies (excluding Research Organisations and Secondary or Higher Education Establishments)    12454\n",
              "                                                                                                       936\n",
              "Name: activity_type, dtype: int64"
            ]
          },
          "metadata": {
            "tags": []
          },
          "execution_count": 70
        }
      ]
    },
    {
      "cell_type": "code",
      "metadata": {
        "id": "5-R2gHIuHLIa",
        "colab_type": "code",
        "outputId": "b17ecd57-95d2-4823-d548-26fb0e49aaa7",
        "colab": {
          "base_uri": "https://localhost:8080/",
          "height": 128
        }
      },
      "source": [
        "# within subset, how often do organisations appear\n",
        "subset['organization_id'].value_counts().head()\n",
        "\n"
      ],
      "execution_count": 0,
      "outputs": [
        {
          "output_type": "execute_result",
          "data": {
            "text/plain": [
              "999993856    148\n",
              "999960488     84\n",
              "999909854     79\n",
              "999951467     76\n",
              "999908787     73\n",
              "Name: organization_id, dtype: int64"
            ]
          },
          "metadata": {
            "tags": []
          },
          "execution_count": 36
        }
      ]
    },
    {
      "cell_type": "code",
      "metadata": {
        "id": "vqi_ZO1HKC4D",
        "colab_type": "code",
        "colab": {}
      },
      "source": [
        "subset[['organization_id', 'start_date_code', 'funding_scheme', 'number_of_partners', 'ec_contribution_organization', 'ec_contribution_project', 'total_cost_project']]\n"
      ],
      "execution_count": 0,
      "outputs": []
    },
    {
      "cell_type": "code",
      "metadata": {
        "id": "qIiwnrBp0yM9",
        "colab_type": "code",
        "colab": {}
      },
      "source": [
        "for i in range(100):\n",
        "  print(cordis_project_orgs_df.loc[i + 10000].funded_under[0]['title'])\n",
        "\n"
      ],
      "execution_count": 0,
      "outputs": []
    },
    {
      "cell_type": "code",
      "metadata": {
        "id": "gSx90hEWBZf-",
        "colab_type": "code",
        "outputId": "d0f53e07-5828-4a11-e1a7-43179731ca23",
        "colab": {
          "base_uri": "https://localhost:8080/",
          "height": 74
        }
      },
      "source": [
        "df['funding_scheme'].value_counts().to_csv('funding_scheme_grouping.csv')"
      ],
      "execution_count": 0,
      "outputs": [
        {
          "output_type": "stream",
          "text": [
            "/usr/local/lib/python3.6/dist-packages/ipykernel_launcher.py:1: FutureWarning: The signature of `Series.to_csv` was aligned to that of `DataFrame.to_csv`, and argument 'header' will change its default value from False to True: please pass an explicit value to suppress this warning.\n",
            "  \"\"\"Entry point for launching an IPython kernel.\n"
          ],
          "name": "stderr"
        }
      ]
    },
    {
      "cell_type": "markdown",
      "metadata": {
        "id": "KifyiO6cw2Aw",
        "colab_type": "text"
      },
      "source": [
        "# Preparing data for a Sankey diagram\n",
        "\n",
        "\n"
      ]
    },
    {
      "cell_type": "markdown",
      "metadata": {
        "id": "hr2PlbEwz1zO",
        "colab_type": "text"
      },
      "source": [
        "## First two projects of every organisation"
      ]
    },
    {
      "cell_type": "code",
      "metadata": {
        "id": "Qk_VLpr0QKSS",
        "colab_type": "code",
        "outputId": "adf922cd-28e9-4b96-be8e-bb7dcfeb4e8a",
        "colab": {
          "base_uri": "https://localhost:8080/",
          "height": 35
        }
      },
      "source": [
        "# prepare the column that shall be used as the category shown in the sankey diagram\n",
        "#   v   v   v   v   v   v   v   v   v   #\n",
        "sankey_column = 'funding_scheme_action'\n",
        "#   ^   ^   ^   ^   ^   ^   ^   ^   ^   #\n",
        "\n",
        "\n",
        "dfs = df.rename(columns={sankey_column:'sankey'})\n",
        "\n",
        "# looking at first two entries of organisations\n",
        "first = dfs[dfs['organization_entry_number'] == 0]\n",
        "second = dfs[dfs['organization_entry_number'] == 1]\n",
        "\n",
        "# left is second step, right is first step\n",
        "onestep = second.merge(first, on='organization_id', how='left')\n",
        "\n",
        "# aggregate over sankey-columns\n",
        "sankey_df = onestep[['sankey_y', 'sankey_x', 'organization_id']].groupby(['sankey_y', 'sankey_x']).count()\n",
        "\n",
        "# prepare for proper output (index -> columns, renaming)\n",
        "sankey_df.reset_index(level=['sankey_y', 'sankey_x'], inplace=True)\n",
        "sankey_df.rename(columns={'sankey_y':'source', 'sankey_x':'target', 'organization_id':'value'}, inplace=True)\n",
        "\n",
        "# add a blank space to all targets (so targets differ from sources)\n",
        "sankey_df['target'] = sankey_df['target'] + ' '\n",
        "\n",
        "sankey_df.shape"
      ],
      "execution_count": 0,
      "outputs": [
        {
          "output_type": "execute_result",
          "data": {
            "text/plain": [
              "(62, 3)"
            ]
          },
          "metadata": {
            "tags": []
          },
          "execution_count": 8
        }
      ]
    },
    {
      "cell_type": "code",
      "metadata": {
        "id": "5Y_wmoSDSuu4",
        "colab_type": "code",
        "colab": {}
      },
      "source": [
        "# export csv\n",
        "sankey_df.to_csv('sankey_onestep_data.csv', index=False, sep=';')\n"
      ],
      "execution_count": 0,
      "outputs": []
    },
    {
      "cell_type": "markdown",
      "metadata": {
        "id": "A1XQ84Fp3Ypf",
        "colab_type": "text"
      },
      "source": [
        "## All projects"
      ]
    },
    {
      "cell_type": "markdown",
      "metadata": {
        "id": "WRU45Es83jKT",
        "colab_type": "text"
      },
      "source": [
        "There are cases, when an organisation has two or more new projects at once, in which case there is no clear order of projects/funding schemes.\n",
        "We ignored this fact and - for the sake of getting the job done - live with the noise it adds."
      ]
    },
    {
      "cell_type": "code",
      "metadata": {
        "id": "fQ3vgsKqUm0-",
        "colab_type": "code",
        "outputId": "be47806b-3e29-4335-b8b0-c57a617c1d55",
        "colab": {
          "base_uri": "https://localhost:8080/",
          "height": 35
        }
      },
      "source": [
        "# prepare the column that shall be used as the category shown in the sankey diagram\n",
        "#   v   v   v   v   v   v   v   v   v   #\n",
        "sankey_column = 'funding_scheme_action'\n",
        "#   ^   ^   ^   ^   ^   ^   ^   ^   ^   #\n",
        "\n",
        "\n",
        "dfs = df.rename(columns={sankey_column:'sankey'})\n",
        "\n",
        "# looking at first two entries of organisations\n",
        "dfs['next_step'] = dfs['organization_entry_number'] + 1\n",
        "\n",
        "# left is current step, right is next step\n",
        "allsteps = dfs.merge(dfs, left_on=['organization_id', 'next_step']\n",
        "                    , right_on=['organization_id', 'organization_entry_number'], how='left')\n",
        "\n",
        "\n",
        "# aggregate over sankey-columns\n",
        "sankey_df = allsteps[['sankey_y', 'sankey_x', 'organization_id']].groupby(['sankey_y', 'sankey_x']).count()\n",
        "\n",
        "# prepare for proper output (index -> columns, renaming)\n",
        "sankey_df.reset_index(level=['sankey_y', 'sankey_x'], inplace=True)\n",
        "sankey_df.rename(columns={'sankey_y':'source', 'sankey_x':'target', 'organization_id':'value'}, inplace=True)\n",
        "\n",
        "# add a blank space to all targets (so targets differ from sources)\n",
        "sankey_df['target'] = sankey_df['target'] + ' '\n",
        "\n",
        "sankey_df.shape\n"
      ],
      "execution_count": 19,
      "outputs": [
        {
          "output_type": "execute_result",
          "data": {
            "text/plain": [
              "(70, 3)"
            ]
          },
          "metadata": {
            "tags": []
          },
          "execution_count": 19
        }
      ]
    },
    {
      "cell_type": "code",
      "metadata": {
        "colab_type": "code",
        "id": "Ip-LP23n67Ru",
        "colab": {}
      },
      "source": [
        "# export csv\n",
        "sankey_df.to_csv('sankey_allsteps_data.csv', index=False, sep=';')\n"
      ],
      "execution_count": 0,
      "outputs": []
    },
    {
      "cell_type": "code",
      "metadata": {
        "id": "J69dwGFN8Wpe",
        "colab_type": "code",
        "colab": {
          "base_uri": "https://localhost:8080/",
          "height": 1000
        },
        "outputId": "c641c678-3c61-45c2-a93d-7225be33dcb0"
      },
      "source": [
        "sankey_df\n"
      ],
      "execution_count": 21,
      "outputs": [
        {
          "output_type": "execute_result",
          "data": {
            "text/html": [
              "<div>\n",
              "<style scoped>\n",
              "    .dataframe tbody tr th:only-of-type {\n",
              "        vertical-align: middle;\n",
              "    }\n",
              "\n",
              "    .dataframe tbody tr th {\n",
              "        vertical-align: top;\n",
              "    }\n",
              "\n",
              "    .dataframe thead th {\n",
              "        text-align: right;\n",
              "    }\n",
              "</style>\n",
              "<table border=\"1\" class=\"dataframe\">\n",
              "  <thead>\n",
              "    <tr style=\"text-align: right;\">\n",
              "      <th></th>\n",
              "      <th>source</th>\n",
              "      <th>target</th>\n",
              "      <th>organization_id</th>\n",
              "    </tr>\n",
              "  </thead>\n",
              "  <tbody>\n",
              "    <tr>\n",
              "      <th>0</th>\n",
              "      <td>COFUND</td>\n",
              "      <td>COFUND</td>\n",
              "      <td>3</td>\n",
              "    </tr>\n",
              "    <tr>\n",
              "      <th>1</th>\n",
              "      <td>COFUND</td>\n",
              "      <td>CSA (Coordination and Support Action)</td>\n",
              "      <td>7</td>\n",
              "    </tr>\n",
              "    <tr>\n",
              "      <th>2</th>\n",
              "      <td>COFUND</td>\n",
              "      <td>Grant</td>\n",
              "      <td>2</td>\n",
              "    </tr>\n",
              "    <tr>\n",
              "      <th>3</th>\n",
              "      <td>COFUND</td>\n",
              "      <td>IA (Innovation Action)</td>\n",
              "      <td>10</td>\n",
              "    </tr>\n",
              "    <tr>\n",
              "      <th>4</th>\n",
              "      <td>COFUND</td>\n",
              "      <td>Innovative Training Networks</td>\n",
              "      <td>12</td>\n",
              "    </tr>\n",
              "    <tr>\n",
              "      <th>5</th>\n",
              "      <td>COFUND</td>\n",
              "      <td>RIA (Research and Innovation Action)</td>\n",
              "      <td>28</td>\n",
              "    </tr>\n",
              "    <tr>\n",
              "      <th>6</th>\n",
              "      <td>COFUND</td>\n",
              "      <td>SME (Small and medium-sized Enterprises)</td>\n",
              "      <td>4</td>\n",
              "    </tr>\n",
              "    <tr>\n",
              "      <th>7</th>\n",
              "      <td>CSA (Coordination and Support Action)</td>\n",
              "      <td>COFUND</td>\n",
              "      <td>7</td>\n",
              "    </tr>\n",
              "    <tr>\n",
              "      <th>8</th>\n",
              "      <td>CSA (Coordination and Support Action)</td>\n",
              "      <td>CSA (Coordination and Support Action)</td>\n",
              "      <td>598</td>\n",
              "    </tr>\n",
              "    <tr>\n",
              "      <th>9</th>\n",
              "      <td>CSA (Coordination and Support Action)</td>\n",
              "      <td>Fellowship</td>\n",
              "      <td>6</td>\n",
              "    </tr>\n",
              "    <tr>\n",
              "      <th>10</th>\n",
              "      <td>CSA (Coordination and Support Action)</td>\n",
              "      <td>IA (Innovation Action)</td>\n",
              "      <td>284</td>\n",
              "    </tr>\n",
              "    <tr>\n",
              "      <th>11</th>\n",
              "      <td>CSA (Coordination and Support Action)</td>\n",
              "      <td>Innovative Training Networks</td>\n",
              "      <td>52</td>\n",
              "    </tr>\n",
              "    <tr>\n",
              "      <th>12</th>\n",
              "      <td>CSA (Coordination and Support Action)</td>\n",
              "      <td>Procurement</td>\n",
              "      <td>8</td>\n",
              "    </tr>\n",
              "    <tr>\n",
              "      <th>13</th>\n",
              "      <td>CSA (Coordination and Support Action)</td>\n",
              "      <td>RIA (Research and Innovation Action)</td>\n",
              "      <td>509</td>\n",
              "    </tr>\n",
              "    <tr>\n",
              "      <th>14</th>\n",
              "      <td>CSA (Coordination and Support Action)</td>\n",
              "      <td>SME (Small and medium-sized Enterprises)</td>\n",
              "      <td>49</td>\n",
              "    </tr>\n",
              "    <tr>\n",
              "      <th>15</th>\n",
              "      <td>Fellowship</td>\n",
              "      <td>COFUND</td>\n",
              "      <td>2</td>\n",
              "    </tr>\n",
              "    <tr>\n",
              "      <th>16</th>\n",
              "      <td>Fellowship</td>\n",
              "      <td>CSA (Coordination and Support Action)</td>\n",
              "      <td>4</td>\n",
              "    </tr>\n",
              "    <tr>\n",
              "      <th>17</th>\n",
              "      <td>Fellowship</td>\n",
              "      <td>Fellowship</td>\n",
              "      <td>28</td>\n",
              "    </tr>\n",
              "    <tr>\n",
              "      <th>18</th>\n",
              "      <td>Fellowship</td>\n",
              "      <td>Grant</td>\n",
              "      <td>13</td>\n",
              "    </tr>\n",
              "    <tr>\n",
              "      <th>19</th>\n",
              "      <td>Fellowship</td>\n",
              "      <td>IA (Innovation Action)</td>\n",
              "      <td>8</td>\n",
              "    </tr>\n",
              "    <tr>\n",
              "      <th>20</th>\n",
              "      <td>Fellowship</td>\n",
              "      <td>Innovative Training Networks</td>\n",
              "      <td>20</td>\n",
              "    </tr>\n",
              "    <tr>\n",
              "      <th>21</th>\n",
              "      <td>Fellowship</td>\n",
              "      <td>RIA (Research and Innovation Action)</td>\n",
              "      <td>25</td>\n",
              "    </tr>\n",
              "    <tr>\n",
              "      <th>22</th>\n",
              "      <td>Fellowship</td>\n",
              "      <td>SME (Small and medium-sized Enterprises)</td>\n",
              "      <td>9</td>\n",
              "    </tr>\n",
              "    <tr>\n",
              "      <th>23</th>\n",
              "      <td>Grant</td>\n",
              "      <td>CSA (Coordination and Support Action)</td>\n",
              "      <td>2</td>\n",
              "    </tr>\n",
              "    <tr>\n",
              "      <th>24</th>\n",
              "      <td>Grant</td>\n",
              "      <td>Fellowship</td>\n",
              "      <td>10</td>\n",
              "    </tr>\n",
              "    <tr>\n",
              "      <th>25</th>\n",
              "      <td>Grant</td>\n",
              "      <td>Grant</td>\n",
              "      <td>10</td>\n",
              "    </tr>\n",
              "    <tr>\n",
              "      <th>26</th>\n",
              "      <td>Grant</td>\n",
              "      <td>IA (Innovation Action)</td>\n",
              "      <td>3</td>\n",
              "    </tr>\n",
              "    <tr>\n",
              "      <th>27</th>\n",
              "      <td>Grant</td>\n",
              "      <td>Innovative Training Networks</td>\n",
              "      <td>9</td>\n",
              "    </tr>\n",
              "    <tr>\n",
              "      <th>28</th>\n",
              "      <td>Grant</td>\n",
              "      <td>RIA (Research and Innovation Action)</td>\n",
              "      <td>13</td>\n",
              "    </tr>\n",
              "    <tr>\n",
              "      <th>29</th>\n",
              "      <td>Grant</td>\n",
              "      <td>SME (Small and medium-sized Enterprises)</td>\n",
              "      <td>1</td>\n",
              "    </tr>\n",
              "    <tr>\n",
              "      <th>...</th>\n",
              "      <td>...</td>\n",
              "      <td>...</td>\n",
              "      <td>...</td>\n",
              "    </tr>\n",
              "    <tr>\n",
              "      <th>40</th>\n",
              "      <td>Innovative Training Networks</td>\n",
              "      <td>CSA (Coordination and Support Action)</td>\n",
              "      <td>59</td>\n",
              "    </tr>\n",
              "    <tr>\n",
              "      <th>41</th>\n",
              "      <td>Innovative Training Networks</td>\n",
              "      <td>Fellowship</td>\n",
              "      <td>17</td>\n",
              "    </tr>\n",
              "    <tr>\n",
              "      <th>42</th>\n",
              "      <td>Innovative Training Networks</td>\n",
              "      <td>Grant</td>\n",
              "      <td>6</td>\n",
              "    </tr>\n",
              "    <tr>\n",
              "      <th>43</th>\n",
              "      <td>Innovative Training Networks</td>\n",
              "      <td>IA (Innovation Action)</td>\n",
              "      <td>209</td>\n",
              "    </tr>\n",
              "    <tr>\n",
              "      <th>44</th>\n",
              "      <td>Innovative Training Networks</td>\n",
              "      <td>Innovative Training Networks</td>\n",
              "      <td>397</td>\n",
              "    </tr>\n",
              "    <tr>\n",
              "      <th>45</th>\n",
              "      <td>Innovative Training Networks</td>\n",
              "      <td>RIA (Research and Innovation Action)</td>\n",
              "      <td>563</td>\n",
              "    </tr>\n",
              "    <tr>\n",
              "      <th>46</th>\n",
              "      <td>Innovative Training Networks</td>\n",
              "      <td>SME (Small and medium-sized Enterprises)</td>\n",
              "      <td>53</td>\n",
              "    </tr>\n",
              "    <tr>\n",
              "      <th>47</th>\n",
              "      <td>Procurement</td>\n",
              "      <td>COFUND</td>\n",
              "      <td>2</td>\n",
              "    </tr>\n",
              "    <tr>\n",
              "      <th>48</th>\n",
              "      <td>Procurement</td>\n",
              "      <td>CSA (Coordination and Support Action)</td>\n",
              "      <td>6</td>\n",
              "    </tr>\n",
              "    <tr>\n",
              "      <th>49</th>\n",
              "      <td>Procurement</td>\n",
              "      <td>IA (Innovation Action)</td>\n",
              "      <td>2</td>\n",
              "    </tr>\n",
              "    <tr>\n",
              "      <th>50</th>\n",
              "      <td>Procurement</td>\n",
              "      <td>Procurement</td>\n",
              "      <td>1</td>\n",
              "    </tr>\n",
              "    <tr>\n",
              "      <th>51</th>\n",
              "      <td>Procurement</td>\n",
              "      <td>RIA (Research and Innovation Action)</td>\n",
              "      <td>5</td>\n",
              "    </tr>\n",
              "    <tr>\n",
              "      <th>52</th>\n",
              "      <td>RIA (Research and Innovation Action)</td>\n",
              "      <td>COFUND</td>\n",
              "      <td>23</td>\n",
              "    </tr>\n",
              "    <tr>\n",
              "      <th>53</th>\n",
              "      <td>RIA (Research and Innovation Action)</td>\n",
              "      <td>CSA (Coordination and Support Action)</td>\n",
              "      <td>573</td>\n",
              "    </tr>\n",
              "    <tr>\n",
              "      <th>54</th>\n",
              "      <td>RIA (Research and Innovation Action)</td>\n",
              "      <td>Fellowship</td>\n",
              "      <td>19</td>\n",
              "    </tr>\n",
              "    <tr>\n",
              "      <th>55</th>\n",
              "      <td>RIA (Research and Innovation Action)</td>\n",
              "      <td>Grant</td>\n",
              "      <td>13</td>\n",
              "    </tr>\n",
              "    <tr>\n",
              "      <th>56</th>\n",
              "      <td>RIA (Research and Innovation Action)</td>\n",
              "      <td>IA (Innovation Action)</td>\n",
              "      <td>1877</td>\n",
              "    </tr>\n",
              "    <tr>\n",
              "      <th>57</th>\n",
              "      <td>RIA (Research and Innovation Action)</td>\n",
              "      <td>Innovative Training Networks</td>\n",
              "      <td>550</td>\n",
              "    </tr>\n",
              "    <tr>\n",
              "      <th>58</th>\n",
              "      <td>RIA (Research and Innovation Action)</td>\n",
              "      <td>Procurement</td>\n",
              "      <td>2</td>\n",
              "    </tr>\n",
              "    <tr>\n",
              "      <th>59</th>\n",
              "      <td>RIA (Research and Innovation Action)</td>\n",
              "      <td>RIA (Research and Innovation Action)</td>\n",
              "      <td>4531</td>\n",
              "    </tr>\n",
              "    <tr>\n",
              "      <th>60</th>\n",
              "      <td>RIA (Research and Innovation Action)</td>\n",
              "      <td>SME (Small and medium-sized Enterprises)</td>\n",
              "      <td>194</td>\n",
              "    </tr>\n",
              "    <tr>\n",
              "      <th>61</th>\n",
              "      <td>SME (Small and medium-sized Enterprises)</td>\n",
              "      <td>COFUND</td>\n",
              "      <td>4</td>\n",
              "    </tr>\n",
              "    <tr>\n",
              "      <th>62</th>\n",
              "      <td>SME (Small and medium-sized Enterprises)</td>\n",
              "      <td>CSA (Coordination and Support Action)</td>\n",
              "      <td>82</td>\n",
              "    </tr>\n",
              "    <tr>\n",
              "      <th>63</th>\n",
              "      <td>SME (Small and medium-sized Enterprises)</td>\n",
              "      <td>Fellowship</td>\n",
              "      <td>2</td>\n",
              "    </tr>\n",
              "    <tr>\n",
              "      <th>64</th>\n",
              "      <td>SME (Small and medium-sized Enterprises)</td>\n",
              "      <td>Grant</td>\n",
              "      <td>4</td>\n",
              "    </tr>\n",
              "    <tr>\n",
              "      <th>65</th>\n",
              "      <td>SME (Small and medium-sized Enterprises)</td>\n",
              "      <td>IA (Innovation Action)</td>\n",
              "      <td>108</td>\n",
              "    </tr>\n",
              "    <tr>\n",
              "      <th>66</th>\n",
              "      <td>SME (Small and medium-sized Enterprises)</td>\n",
              "      <td>Innovative Training Networks</td>\n",
              "      <td>44</td>\n",
              "    </tr>\n",
              "    <tr>\n",
              "      <th>67</th>\n",
              "      <td>SME (Small and medium-sized Enterprises)</td>\n",
              "      <td>Procurement</td>\n",
              "      <td>1</td>\n",
              "    </tr>\n",
              "    <tr>\n",
              "      <th>68</th>\n",
              "      <td>SME (Small and medium-sized Enterprises)</td>\n",
              "      <td>RIA (Research and Innovation Action)</td>\n",
              "      <td>156</td>\n",
              "    </tr>\n",
              "    <tr>\n",
              "      <th>69</th>\n",
              "      <td>SME (Small and medium-sized Enterprises)</td>\n",
              "      <td>SME (Small and medium-sized Enterprises)</td>\n",
              "      <td>563</td>\n",
              "    </tr>\n",
              "  </tbody>\n",
              "</table>\n",
              "<p>70 rows × 3 columns</p>\n",
              "</div>"
            ],
            "text/plain": [
              "                                      source  ... organization_id\n",
              "0                                     COFUND  ...               3\n",
              "1                                     COFUND  ...               7\n",
              "2                                     COFUND  ...               2\n",
              "3                                     COFUND  ...              10\n",
              "4                                     COFUND  ...              12\n",
              "5                                     COFUND  ...              28\n",
              "6                                     COFUND  ...               4\n",
              "7      CSA (Coordination and Support Action)  ...               7\n",
              "8      CSA (Coordination and Support Action)  ...             598\n",
              "9      CSA (Coordination and Support Action)  ...               6\n",
              "10     CSA (Coordination and Support Action)  ...             284\n",
              "11     CSA (Coordination and Support Action)  ...              52\n",
              "12     CSA (Coordination and Support Action)  ...               8\n",
              "13     CSA (Coordination and Support Action)  ...             509\n",
              "14     CSA (Coordination and Support Action)  ...              49\n",
              "15                                Fellowship  ...               2\n",
              "16                                Fellowship  ...               4\n",
              "17                                Fellowship  ...              28\n",
              "18                                Fellowship  ...              13\n",
              "19                                Fellowship  ...               8\n",
              "20                                Fellowship  ...              20\n",
              "21                                Fellowship  ...              25\n",
              "22                                Fellowship  ...               9\n",
              "23                                     Grant  ...               2\n",
              "24                                     Grant  ...              10\n",
              "25                                     Grant  ...              10\n",
              "26                                     Grant  ...               3\n",
              "27                                     Grant  ...               9\n",
              "28                                     Grant  ...              13\n",
              "29                                     Grant  ...               1\n",
              "..                                       ...  ...             ...\n",
              "40              Innovative Training Networks  ...              59\n",
              "41              Innovative Training Networks  ...              17\n",
              "42              Innovative Training Networks  ...               6\n",
              "43              Innovative Training Networks  ...             209\n",
              "44              Innovative Training Networks  ...             397\n",
              "45              Innovative Training Networks  ...             563\n",
              "46              Innovative Training Networks  ...              53\n",
              "47                               Procurement  ...               2\n",
              "48                               Procurement  ...               6\n",
              "49                               Procurement  ...               2\n",
              "50                               Procurement  ...               1\n",
              "51                               Procurement  ...               5\n",
              "52      RIA (Research and Innovation Action)  ...              23\n",
              "53      RIA (Research and Innovation Action)  ...             573\n",
              "54      RIA (Research and Innovation Action)  ...              19\n",
              "55      RIA (Research and Innovation Action)  ...              13\n",
              "56      RIA (Research and Innovation Action)  ...            1877\n",
              "57      RIA (Research and Innovation Action)  ...             550\n",
              "58      RIA (Research and Innovation Action)  ...               2\n",
              "59      RIA (Research and Innovation Action)  ...            4531\n",
              "60      RIA (Research and Innovation Action)  ...             194\n",
              "61  SME (Small and medium-sized Enterprises)  ...               4\n",
              "62  SME (Small and medium-sized Enterprises)  ...              82\n",
              "63  SME (Small and medium-sized Enterprises)  ...               2\n",
              "64  SME (Small and medium-sized Enterprises)  ...               4\n",
              "65  SME (Small and medium-sized Enterprises)  ...             108\n",
              "66  SME (Small and medium-sized Enterprises)  ...              44\n",
              "67  SME (Small and medium-sized Enterprises)  ...               1\n",
              "68  SME (Small and medium-sized Enterprises)  ...             156\n",
              "69  SME (Small and medium-sized Enterprises)  ...             563\n",
              "\n",
              "[70 rows x 3 columns]"
            ]
          },
          "metadata": {
            "tags": []
          },
          "execution_count": 21
        }
      ]
    },
    {
      "cell_type": "markdown",
      "metadata": {
        "colab_type": "text",
        "id": "4hZmGzCi84ho"
      },
      "source": [
        "# Preparing data for a network graph\n",
        "\n",
        "\n"
      ]
    },
    {
      "cell_type": "markdown",
      "metadata": {
        "colab_type": "text",
        "id": "JyDT-j8W84jA"
      },
      "source": [
        "## All projects"
      ]
    },
    {
      "cell_type": "markdown",
      "metadata": {
        "colab_type": "text",
        "id": "kaBYCuUs84jF"
      },
      "source": [
        "There are cases, when an organisation has two or more new projects at once, in which case there is no clear order of projects/funding schemes.\n",
        "We ignored this fact and - for the sake of getting the job done - live with the noise it adds."
      ]
    },
    {
      "cell_type": "code",
      "metadata": {
        "colab_type": "code",
        "outputId": "a71523d1-5801-41c5-93bc-8da5b0771999",
        "id": "g_tLNKJS84jH",
        "colab": {
          "base_uri": "https://localhost:8080/",
          "height": 35
        }
      },
      "source": [
        "# code is copied from above and I didn't rename variables to leviate debugging\n",
        "# prepare the column that shall be used as the category shown in the sankey diagram\n",
        "#   v   v   v   v   v   v   v   v   v   #\n",
        "sankey_column = 'funding_scheme_action'\n",
        "#   ^   ^   ^   ^   ^   ^   ^   ^   ^   #\n",
        "\n",
        "\n",
        "dfs = df.rename(columns={sankey_column:'sankey'})\n",
        "\n",
        "# looking at first two entries of organisations\n",
        "dfs['next_step'] = dfs['organization_entry_number'] + 1\n",
        "\n",
        "# left is current step, right is next step\n",
        "allsteps = dfs.merge(dfs, left_on=['organization_id', 'next_step']\n",
        "                    , right_on=['organization_id', 'organization_entry_number'], how='left')\n",
        "\n",
        "\n",
        "# aggregate over sankey-columns\n",
        "sankey_df = allsteps[['sankey_y', 'sankey_x', 'organization_id']].groupby(['sankey_y', 'sankey_x']).count()\n",
        "\n",
        "# prepare for proper output (index -> columns, renaming)\n",
        "sankey_df.reset_index(level=['sankey_y', 'sankey_x'], inplace=True)\n",
        "sankey_df.rename(columns={'sankey_y':'source', 'sankey_x':'target', 'organization_id':'value'}, inplace=True)\n",
        "\n",
        "# add a blank space to all targets (so targets differ from sources)\n",
        "sankey_df['target'] = sankey_df['target'] + ' '\n",
        "\n",
        "sankey_df.shape\n"
      ],
      "execution_count": 0,
      "outputs": [
        {
          "output_type": "execute_result",
          "data": {
            "text/plain": [
              "(70, 3)"
            ]
          },
          "metadata": {
            "tags": []
          },
          "execution_count": 10
        }
      ]
    },
    {
      "cell_type": "code",
      "metadata": {
        "colab_type": "code",
        "id": "bZaWYlSo84jP",
        "colab": {}
      },
      "source": [
        "# export csv\n",
        "sankey_df.to_csv('sankey_allsteps_data.csv', index=False, sep=';')\n"
      ],
      "execution_count": 0,
      "outputs": []
    },
    {
      "cell_type": "code",
      "metadata": {
        "colab_type": "code",
        "id": "KLXoK_0X84jT",
        "colab": {}
      },
      "source": [
        ""
      ],
      "execution_count": 0,
      "outputs": []
    }
  ]
}