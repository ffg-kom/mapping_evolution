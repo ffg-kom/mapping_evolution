{
 "cells": [
  {
   "cell_type": "markdown",
   "metadata": {
    "colab_type": "text",
    "id": "view-in-github"
   },
   "source": [
    "<a href=\"https://colab.research.google.com/github/ffg-kom/mapping_evolution/blob/master/getting_data_ready.ipynb\" target=\"_parent\"><img src=\"https://colab.research.google.com/assets/colab-badge.svg\" alt=\"Open In Colab\"/></a>"
   ]
  },
  {
   "cell_type": "markdown",
   "metadata": {
    "colab_type": "text",
    "id": "b43wvy6RBNfq"
   },
   "source": [
    "# Imports"
   ]
  },
  {
   "cell_type": "markdown",
   "metadata": {
    "colab_type": "text",
    "id": "Tlp6A0TlB3rn"
   },
   "source": [
    "The following code was copied from https://colab.research.google.com/github/nestauk/im_tutorials/blob/master/notebooks/01_intro_to_pandas_tutorial.ipynb."
   ]
  },
  {
   "cell_type": "code",
   "execution_count": 116,
   "metadata": {
    "colab": {
     "base_uri": "https://localhost:8080/",
     "height": 240
    },
    "colab_type": "code",
    "id": "T1hId0fb7-XH",
    "outputId": "faf32424-691c-4419-84d2-5351fcd8fd87"
   },
   "outputs": [
    {
     "name": "stdout",
     "output_type": "stream",
     "text": [
      "The autoreload extension is already loaded. To reload it, use:\n",
      "  %reload_ext autoreload\n",
      "Collecting git+https://github.com/nestauk/im_tutorials.git\n",
      "  Cloning https://github.com/nestauk/im_tutorials.git to c:\\users\\jamesp\\appdata\\local\\temp\\pip-req-build-otgler54\n",
      "Requirement already satisfied (use --upgrade to upgrade): im-tutorials==0.1.1 from git+https://github.com/nestauk/im_tutorials.git in c:\\users\\jamesp\\appdata\\local\\continuum\\miniconda3\\lib\\site-packages\n",
      "Building wheels for collected packages: im-tutorials\n",
      "  Building wheel for im-tutorials (setup.py): started\n",
      "  Building wheel for im-tutorials (setup.py): finished with status 'done'\n",
      "  Stored in directory: C:\\Users\\jamesp\\AppData\\Local\\Temp\\pip-ephem-wheel-cache-zrcjidmt\\wheels\\47\\a3\\cb\\bdc5f9ba49bcfd2c6864b166a1566eb2f104113bf0c3500330\n",
      "Successfully built im-tutorials\n"
     ]
    }
   ],
   "source": [
    "%load_ext autoreload\n",
    "%autoreload 2\n",
    "\n",
    "# install im_tutorial package\n",
    "!pip install git+https://github.com/nestauk/im_tutorials.git"
   ]
  },
  {
   "cell_type": "code",
   "execution_count": 117,
   "metadata": {
    "colab": {},
    "colab_type": "code",
    "id": "xr-zKnF5ByVZ"
   },
   "outputs": [],
   "source": [
    "# numpy for mathematical functions\n",
    "import numpy as np\n",
    "# pandas for handling tabular data\n",
    "import pandas as pd\n",
    "# explained later\n",
    "from im_tutorials.data.cordis import h2020_projects\n",
    "\n",
    "# for plotting\n",
    "import matplotlib.pyplot as plt\n",
    "\n",
    "# data\n",
    "from im_tutorials.data.cordis import cordis_table"
   ]
  },
  {
   "cell_type": "markdown",
   "metadata": {
    "colab_type": "text",
    "id": "gD7Wa-SFFDkb"
   },
   "source": [
    "# Loading data"
   ]
  },
  {
   "cell_type": "code",
   "execution_count": 118,
   "metadata": {
    "colab": {
     "base_uri": "https://localhost:8080/",
     "height": 35
    },
    "colab_type": "code",
    "id": "fLvnUgG5CXdf",
    "outputId": "38fbc5ab-ad51-4a27-f352-c75b2ec08b92"
   },
   "outputs": [
    {
     "data": {
      "text/plain": [
       "(251040, 25)"
      ]
     },
     "execution_count": 118,
     "metadata": {},
     "output_type": "execute_result"
    }
   ],
   "source": [
    "# load tables\n",
    "cordis_o_df = cordis_table('organisations')\n",
    "cordis_p_df = cordis_table('projects')\n",
    "cordis_p_o_df = cordis_table('project_organisations')\n",
    "cordis_pub_df = cordis_table('publications')\n",
    "\n",
    "# merge them\n",
    "cordis_project_orgs_df = cordis_p_o_df.merge(\n",
    "  cordis_o_df, left_on='organization_id', right_on='id', how='left'\n",
    ")\n",
    "cordis_project_orgs_df = cordis_project_orgs_df.merge(\n",
    "  cordis_p_df, left_on='project_rcn', right_on='rcn', how='left'\n",
    ")\n",
    "\n",
    "cordis_project_orgs_df.rename( columns={'contribution': 'ec_contribution_organization'\n",
    "                                        , 'ec_contribution': 'ec_contribution_project'\n",
    "                                        , 'total_cost': 'total_cost_project'\n",
    "                                       }, inplace=True )\n",
    "\n",
    "cordis_project_orgs_df.shape"
   ]
  },
  {
   "cell_type": "code",
   "execution_count": 119,
   "metadata": {
    "colab": {
     "base_uri": "https://localhost:8080/",
     "height": 35
    },
    "colab_type": "code",
    "id": "4xAHZQ9MOd_E",
    "outputId": "3d3a14e2-1791-44fd-81ca-9fea4c4a6852"
   },
   "outputs": [
    {
     "data": {
      "text/plain": [
       "(251040, 27)"
      ]
     },
     "execution_count": 119,
     "metadata": {},
     "output_type": "execute_result"
    }
   ],
   "source": [
    "# add number of partners per project as a column\n",
    "count_partners_df = cordis_project_orgs_df[['project_rcn', 'organization_id']].groupby( by='project_rcn' ).count()\n",
    "count_partners_df.rename( columns={'organization_id': 'number_of_partners'}, inplace=True )\n",
    "\n",
    "cordis_project_orgs_df = cordis_project_orgs_df.merge(\n",
    "  count_partners_df, on='project_rcn', how='left'\n",
    ")\n",
    "\n",
    "# add number of publications per project as a column\n",
    "count_publications_df = cordis_pub_df[['id', 'project_rcn']].groupby( by='project_rcn' ).count()\n",
    "count_publications_df.rename( columns={'id': 'number_of_publications'}, inplace=True )\n",
    "\n",
    "cordis_project_orgs_df = cordis_project_orgs_df.merge(\n",
    "  count_publications_df, on='project_rcn', how='left'\n",
    ")\n",
    "\n",
    "\n",
    "# shape: should by (something, 27) \n",
    "cordis_project_orgs_df.shape\n"
   ]
  },
  {
   "cell_type": "code",
   "execution_count": 120,
   "metadata": {
    "colab": {},
    "colab_type": "code",
    "id": "URh9mweOTru4"
   },
   "outputs": [],
   "source": [
    "# preparing dictionaries to effectively group data\n",
    "dict_funding_schemes_along_programmes = {'BBI-CSA - Bio-based Industries Coordination and Support action': 'Bio-based Industries',\n",
    "                                         'BBI-IA-DEMO - Bio-based Industries Innovation action - Demonstration': 'Bio-based Industries', \n",
    "                                         'BBI-IA-FLAG - Bio-based Industries Innovation action - Flagship': 'Bio-based Industries',\n",
    "                                         'BBI-RIA - Bio-based Industries Research and Innovation action': 'Bio-based Industries', \n",
    "                                         'COFUND-EJP - COFUND (European Joint Programme)': '(general)', \n",
    "                                         'COFUND-PCP - COFUND (PCP)': '(general)', \n",
    "                                         'CS2-CSA - Coordination & support action': 'Clean Sky 2', \n",
    "                                         'CS2-IA - Innovation action': 'Clean Sky 2', \n",
    "                                         'CS2-RIA - Research and Innovation action': 'Clean Sky 2', \n",
    "                                         'CSA - Coordination and support action': '(general)', \n",
    "                                         'CSA-LS - CSA Lump sum': '(general)', \n",
    "                                         'ECSEL-CSA - ECSEL Coordination & Support action': 'ECSEL (Electronic Components and Systems for European Leadership)', \n",
    "                                         'ECSEL-IA - ECSEL Innovation Action': 'ECSEL (Electronic Components and Systems for European Leadership)', \n",
    "                                         'ECSEL-RIA - ECSEL Research and Innovation Action': 'ECSEL (Electronic Components and Systems for European Leadership)', \n",
    "                                         'ERA-NET-Cofund - ERA-NET Cofund': 'ERA-NET', \n",
    "                                         'ERC-ADG - Advanced Grant': 'ERC (European Research Council)', \n",
    "                                         'ERC-COG - Consolidator Grant': 'ERC (European Research Council)', \n",
    "                                         'ERC-POC - Proof of Concept Grant': 'ERC (European Research Council)', \n",
    "                                         'ERC-POC-LS - ERC Proof of Concept Lump Sum Pilot': 'ERC (European Research Council)', \n",
    "                                         'ERC-STG - Starting Grant': 'ERC (European Research Council)', \n",
    "                                         'FCH2-CSA - Coordination & support action': 'FCH2 (Fuel Cells and Hydrogen 2)', \n",
    "                                         'FCH2-IA - Innovation action': 'FCH2 (Fuel Cells and Hydrogen 2)', \n",
    "                                         'FCH2-RIA - Research and Innovation action': 'FCH2 (Fuel Cells and Hydrogen 2)', \n",
    "                                         'H2020-EEN-SGA - Specific Grant Agreement Enterprise Europe Network (EEN)': 'SME (Small and medium-sized Enterprises)', \n",
    "                                         'IA - Innovation action': '(general)', \n",
    "                                         'IA-LS - Innovation action Lump Sum': '(general)', \n",
    "                                         'IMI2-CSA - Coordination & support action': 'IMI2 (Innovative Medicines Initiative)', \n",
    "                                         'IMI2-RIA - Research and Innovation action': 'IMI2 (Innovative Medicines Initiative)', \n",
    "                                         'MSCA-COFUND-DP - Doctoral programmes': 'MSCA (Marie Skłodowska-Curie Actions)', \n",
    "                                         'MSCA-COFUND-FP - Fellowship programmes': 'MSCA (Marie Skłodowska-Curie Actions)', \n",
    "                                         'MSCA-IF-EF-CAR - CAR â€“ Career Restart panel': 'MSCA (Marie Skłodowska-Curie Actions)', \n",
    "                                         'MSCA-IF-EF-RI - RI â€“ Reintegration panel': 'MSCA (Marie Skłodowska-Curie Actions)', \n",
    "                                         'MSCA-IF-EF-SE - Society and Enterprise panel': 'MSCA (Marie Skłodowska-Curie Actions)', \n",
    "                                         'MSCA-IF-EF-ST - Standard EF': 'MSCA (Marie Skłodowska-Curie Actions)', \n",
    "                                         'MSCA-IF-GF - Global Fellowships': 'MSCA (Marie Skłodowska-Curie Actions)', \n",
    "                                         'MSCA-ITN-EID - European Industrial Doctorates': 'MSCA (Marie Skłodowska-Curie Actions)', \n",
    "                                         'MSCA-ITN-EJD - European Joint Doctorates': 'MSCA (Marie Skłodowska-Curie Actions)', \n",
    "                                         'MSCA-ITN-ETN - European Training Networks': 'MSCA (Marie Skłodowska-Curie Actions)', \n",
    "                                         'MSCA-RISE - Marie SkÅ‚odowska-Curie Research and Innovation Staff Exchange (RISE)': 'MSCA (Marie Skłodowska-Curie Actions)', \n",
    "                                         'PCP - Pre-Commercial Procurement': 'PCP & PPI (Pre-commercial or public Procurement)', \n",
    "                                         'PPI - Public Procurement of Innovative solutions': 'PCP & PPI (Pre-commercial or public Procurement)', \n",
    "                                         'RIA - Research and Innovation action': '(general)', \n",
    "                                         'RIA-LS - Research and Innovation action Lump Sum': '(general)', \n",
    "                                         'SESAR-CSA - Coordination and Support Action': 'SESAR (Single European Sky)', \n",
    "                                         'SESAR-IA - Innovation action': 'SESAR (Single European Sky)', \n",
    "                                         'SESAR-RIA - Research and Innovation action': 'SESAR (Single European Sky)', \n",
    "                                         'SGA-CSA - Specific Grant agreement and Coordination and Support Action': '(general)', \n",
    "                                         'SGA-RIA - SGA-RIA': '(general)', \n",
    "                                         'Shift2Rail-CSA - Coordination and Support Action': 'Shift2Rail', \n",
    "                                         'Shift2Rail-IA - Innovation action': 'Shift2Rail', \n",
    "                                         'Shift2Rail-IA-LS - Innovation Action Lump-Sum': 'Shift2Rail', \n",
    "                                         'Shift2Rail-RIA - Research and Innovation action': 'Shift2Rail', \n",
    "                                         'Shift2Rail-RIA-LS - Shift2Rail Research and Innovation Action Lump-Sum': 'Shift2Rail', \n",
    "                                         'SME-1 - SME instrument phase 1': 'SME (Small and medium-sized Enterprises)', \n",
    "                                         'SME-2 - SME instrument phase 2': 'SME (Small and medium-sized Enterprises)'\n",
    "                                        }\n",
    "\n",
    "dict_funding_schemes_along_actions = {'BBI-CSA - Bio-based Industries Coordination and Support action': 'CSA (Coordination and Support Action)',\n",
    "                                      'BBI-IA-DEMO - Bio-based Industries Innovation action - Demonstration': 'IA (Innovation Action)',\n",
    "                                      'BBI-IA-FLAG - Bio-based Industries Innovation action - Flagship': 'IA (Innovation Action)',\n",
    "                                      'BBI-RIA - Bio-based Industries Research and Innovation action': 'RIA (Research and Innovation Action)',\n",
    "                                      'COFUND-EJP - COFUND (European Joint Programme)': 'COFUND',\n",
    "                                      'COFUND-PCP - COFUND (PCP)': 'COFUND',\n",
    "                                      'CS2-CSA - Coordination & support action': 'CSA (Coordination and Support Action)',\n",
    "                                      'CS2-IA - Innovation action': 'IA (Innovation Action)',\n",
    "                                      'CS2-RIA - Research and Innovation action': 'RIA (Research and Innovation Action)',\n",
    "                                      'CSA - Coordination and support action': 'CSA (Coordination and Support Action)',\n",
    "                                      'CSA-LS - CSA Lump sum': 'CSA (Coordination and Support Action)',\n",
    "                                      'ECSEL-CSA - ECSEL Coordination & Support action': 'CSA (Coordination and Support Action)',\n",
    "                                      'ECSEL-IA - ECSEL Innovation Action': 'IA (Innovation Action)',\n",
    "                                      'ECSEL-RIA - ECSEL Research and Innovation Action': 'RIA (Research and Innovation Action)',\n",
    "                                      'ERA-NET-Cofund - ERA-NET Cofund': 'COFUND',\n",
    "                                      'ERC-ADG - Advanced Grant': 'Grant',\n",
    "                                      'ERC-COG - Consolidator Grant': 'Grant',\n",
    "                                      'ERC-POC - Proof of Concept Grant': 'Grant',\n",
    "                                      'ERC-POC-LS - ERC Proof of Concept Lump Sum Pilot': 'Grant',\n",
    "                                      'ERC-STG - Starting Grant': 'Grant',\n",
    "                                      'FCH2-CSA - Coordination & support action': 'CSA (Coordination and Support Action)',\n",
    "                                      'FCH2-IA - Innovation action': 'IA (Innovation Action)',\n",
    "                                      'FCH2-RIA - Research and Innovation action': 'RIA (Research and Innovation Action)',\n",
    "                                      'H2020-EEN-SGA - Specific Grant Agreement Enterprise Europe Network (EEN)': 'SME (Small and medium-sized Enterprises)',\n",
    "                                      'IA - Innovation action': 'IA (Innovation Action)',\n",
    "                                      'IA-LS - Innovation action Lump Sum': 'IA (Innovation Action)',\n",
    "                                      'IMI2-CSA - Coordination & support action': 'CSA (Coordination and Support Action)',\n",
    "                                      'IMI2-RIA - Research and Innovation action': 'RIA (Research and Innovation Action)',\n",
    "                                      'MSCA-COFUND-DP - Doctoral programmes': 'COFUND',\n",
    "                                      'MSCA-COFUND-FP - Fellowship programmes': 'COFUND',\n",
    "                                      'MSCA-IF-EF-CAR - CAR â€“ Career Restart panel': 'Fellowship',\n",
    "                                      'MSCA-IF-EF-RI - RI â€“ Reintegration panel': 'Fellowship',\n",
    "                                      'MSCA-IF-EF-SE - Society and Enterprise panel': 'Fellowship',\n",
    "                                      'MSCA-IF-EF-ST - Standard EF': 'Fellowship',\n",
    "                                      'MSCA-IF-GF - Global Fellowships': 'Fellowship',\n",
    "                                      'MSCA-ITN-EID - European Industrial Doctorates': 'Innovative Training Networks',\n",
    "                                      'MSCA-ITN-EJD - European Joint Doctorates': 'Innovative Training Networks',\n",
    "                                      'MSCA-ITN-ETN - European Training Networks': 'Innovative Training Networks',\n",
    "                                      'MSCA-RISE - Marie SkÅ‚odowska-Curie Research and Innovation Staff Exchange (RISE)': 'Research & Innovation Staff Exchange',\n",
    "                                      'PCP - Pre-Commercial Procurement': 'Procurement',\n",
    "                                      'PPI - Public Procurement of Innovative solutions': 'Procurement',\n",
    "                                      'RIA - Research and Innovation action': 'RIA (Research and Innovation Action)',\n",
    "                                      'RIA-LS - Research and Innovation action Lump Sum': 'RIA (Research and Innovation Action)',\n",
    "                                      'SESAR-CSA - Coordination and Support Action': 'CSA (Coordination and Support Action)',\n",
    "                                      'SESAR-IA - Innovation action': 'IA (Innovation Action)',\n",
    "                                      'SESAR-RIA - Research and Innovation action': 'RIA (Research and Innovation Action)',\n",
    "                                      'SGA-CSA - Specific Grant agreement and Coordination and Support Action': 'CSA (Coordination and Support Action)',\n",
    "                                      'SGA-RIA - SGA-RIA': 'RIA (Research and Innovation Action)',\n",
    "                                      'Shift2Rail-CSA - Coordination and Support Action': 'CSA (Coordination and Support Action)',\n",
    "                                      'Shift2Rail-IA - Innovation action': 'IA (Innovation Action)',\n",
    "                                      'Shift2Rail-IA-LS - Innovation Action Lump-Sum': 'IA (Innovation Action)',\n",
    "                                      'Shift2Rail-RIA - Research and Innovation action': 'RIA (Research and Innovation Action)',\n",
    "                                      'Shift2Rail-RIA-LS - Shift2Rail Research and Innovation Action Lump-Sum': 'RIA (Research and Innovation Action)',\n",
    "                                      'SME-1 - SME instrument phase 1': 'SME (Small and medium-sized Enterprises)',\n",
    "                                      'SME-2 - SME instrument phase 2': 'SME (Small and medium-sized Enterprises)'\n",
    "                                     }\n"
   ]
  },
  {
   "cell_type": "code",
   "execution_count": 121,
   "metadata": {
    "colab": {
     "base_uri": "https://localhost:8080/",
     "height": 35
    },
    "colab_type": "code",
    "id": "UMo4DoWfU92F",
    "outputId": "e4a0cd4c-4dc8-4a03-db03-7f44c562f4a9"
   },
   "outputs": [
    {
     "data": {
      "text/plain": [
       "(251040, 29)"
      ]
     },
     "execution_count": 121,
     "metadata": {},
     "output_type": "execute_result"
    }
   ],
   "source": [
    "# add dictionaries as new columns\n",
    "cordis_project_orgs_df['funding_scheme_programme'] = cordis_project_orgs_df['funding_scheme']\n",
    "cordis_project_orgs_df['funding_scheme_programme'] = cordis_project_orgs_df['funding_scheme_programme'].map(dict_funding_schemes_along_programmes)\n",
    "\n",
    "cordis_project_orgs_df['funding_scheme_action'] = cordis_project_orgs_df['funding_scheme']\n",
    "cordis_project_orgs_df['funding_scheme_action'] = cordis_project_orgs_df['funding_scheme_action'].map(dict_funding_schemes_along_actions)\n",
    "\n",
    "\n",
    "cordis_project_orgs_df.shape\n",
    "    "
   ]
  },
  {
   "cell_type": "code",
   "execution_count": 122,
   "metadata": {
    "colab": {
     "base_uri": "https://localhost:8080/",
     "height": 35
    },
    "colab_type": "code",
    "id": "g04kcY5p6Gma",
    "outputId": "bd419ef6-27b9-4091-bd77-f60d58370d64"
   },
   "outputs": [
    {
     "data": {
      "text/plain": [
       "(37138, 12)"
      ]
     },
     "execution_count": 122,
     "metadata": {},
     "output_type": "execute_result"
    }
   ],
   "source": [
    "# narrow our dataset down to what we want to work with\n",
    "subset = cordis_project_orgs_df[\n",
    "    (cordis_project_orgs_df.activity_type == 'Private for-profit entities (excluding Higher or Secondary Education Establishments)')\n",
    "  & (cordis_project_orgs_df.framework == 'H2020')\n",
    "]\n",
    "\n",
    "df = subset[['organization_id', 'start_date_code', 'funding_scheme', 'funding_scheme_programme', 'funding_scheme_action', 'number_of_partners', 'number_of_publications', 'ec_contribution_organization', 'ec_contribution_project', 'total_cost_project']]\n",
    "\n",
    "# putting data in order\n",
    "df = df.sort_values( by=['organization_id', 'start_date_code'] ).reset_index()\n",
    "\n",
    "# add a column that numbers entries per organisation\n",
    "df['organization_entry_number'] = df.groupby('organization_id').cumcount()\n",
    "df.shape\n"
   ]
  },
  {
   "cell_type": "markdown",
   "metadata": {
    "colab_type": "text",
    "id": "1wVzLGfIFZJo"
   },
   "source": [
    "\n",
    "## Playing with the data\n",
    "\n",
    "Just skip this part when getting data ready for exporting!"
   ]
  },
  {
   "cell_type": "code",
   "execution_count": 123,
   "metadata": {
    "colab": {
     "base_uri": "https://localhost:8080/",
     "height": 165
    },
    "colab_type": "code",
    "id": "qSpqE1TZGnL0",
    "outputId": "44ab5939-31fe-4e22-dd55-de8094243341"
   },
   "outputs": [
    {
     "data": {
      "text/plain": [
       "Index(['project_rcn', 'organization_id', 'activity_type', 'address',\n",
       "       'ec_contribution_organization', 'type', 'website_x', 'id', 'name',\n",
       "       'country_code', 'country_name', 'rcn', 'acronym', 'end_date_code',\n",
       "       'ec_contribution_project', 'framework', 'funding_scheme',\n",
       "       'funded_under', 'objective', 'project_description', 'start_date_code',\n",
       "       'status', 'title', 'total_cost_project', 'website_y',\n",
       "       'number_of_partners', 'number_of_publications',\n",
       "       'funding_scheme_programme', 'funding_scheme_action'],\n",
       "      dtype='object')"
      ]
     },
     "execution_count": 123,
     "metadata": {},
     "output_type": "execute_result"
    }
   ],
   "source": [
    "cordis_project_orgs_df.columns"
   ]
  },
  {
   "cell_type": "code",
   "execution_count": 124,
   "metadata": {
    "colab": {
     "base_uri": "https://localhost:8080/",
     "height": 146
    },
    "colab_type": "code",
    "id": "agGlHcvZEJnQ",
    "outputId": "7b0310df-d477-470b-a789-dc23fdfd8f02"
   },
   "outputs": [
    {
     "data": {
      "text/plain": [
       "Higher or Secondary Education Establishments                                                         88335\n",
       "Private for-profit entities (excluding Higher or Secondary Education Establishments)                 78810\n",
       "Research Organisations                                                                               55099\n",
       "Other                                                                                                15406\n",
       "Public bodies (excluding Research Organisations and Secondary or Higher Education Establishments)    12454\n",
       "                                                                                                       936\n",
       "Name: activity_type, dtype: int64"
      ]
     },
     "execution_count": 124,
     "metadata": {},
     "output_type": "execute_result"
    }
   ],
   "source": [
    "cordis_project_orgs_df['activity_type'].value_counts()"
   ]
  },
  {
   "cell_type": "code",
   "execution_count": 125,
   "metadata": {
    "colab": {
     "base_uri": "https://localhost:8080/",
     "height": 128
    },
    "colab_type": "code",
    "id": "5-R2gHIuHLIa",
    "outputId": "b17ecd57-95d2-4823-d548-26fb0e49aaa7"
   },
   "outputs": [
    {
     "data": {
      "text/plain": [
       "999993856    148\n",
       "999960488     84\n",
       "999909854     79\n",
       "999951467     76\n",
       "999908787     73\n",
       "Name: organization_id, dtype: int64"
      ]
     },
     "execution_count": 125,
     "metadata": {},
     "output_type": "execute_result"
    }
   ],
   "source": [
    "# within subset, how often do organisations appear\n",
    "subset['organization_id'].value_counts().head()\n",
    "\n"
   ]
  },
  {
   "cell_type": "code",
   "execution_count": 126,
   "metadata": {
    "colab": {},
    "colab_type": "code",
    "id": "vqi_ZO1HKC4D"
   },
   "outputs": [
    {
     "data": {
      "text/html": [
       "<div>\n",
       "<style scoped>\n",
       "    .dataframe tbody tr th:only-of-type {\n",
       "        vertical-align: middle;\n",
       "    }\n",
       "\n",
       "    .dataframe tbody tr th {\n",
       "        vertical-align: top;\n",
       "    }\n",
       "\n",
       "    .dataframe thead th {\n",
       "        text-align: right;\n",
       "    }\n",
       "</style>\n",
       "<table border=\"1\" class=\"dataframe\">\n",
       "  <thead>\n",
       "    <tr style=\"text-align: right;\">\n",
       "      <th></th>\n",
       "      <th>organization_id</th>\n",
       "      <th>start_date_code</th>\n",
       "      <th>funding_scheme</th>\n",
       "      <th>number_of_partners</th>\n",
       "      <th>ec_contribution_organization</th>\n",
       "      <th>ec_contribution_project</th>\n",
       "      <th>total_cost_project</th>\n",
       "    </tr>\n",
       "  </thead>\n",
       "  <tbody>\n",
       "    <tr>\n",
       "      <th>135899</th>\n",
       "      <td>999905974</td>\n",
       "      <td>2014-01-01</td>\n",
       "      <td>CSA - Coordination and support action</td>\n",
       "      <td>1</td>\n",
       "      <td>230000</td>\n",
       "      <td>230000</td>\n",
       "      <td>230000</td>\n",
       "    </tr>\n",
       "    <tr>\n",
       "      <th>135943</th>\n",
       "      <td>999574428</td>\n",
       "      <td>2014-08-01</td>\n",
       "      <td>CSA - Coordination and support action</td>\n",
       "      <td>38</td>\n",
       "      <td>20000</td>\n",
       "      <td>5000000</td>\n",
       "      <td>5000000</td>\n",
       "    </tr>\n",
       "    <tr>\n",
       "      <th>135953</th>\n",
       "      <td>999940118</td>\n",
       "      <td>2014-08-01</td>\n",
       "      <td>CSA - Coordination and support action</td>\n",
       "      <td>38</td>\n",
       "      <td>35000</td>\n",
       "      <td>5000000</td>\n",
       "      <td>5000000</td>\n",
       "    </tr>\n",
       "    <tr>\n",
       "      <th>135972</th>\n",
       "      <td>984286452</td>\n",
       "      <td>2014-10-01</td>\n",
       "      <td>CSA - Coordination and support action</td>\n",
       "      <td>58</td>\n",
       "      <td>31608</td>\n",
       "      <td>6000000</td>\n",
       "      <td>6000000</td>\n",
       "    </tr>\n",
       "    <tr>\n",
       "      <th>135977</th>\n",
       "      <td>998142126</td>\n",
       "      <td>2014-10-01</td>\n",
       "      <td>CSA - Coordination and support action</td>\n",
       "      <td>58</td>\n",
       "      <td>551450</td>\n",
       "      <td>6000000</td>\n",
       "      <td>6000000</td>\n",
       "    </tr>\n",
       "    <tr>\n",
       "      <th>...</th>\n",
       "      <td>...</td>\n",
       "      <td>...</td>\n",
       "      <td>...</td>\n",
       "      <td>...</td>\n",
       "      <td>...</td>\n",
       "      <td>...</td>\n",
       "      <td>...</td>\n",
       "    </tr>\n",
       "    <tr>\n",
       "      <th>251026</th>\n",
       "      <td>903840472</td>\n",
       "      <td>2019-09-01</td>\n",
       "      <td>CSA - Coordination and support action</td>\n",
       "      <td>1</td>\n",
       "      <td>120625</td>\n",
       "      <td>120625</td>\n",
       "      <td>120625</td>\n",
       "    </tr>\n",
       "    <tr>\n",
       "      <th>251028</th>\n",
       "      <td>904273189</td>\n",
       "      <td>2019-09-01</td>\n",
       "      <td>SME-1 - SME instrument phase 1</td>\n",
       "      <td>1</td>\n",
       "      <td>50000</td>\n",
       "      <td>50000</td>\n",
       "      <td>71429</td>\n",
       "    </tr>\n",
       "    <tr>\n",
       "      <th>251029</th>\n",
       "      <td>910867831</td>\n",
       "      <td>2019-09-01</td>\n",
       "      <td>SME-2 - SME instrument phase 2</td>\n",
       "      <td>1</td>\n",
       "      <td>1059217</td>\n",
       "      <td>1059217</td>\n",
       "      <td>1513168</td>\n",
       "    </tr>\n",
       "    <tr>\n",
       "      <th>251030</th>\n",
       "      <td>915409662</td>\n",
       "      <td>2020-02-01</td>\n",
       "      <td>MSCA-ITN-ETN - European Training Networks</td>\n",
       "      <td>10</td>\n",
       "      <td>281277</td>\n",
       "      <td>4099782</td>\n",
       "      <td>4099782</td>\n",
       "    </tr>\n",
       "    <tr>\n",
       "      <th>251032</th>\n",
       "      <td>960338413</td>\n",
       "      <td>2020-02-01</td>\n",
       "      <td>MSCA-ITN-ETN - European Training Networks</td>\n",
       "      <td>10</td>\n",
       "      <td>265620</td>\n",
       "      <td>4099782</td>\n",
       "      <td>4099782</td>\n",
       "    </tr>\n",
       "  </tbody>\n",
       "</table>\n",
       "<p>37138 rows × 7 columns</p>\n",
       "</div>"
      ],
      "text/plain": [
       "        organization_id start_date_code  \\\n",
       "135899        999905974      2014-01-01   \n",
       "135943        999574428      2014-08-01   \n",
       "135953        999940118      2014-08-01   \n",
       "135972        984286452      2014-10-01   \n",
       "135977        998142126      2014-10-01   \n",
       "...                 ...             ...   \n",
       "251026        903840472      2019-09-01   \n",
       "251028        904273189      2019-09-01   \n",
       "251029        910867831      2019-09-01   \n",
       "251030        915409662      2020-02-01   \n",
       "251032        960338413      2020-02-01   \n",
       "\n",
       "                                   funding_scheme  number_of_partners  \\\n",
       "135899      CSA - Coordination and support action                   1   \n",
       "135943      CSA - Coordination and support action                  38   \n",
       "135953      CSA - Coordination and support action                  38   \n",
       "135972      CSA - Coordination and support action                  58   \n",
       "135977      CSA - Coordination and support action                  58   \n",
       "...                                           ...                 ...   \n",
       "251026      CSA - Coordination and support action                   1   \n",
       "251028             SME-1 - SME instrument phase 1                   1   \n",
       "251029             SME-2 - SME instrument phase 2                   1   \n",
       "251030  MSCA-ITN-ETN - European Training Networks                  10   \n",
       "251032  MSCA-ITN-ETN - European Training Networks                  10   \n",
       "\n",
       "        ec_contribution_organization  ec_contribution_project  \\\n",
       "135899                        230000                   230000   \n",
       "135943                         20000                  5000000   \n",
       "135953                         35000                  5000000   \n",
       "135972                         31608                  6000000   \n",
       "135977                        551450                  6000000   \n",
       "...                              ...                      ...   \n",
       "251026                        120625                   120625   \n",
       "251028                         50000                    50000   \n",
       "251029                       1059217                  1059217   \n",
       "251030                        281277                  4099782   \n",
       "251032                        265620                  4099782   \n",
       "\n",
       "        total_cost_project  \n",
       "135899              230000  \n",
       "135943             5000000  \n",
       "135953             5000000  \n",
       "135972             6000000  \n",
       "135977             6000000  \n",
       "...                    ...  \n",
       "251026              120625  \n",
       "251028               71429  \n",
       "251029             1513168  \n",
       "251030             4099782  \n",
       "251032             4099782  \n",
       "\n",
       "[37138 rows x 7 columns]"
      ]
     },
     "execution_count": 126,
     "metadata": {},
     "output_type": "execute_result"
    }
   ],
   "source": [
    "subset[['organization_id', 'start_date_code', 'funding_scheme', 'number_of_partners', 'ec_contribution_organization', 'ec_contribution_project', 'total_cost_project']]\n"
   ]
  },
  {
   "cell_type": "code",
   "execution_count": 127,
   "metadata": {
    "colab": {},
    "colab_type": "code",
    "id": "qIiwnrBp0yM9"
   },
   "outputs": [
    {
     "name": "stdout",
     "output_type": "stream",
     "text": [
      "Specific Programme \"Cooperation\": Security\n",
      "Specific Programme \"Cooperation\": Security\n",
      "Specific Programme \"Cooperation\": Security\n",
      "Specific Programme \"Cooperation\": Security\n",
      "Specific Programme \"Cooperation\": Security\n",
      "Specific Programme \"Cooperation\": Security\n",
      "Specific Programme \"Cooperation\": Security\n",
      "Specific Programme \"Cooperation\": Security\n",
      "Specific Programme \"Cooperation\": Security\n",
      "Specific Programme \"Cooperation\": Security\n",
      "Specific Programme \"Cooperation\": Security\n",
      "Specific programme \"People\" implementing the Seventh Framework Programme of the European Community for research, technological development and demonstration activities (2007 to 2013)\n",
      "Specific programme \"People\" implementing the Seventh Framework Programme of the European Community for research, technological development and demonstration activities (2007 to 2013)\n",
      "Specific programme \"People\" implementing the Seventh Framework Programme of the European Community for research, technological development and demonstration activities (2007 to 2013)\n",
      "Specific programme \"People\" implementing the Seventh Framework Programme of the European Community for research, technological development and demonstration activities (2007 to 2013)\n",
      "Specific programme \"People\" implementing the Seventh Framework Programme of the European Community for research, technological development and demonstration activities (2007 to 2013)\n",
      "Specific programme \"People\" implementing the Seventh Framework Programme of the European Community for research, technological development and demonstration activities (2007 to 2013)\n",
      "Specific programme \"People\" implementing the Seventh Framework Programme of the European Community for research, technological development and demonstration activities (2007 to 2013)\n",
      "Specific programme \"People\" implementing the Seventh Framework Programme of the European Community for research, technological development and demonstration activities (2007 to 2013)\n",
      "Specific programme \"People\" implementing the Seventh Framework Programme of the European Community for research, technological development and demonstration activities (2007 to 2013)\n",
      "Specific programme \"People\" implementing the Seventh Framework Programme of the European Community for research, technological development and demonstration activities (2007 to 2013)\n",
      "Specific programme \"People\" implementing the Seventh Framework Programme of the European Community for research, technological development and demonstration activities (2007 to 2013)\n",
      "Specific programme \"People\" implementing the Seventh Framework Programme of the European Community for research, technological development and demonstration activities (2007 to 2013)\n",
      "Specific programme \"People\" implementing the Seventh Framework Programme of the European Community for research, technological development and demonstration activities (2007 to 2013)\n",
      "Specific programme \"People\" implementing the Seventh Framework Programme of the European Community for research, technological development and demonstration activities (2007 to 2013)\n",
      "Specific programme \"People\" implementing the Seventh Framework Programme of the European Community for research, technological development and demonstration activities (2007 to 2013)\n",
      "Specific programme \"People\" implementing the Seventh Framework Programme of the European Community for research, technological development and demonstration activities (2007 to 2013)\n",
      "Specific programme \"People\" implementing the Seventh Framework Programme of the European Community for research, technological development and demonstration activities (2007 to 2013)\n",
      "Specific programme \"People\" implementing the Seventh Framework Programme of the European Community for research, technological development and demonstration activities (2007 to 2013)\n",
      "Specific programme \"People\" implementing the Seventh Framework Programme of the European Community for research, technological development and demonstration activities (2007 to 2013)\n",
      "Specific programme \"People\" implementing the Seventh Framework Programme of the European Community for research, technological development and demonstration activities (2007 to 2013)\n",
      "Specific programme \"People\" implementing the Seventh Framework Programme of the European Community for research, technological development and demonstration activities (2007 to 2013)\n",
      "Specific programme \"People\" implementing the Seventh Framework Programme of the European Community for research, technological development and demonstration activities (2007 to 2013)\n",
      "Specific programme: \"Ideas\" implementing the Seventh Framework Programme of the European Community for research, technological development and demonstration activities (2007 to 2013)\n",
      "Specific programme: \"Ideas\" implementing the Seventh Framework Programme of the European Community for research, technological development and demonstration activities (2007 to 2013)\n",
      "Specific programme: \"Ideas\" implementing the Seventh Framework Programme of the European Community for research, technological development and demonstration activities (2007 to 2013)\n",
      "Specific programme: \"Ideas\" implementing the Seventh Framework Programme of the European Community for research, technological development and demonstration activities (2007 to 2013)\n",
      "Specific programme: \"Ideas\" implementing the Seventh Framework Programme of the European Community for research, technological development and demonstration activities (2007 to 2013)\n",
      "Specific programme: \"Ideas\" implementing the Seventh Framework Programme of the European Community for research, technological development and demonstration activities (2007 to 2013)\n",
      "Specific programme \"People\" implementing the Seventh Framework Programme of the European Community for research, technological development and demonstration activities (2007 to 2013)\n",
      "Specific programme \"People\" implementing the Seventh Framework Programme of the European Community for research, technological development and demonstration activities (2007 to 2013)\n",
      "Specific programme \"People\" implementing the Seventh Framework Programme of the European Community for research, technological development and demonstration activities (2007 to 2013)\n",
      "Specific programme \"People\" implementing the Seventh Framework Programme of the European Community for research, technological development and demonstration activities (2007 to 2013)\n",
      "Specific programme \"People\" implementing the Seventh Framework Programme of the European Community for research, technological development and demonstration activities (2007 to 2013)\n",
      "Specific programme \"People\" implementing the Seventh Framework Programme of the European Community for research, technological development and demonstration activities (2007 to 2013)\n",
      "Specific programme \"People\" implementing the Seventh Framework Programme of the European Community for research, technological development and demonstration activities (2007 to 2013)\n",
      "Specific programme \"People\" implementing the Seventh Framework Programme of the European Community for research, technological development and demonstration activities (2007 to 2013)\n",
      "Specific programme \"People\" implementing the Seventh Framework Programme of the European Community for research, technological development and demonstration activities (2007 to 2013)\n",
      "Specific programme \"People\" implementing the Seventh Framework Programme of the European Community for research, technological development and demonstration activities (2007 to 2013)\n",
      "Specific Programme \"Capacities\": Regions of knowledge and support for regional research-driven clusters\n",
      "Specific Programme \"Capacities\": Regions of knowledge and support for regional research-driven clusters\n",
      "Specific Programme \"Capacities\": Regions of knowledge and support for regional research-driven clusters\n",
      "Specific Programme \"Capacities\": Regions of knowledge and support for regional research-driven clusters\n",
      "Specific Programme \"Capacities\": Regions of knowledge and support for regional research-driven clusters\n",
      "Specific Programme \"Capacities\": Regions of knowledge and support for regional research-driven clusters\n",
      "Specific Programme \"Capacities\": Regions of knowledge and support for regional research-driven clusters\n",
      "Specific Programme \"Capacities\": Regions of knowledge and support for regional research-driven clusters\n",
      "Specific Programme \"Capacities\": Research potential of Convergence Regions\n",
      "Specific Programme \"Capacities\": Research potential of Convergence Regions\n",
      "Specific Programme \"Capacities\": Research potential of Convergence Regions\n",
      "Specific Programme \"Capacities\": Research potential of Convergence Regions\n",
      "Specific Programme \"Capacities\": Research potential of Convergence Regions\n",
      "Specific Programme \"Capacities\": Research potential of Convergence Regions\n",
      "Specific Programme \"Capacities\": Research potential of Convergence Regions\n",
      "Specific Programme \"Capacities\": Research potential of Convergence Regions\n",
      "Specific Programme \"Capacities\": Research potential of Convergence Regions\n",
      "Specific Programme \"Capacities\": Research potential of Convergence Regions\n",
      "Specific Programme \"Cooperation\": Health\n",
      "Specific Programme \"Cooperation\": Health\n",
      "Specific Programme \"Cooperation\": Health\n",
      "Specific Programme \"Cooperation\": Health\n",
      "Specific Programme \"Cooperation\": Health\n",
      "Specific Programme \"Cooperation\": Health\n",
      "Specific Programme \"Cooperation\": Health\n",
      "Specific Programme \"Cooperation\": Health\n",
      "Specific Programme \"Cooperation\": Health\n",
      "Specific Programme \"Cooperation\": Health\n",
      "Specific Programme \"Cooperation\": Health\n",
      "Specific Programme \"Cooperation\": Health\n",
      "Specific Programme \"Cooperation\": Health\n",
      "Specific Programme \"Cooperation\": Health\n",
      "Specific Programme \"Cooperation\": Health\n",
      "Specific Programme \"Cooperation\": Health\n",
      "Specific Programme \"Cooperation\": Health\n",
      "Specific Programme \"Cooperation\": Health\n",
      "Specific Programme \"Cooperation\": Health\n",
      "Specific Programme \"Cooperation\": Health\n",
      "Specific Programme \"Cooperation\": Health\n",
      "Specific Programme \"Cooperation\": Health\n",
      "Specific Programme \"Cooperation\": Health\n",
      "Specific Programme \"Cooperation\": Health\n",
      "Specific Programme \"Cooperation\": Health\n",
      "Specific Programme \"Cooperation\": Health\n",
      "Specific Programme \"Cooperation\": Health\n",
      "Specific Programme \"Cooperation\": Health\n",
      "Specific Programme \"Cooperation\": Health\n",
      "Specific Programme \"Cooperation\": Health\n",
      "Specific Programme \"Cooperation\": Health\n",
      "Specific Programme \"Cooperation\": Health\n",
      "Specific Programme \"Cooperation\": Health\n"
     ]
    }
   ],
   "source": [
    "for i in range(100):\n",
    "  print(cordis_project_orgs_df.loc[i + 10000].funded_under[0]['title'])\n",
    "\n"
   ]
  },
  {
   "cell_type": "code",
   "execution_count": 128,
   "metadata": {
    "colab": {
     "base_uri": "https://localhost:8080/",
     "height": 74
    },
    "colab_type": "code",
    "id": "gSx90hEWBZf-",
    "outputId": "d0f53e07-5828-4a11-e1a7-43179731ca23"
   },
   "outputs": [],
   "source": [
    "df['funding_scheme'].value_counts().to_csv('funding_scheme_grouping.csv', header = True)"
   ]
  },
  {
   "cell_type": "markdown",
   "metadata": {
    "colab_type": "text",
    "id": "KifyiO6cw2Aw"
   },
   "source": [
    "# Preparing data for a Sankey diagram\n",
    "\n",
    "\n"
   ]
  },
  {
   "cell_type": "markdown",
   "metadata": {
    "colab_type": "text",
    "id": "hr2PlbEwz1zO"
   },
   "source": [
    "## First two projects of every organisation"
   ]
  },
  {
   "cell_type": "code",
   "execution_count": 129,
   "metadata": {
    "colab": {
     "base_uri": "https://localhost:8080/",
     "height": 35
    },
    "colab_type": "code",
    "id": "Qk_VLpr0QKSS",
    "outputId": "adf922cd-28e9-4b96-be8e-bb7dcfeb4e8a"
   },
   "outputs": [
    {
     "data": {
      "text/plain": [
       "(62, 3)"
      ]
     },
     "execution_count": 129,
     "metadata": {},
     "output_type": "execute_result"
    }
   ],
   "source": [
    "# prepare the column that shall be used as the category shown in the sankey diagram\n",
    "#   v   v   v   v   v   v   v   v   v   #\n",
    "sankey_column = 'funding_scheme_action'\n",
    "#   ^   ^   ^   ^   ^   ^   ^   ^   ^   #\n",
    "\n",
    "\n",
    "dfs = df.rename(columns={sankey_column:'sankey'})\n",
    "\n",
    "# looking at first two entries of organisations\n",
    "first = dfs[dfs['organization_entry_number'] == 0]\n",
    "second = dfs[dfs['organization_entry_number'] == 1]\n",
    "\n",
    "# left is second step, right is first step\n",
    "onestep = second.merge(first, on='organization_id', how='left')\n",
    "\n",
    "# aggregate over sankey-columns\n",
    "sankey_df = onestep[['sankey_y', 'sankey_x', 'organization_id']].groupby(['sankey_y', 'sankey_x']).count()\n",
    "\n",
    "# prepare for proper output (index -> columns, renaming)\n",
    "sankey_df.reset_index(level=['sankey_y', 'sankey_x'], inplace=True)\n",
    "sankey_df.rename(columns={'sankey_y':'source', 'sankey_x':'target', 'organization_id':'value'}, inplace=True)\n",
    "\n",
    "# add a blank space to all targets (so targets differ from sources)\n",
    "sankey_df['target'] = sankey_df['target'] + ' '\n",
    "\n",
    "sankey_df.shape"
   ]
  },
  {
   "cell_type": "code",
   "execution_count": 130,
   "metadata": {
    "colab": {},
    "colab_type": "code",
    "id": "5Y_wmoSDSuu4"
   },
   "outputs": [],
   "source": [
    "# export csv\n",
    "sankey_df.to_csv('sankey_onestep_data.csv', index=False, sep=';')\n"
   ]
  },
  {
   "cell_type": "markdown",
   "metadata": {
    "colab_type": "text",
    "id": "A1XQ84Fp3Ypf"
   },
   "source": [
    "## All projects"
   ]
  },
  {
   "cell_type": "markdown",
   "metadata": {
    "colab_type": "text",
    "id": "WRU45Es83jKT"
   },
   "source": [
    "There are cases, when an organisation has two or more new projects at once, in which case there is no clear order of projects/funding schemes.\n",
    "We ignored this fact and - for the sake of getting the job done - live with the noise it adds."
   ]
  },
  {
   "cell_type": "code",
   "execution_count": 131,
   "metadata": {
    "colab": {
     "base_uri": "https://localhost:8080/",
     "height": 35
    },
    "colab_type": "code",
    "id": "fQ3vgsKqUm0-",
    "outputId": "be47806b-3e29-4335-b8b0-c57a617c1d55"
   },
   "outputs": [
    {
     "data": {
      "text/plain": [
       "(70, 3)"
      ]
     },
     "execution_count": 131,
     "metadata": {},
     "output_type": "execute_result"
    }
   ],
   "source": [
    "# prepare the column that shall be used as the category shown in the sankey diagram\n",
    "#   v   v   v   v   v   v   v   v   v   #\n",
    "sankey_column = 'funding_scheme_action'\n",
    "#   ^   ^   ^   ^   ^   ^   ^   ^   ^   #\n",
    "\n",
    "\n",
    "dfs = df.rename(columns={sankey_column:'sankey'})\n",
    "\n",
    "# looking at first two entries of organisations\n",
    "dfs['next_step'] = dfs['organization_entry_number'] + 1\n",
    "\n",
    "# left is current step, right is next step\n",
    "allsteps = dfs.merge(dfs, left_on=['organization_id', 'next_step']\n",
    "                    , right_on=['organization_id', 'organization_entry_number'], how='left')\n",
    "\n",
    "\n",
    "# aggregate over sankey-columns\n",
    "sankey_df = allsteps[['sankey_y', 'sankey_x', 'organization_id']].groupby(['sankey_y', 'sankey_x']).count()\n",
    "\n",
    "# prepare for proper output (index -> columns, renaming)\n",
    "sankey_df.reset_index(level=['sankey_y', 'sankey_x'], inplace=True)\n",
    "sankey_df.rename(columns={'sankey_y':'source', 'sankey_x':'target', 'organization_id':'value'}, inplace=True)\n",
    "\n",
    "# add a blank space to all targets (so targets differ from sources)\n",
    "sankey_df['target'] = sankey_df['target'] + ' '\n",
    "\n",
    "sankey_df.shape\n"
   ]
  },
  {
   "cell_type": "code",
   "execution_count": 201,
   "metadata": {
    "colab": {},
    "colab_type": "code",
    "id": "Ip-LP23n67Ru"
   },
   "outputs": [],
   "source": [
    "# export csv\n",
    "sankey_df.to_csv('sankey_allsteps_data.csv', index=False, sep=',')\n"
   ]
  },
  {
   "cell_type": "markdown",
   "metadata": {
    "colab_type": "text",
    "id": "4hZmGzCi84ho"
   },
   "source": [
    "# Preparing data for a network graph\n",
    "\n",
    "\n"
   ]
  },
  {
   "cell_type": "markdown",
   "metadata": {
    "colab_type": "text",
    "id": "JyDT-j8W84jA"
   },
   "source": [
    "## All projects"
   ]
  },
  {
   "cell_type": "markdown",
   "metadata": {
    "colab_type": "text",
    "id": "kaBYCuUs84jF"
   },
   "source": [
    "There are cases, when an organisation has two or more new projects at once, in which case there is no clear order of projects/funding schemes.\n",
    "We ignored this fact and - for the sake of getting the job done - live with the noise it adds."
   ]
  },
  {
   "cell_type": "code",
   "execution_count": 182,
   "metadata": {
    "colab": {
     "base_uri": "https://localhost:8080/",
     "height": 35
    },
    "colab_type": "code",
    "id": "g_tLNKJS84jH",
    "outputId": "12978101-6e2d-4b86-ae3e-fb16c140db76"
   },
   "outputs": [
    {
     "name": "stdout",
     "output_type": "stream",
     "text": [
      "55 nodes with 400 edges ready for further processing\n"
     ]
    }
   ],
   "source": [
    "# code is copied from above and I didn't rename variables to leviate debugging\n",
    "# prepare the column that shall be used as the category shown in the sankey diagram\n",
    "#   v   v   v   v   v   v   v   v   v   #\n",
    "sankey_column = 'funding_scheme'\n",
    "#   ^   ^   ^   ^   ^   ^   ^   ^   ^   #\n",
    "\n",
    "\n",
    "dfs = df.rename(columns={sankey_column:'sankey'})\n",
    "\n",
    "# looking at first two entries of organisations\n",
    "dfs['next_step'] = dfs['organization_entry_number'] + 1\n",
    "\n",
    "# left is current step, right is next step\n",
    "allsteps = dfs.merge(dfs, left_on=['organization_id', 'next_step']\n",
    "                    , right_on=['organization_id', 'organization_entry_number'], how='left')\n",
    "\n",
    "\n",
    "# aggregate over sankey-columns\n",
    "sankey_df = allsteps[['sankey_y', 'sankey_x', 'organization_id']].groupby(['sankey_y', 'sankey_x']).count()\n",
    "\n",
    "# prepare for proper output (index -> columns, renaming)\n",
    "sankey_df.reset_index(level=['sankey_y', 'sankey_x'], inplace=True)\n",
    "sankey_df.rename(columns={'sankey_y':'source', 'sankey_x':'target', 'organization_id':'value'}, inplace=True)\n",
    "\n",
    "\n",
    "#----------- from here onwards there's network specific stuff going on\n",
    "\n",
    "# edges, directional\n",
    "edges_dir = sankey_df\n",
    "\n",
    "# create edges without direction\n",
    "edges = []\n",
    "for s, t, c in zip(edges_dir['source'], edges_dir['target'], edges_dir['value']):\n",
    "    edge = sorted([s, t])\n",
    "    edge.append(c)\n",
    "    edges.append(edge)\n",
    "\n",
    "edges_df = pd.DataFrame(edges)\n",
    "edges_df = edges_df.groupby([0, 1]).sum().reset_index()\n",
    "nodes_df = edges_df[0].append(edges_df[1]).drop_duplicates().reset_index()[0]\n",
    "\n",
    "\n",
    "print(str(nodes_df.shape[0]) + ' nodes with ' + str(edges_df.shape[0]) + ' edges ready for further processing')\n"
   ]
  },
  {
   "cell_type": "code",
   "execution_count": 183,
   "metadata": {
    "colab": {},
    "colab_type": "code",
    "id": "OsVotJBoOzmb"
   },
   "outputs": [],
   "source": [
    "nodes_df = edges_df[0].append(edges_df[1]).drop_duplicates().reset_index()[0]"
   ]
  },
  {
   "cell_type": "code",
   "execution_count": 184,
   "metadata": {
    "colab": {},
    "colab_type": "code",
    "id": "bZaWYlSo84jP"
   },
   "outputs": [
    {
     "name": "stderr",
     "output_type": "stream",
     "text": [
      "C:\\Users\\jamesp\\AppData\\Local\\Continuum\\miniconda3\\lib\\site-packages\\ipykernel_launcher.py:3: FutureWarning: The signature of `Series.to_csv` was aligned to that of `DataFrame.to_csv`, and argument 'header' will change its default value from False to True: please pass an explicit value to suppress this warning.\n",
      "  This is separate from the ipykernel package so we can avoid doing imports until\n"
     ]
    }
   ],
   "source": [
    "# export csv\n",
    "edges_df.to_csv('network_data_edges.csv', index=False, sep=',')\n",
    "nodes_df.to_csv('network_data_nodes.csv', index=False, sep=',')\n",
    "\n"
   ]
  },
  {
   "cell_type": "code",
   "execution_count": 185,
   "metadata": {
    "colab": {
     "base_uri": "https://localhost:8080/",
     "height": 1000
    },
    "colab_type": "code",
    "id": "lLGE8x6QSXKI",
    "outputId": "4d5add32-6c5e-4458-e934-c2cf758d542e"
   },
   "outputs": [
    {
     "data": {
      "text/html": [
       "<div>\n",
       "<style scoped>\n",
       "    .dataframe tbody tr th:only-of-type {\n",
       "        vertical-align: middle;\n",
       "    }\n",
       "\n",
       "    .dataframe tbody tr th {\n",
       "        vertical-align: top;\n",
       "    }\n",
       "\n",
       "    .dataframe thead th {\n",
       "        text-align: right;\n",
       "    }\n",
       "</style>\n",
       "<table border=\"1\" class=\"dataframe\">\n",
       "  <thead>\n",
       "    <tr style=\"text-align: right;\">\n",
       "      <th></th>\n",
       "      <th>0</th>\n",
       "      <th>1</th>\n",
       "      <th>2</th>\n",
       "    </tr>\n",
       "  </thead>\n",
       "  <tbody>\n",
       "    <tr>\n",
       "      <th>0</th>\n",
       "      <td>BBI-CSA - Bio-based Industries Coordination an...</td>\n",
       "      <td>BBI-IA-DEMO - Bio-based Industries Innovation ...</td>\n",
       "      <td>4</td>\n",
       "    </tr>\n",
       "    <tr>\n",
       "      <th>1</th>\n",
       "      <td>BBI-CSA - Bio-based Industries Coordination an...</td>\n",
       "      <td>BBI-RIA - Bio-based Industries Research and In...</td>\n",
       "      <td>2</td>\n",
       "    </tr>\n",
       "    <tr>\n",
       "      <th>2</th>\n",
       "      <td>BBI-CSA - Bio-based Industries Coordination an...</td>\n",
       "      <td>CSA - Coordination and support action</td>\n",
       "      <td>23</td>\n",
       "    </tr>\n",
       "    <tr>\n",
       "      <th>3</th>\n",
       "      <td>BBI-CSA - Bio-based Industries Coordination an...</td>\n",
       "      <td>IA - Innovation action</td>\n",
       "      <td>9</td>\n",
       "    </tr>\n",
       "    <tr>\n",
       "      <th>4</th>\n",
       "      <td>BBI-CSA - Bio-based Industries Coordination an...</td>\n",
       "      <td>RIA - Research and Innovation action</td>\n",
       "      <td>12</td>\n",
       "    </tr>\n",
       "    <tr>\n",
       "      <th>...</th>\n",
       "      <td>...</td>\n",
       "      <td>...</td>\n",
       "      <td>...</td>\n",
       "    </tr>\n",
       "    <tr>\n",
       "      <th>395</th>\n",
       "      <td>Shift2Rail-IA-LS - Innovation Action Lump-Sum</td>\n",
       "      <td>Shift2Rail-RIA - Research and Innovation action</td>\n",
       "      <td>20</td>\n",
       "    </tr>\n",
       "    <tr>\n",
       "      <th>396</th>\n",
       "      <td>Shift2Rail-IA-LS - Innovation Action Lump-Sum</td>\n",
       "      <td>Shift2Rail-RIA-LS - Shift2Rail Research and In...</td>\n",
       "      <td>4</td>\n",
       "    </tr>\n",
       "    <tr>\n",
       "      <th>397</th>\n",
       "      <td>Shift2Rail-RIA - Research and Innovation action</td>\n",
       "      <td>Shift2Rail-RIA - Research and Innovation action</td>\n",
       "      <td>103</td>\n",
       "    </tr>\n",
       "    <tr>\n",
       "      <th>398</th>\n",
       "      <td>Shift2Rail-RIA - Research and Innovation action</td>\n",
       "      <td>Shift2Rail-RIA-LS - Shift2Rail Research and In...</td>\n",
       "      <td>5</td>\n",
       "    </tr>\n",
       "    <tr>\n",
       "      <th>399</th>\n",
       "      <td>Shift2Rail-RIA-LS - Shift2Rail Research and In...</td>\n",
       "      <td>Shift2Rail-RIA-LS - Shift2Rail Research and In...</td>\n",
       "      <td>2</td>\n",
       "    </tr>\n",
       "  </tbody>\n",
       "</table>\n",
       "<p>400 rows × 3 columns</p>\n",
       "</div>"
      ],
      "text/plain": [
       "                                                     0  \\\n",
       "0    BBI-CSA - Bio-based Industries Coordination an...   \n",
       "1    BBI-CSA - Bio-based Industries Coordination an...   \n",
       "2    BBI-CSA - Bio-based Industries Coordination an...   \n",
       "3    BBI-CSA - Bio-based Industries Coordination an...   \n",
       "4    BBI-CSA - Bio-based Industries Coordination an...   \n",
       "..                                                 ...   \n",
       "395      Shift2Rail-IA-LS - Innovation Action Lump-Sum   \n",
       "396      Shift2Rail-IA-LS - Innovation Action Lump-Sum   \n",
       "397    Shift2Rail-RIA - Research and Innovation action   \n",
       "398    Shift2Rail-RIA - Research and Innovation action   \n",
       "399  Shift2Rail-RIA-LS - Shift2Rail Research and In...   \n",
       "\n",
       "                                                     1    2  \n",
       "0    BBI-IA-DEMO - Bio-based Industries Innovation ...    4  \n",
       "1    BBI-RIA - Bio-based Industries Research and In...    2  \n",
       "2                CSA - Coordination and support action   23  \n",
       "3                               IA - Innovation action    9  \n",
       "4                 RIA - Research and Innovation action   12  \n",
       "..                                                 ...  ...  \n",
       "395    Shift2Rail-RIA - Research and Innovation action   20  \n",
       "396  Shift2Rail-RIA-LS - Shift2Rail Research and In...    4  \n",
       "397    Shift2Rail-RIA - Research and Innovation action  103  \n",
       "398  Shift2Rail-RIA-LS - Shift2Rail Research and In...    5  \n",
       "399  Shift2Rail-RIA-LS - Shift2Rail Research and In...    2  \n",
       "\n",
       "[400 rows x 3 columns]"
      ]
     },
     "execution_count": 185,
     "metadata": {},
     "output_type": "execute_result"
    }
   ],
   "source": [
    "edges_df"
   ]
  },
  {
   "cell_type": "markdown",
   "metadata": {
    "colab_type": "text",
    "id": "DsLgGQO5FkF6"
   },
   "source": [
    "# Playing around with network graphics"
   ]
  },
  {
   "cell_type": "markdown",
   "metadata": {
    "colab_type": "text",
    "id": "HehRQyu6FsdD"
   },
   "source": [
    "Code here is copied from nestauk/im_tutorials/NetworkScience.ipynb.\n"
   ]
  },
  {
   "cell_type": "code",
   "execution_count": 186,
   "metadata": {
    "colab": {
     "base_uri": "https://localhost:8080/",
     "height": 1000
    },
    "colab_type": "code",
    "id": "KLXoK_0X84jT",
    "outputId": "2b7be7f3-f8fc-4c9b-fa39-d92cab9682aa"
   },
   "outputs": [
    {
     "name": "stdout",
     "output_type": "stream",
     "text": [
      "The autoreload extension is already loaded. To reload it, use:\n",
      "  %reload_ext autoreload\n",
      "Collecting git+https://github.com/nestauk/im_tutorials.git\n",
      "  Cloning https://github.com/nestauk/im_tutorials.git to c:\\users\\jamesp\\appdata\\local\\temp\\pip-req-build-gqc75mfa\n",
      "Requirement already satisfied (use --upgrade to upgrade): im-tutorials==0.1.1 from git+https://github.com/nestauk/im_tutorials.git in c:\\users\\jamesp\\appdata\\local\\continuum\\miniconda3\\lib\\site-packages\n",
      "Building wheels for collected packages: im-tutorials\n",
      "  Building wheel for im-tutorials (setup.py): started\n",
      "  Building wheel for im-tutorials (setup.py): finished with status 'done'\n",
      "  Stored in directory: C:\\Users\\jamesp\\AppData\\Local\\Temp\\pip-ephem-wheel-cache-4v6nwv_l\\wheels\\47\\a3\\cb\\bdc5f9ba49bcfd2c6864b166a1566eb2f104113bf0c3500330\n",
      "Successfully built im-tutorials\n",
      "Requirement already satisfied: pybind11 in c:\\users\\jamesp\\appdata\\local\\continuum\\miniconda3\\lib\\site-packages (2.4.3)\n",
      "Collecting cpalgorithm\n",
      "  Using cached https://files.pythonhosted.org/packages/2c/30/384f069afb0d7bd1fd2c2a813ad39944d5bccabf47879862795147d038e4/cpalgorithm-0.0.14.tar.gz\n",
      "Requirement already satisfied: pybind11>=2.2 in c:\\users\\jamesp\\appdata\\local\\continuum\\miniconda3\\lib\\site-packages (from cpalgorithm) (2.4.3)\n",
      "Requirement already satisfied: networkx>=2.0 in c:\\users\\jamesp\\appdata\\local\\continuum\\miniconda3\\lib\\site-packages (from cpalgorithm) (2.4)\n",
      "Requirement already satisfied: numpy>=1.14.2 in c:\\users\\jamesp\\appdata\\local\\continuum\\miniconda3\\lib\\site-packages (from cpalgorithm) (1.17.2)\n",
      "Requirement already satisfied: simanneal in c:\\users\\jamesp\\appdata\\local\\continuum\\miniconda3\\lib\\site-packages (from cpalgorithm) (0.5.0)\n",
      "Requirement already satisfied: scipy>=1.1.0 in c:\\users\\jamesp\\appdata\\local\\continuum\\miniconda3\\lib\\site-packages (from cpalgorithm) (1.3.1)\n",
      "Requirement already satisfied: decorator>=4.3.0 in c:\\users\\jamesp\\appdata\\local\\continuum\\miniconda3\\lib\\site-packages (from networkx>=2.0->cpalgorithm) (4.4.0)\n",
      "Building wheels for collected packages: cpalgorithm\n",
      "  Building wheel for cpalgorithm (setup.py): started\n",
      "  Building wheel for cpalgorithm (setup.py): finished with status 'error'\n",
      "  Complete output from command C:\\Users\\jamesp\\AppData\\Local\\Continuum\\miniconda3\\python.exe -u -c \"import setuptools, tokenize;__file__='C:\\\\Users\\\\jamesp\\\\AppData\\\\Local\\\\Temp\\\\pip-install-lwc_n5xc\\\\cpalgorithm\\\\setup.py';f=getattr(tokenize, 'open', open)(__file__);code=f.read().replace('\\r\\n', '\\n');f.close();exec(compile(code, __file__, 'exec'))\" bdist_wheel -d C:\\Users\\jamesp\\AppData\\Local\\Temp\\pip-wheel-mxxvsf9j --python-tag cp37:\n",
      "  running bdist_wheel\n",
      "  running build\n",
      "  running build_py\n",
      "  creating build\n",
      "  creating build\\lib.win-amd64-3.7\n",
      "  creating build\\lib.win-amd64-3.7\\cpalgorithm\n",
      "  copying cpalgorithm\\BE.py -> build\\lib.win-amd64-3.7\\cpalgorithm\n",
      "  copying cpalgorithm\\CPAlgorithm.py -> build\\lib.win-amd64-3.7\\cpalgorithm\n",
      "  copying cpalgorithm\\Cucuringu.py -> build\\lib.win-amd64-3.7\\cpalgorithm\n",
      "  copying cpalgorithm\\Divisive.py -> build\\lib.win-amd64-3.7\\cpalgorithm\n",
      "  copying cpalgorithm\\KM_config.py -> build\\lib.win-amd64-3.7\\cpalgorithm\n",
      "  copying cpalgorithm\\KM_ER.py -> build\\lib.win-amd64-3.7\\cpalgorithm\n",
      "  copying cpalgorithm\\KM_modmat.py -> build\\lib.win-amd64-3.7\\cpalgorithm\n",
      "  copying cpalgorithm\\MINRES.py -> build\\lib.win-amd64-3.7\\cpalgorithm\n",
      "  copying cpalgorithm\\qstest.py -> build\\lib.win-amd64-3.7\\cpalgorithm\n",
      "  copying cpalgorithm\\Rombach.py -> build\\lib.win-amd64-3.7\\cpalgorithm\n",
      "  copying cpalgorithm\\Rossa.py -> build\\lib.win-amd64-3.7\\cpalgorithm\n",
      "  copying cpalgorithm\\SBM.py -> build\\lib.win-amd64-3.7\\cpalgorithm\n",
      "  copying cpalgorithm\\Surprise.py -> build\\lib.win-amd64-3.7\\cpalgorithm\n",
      "  copying cpalgorithm\\__init__.py -> build\\lib.win-amd64-3.7\\cpalgorithm\n",
      "  running egg_info\n",
      "  writing cpalgorithm.egg-info\\PKG-INFO\n",
      "  writing dependency_links to cpalgorithm.egg-info\\dependency_links.txt\n",
      "  writing requirements to cpalgorithm.egg-info\\requires.txt\n",
      "  writing top-level names to cpalgorithm.egg-info\\top_level.txt\n",
      "  reading manifest file 'cpalgorithm.egg-info\\SOURCES.txt'\n",
      "  reading manifest template 'MANIFEST.in'\n",
      "  warning: manifest_maker: MANIFEST.in, line 3: path 'pybind11/' cannot end with '/'\n",
      "  \n",
      "  writing manifest file 'cpalgorithm.egg-info\\SOURCES.txt'\n",
      "  running build_ext\n",
      "  building '_cpalgorithm' extension\n",
      "  error: Microsoft Visual C++ 14.0 is required. Get it with \"Microsoft Visual C++ Build Tools\": https://visualstudio.microsoft.com/downloads/\n",
      "  \n",
      "  ----------------------------------------\n",
      "  Running setup.py clean for cpalgorithm\n",
      "Failed to build cpalgorithm\n",
      "Installing collected packages: cpalgorithm\n",
      "  Running setup.py install for cpalgorithm: started\n",
      "    Running setup.py install for cpalgorithm: finished with status 'error'\n",
      "    Complete output from command C:\\Users\\jamesp\\AppData\\Local\\Continuum\\miniconda3\\python.exe -u -c \"import setuptools, tokenize;__file__='C:\\\\Users\\\\jamesp\\\\AppData\\\\Local\\\\Temp\\\\pip-install-lwc_n5xc\\\\cpalgorithm\\\\setup.py';f=getattr(tokenize, 'open', open)(__file__);code=f.read().replace('\\r\\n', '\\n');f.close();exec(compile(code, __file__, 'exec'))\" install --record C:\\Users\\jamesp\\AppData\\Local\\Temp\\pip-record-3prq2naa\\install-record.txt --single-version-externally-managed --compile:\n",
      "    running install\n",
      "    running build\n",
      "    running build_py\n",
      "    creating build\n",
      "    creating build\\lib.win-amd64-3.7\n",
      "    creating build\\lib.win-amd64-3.7\\cpalgorithm\n",
      "    copying cpalgorithm\\BE.py -> build\\lib.win-amd64-3.7\\cpalgorithm\n",
      "    copying cpalgorithm\\CPAlgorithm.py -> build\\lib.win-amd64-3.7\\cpalgorithm\n",
      "    copying cpalgorithm\\Cucuringu.py -> build\\lib.win-amd64-3.7\\cpalgorithm\n",
      "    copying cpalgorithm\\Divisive.py -> build\\lib.win-amd64-3.7\\cpalgorithm\n",
      "    copying cpalgorithm\\KM_config.py -> build\\lib.win-amd64-3.7\\cpalgorithm\n",
      "    copying cpalgorithm\\KM_ER.py -> build\\lib.win-amd64-3.7\\cpalgorithm\n",
      "    copying cpalgorithm\\KM_modmat.py -> build\\lib.win-amd64-3.7\\cpalgorithm\n",
      "    copying cpalgorithm\\MINRES.py -> build\\lib.win-amd64-3.7\\cpalgorithm\n",
      "    copying cpalgorithm\\qstest.py -> build\\lib.win-amd64-3.7\\cpalgorithm\n",
      "    copying cpalgorithm\\Rombach.py -> build\\lib.win-amd64-3.7\\cpalgorithm\n",
      "    copying cpalgorithm\\Rossa.py -> build\\lib.win-amd64-3.7\\cpalgorithm\n",
      "    copying cpalgorithm\\SBM.py -> build\\lib.win-amd64-3.7\\cpalgorithm\n",
      "    copying cpalgorithm\\Surprise.py -> build\\lib.win-amd64-3.7\\cpalgorithm\n",
      "    copying cpalgorithm\\__init__.py -> build\\lib.win-amd64-3.7\\cpalgorithm\n",
      "    running egg_info\n",
      "    writing cpalgorithm.egg-info\\PKG-INFO\n",
      "    writing dependency_links to cpalgorithm.egg-info\\dependency_links.txt\n",
      "    writing requirements to cpalgorithm.egg-info\\requires.txt\n",
      "    writing top-level names to cpalgorithm.egg-info\\top_level.txt\n",
      "    reading manifest file 'cpalgorithm.egg-info\\SOURCES.txt'\n",
      "    reading manifest template 'MANIFEST.in'\n",
      "    warning: manifest_maker: MANIFEST.in, line 3: path 'pybind11/' cannot end with '/'\n",
      "    \n",
      "    writing manifest file 'cpalgorithm.egg-info\\SOURCES.txt'\n",
      "    running build_ext\n",
      "    building '_cpalgorithm' extension\n",
      "    error: Microsoft Visual C++ 14.0 is required. Get it with \"Microsoft Visual C++ Build Tools\": https://visualstudio.microsoft.com/downloads/\n",
      "    \n",
      "    ----------------------------------------\n"
     ]
    },
    {
     "name": "stderr",
     "output_type": "stream",
     "text": [
      "  Failed building wheel for cpalgorithm\n",
      "Command \"C:\\Users\\jamesp\\AppData\\Local\\Continuum\\miniconda3\\python.exe -u -c \"import setuptools, tokenize;__file__='C:\\\\Users\\\\jamesp\\\\AppData\\\\Local\\\\Temp\\\\pip-install-lwc_n5xc\\\\cpalgorithm\\\\setup.py';f=getattr(tokenize, 'open', open)(__file__);code=f.read().replace('\\r\\n', '\\n');f.close();exec(compile(code, __file__, 'exec'))\" install --record C:\\Users\\jamesp\\AppData\\Local\\Temp\\pip-record-3prq2naa\\install-record.txt --single-version-externally-managed --compile\" failed with error code 1 in C:\\Users\\jamesp\\AppData\\Local\\Temp\\pip-install-lwc_n5xc\\cpalgorithm\\\n"
     ]
    },
    {
     "name": "stdout",
     "output_type": "stream",
     "text": [
      "Requirement already satisfied: networkx in c:\\users\\jamesp\\appdata\\local\\continuum\\miniconda3\\lib\\site-packages (2.4)\n",
      "Requirement already satisfied: decorator>=4.3.0 in c:\\users\\jamesp\\appdata\\local\\continuum\\miniconda3\\lib\\site-packages (from networkx) (4.4.0)\n",
      "Requirement already satisfied: seaborn in c:\\users\\jamesp\\appdata\\local\\continuum\\miniconda3\\lib\\site-packages (0.9.0)\n",
      "Requirement already satisfied: pandas>=0.15.2 in c:\\users\\jamesp\\appdata\\local\\continuum\\miniconda3\\lib\\site-packages (from seaborn) (0.25.2)\n",
      "Requirement already satisfied: numpy>=1.9.3 in c:\\users\\jamesp\\appdata\\local\\continuum\\miniconda3\\lib\\site-packages (from seaborn) (1.17.2)\n",
      "Requirement already satisfied: scipy>=0.14.0 in c:\\users\\jamesp\\appdata\\local\\continuum\\miniconda3\\lib\\site-packages (from seaborn) (1.3.1)\n",
      "Requirement already satisfied: matplotlib>=1.4.3 in c:\\users\\jamesp\\appdata\\local\\continuum\\miniconda3\\lib\\site-packages (from seaborn) (3.1.1)\n",
      "Requirement already satisfied: python-dateutil>=2.6.1 in c:\\users\\jamesp\\appdata\\local\\continuum\\miniconda3\\lib\\site-packages (from pandas>=0.15.2->seaborn) (2.8.0)\n",
      "Requirement already satisfied: pytz>=2017.2 in c:\\users\\jamesp\\appdata\\local\\continuum\\miniconda3\\lib\\site-packages (from pandas>=0.15.2->seaborn) (2019.3)\n",
      "Requirement already satisfied: cycler>=0.10 in c:\\users\\jamesp\\appdata\\local\\continuum\\miniconda3\\lib\\site-packages (from matplotlib>=1.4.3->seaborn) (0.10.0)\n",
      "Requirement already satisfied: kiwisolver>=1.0.1 in c:\\users\\jamesp\\appdata\\local\\continuum\\miniconda3\\lib\\site-packages (from matplotlib>=1.4.3->seaborn) (1.1.0)\n",
      "Requirement already satisfied: pyparsing!=2.0.4,!=2.1.2,!=2.1.6,>=2.0.1 in c:\\users\\jamesp\\appdata\\local\\continuum\\miniconda3\\lib\\site-packages (from matplotlib>=1.4.3->seaborn) (2.4.2)\n",
      "Requirement already satisfied: six>=1.5 in c:\\users\\jamesp\\appdata\\local\\continuum\\miniconda3\\lib\\site-packages (from python-dateutil>=2.6.1->pandas>=0.15.2->seaborn) (1.12.0)\n",
      "Requirement already satisfied: setuptools in c:\\users\\jamesp\\appdata\\local\\continuum\\miniconda3\\lib\\site-packages (from kiwisolver>=1.0.1->matplotlib>=1.4.3->seaborn) (41.0.0)\n",
      "Requirement already up-to-date: bokeh in c:\\users\\jamesp\\appdata\\local\\continuum\\miniconda3\\lib\\site-packages (1.3.4)\n",
      "Requirement already satisfied, skipping upgrade: six>=1.5.2 in c:\\users\\jamesp\\appdata\\local\\continuum\\miniconda3\\lib\\site-packages (from bokeh) (1.12.0)\n",
      "Requirement already satisfied, skipping upgrade: pillow>=4.0 in c:\\users\\jamesp\\appdata\\local\\continuum\\miniconda3\\lib\\site-packages (from bokeh) (6.2.0)\n",
      "Requirement already satisfied, skipping upgrade: numpy>=1.7.1 in c:\\users\\jamesp\\appdata\\local\\continuum\\miniconda3\\lib\\site-packages (from bokeh) (1.17.2)\n",
      "Requirement already satisfied, skipping upgrade: packaging>=16.8 in c:\\users\\jamesp\\appdata\\local\\continuum\\miniconda3\\lib\\site-packages (from bokeh) (19.2)\n",
      "Requirement already satisfied, skipping upgrade: python-dateutil>=2.1 in c:\\users\\jamesp\\appdata\\local\\continuum\\miniconda3\\lib\\site-packages (from bokeh) (2.8.0)\n",
      "Requirement already satisfied, skipping upgrade: Jinja2>=2.7 in c:\\users\\jamesp\\appdata\\local\\continuum\\miniconda3\\lib\\site-packages (from bokeh) (2.10.1)\n",
      "Requirement already satisfied, skipping upgrade: PyYAML>=3.10 in c:\\users\\jamesp\\appdata\\local\\continuum\\miniconda3\\lib\\site-packages (from bokeh) (5.1.2)\n",
      "Requirement already satisfied, skipping upgrade: tornado>=4.3 in c:\\users\\jamesp\\appdata\\local\\continuum\\miniconda3\\lib\\site-packages (from bokeh) (6.0.2)\n",
      "Requirement already satisfied, skipping upgrade: pyparsing>=2.0.2 in c:\\users\\jamesp\\appdata\\local\\continuum\\miniconda3\\lib\\site-packages (from packaging>=16.8->bokeh) (2.4.2)\n",
      "Requirement already satisfied, skipping upgrade: MarkupSafe>=0.23 in c:\\users\\jamesp\\appdata\\local\\continuum\\miniconda3\\lib\\site-packages (from Jinja2>=2.7->bokeh) (1.1.1)\n"
     ]
    }
   ],
   "source": [
    "%load_ext autoreload\n",
    "%autoreload 2\n",
    "# install im_tutorial package\n",
    "!pip install git+https://github.com/nestauk/im_tutorials.git\n",
    "!pip install pybind11\n",
    "!pip install cpalgorithm\n",
    "!pip install networkx\n",
    "!pip install seaborn\n",
    "# Needed to make some of the drag and dropping work\n",
    "!pip install -U bokeh"
   ]
  },
  {
   "cell_type": "code",
   "execution_count": 187,
   "metadata": {
    "colab": {},
    "colab_type": "code",
    "id": "SuLMaFMOF3Gr"
   },
   "outputs": [],
   "source": [
    "# importing useful Python utility libraries we'll need\n",
    "from collections import Counter, defaultdict\n",
    "import itertools\n",
    "\n",
    "# matplotlib for static plots\n",
    "import matplotlib.pyplot as plt\n",
    "from matplotlib import pylab\n",
    "\n",
    "# makes the plots prettier\n",
    "import seaborn\n",
    "\n",
    "# numpy for mathematical functions\n",
    "import numpy as np\n",
    "\n",
    "# pandas for handling tabular data\n",
    "import pandas as pd\n",
    "\n",
    "# networkx for the analysis of graphs\n",
    "import networkx as nx\n",
    "\n",
    "#from im_tutorials.utilities import chunks\n",
    "from im_tutorials.data import *\n",
    "\n",
    "# Useful data structure to count occurances\n",
    "from collections import Counter\n",
    "\n",
    "#Iteration lib\n",
    "import itertools as it"
   ]
  },
  {
   "cell_type": "code",
   "execution_count": 209,
   "metadata": {},
   "outputs": [],
   "source": [
    "G = nx.Graph()"
   ]
  },
  {
   "cell_type": "code",
   "execution_count": 210,
   "metadata": {},
   "outputs": [],
   "source": [
    "G.add_nodes_from(nodes_df)"
   ]
  },
  {
   "cell_type": "code",
   "execution_count": 211,
   "metadata": {},
   "outputs": [
    {
     "name": "stdout",
     "output_type": "stream",
     "text": [
      "['BBI-CSA - Bio-based Industries Coordination and Support action', 'BBI-IA-DEMO - Bio-based Industries Innovation action - Demonstration', 'BBI-IA-FLAG - Bio-based Industries Innovation action - Flagship', 'BBI-RIA - Bio-based Industries Research and Innovation action', 'COFUND-EJP - COFUND (European Joint Programme)', 'COFUND-PCP - COFUND (PCP)', 'CS2-CSA - Coordination & support action', 'CS2-IA - Innovation action', 'CS2-RIA - Research and Innovation action', 'CSA - Coordination and support action', 'CSA-LS - CSA Lump sum', 'ECSEL-CSA - ECSEL Coordination & Support action', 'ECSEL-IA - ECSEL Innovation Action', 'ECSEL-RIA - ECSEL Research and Innovation Action', 'ERA-NET-Cofund - ERA-NET Cofund', 'ERC-ADG - Advanced Grant', 'ERC-COG - Consolidator Grant', 'ERC-POC - Proof of Concept Grant', 'ERC-POC-LS - ERC Proof of Concept Lump Sum Pilot', 'ERC-STG - Starting Grant', 'FCH2-CSA - Coordination & support action', 'FCH2-IA - Innovation action', 'FCH2-RIA - Research and Innovation action', 'H2020-EEN-SGA - Specific Grant Agreement Enterprise Europe Network (EEN)', 'IA - Innovation action', 'IA-LS - Innovation action Lump Sum', 'IMI2-CSA - Coordination & support action', 'IMI2-RIA - Research and Innovation action', 'MSCA-COFUND-DP - Doctoral programmes', 'MSCA-COFUND-FP - Fellowship programmes', 'MSCA-IF-EF-CAR - CAR – Career Restart panel', 'MSCA-IF-EF-RI - RI – Reintegration panel', 'MSCA-IF-EF-SE - Society and Enterprise panel', 'MSCA-IF-EF-ST - Standard EF', 'MSCA-IF-GF - Global Fellowships', 'MSCA-ITN-EID - European Industrial Doctorates', 'MSCA-ITN-EJD - European Joint Doctorates', 'MSCA-ITN-ETN - European Training Networks', 'MSCA-RISE - Marie Skłodowska-Curie Research and Innovation Staff Exchange (RISE)', 'PCP - Pre-Commercial Procurement', 'RIA - Research and Innovation action', 'SESAR-CSA - Coordination and Support Action', 'SESAR-IA - Innovation action', 'SESAR-RIA - Research and Innovation action', 'SGA-RIA - SGA-RIA', 'SME-1 - SME instrument phase 1', 'SME-2 - SME instrument phase 2', 'Shift2Rail-CSA - Coordination and Support Action', 'Shift2Rail-IA - Innovation action', 'Shift2Rail-IA-LS - Innovation Action Lump-Sum', 'Shift2Rail-RIA - Research and Innovation action', 'Shift2Rail-RIA-LS - Shift2Rail Research and Innovation Action Lump-Sum', 'PPI - Public Procurement of Innovative solutions', 'SGA-CSA - Specific Grant agreement and Coordination and Support Action', 'RIA-LS - Research and Innovation action Lump Sum']\n"
     ]
    }
   ],
   "source": [
    "print(G.nodes())"
   ]
  },
  {
   "cell_type": "code",
   "execution_count": 212,
   "metadata": {},
   "outputs": [
    {
     "data": {
      "text/html": [
       "<div>\n",
       "<style scoped>\n",
       "    .dataframe tbody tr th:only-of-type {\n",
       "        vertical-align: middle;\n",
       "    }\n",
       "\n",
       "    .dataframe tbody tr th {\n",
       "        vertical-align: top;\n",
       "    }\n",
       "\n",
       "    .dataframe thead th {\n",
       "        text-align: right;\n",
       "    }\n",
       "</style>\n",
       "<table border=\"1\" class=\"dataframe\">\n",
       "  <thead>\n",
       "    <tr style=\"text-align: right;\">\n",
       "      <th></th>\n",
       "      <th>0</th>\n",
       "      <th>1</th>\n",
       "    </tr>\n",
       "  </thead>\n",
       "  <tbody>\n",
       "    <tr>\n",
       "      <th>0</th>\n",
       "      <td>BBI-CSA - Bio-based Industries Coordination an...</td>\n",
       "      <td>BBI-IA-DEMO - Bio-based Industries Innovation ...</td>\n",
       "    </tr>\n",
       "    <tr>\n",
       "      <th>1</th>\n",
       "      <td>BBI-CSA - Bio-based Industries Coordination an...</td>\n",
       "      <td>BBI-RIA - Bio-based Industries Research and In...</td>\n",
       "    </tr>\n",
       "    <tr>\n",
       "      <th>2</th>\n",
       "      <td>BBI-CSA - Bio-based Industries Coordination an...</td>\n",
       "      <td>CSA - Coordination and support action</td>\n",
       "    </tr>\n",
       "    <tr>\n",
       "      <th>3</th>\n",
       "      <td>BBI-CSA - Bio-based Industries Coordination an...</td>\n",
       "      <td>IA - Innovation action</td>\n",
       "    </tr>\n",
       "    <tr>\n",
       "      <th>4</th>\n",
       "      <td>BBI-CSA - Bio-based Industries Coordination an...</td>\n",
       "      <td>RIA - Research and Innovation action</td>\n",
       "    </tr>\n",
       "    <tr>\n",
       "      <th>...</th>\n",
       "      <td>...</td>\n",
       "      <td>...</td>\n",
       "    </tr>\n",
       "    <tr>\n",
       "      <th>395</th>\n",
       "      <td>Shift2Rail-IA-LS - Innovation Action Lump-Sum</td>\n",
       "      <td>Shift2Rail-RIA - Research and Innovation action</td>\n",
       "    </tr>\n",
       "    <tr>\n",
       "      <th>396</th>\n",
       "      <td>Shift2Rail-IA-LS - Innovation Action Lump-Sum</td>\n",
       "      <td>Shift2Rail-RIA-LS - Shift2Rail Research and In...</td>\n",
       "    </tr>\n",
       "    <tr>\n",
       "      <th>397</th>\n",
       "      <td>Shift2Rail-RIA - Research and Innovation action</td>\n",
       "      <td>Shift2Rail-RIA - Research and Innovation action</td>\n",
       "    </tr>\n",
       "    <tr>\n",
       "      <th>398</th>\n",
       "      <td>Shift2Rail-RIA - Research and Innovation action</td>\n",
       "      <td>Shift2Rail-RIA-LS - Shift2Rail Research and In...</td>\n",
       "    </tr>\n",
       "    <tr>\n",
       "      <th>399</th>\n",
       "      <td>Shift2Rail-RIA-LS - Shift2Rail Research and In...</td>\n",
       "      <td>Shift2Rail-RIA-LS - Shift2Rail Research and In...</td>\n",
       "    </tr>\n",
       "  </tbody>\n",
       "</table>\n",
       "<p>400 rows × 2 columns</p>\n",
       "</div>"
      ],
      "text/plain": [
       "                                                     0  \\\n",
       "0    BBI-CSA - Bio-based Industries Coordination an...   \n",
       "1    BBI-CSA - Bio-based Industries Coordination an...   \n",
       "2    BBI-CSA - Bio-based Industries Coordination an...   \n",
       "3    BBI-CSA - Bio-based Industries Coordination an...   \n",
       "4    BBI-CSA - Bio-based Industries Coordination an...   \n",
       "..                                                 ...   \n",
       "395      Shift2Rail-IA-LS - Innovation Action Lump-Sum   \n",
       "396      Shift2Rail-IA-LS - Innovation Action Lump-Sum   \n",
       "397    Shift2Rail-RIA - Research and Innovation action   \n",
       "398    Shift2Rail-RIA - Research and Innovation action   \n",
       "399  Shift2Rail-RIA-LS - Shift2Rail Research and In...   \n",
       "\n",
       "                                                     1  \n",
       "0    BBI-IA-DEMO - Bio-based Industries Innovation ...  \n",
       "1    BBI-RIA - Bio-based Industries Research and In...  \n",
       "2                CSA - Coordination and support action  \n",
       "3                               IA - Innovation action  \n",
       "4                 RIA - Research and Innovation action  \n",
       "..                                                 ...  \n",
       "395    Shift2Rail-RIA - Research and Innovation action  \n",
       "396  Shift2Rail-RIA-LS - Shift2Rail Research and In...  \n",
       "397    Shift2Rail-RIA - Research and Innovation action  \n",
       "398  Shift2Rail-RIA-LS - Shift2Rail Research and In...  \n",
       "399  Shift2Rail-RIA-LS - Shift2Rail Research and In...  \n",
       "\n",
       "[400 rows x 2 columns]"
      ]
     },
     "execution_count": 212,
     "metadata": {},
     "output_type": "execute_result"
    }
   ],
   "source": [
    "edges_df[[0,1]]"
   ]
  },
  {
   "cell_type": "code",
   "execution_count": 213,
   "metadata": {},
   "outputs": [],
   "source": [
    "G.add_edges_from(edges_df[[0,1]].values.tolist())"
   ]
  },
  {
   "cell_type": "code",
   "execution_count": 214,
   "metadata": {},
   "outputs": [
    {
     "name": "stdout",
     "output_type": "stream",
     "text": [
      "[('BBI-CSA - Bio-based Industries Coordination and Support action', 'BBI-IA-DEMO - Bio-based Industries Innovation action - Demonstration'), ('BBI-CSA - Bio-based Industries Coordination and Support action', 'BBI-RIA - Bio-based Industries Research and Innovation action'), ('BBI-CSA - Bio-based Industries Coordination and Support action', 'CSA - Coordination and support action'), ('BBI-CSA - Bio-based Industries Coordination and Support action', 'IA - Innovation action'), ('BBI-CSA - Bio-based Industries Coordination and Support action', 'RIA - Research and Innovation action'), ('BBI-IA-DEMO - Bio-based Industries Innovation action - Demonstration', 'BBI-IA-DEMO - Bio-based Industries Innovation action - Demonstration'), ('BBI-IA-DEMO - Bio-based Industries Innovation action - Demonstration', 'BBI-IA-FLAG - Bio-based Industries Innovation action - Flagship'), ('BBI-IA-DEMO - Bio-based Industries Innovation action - Demonstration', 'BBI-RIA - Bio-based Industries Research and Innovation action'), ('BBI-IA-DEMO - Bio-based Industries Innovation action - Demonstration', 'CSA - Coordination and support action'), ('BBI-IA-DEMO - Bio-based Industries Innovation action - Demonstration', 'ECSEL-IA - ECSEL Innovation Action'), ('BBI-IA-DEMO - Bio-based Industries Innovation action - Demonstration', 'ECSEL-RIA - ECSEL Research and Innovation Action'), ('BBI-IA-DEMO - Bio-based Industries Innovation action - Demonstration', 'IA - Innovation action'), ('BBI-IA-DEMO - Bio-based Industries Innovation action - Demonstration', 'MSCA-COFUND-DP - Doctoral programmes'), ('BBI-IA-DEMO - Bio-based Industries Innovation action - Demonstration', 'MSCA-IF-EF-SE - Society and Enterprise panel'), ('BBI-IA-DEMO - Bio-based Industries Innovation action - Demonstration', 'MSCA-ITN-EID - European Industrial Doctorates'), ('BBI-IA-DEMO - Bio-based Industries Innovation action - Demonstration', 'MSCA-ITN-EJD - European Joint Doctorates'), ('BBI-IA-DEMO - Bio-based Industries Innovation action - Demonstration', 'MSCA-ITN-ETN - European Training Networks'), ('BBI-IA-DEMO - Bio-based Industries Innovation action - Demonstration', 'MSCA-RISE - Marie Skłodowska-Curie Research and Innovation Staff Exchange (RISE)'), ('BBI-IA-DEMO - Bio-based Industries Innovation action - Demonstration', 'RIA - Research and Innovation action'), ('BBI-IA-DEMO - Bio-based Industries Innovation action - Demonstration', 'SGA-RIA - SGA-RIA'), ('BBI-IA-DEMO - Bio-based Industries Innovation action - Demonstration', 'SME-1 - SME instrument phase 1'), ('BBI-IA-DEMO - Bio-based Industries Innovation action - Demonstration', 'SME-2 - SME instrument phase 2'), ('BBI-IA-DEMO - Bio-based Industries Innovation action - Demonstration', 'Shift2Rail-RIA - Research and Innovation action'), ('BBI-IA-FLAG - Bio-based Industries Innovation action - Flagship', 'BBI-RIA - Bio-based Industries Research and Innovation action'), ('BBI-IA-FLAG - Bio-based Industries Innovation action - Flagship', 'CSA - Coordination and support action'), ('BBI-IA-FLAG - Bio-based Industries Innovation action - Flagship', 'ECSEL-IA - ECSEL Innovation Action'), ('BBI-IA-FLAG - Bio-based Industries Innovation action - Flagship', 'IA - Innovation action'), ('BBI-IA-FLAG - Bio-based Industries Innovation action - Flagship', 'MSCA-IF-EF-SE - Society and Enterprise panel'), ('BBI-IA-FLAG - Bio-based Industries Innovation action - Flagship', 'MSCA-ITN-EID - European Industrial Doctorates'), ('BBI-IA-FLAG - Bio-based Industries Innovation action - Flagship', 'MSCA-ITN-ETN - European Training Networks'), ('BBI-IA-FLAG - Bio-based Industries Innovation action - Flagship', 'MSCA-RISE - Marie Skłodowska-Curie Research and Innovation Staff Exchange (RISE)'), ('BBI-IA-FLAG - Bio-based Industries Innovation action - Flagship', 'RIA - Research and Innovation action'), ('BBI-IA-FLAG - Bio-based Industries Innovation action - Flagship', 'SME-2 - SME instrument phase 2'), ('BBI-RIA - Bio-based Industries Research and Innovation action', 'BBI-RIA - Bio-based Industries Research and Innovation action'), ('BBI-RIA - Bio-based Industries Research and Innovation action', 'CS2-RIA - Research and Innovation action'), ('BBI-RIA - Bio-based Industries Research and Innovation action', 'CSA - Coordination and support action'), ('BBI-RIA - Bio-based Industries Research and Innovation action', 'ECSEL-IA - ECSEL Innovation Action'), ('BBI-RIA - Bio-based Industries Research and Innovation action', 'ECSEL-RIA - ECSEL Research and Innovation Action'), ('BBI-RIA - Bio-based Industries Research and Innovation action', 'FCH2-RIA - Research and Innovation action'), ('BBI-RIA - Bio-based Industries Research and Innovation action', 'IA - Innovation action'), ('BBI-RIA - Bio-based Industries Research and Innovation action', 'MSCA-COFUND-DP - Doctoral programmes'), ('BBI-RIA - Bio-based Industries Research and Innovation action', 'MSCA-ITN-EID - European Industrial Doctorates'), ('BBI-RIA - Bio-based Industries Research and Innovation action', 'MSCA-ITN-EJD - European Joint Doctorates'), ('BBI-RIA - Bio-based Industries Research and Innovation action', 'MSCA-ITN-ETN - European Training Networks'), ('BBI-RIA - Bio-based Industries Research and Innovation action', 'MSCA-RISE - Marie Skłodowska-Curie Research and Innovation Staff Exchange (RISE)'), ('BBI-RIA - Bio-based Industries Research and Innovation action', 'RIA - Research and Innovation action'), ('BBI-RIA - Bio-based Industries Research and Innovation action', 'SME-1 - SME instrument phase 1'), ('BBI-RIA - Bio-based Industries Research and Innovation action', 'SME-2 - SME instrument phase 2'), ('COFUND-EJP - COFUND (European Joint Programme)', 'CSA - Coordination and support action'), ('COFUND-EJP - COFUND (European Joint Programme)', 'IA - Innovation action'), ('COFUND-EJP - COFUND (European Joint Programme)', 'IMI2-RIA - Research and Innovation action'), ('COFUND-EJP - COFUND (European Joint Programme)', 'RIA - Research and Innovation action'), ('COFUND-PCP - COFUND (PCP)', 'CSA - Coordination and support action'), ('COFUND-PCP - COFUND (PCP)', 'H2020-EEN-SGA - Specific Grant Agreement Enterprise Europe Network (EEN)'), ('COFUND-PCP - COFUND (PCP)', 'IA - Innovation action'), ('COFUND-PCP - COFUND (PCP)', 'PCP - Pre-Commercial Procurement'), ('COFUND-PCP - COFUND (PCP)', 'RIA - Research and Innovation action'), ('CS2-CSA - Coordination & support action', 'CS2-CSA - Coordination & support action'), ('CS2-IA - Innovation action', 'CS2-IA - Innovation action'), ('CS2-IA - Innovation action', 'CS2-RIA - Research and Innovation action'), ('CS2-IA - Innovation action', 'CSA - Coordination and support action'), ('CS2-IA - Innovation action', 'CSA-LS - CSA Lump sum'), ('CS2-IA - Innovation action', 'ECSEL-IA - ECSEL Innovation Action'), ('CS2-IA - Innovation action', 'ECSEL-RIA - ECSEL Research and Innovation Action'), ('CS2-IA - Innovation action', 'ERC-STG - Starting Grant'), ('CS2-IA - Innovation action', 'FCH2-IA - Innovation action'), ('CS2-IA - Innovation action', 'FCH2-RIA - Research and Innovation action'), ('CS2-IA - Innovation action', 'IA - Innovation action'), ('CS2-IA - Innovation action', 'MSCA-COFUND-DP - Doctoral programmes'), ('CS2-IA - Innovation action', 'MSCA-IF-EF-SE - Society and Enterprise panel'), ('CS2-IA - Innovation action', 'MSCA-ITN-EID - European Industrial Doctorates'), ('CS2-IA - Innovation action', 'MSCA-ITN-ETN - European Training Networks'), ('CS2-IA - Innovation action', 'MSCA-RISE - Marie Skłodowska-Curie Research and Innovation Staff Exchange (RISE)'), ('CS2-IA - Innovation action', 'RIA - Research and Innovation action'), ('CS2-IA - Innovation action', 'SESAR-IA - Innovation action'), ('CS2-IA - Innovation action', 'SESAR-RIA - Research and Innovation action'), ('CS2-IA - Innovation action', 'SME-1 - SME instrument phase 1'), ('CS2-IA - Innovation action', 'SME-2 - SME instrument phase 2'), ('CS2-IA - Innovation action', 'Shift2Rail-IA - Innovation action'), ('CS2-IA - Innovation action', 'Shift2Rail-RIA - Research and Innovation action'), ('CS2-RIA - Research and Innovation action', 'CS2-RIA - Research and Innovation action'), ('CS2-RIA - Research and Innovation action', 'CSA - Coordination and support action'), ('CS2-RIA - Research and Innovation action', 'ECSEL-IA - ECSEL Innovation Action'), ('CS2-RIA - Research and Innovation action', 'ECSEL-RIA - ECSEL Research and Innovation Action'), ('CS2-RIA - Research and Innovation action', 'FCH2-IA - Innovation action'), ('CS2-RIA - Research and Innovation action', 'FCH2-RIA - Research and Innovation action'), ('CS2-RIA - Research and Innovation action', 'IA - Innovation action'), ('CS2-RIA - Research and Innovation action', 'MSCA-ITN-EID - European Industrial Doctorates'), ('CS2-RIA - Research and Innovation action', 'MSCA-ITN-EJD - European Joint Doctorates'), ('CS2-RIA - Research and Innovation action', 'MSCA-ITN-ETN - European Training Networks'), ('CS2-RIA - Research and Innovation action', 'MSCA-RISE - Marie Skłodowska-Curie Research and Innovation Staff Exchange (RISE)'), ('CS2-RIA - Research and Innovation action', 'RIA - Research and Innovation action'), ('CS2-RIA - Research and Innovation action', 'SESAR-IA - Innovation action'), ('CS2-RIA - Research and Innovation action', 'SESAR-RIA - Research and Innovation action'), ('CS2-RIA - Research and Innovation action', 'SME-1 - SME instrument phase 1'), ('CS2-RIA - Research and Innovation action', 'SME-2 - SME instrument phase 2'), ('CS2-RIA - Research and Innovation action', 'Shift2Rail-RIA - Research and Innovation action'), ('CSA - Coordination and support action', 'CSA - Coordination and support action'), ('CSA - Coordination and support action', 'CSA-LS - CSA Lump sum'), ('CSA - Coordination and support action', 'ECSEL-CSA - ECSEL Coordination & Support action'), ('CSA - Coordination and support action', 'ECSEL-IA - ECSEL Innovation Action'), ('CSA - Coordination and support action', 'ECSEL-RIA - ECSEL Research and Innovation Action'), ('CSA - Coordination and support action', 'ERA-NET-Cofund - ERA-NET Cofund'), ('CSA - Coordination and support action', 'ERC-POC - Proof of Concept Grant'), ('CSA - Coordination and support action', 'ERC-STG - Starting Grant'), ('CSA - Coordination and support action', 'FCH2-CSA - Coordination & support action'), ('CSA - Coordination and support action', 'FCH2-IA - Innovation action'), ('CSA - Coordination and support action', 'FCH2-RIA - Research and Innovation action'), ('CSA - Coordination and support action', 'H2020-EEN-SGA - Specific Grant Agreement Enterprise Europe Network (EEN)'), ('CSA - Coordination and support action', 'IA - Innovation action'), ('CSA - Coordination and support action', 'IMI2-RIA - Research and Innovation action'), ('CSA - Coordination and support action', 'MSCA-COFUND-DP - Doctoral programmes'), ('CSA - Coordination and support action', 'MSCA-COFUND-FP - Fellowship programmes'), ('CSA - Coordination and support action', 'MSCA-IF-EF-SE - Society and Enterprise panel'), ('CSA - Coordination and support action', 'MSCA-ITN-EID - European Industrial Doctorates'), ('CSA - Coordination and support action', 'MSCA-ITN-EJD - European Joint Doctorates'), ('CSA - Coordination and support action', 'MSCA-ITN-ETN - European Training Networks'), ('CSA - Coordination and support action', 'MSCA-RISE - Marie Skłodowska-Curie Research and Innovation Staff Exchange (RISE)'), ('CSA - Coordination and support action', 'PCP - Pre-Commercial Procurement'), ('CSA - Coordination and support action', 'PPI - Public Procurement of Innovative solutions'), ('CSA - Coordination and support action', 'RIA - Research and Innovation action'), ('CSA - Coordination and support action', 'SESAR-IA - Innovation action'), ('CSA - Coordination and support action', 'SESAR-RIA - Research and Innovation action'), ('CSA - Coordination and support action', 'SGA-RIA - SGA-RIA'), ('CSA - Coordination and support action', 'SME-1 - SME instrument phase 1'), ('CSA - Coordination and support action', 'SME-2 - SME instrument phase 2'), ('CSA - Coordination and support action', 'Shift2Rail-RIA - Research and Innovation action'), ('CSA-LS - CSA Lump sum', 'CSA-LS - CSA Lump sum'), ('CSA-LS - CSA Lump sum', 'H2020-EEN-SGA - Specific Grant Agreement Enterprise Europe Network (EEN)'), ('CSA-LS - CSA Lump sum', 'IA - Innovation action'), ('CSA-LS - CSA Lump sum', 'RIA - Research and Innovation action'), ('ECSEL-CSA - ECSEL Coordination & Support action', 'ECSEL-RIA - ECSEL Research and Innovation Action'), ('ECSEL-CSA - ECSEL Coordination & Support action', 'IA - Innovation action'), ('ECSEL-CSA - ECSEL Coordination & Support action', 'IMI2-RIA - Research and Innovation action'), ('ECSEL-CSA - ECSEL Coordination & Support action', 'MSCA-ITN-ETN - European Training Networks'), ('ECSEL-CSA - ECSEL Coordination & Support action', 'RIA - Research and Innovation action'), ('ECSEL-IA - ECSEL Innovation Action', 'ECSEL-IA - ECSEL Innovation Action'), ('ECSEL-IA - ECSEL Innovation Action', 'ECSEL-RIA - ECSEL Research and Innovation Action'), ('ECSEL-IA - ECSEL Innovation Action', 'FCH2-IA - Innovation action'), ('ECSEL-IA - ECSEL Innovation Action', 'FCH2-RIA - Research and Innovation action'), ('ECSEL-IA - ECSEL Innovation Action', 'IA - Innovation action'), ('ECSEL-IA - ECSEL Innovation Action', 'IMI2-RIA - Research and Innovation action'), ('ECSEL-IA - ECSEL Innovation Action', 'MSCA-COFUND-DP - Doctoral programmes'), ('ECSEL-IA - ECSEL Innovation Action', 'MSCA-IF-EF-RI - RI – Reintegration panel'), ('ECSEL-IA - ECSEL Innovation Action', 'MSCA-ITN-EID - European Industrial Doctorates'), ('ECSEL-IA - ECSEL Innovation Action', 'MSCA-ITN-EJD - European Joint Doctorates'), ('ECSEL-IA - ECSEL Innovation Action', 'MSCA-ITN-ETN - European Training Networks'), ('ECSEL-IA - ECSEL Innovation Action', 'MSCA-RISE - Marie Skłodowska-Curie Research and Innovation Staff Exchange (RISE)'), ('ECSEL-IA - ECSEL Innovation Action', 'RIA - Research and Innovation action'), ('ECSEL-IA - ECSEL Innovation Action', 'SESAR-IA - Innovation action'), ('ECSEL-IA - ECSEL Innovation Action', 'SESAR-RIA - Research and Innovation action'), ('ECSEL-IA - ECSEL Innovation Action', 'SGA-RIA - SGA-RIA'), ('ECSEL-IA - ECSEL Innovation Action', 'SME-1 - SME instrument phase 1'), ('ECSEL-IA - ECSEL Innovation Action', 'SME-2 - SME instrument phase 2'), ('ECSEL-IA - ECSEL Innovation Action', 'Shift2Rail-RIA - Research and Innovation action'), ('ECSEL-RIA - ECSEL Research and Innovation Action', 'ECSEL-RIA - ECSEL Research and Innovation Action'), ('ECSEL-RIA - ECSEL Research and Innovation Action', 'FCH2-IA - Innovation action'), ('ECSEL-RIA - ECSEL Research and Innovation Action', 'FCH2-RIA - Research and Innovation action'), ('ECSEL-RIA - ECSEL Research and Innovation Action', 'IA - Innovation action'), ('ECSEL-RIA - ECSEL Research and Innovation Action', 'IA-LS - Innovation action Lump Sum'), ('ECSEL-RIA - ECSEL Research and Innovation Action', 'MSCA-COFUND-DP - Doctoral programmes'), ('ECSEL-RIA - ECSEL Research and Innovation Action', 'MSCA-IF-EF-RI - RI – Reintegration panel'), ('ECSEL-RIA - ECSEL Research and Innovation Action', 'MSCA-IF-EF-SE - Society and Enterprise panel'), ('ECSEL-RIA - ECSEL Research and Innovation Action', 'MSCA-ITN-EID - European Industrial Doctorates'), ('ECSEL-RIA - ECSEL Research and Innovation Action', 'MSCA-ITN-EJD - European Joint Doctorates'), ('ECSEL-RIA - ECSEL Research and Innovation Action', 'MSCA-ITN-ETN - European Training Networks'), ('ECSEL-RIA - ECSEL Research and Innovation Action', 'MSCA-RISE - Marie Skłodowska-Curie Research and Innovation Staff Exchange (RISE)'), ('ECSEL-RIA - ECSEL Research and Innovation Action', 'RIA - Research and Innovation action'), ('ECSEL-RIA - ECSEL Research and Innovation Action', 'SESAR-RIA - Research and Innovation action'), ('ECSEL-RIA - ECSEL Research and Innovation Action', 'SGA-CSA - Specific Grant agreement and Coordination and Support Action'), ('ECSEL-RIA - ECSEL Research and Innovation Action', 'SGA-RIA - SGA-RIA'), ('ECSEL-RIA - ECSEL Research and Innovation Action', 'SME-1 - SME instrument phase 1'), ('ECSEL-RIA - ECSEL Research and Innovation Action', 'SME-2 - SME instrument phase 2'), ('ECSEL-RIA - ECSEL Research and Innovation Action', 'Shift2Rail-IA-LS - Innovation Action Lump-Sum'), ('ECSEL-RIA - ECSEL Research and Innovation Action', 'Shift2Rail-RIA - Research and Innovation action'), ('ERA-NET-Cofund - ERA-NET Cofund', 'ERA-NET-Cofund - ERA-NET Cofund'), ('ERA-NET-Cofund - ERA-NET Cofund', 'H2020-EEN-SGA - Specific Grant Agreement Enterprise Europe Network (EEN)'), ('ERA-NET-Cofund - ERA-NET Cofund', 'IA - Innovation action'), ('ERA-NET-Cofund - ERA-NET Cofund', 'MSCA-ITN-ETN - European Training Networks'), ('ERC-ADG - Advanced Grant', 'ERC-ADG - Advanced Grant'), ('ERC-ADG - Advanced Grant', 'ERC-POC - Proof of Concept Grant'), ('ERC-ADG - Advanced Grant', 'ERC-STG - Starting Grant'), ('ERC-ADG - Advanced Grant', 'IMI2-RIA - Research and Innovation action'), ('ERC-ADG - Advanced Grant', 'MSCA-IF-EF-SE - Society and Enterprise panel'), ('ERC-ADG - Advanced Grant', 'MSCA-IF-EF-ST - Standard EF'), ('ERC-ADG - Advanced Grant', 'MSCA-ITN-ETN - European Training Networks'), ('ERC-ADG - Advanced Grant', 'RIA - Research and Innovation action'), ('ERC-ADG - Advanced Grant', 'SME-1 - SME instrument phase 1'), ('ERC-COG - Consolidator Grant', 'ERC-COG - Consolidator Grant'), ('ERC-COG - Consolidator Grant', 'ERC-POC - Proof of Concept Grant'), ('ERC-COG - Consolidator Grant', 'ERC-STG - Starting Grant'), ('ERC-COG - Consolidator Grant', 'IMI2-RIA - Research and Innovation action'), ('ERC-COG - Consolidator Grant', 'MSCA-COFUND-FP - Fellowship programmes'), ('ERC-COG - Consolidator Grant', 'MSCA-IF-EF-SE - Society and Enterprise panel'), ('ERC-COG - Consolidator Grant', 'MSCA-IF-EF-ST - Standard EF'), ('ERC-COG - Consolidator Grant', 'MSCA-ITN-ETN - European Training Networks'), ('ERC-COG - Consolidator Grant', 'RIA - Research and Innovation action'), ('ERC-POC - Proof of Concept Grant', 'ERC-POC - Proof of Concept Grant'), ('ERC-POC - Proof of Concept Grant', 'IA - Innovation action'), ('ERC-POC - Proof of Concept Grant', 'MSCA-COFUND-DP - Doctoral programmes'), ('ERC-POC - Proof of Concept Grant', 'MSCA-IF-EF-SE - Society and Enterprise panel'), ('ERC-POC - Proof of Concept Grant', 'MSCA-IF-EF-ST - Standard EF'), ('ERC-POC - Proof of Concept Grant', 'MSCA-ITN-ETN - European Training Networks'), ('ERC-POC - Proof of Concept Grant', 'MSCA-RISE - Marie Skłodowska-Curie Research and Innovation Staff Exchange (RISE)'), ('ERC-POC - Proof of Concept Grant', 'RIA - Research and Innovation action'), ('ERC-POC - Proof of Concept Grant', 'SME-1 - SME instrument phase 1'), ('ERC-POC-LS - ERC Proof of Concept Lump Sum Pilot', 'IA - Innovation action'), ('ERC-STG - Starting Grant', 'MSCA-IF-EF-SE - Society and Enterprise panel'), ('ERC-STG - Starting Grant', 'MSCA-IF-EF-ST - Standard EF'), ('ERC-STG - Starting Grant', 'MSCA-ITN-EID - European Industrial Doctorates'), ('ERC-STG - Starting Grant', 'MSCA-ITN-ETN - European Training Networks'), ('ERC-STG - Starting Grant', 'MSCA-RISE - Marie Skłodowska-Curie Research and Innovation Staff Exchange (RISE)'), ('ERC-STG - Starting Grant', 'RIA - Research and Innovation action'), ('ERC-STG - Starting Grant', 'SGA-RIA - SGA-RIA'), ('ERC-STG - Starting Grant', 'Shift2Rail-IA - Innovation action'), ('FCH2-CSA - Coordination & support action', 'FCH2-IA - Innovation action'), ('FCH2-CSA - Coordination & support action', 'FCH2-RIA - Research and Innovation action'), ('FCH2-CSA - Coordination & support action', 'H2020-EEN-SGA - Specific Grant Agreement Enterprise Europe Network (EEN)'), ('FCH2-CSA - Coordination & support action', 'IA - Innovation action'), ('FCH2-CSA - Coordination & support action', 'RIA - Research and Innovation action'), ('FCH2-IA - Innovation action', 'FCH2-IA - Innovation action'), ('FCH2-IA - Innovation action', 'FCH2-RIA - Research and Innovation action'), ('FCH2-IA - Innovation action', 'IA - Innovation action'), ('FCH2-IA - Innovation action', 'MSCA-COFUND-DP - Doctoral programmes'), ('FCH2-IA - Innovation action', 'MSCA-ITN-ETN - European Training Networks'), ('FCH2-IA - Innovation action', 'MSCA-RISE - Marie Skłodowska-Curie Research and Innovation Staff Exchange (RISE)'), ('FCH2-IA - Innovation action', 'RIA - Research and Innovation action'), ('FCH2-IA - Innovation action', 'SME-1 - SME instrument phase 1'), ('FCH2-RIA - Research and Innovation action', 'FCH2-RIA - Research and Innovation action'), ('FCH2-RIA - Research and Innovation action', 'H2020-EEN-SGA - Specific Grant Agreement Enterprise Europe Network (EEN)'), ('FCH2-RIA - Research and Innovation action', 'IA - Innovation action'), ('FCH2-RIA - Research and Innovation action', 'MSCA-ITN-EID - European Industrial Doctorates'), ('FCH2-RIA - Research and Innovation action', 'MSCA-ITN-ETN - European Training Networks'), ('FCH2-RIA - Research and Innovation action', 'MSCA-RISE - Marie Skłodowska-Curie Research and Innovation Staff Exchange (RISE)'), ('FCH2-RIA - Research and Innovation action', 'RIA - Research and Innovation action'), ('FCH2-RIA - Research and Innovation action', 'SESAR-RIA - Research and Innovation action'), ('FCH2-RIA - Research and Innovation action', 'SME-1 - SME instrument phase 1'), ('FCH2-RIA - Research and Innovation action', 'SME-2 - SME instrument phase 2'), ('FCH2-RIA - Research and Innovation action', 'Shift2Rail-RIA - Research and Innovation action'), ('H2020-EEN-SGA - Specific Grant Agreement Enterprise Europe Network (EEN)', 'H2020-EEN-SGA - Specific Grant Agreement Enterprise Europe Network (EEN)'), ('H2020-EEN-SGA - Specific Grant Agreement Enterprise Europe Network (EEN)', 'IA - Innovation action'), ('H2020-EEN-SGA - Specific Grant Agreement Enterprise Europe Network (EEN)', 'MSCA-ITN-ETN - European Training Networks'), ('H2020-EEN-SGA - Specific Grant Agreement Enterprise Europe Network (EEN)', 'MSCA-RISE - Marie Skłodowska-Curie Research and Innovation Staff Exchange (RISE)'), ('H2020-EEN-SGA - Specific Grant Agreement Enterprise Europe Network (EEN)', 'PCP - Pre-Commercial Procurement'), ('H2020-EEN-SGA - Specific Grant Agreement Enterprise Europe Network (EEN)', 'RIA - Research and Innovation action'), ('IA - Innovation action', 'IA - Innovation action'), ('IA - Innovation action', 'IA-LS - Innovation action Lump Sum'), ('IA - Innovation action', 'IMI2-CSA - Coordination & support action'), ('IA - Innovation action', 'IMI2-RIA - Research and Innovation action'), ('IA - Innovation action', 'MSCA-COFUND-DP - Doctoral programmes'), ('IA - Innovation action', 'MSCA-COFUND-FP - Fellowship programmes'), ('IA - Innovation action', 'MSCA-IF-EF-RI - RI – Reintegration panel'), ('IA - Innovation action', 'MSCA-IF-EF-SE - Society and Enterprise panel'), ('IA - Innovation action', 'MSCA-IF-EF-ST - Standard EF'), ('IA - Innovation action', 'MSCA-ITN-EID - European Industrial Doctorates'), ('IA - Innovation action', 'MSCA-ITN-EJD - European Joint Doctorates'), ('IA - Innovation action', 'MSCA-ITN-ETN - European Training Networks'), ('IA - Innovation action', 'MSCA-RISE - Marie Skłodowska-Curie Research and Innovation Staff Exchange (RISE)'), ('IA - Innovation action', 'PCP - Pre-Commercial Procurement'), ('IA - Innovation action', 'RIA - Research and Innovation action'), ('IA - Innovation action', 'RIA-LS - Research and Innovation action Lump Sum'), ('IA - Innovation action', 'SESAR-CSA - Coordination and Support Action'), ('IA - Innovation action', 'SESAR-IA - Innovation action'), ('IA - Innovation action', 'SESAR-RIA - Research and Innovation action'), ('IA - Innovation action', 'SGA-RIA - SGA-RIA'), ('IA - Innovation action', 'SME-1 - SME instrument phase 1'), ('IA - Innovation action', 'SME-2 - SME instrument phase 2'), ('IA - Innovation action', 'Shift2Rail-CSA - Coordination and Support Action'), ('IA - Innovation action', 'Shift2Rail-IA - Innovation action'), ('IA - Innovation action', 'Shift2Rail-IA-LS - Innovation Action Lump-Sum'), ('IA - Innovation action', 'Shift2Rail-RIA - Research and Innovation action'), ('IA-LS - Innovation action Lump Sum', 'RIA - Research and Innovation action'), ('IA-LS - Innovation action Lump Sum', 'SME-1 - SME instrument phase 1'), ('IMI2-CSA - Coordination & support action', 'IMI2-RIA - Research and Innovation action'), ('IMI2-CSA - Coordination & support action', 'MSCA-ITN-EJD - European Joint Doctorates'), ('IMI2-CSA - Coordination & support action', 'MSCA-ITN-ETN - European Training Networks'), ('IMI2-CSA - Coordination & support action', 'MSCA-RISE - Marie Skłodowska-Curie Research and Innovation Staff Exchange (RISE)'), ('IMI2-CSA - Coordination & support action', 'RIA - Research and Innovation action'), ('IMI2-RIA - Research and Innovation action', 'IMI2-RIA - Research and Innovation action'), ('IMI2-RIA - Research and Innovation action', 'MSCA-COFUND-FP - Fellowship programmes'), ('IMI2-RIA - Research and Innovation action', 'MSCA-IF-EF-SE - Society and Enterprise panel'), ('IMI2-RIA - Research and Innovation action', 'MSCA-ITN-EID - European Industrial Doctorates'), ('IMI2-RIA - Research and Innovation action', 'MSCA-ITN-EJD - European Joint Doctorates'), ('IMI2-RIA - Research and Innovation action', 'MSCA-ITN-ETN - European Training Networks'), ('IMI2-RIA - Research and Innovation action', 'MSCA-RISE - Marie Skłodowska-Curie Research and Innovation Staff Exchange (RISE)'), ('IMI2-RIA - Research and Innovation action', 'RIA - Research and Innovation action'), ('IMI2-RIA - Research and Innovation action', 'RIA-LS - Research and Innovation action Lump Sum'), ('IMI2-RIA - Research and Innovation action', 'SESAR-IA - Innovation action'), ('IMI2-RIA - Research and Innovation action', 'SME-1 - SME instrument phase 1'), ('IMI2-RIA - Research and Innovation action', 'SME-2 - SME instrument phase 2'), ('MSCA-COFUND-DP - Doctoral programmes', 'MSCA-COFUND-DP - Doctoral programmes'), ('MSCA-COFUND-DP - Doctoral programmes', 'MSCA-IF-EF-SE - Society and Enterprise panel'), ('MSCA-COFUND-DP - Doctoral programmes', 'MSCA-ITN-EID - European Industrial Doctorates'), ('MSCA-COFUND-DP - Doctoral programmes', 'MSCA-ITN-ETN - European Training Networks'), ('MSCA-COFUND-DP - Doctoral programmes', 'MSCA-RISE - Marie Skłodowska-Curie Research and Innovation Staff Exchange (RISE)'), ('MSCA-COFUND-DP - Doctoral programmes', 'RIA - Research and Innovation action'), ('MSCA-COFUND-DP - Doctoral programmes', 'SME-1 - SME instrument phase 1'), ('MSCA-COFUND-FP - Fellowship programmes', 'MSCA-IF-EF-ST - Standard EF'), ('MSCA-COFUND-FP - Fellowship programmes', 'MSCA-ITN-EID - European Industrial Doctorates'), ('MSCA-COFUND-FP - Fellowship programmes', 'MSCA-ITN-EJD - European Joint Doctorates'), ('MSCA-COFUND-FP - Fellowship programmes', 'MSCA-ITN-ETN - European Training Networks'), ('MSCA-COFUND-FP - Fellowship programmes', 'MSCA-RISE - Marie Skłodowska-Curie Research and Innovation Staff Exchange (RISE)'), ('MSCA-COFUND-FP - Fellowship programmes', 'RIA - Research and Innovation action'), ('MSCA-COFUND-FP - Fellowship programmes', 'SME-1 - SME instrument phase 1'), ('MSCA-COFUND-FP - Fellowship programmes', 'SME-2 - SME instrument phase 2'), ('MSCA-IF-EF-CAR - CAR – Career Restart panel', 'MSCA-ITN-ETN - European Training Networks'), ('MSCA-IF-EF-RI - RI – Reintegration panel', 'MSCA-ITN-ETN - European Training Networks'), ('MSCA-IF-EF-RI - RI – Reintegration panel', 'RIA - Research and Innovation action'), ('MSCA-IF-EF-SE - Society and Enterprise panel', 'MSCA-IF-EF-SE - Society and Enterprise panel'), ('MSCA-IF-EF-SE - Society and Enterprise panel', 'MSCA-IF-EF-ST - Standard EF'), ('MSCA-IF-EF-SE - Society and Enterprise panel', 'MSCA-ITN-EID - European Industrial Doctorates'), ('MSCA-IF-EF-SE - Society and Enterprise panel', 'MSCA-ITN-ETN - European Training Networks'), ('MSCA-IF-EF-SE - Society and Enterprise panel', 'MSCA-RISE - Marie Skłodowska-Curie Research and Innovation Staff Exchange (RISE)'), ('MSCA-IF-EF-SE - Society and Enterprise panel', 'RIA - Research and Innovation action'), ('MSCA-IF-EF-SE - Society and Enterprise panel', 'SGA-RIA - SGA-RIA'), ('MSCA-IF-EF-SE - Society and Enterprise panel', 'SME-1 - SME instrument phase 1'), ('MSCA-IF-EF-SE - Society and Enterprise panel', 'SME-2 - SME instrument phase 2'), ('MSCA-IF-EF-ST - Standard EF', 'MSCA-IF-EF-ST - Standard EF'), ('MSCA-IF-EF-ST - Standard EF', 'MSCA-IF-GF - Global Fellowships'), ('MSCA-IF-EF-ST - Standard EF', 'MSCA-ITN-ETN - European Training Networks'), ('MSCA-IF-EF-ST - Standard EF', 'RIA - Research and Innovation action'), ('MSCA-IF-GF - Global Fellowships', 'MSCA-IF-GF - Global Fellowships'), ('MSCA-IF-GF - Global Fellowships', 'MSCA-ITN-ETN - European Training Networks'), ('MSCA-IF-GF - Global Fellowships', 'MSCA-RISE - Marie Skłodowska-Curie Research and Innovation Staff Exchange (RISE)'), ('MSCA-IF-GF - Global Fellowships', 'RIA - Research and Innovation action'), ('MSCA-ITN-EID - European Industrial Doctorates', 'MSCA-ITN-EID - European Industrial Doctorates'), ('MSCA-ITN-EID - European Industrial Doctorates', 'MSCA-ITN-EJD - European Joint Doctorates'), ('MSCA-ITN-EID - European Industrial Doctorates', 'MSCA-ITN-ETN - European Training Networks'), ('MSCA-ITN-EID - European Industrial Doctorates', 'MSCA-RISE - Marie Skłodowska-Curie Research and Innovation Staff Exchange (RISE)'), ('MSCA-ITN-EID - European Industrial Doctorates', 'RIA - Research and Innovation action'), ('MSCA-ITN-EID - European Industrial Doctorates', 'SESAR-RIA - Research and Innovation action'), ('MSCA-ITN-EID - European Industrial Doctorates', 'SGA-RIA - SGA-RIA'), ('MSCA-ITN-EID - European Industrial Doctorates', 'SME-1 - SME instrument phase 1'), ('MSCA-ITN-EID - European Industrial Doctorates', 'SME-2 - SME instrument phase 2'), ('MSCA-ITN-EID - European Industrial Doctorates', 'Shift2Rail-RIA - Research and Innovation action'), ('MSCA-ITN-EJD - European Joint Doctorates', 'MSCA-ITN-EJD - European Joint Doctorates'), ('MSCA-ITN-EJD - European Joint Doctorates', 'MSCA-ITN-ETN - European Training Networks'), ('MSCA-ITN-EJD - European Joint Doctorates', 'MSCA-RISE - Marie Skłodowska-Curie Research and Innovation Staff Exchange (RISE)'), ('MSCA-ITN-EJD - European Joint Doctorates', 'RIA - Research and Innovation action'), ('MSCA-ITN-EJD - European Joint Doctorates', 'SESAR-CSA - Coordination and Support Action'), ('MSCA-ITN-EJD - European Joint Doctorates', 'SME-1 - SME instrument phase 1'), ('MSCA-ITN-EJD - European Joint Doctorates', 'SME-2 - SME instrument phase 2'), ('MSCA-ITN-ETN - European Training Networks', 'MSCA-ITN-ETN - European Training Networks'), ('MSCA-ITN-ETN - European Training Networks', 'MSCA-RISE - Marie Skłodowska-Curie Research and Innovation Staff Exchange (RISE)'), ('MSCA-ITN-ETN - European Training Networks', 'RIA - Research and Innovation action'), ('MSCA-ITN-ETN - European Training Networks', 'SESAR-RIA - Research and Innovation action'), ('MSCA-ITN-ETN - European Training Networks', 'SGA-RIA - SGA-RIA'), ('MSCA-ITN-ETN - European Training Networks', 'SME-1 - SME instrument phase 1'), ('MSCA-ITN-ETN - European Training Networks', 'SME-2 - SME instrument phase 2'), ('MSCA-ITN-ETN - European Training Networks', 'Shift2Rail-RIA - Research and Innovation action'), ('MSCA-RISE - Marie Skłodowska-Curie Research and Innovation Staff Exchange (RISE)', 'MSCA-RISE - Marie Skłodowska-Curie Research and Innovation Staff Exchange (RISE)'), ('MSCA-RISE - Marie Skłodowska-Curie Research and Innovation Staff Exchange (RISE)', 'RIA - Research and Innovation action'), ('MSCA-RISE - Marie Skłodowska-Curie Research and Innovation Staff Exchange (RISE)', 'SGA-RIA - SGA-RIA'), ('MSCA-RISE - Marie Skłodowska-Curie Research and Innovation Staff Exchange (RISE)', 'SME-1 - SME instrument phase 1'), ('MSCA-RISE - Marie Skłodowska-Curie Research and Innovation Staff Exchange (RISE)', 'SME-2 - SME instrument phase 2'), ('MSCA-RISE - Marie Skłodowska-Curie Research and Innovation Staff Exchange (RISE)', 'Shift2Rail-IA - Innovation action'), ('MSCA-RISE - Marie Skłodowska-Curie Research and Innovation Staff Exchange (RISE)', 'Shift2Rail-RIA - Research and Innovation action'), ('PCP - Pre-Commercial Procurement', 'PCP - Pre-Commercial Procurement'), ('PCP - Pre-Commercial Procurement', 'RIA - Research and Innovation action'), ('RIA - Research and Innovation action', 'RIA - Research and Innovation action'), ('RIA - Research and Innovation action', 'RIA-LS - Research and Innovation action Lump Sum'), ('RIA - Research and Innovation action', 'SESAR-IA - Innovation action'), ('RIA - Research and Innovation action', 'SESAR-RIA - Research and Innovation action'), ('RIA - Research and Innovation action', 'SGA-RIA - SGA-RIA'), ('RIA - Research and Innovation action', 'SME-1 - SME instrument phase 1'), ('RIA - Research and Innovation action', 'SME-2 - SME instrument phase 2'), ('RIA - Research and Innovation action', 'Shift2Rail-CSA - Coordination and Support Action'), ('RIA - Research and Innovation action', 'Shift2Rail-IA - Innovation action'), ('RIA - Research and Innovation action', 'Shift2Rail-IA-LS - Innovation Action Lump-Sum'), ('RIA - Research and Innovation action', 'Shift2Rail-RIA - Research and Innovation action'), ('RIA - Research and Innovation action', 'Shift2Rail-RIA-LS - Shift2Rail Research and Innovation Action Lump-Sum'), ('SESAR-CSA - Coordination and Support Action', 'SESAR-IA - Innovation action'), ('SESAR-CSA - Coordination and Support Action', 'SESAR-RIA - Research and Innovation action'), ('SESAR-IA - Innovation action', 'SESAR-IA - Innovation action'), ('SESAR-IA - Innovation action', 'SESAR-RIA - Research and Innovation action'), ('SESAR-IA - Innovation action', 'Shift2Rail-IA-LS - Innovation Action Lump-Sum'), ('SESAR-IA - Innovation action', 'Shift2Rail-RIA - Research and Innovation action'), ('SESAR-RIA - Research and Innovation action', 'SESAR-RIA - Research and Innovation action'), ('SESAR-RIA - Research and Innovation action', 'SME-1 - SME instrument phase 1'), ('SESAR-RIA - Research and Innovation action', 'SME-2 - SME instrument phase 2'), ('SESAR-RIA - Research and Innovation action', 'Shift2Rail-RIA - Research and Innovation action'), ('SGA-RIA - SGA-RIA', 'SGA-RIA - SGA-RIA'), ('SGA-RIA - SGA-RIA', 'SME-1 - SME instrument phase 1'), ('SGA-RIA - SGA-RIA', 'SME-2 - SME instrument phase 2'), ('SME-1 - SME instrument phase 1', 'SME-1 - SME instrument phase 1'), ('SME-1 - SME instrument phase 1', 'SME-2 - SME instrument phase 2'), ('SME-1 - SME instrument phase 1', 'Shift2Rail-RIA - Research and Innovation action'), ('SME-2 - SME instrument phase 2', 'SME-2 - SME instrument phase 2'), ('SME-2 - SME instrument phase 2', 'Shift2Rail-RIA - Research and Innovation action'), ('Shift2Rail-CSA - Coordination and Support Action', 'Shift2Rail-RIA - Research and Innovation action'), ('Shift2Rail-IA - Innovation action', 'Shift2Rail-IA - Innovation action'), ('Shift2Rail-IA - Innovation action', 'Shift2Rail-IA-LS - Innovation Action Lump-Sum'), ('Shift2Rail-IA - Innovation action', 'Shift2Rail-RIA - Research and Innovation action'), ('Shift2Rail-IA - Innovation action', 'Shift2Rail-RIA-LS - Shift2Rail Research and Innovation Action Lump-Sum'), ('Shift2Rail-IA-LS - Innovation Action Lump-Sum', 'Shift2Rail-IA-LS - Innovation Action Lump-Sum'), ('Shift2Rail-IA-LS - Innovation Action Lump-Sum', 'Shift2Rail-RIA - Research and Innovation action'), ('Shift2Rail-IA-LS - Innovation Action Lump-Sum', 'Shift2Rail-RIA-LS - Shift2Rail Research and Innovation Action Lump-Sum'), ('Shift2Rail-RIA - Research and Innovation action', 'Shift2Rail-RIA - Research and Innovation action'), ('Shift2Rail-RIA - Research and Innovation action', 'Shift2Rail-RIA-LS - Shift2Rail Research and Innovation Action Lump-Sum'), ('Shift2Rail-RIA-LS - Shift2Rail Research and Innovation Action Lump-Sum', 'Shift2Rail-RIA-LS - Shift2Rail Research and Innovation Action Lump-Sum')]\n"
     ]
    }
   ],
   "source": [
    "print(G.edges())"
   ]
  },
  {
   "cell_type": "code",
   "execution_count": 198,
   "metadata": {},
   "outputs": [
    {
     "data": {
      "text/html": [
       "\n",
       "    <div class=\"bk-root\">\n",
       "        <a href=\"https://bokeh.pydata.org\" target=\"_blank\" class=\"bk-logo bk-logo-small bk-logo-notebook\"></a>\n",
       "        <span id=\"1001\">Loading BokehJS ...</span>\n",
       "    </div>"
      ]
     },
     "metadata": {},
     "output_type": "display_data"
    },
    {
     "data": {
      "application/javascript": [
       "\n",
       "(function(root) {\n",
       "  function now() {\n",
       "    return new Date();\n",
       "  }\n",
       "\n",
       "  var force = true;\n",
       "\n",
       "  if (typeof root._bokeh_onload_callbacks === \"undefined\" || force === true) {\n",
       "    root._bokeh_onload_callbacks = [];\n",
       "    root._bokeh_is_loading = undefined;\n",
       "  }\n",
       "\n",
       "  var JS_MIME_TYPE = 'application/javascript';\n",
       "  var HTML_MIME_TYPE = 'text/html';\n",
       "  var EXEC_MIME_TYPE = 'application/vnd.bokehjs_exec.v0+json';\n",
       "  var CLASS_NAME = 'output_bokeh rendered_html';\n",
       "\n",
       "  /**\n",
       "   * Render data to the DOM node\n",
       "   */\n",
       "  function render(props, node) {\n",
       "    var script = document.createElement(\"script\");\n",
       "    node.appendChild(script);\n",
       "  }\n",
       "\n",
       "  /**\n",
       "   * Handle when an output is cleared or removed\n",
       "   */\n",
       "  function handleClearOutput(event, handle) {\n",
       "    var cell = handle.cell;\n",
       "\n",
       "    var id = cell.output_area._bokeh_element_id;\n",
       "    var server_id = cell.output_area._bokeh_server_id;\n",
       "    // Clean up Bokeh references\n",
       "    if (id != null && id in Bokeh.index) {\n",
       "      Bokeh.index[id].model.document.clear();\n",
       "      delete Bokeh.index[id];\n",
       "    }\n",
       "\n",
       "    if (server_id !== undefined) {\n",
       "      // Clean up Bokeh references\n",
       "      var cmd = \"from bokeh.io.state import curstate; print(curstate().uuid_to_server['\" + server_id + \"'].get_sessions()[0].document.roots[0]._id)\";\n",
       "      cell.notebook.kernel.execute(cmd, {\n",
       "        iopub: {\n",
       "          output: function(msg) {\n",
       "            var id = msg.content.text.trim();\n",
       "            if (id in Bokeh.index) {\n",
       "              Bokeh.index[id].model.document.clear();\n",
       "              delete Bokeh.index[id];\n",
       "            }\n",
       "          }\n",
       "        }\n",
       "      });\n",
       "      // Destroy server and session\n",
       "      var cmd = \"import bokeh.io.notebook as ion; ion.destroy_server('\" + server_id + \"')\";\n",
       "      cell.notebook.kernel.execute(cmd);\n",
       "    }\n",
       "  }\n",
       "\n",
       "  /**\n",
       "   * Handle when a new output is added\n",
       "   */\n",
       "  function handleAddOutput(event, handle) {\n",
       "    var output_area = handle.output_area;\n",
       "    var output = handle.output;\n",
       "\n",
       "    // limit handleAddOutput to display_data with EXEC_MIME_TYPE content only\n",
       "    if ((output.output_type != \"display_data\") || (!output.data.hasOwnProperty(EXEC_MIME_TYPE))) {\n",
       "      return\n",
       "    }\n",
       "\n",
       "    var toinsert = output_area.element.find(\".\" + CLASS_NAME.split(' ')[0]);\n",
       "\n",
       "    if (output.metadata[EXEC_MIME_TYPE][\"id\"] !== undefined) {\n",
       "      toinsert[toinsert.length - 1].firstChild.textContent = output.data[JS_MIME_TYPE];\n",
       "      // store reference to embed id on output_area\n",
       "      output_area._bokeh_element_id = output.metadata[EXEC_MIME_TYPE][\"id\"];\n",
       "    }\n",
       "    if (output.metadata[EXEC_MIME_TYPE][\"server_id\"] !== undefined) {\n",
       "      var bk_div = document.createElement(\"div\");\n",
       "      bk_div.innerHTML = output.data[HTML_MIME_TYPE];\n",
       "      var script_attrs = bk_div.children[0].attributes;\n",
       "      for (var i = 0; i < script_attrs.length; i++) {\n",
       "        toinsert[toinsert.length - 1].firstChild.setAttribute(script_attrs[i].name, script_attrs[i].value);\n",
       "      }\n",
       "      // store reference to server id on output_area\n",
       "      output_area._bokeh_server_id = output.metadata[EXEC_MIME_TYPE][\"server_id\"];\n",
       "    }\n",
       "  }\n",
       "\n",
       "  function register_renderer(events, OutputArea) {\n",
       "\n",
       "    function append_mime(data, metadata, element) {\n",
       "      // create a DOM node to render to\n",
       "      var toinsert = this.create_output_subarea(\n",
       "        metadata,\n",
       "        CLASS_NAME,\n",
       "        EXEC_MIME_TYPE\n",
       "      );\n",
       "      this.keyboard_manager.register_events(toinsert);\n",
       "      // Render to node\n",
       "      var props = {data: data, metadata: metadata[EXEC_MIME_TYPE]};\n",
       "      render(props, toinsert[toinsert.length - 1]);\n",
       "      element.append(toinsert);\n",
       "      return toinsert\n",
       "    }\n",
       "\n",
       "    /* Handle when an output is cleared or removed */\n",
       "    events.on('clear_output.CodeCell', handleClearOutput);\n",
       "    events.on('delete.Cell', handleClearOutput);\n",
       "\n",
       "    /* Handle when a new output is added */\n",
       "    events.on('output_added.OutputArea', handleAddOutput);\n",
       "\n",
       "    /**\n",
       "     * Register the mime type and append_mime function with output_area\n",
       "     */\n",
       "    OutputArea.prototype.register_mime_type(EXEC_MIME_TYPE, append_mime, {\n",
       "      /* Is output safe? */\n",
       "      safe: true,\n",
       "      /* Index of renderer in `output_area.display_order` */\n",
       "      index: 0\n",
       "    });\n",
       "  }\n",
       "\n",
       "  // register the mime type if in Jupyter Notebook environment and previously unregistered\n",
       "  if (root.Jupyter !== undefined) {\n",
       "    var events = require('base/js/events');\n",
       "    var OutputArea = require('notebook/js/outputarea').OutputArea;\n",
       "\n",
       "    if (OutputArea.prototype.mime_types().indexOf(EXEC_MIME_TYPE) == -1) {\n",
       "      register_renderer(events, OutputArea);\n",
       "    }\n",
       "  }\n",
       "\n",
       "  \n",
       "  if (typeof (root._bokeh_timeout) === \"undefined\" || force === true) {\n",
       "    root._bokeh_timeout = Date.now() + 5000;\n",
       "    root._bokeh_failed_load = false;\n",
       "  }\n",
       "\n",
       "  var NB_LOAD_WARNING = {'data': {'text/html':\n",
       "     \"<div style='background-color: #fdd'>\\n\"+\n",
       "     \"<p>\\n\"+\n",
       "     \"BokehJS does not appear to have successfully loaded. If loading BokehJS from CDN, this \\n\"+\n",
       "     \"may be due to a slow or bad network connection. Possible fixes:\\n\"+\n",
       "     \"</p>\\n\"+\n",
       "     \"<ul>\\n\"+\n",
       "     \"<li>re-rerun `output_notebook()` to attempt to load from CDN again, or</li>\\n\"+\n",
       "     \"<li>use INLINE resources instead, as so:</li>\\n\"+\n",
       "     \"</ul>\\n\"+\n",
       "     \"<code>\\n\"+\n",
       "     \"from bokeh.resources import INLINE\\n\"+\n",
       "     \"output_notebook(resources=INLINE)\\n\"+\n",
       "     \"</code>\\n\"+\n",
       "     \"</div>\"}};\n",
       "\n",
       "  function display_loaded() {\n",
       "    var el = document.getElementById(\"1001\");\n",
       "    if (el != null) {\n",
       "      el.textContent = \"BokehJS is loading...\";\n",
       "    }\n",
       "    if (root.Bokeh !== undefined) {\n",
       "      if (el != null) {\n",
       "        el.textContent = \"BokehJS \" + root.Bokeh.version + \" successfully loaded.\";\n",
       "      }\n",
       "    } else if (Date.now() < root._bokeh_timeout) {\n",
       "      setTimeout(display_loaded, 100)\n",
       "    }\n",
       "  }\n",
       "\n",
       "\n",
       "  function run_callbacks() {\n",
       "    try {\n",
       "      root._bokeh_onload_callbacks.forEach(function(callback) {\n",
       "        if (callback != null)\n",
       "          callback();\n",
       "      });\n",
       "    } finally {\n",
       "      delete root._bokeh_onload_callbacks\n",
       "    }\n",
       "    console.debug(\"Bokeh: all callbacks have finished\");\n",
       "  }\n",
       "\n",
       "  function load_libs(css_urls, js_urls, callback) {\n",
       "    if (css_urls == null) css_urls = [];\n",
       "    if (js_urls == null) js_urls = [];\n",
       "\n",
       "    root._bokeh_onload_callbacks.push(callback);\n",
       "    if (root._bokeh_is_loading > 0) {\n",
       "      console.debug(\"Bokeh: BokehJS is being loaded, scheduling callback at\", now());\n",
       "      return null;\n",
       "    }\n",
       "    if (js_urls == null || js_urls.length === 0) {\n",
       "      run_callbacks();\n",
       "      return null;\n",
       "    }\n",
       "    console.debug(\"Bokeh: BokehJS not loaded, scheduling load and callback at\", now());\n",
       "    root._bokeh_is_loading = css_urls.length + js_urls.length;\n",
       "\n",
       "    function on_load() {\n",
       "      root._bokeh_is_loading--;\n",
       "      if (root._bokeh_is_loading === 0) {\n",
       "        console.debug(\"Bokeh: all BokehJS libraries/stylesheets loaded\");\n",
       "        run_callbacks()\n",
       "      }\n",
       "    }\n",
       "\n",
       "    function on_error() {\n",
       "      console.error(\"failed to load \" + url);\n",
       "    }\n",
       "\n",
       "    for (var i = 0; i < css_urls.length; i++) {\n",
       "      var url = css_urls[i];\n",
       "      const element = document.createElement(\"link\");\n",
       "      element.onload = on_load;\n",
       "      element.onerror = on_error;\n",
       "      element.rel = \"stylesheet\";\n",
       "      element.type = \"text/css\";\n",
       "      element.href = url;\n",
       "      console.debug(\"Bokeh: injecting link tag for BokehJS stylesheet: \", url);\n",
       "      document.body.appendChild(element);\n",
       "    }\n",
       "\n",
       "    for (var i = 0; i < js_urls.length; i++) {\n",
       "      var url = js_urls[i];\n",
       "      var element = document.createElement('script');\n",
       "      element.onload = on_load;\n",
       "      element.onerror = on_error;\n",
       "      element.async = false;\n",
       "      element.src = url;\n",
       "      console.debug(\"Bokeh: injecting script tag for BokehJS library: \", url);\n",
       "      document.head.appendChild(element);\n",
       "    }\n",
       "  };var element = document.getElementById(\"1001\");\n",
       "  if (element == null) {\n",
       "    console.error(\"Bokeh: ERROR: autoload.js configured with elementid '1001' but no matching script tag was found. \")\n",
       "    return false;\n",
       "  }\n",
       "\n",
       "  function inject_raw_css(css) {\n",
       "    const element = document.createElement(\"style\");\n",
       "    element.appendChild(document.createTextNode(css));\n",
       "    document.body.appendChild(element);\n",
       "  }\n",
       "\n",
       "  var js_urls = [\"https://cdn.pydata.org/bokeh/release/bokeh-1.3.4.min.js\", \"https://cdn.pydata.org/bokeh/release/bokeh-widgets-1.3.4.min.js\", \"https://cdn.pydata.org/bokeh/release/bokeh-tables-1.3.4.min.js\", \"https://cdn.pydata.org/bokeh/release/bokeh-gl-1.3.4.min.js\"];\n",
       "  var css_urls = [];\n",
       "\n",
       "  var inline_js = [\n",
       "    function(Bokeh) {\n",
       "      Bokeh.set_log_level(\"info\");\n",
       "    },\n",
       "    \n",
       "    function(Bokeh) {\n",
       "      \n",
       "    },\n",
       "    function(Bokeh) {} // ensure no trailing comma for IE\n",
       "  ];\n",
       "\n",
       "  function run_inline_js() {\n",
       "    \n",
       "    if ((root.Bokeh !== undefined) || (force === true)) {\n",
       "      for (var i = 0; i < inline_js.length; i++) {\n",
       "        inline_js[i].call(root, root.Bokeh);\n",
       "      }if (force === true) {\n",
       "        display_loaded();\n",
       "      }} else if (Date.now() < root._bokeh_timeout) {\n",
       "      setTimeout(run_inline_js, 100);\n",
       "    } else if (!root._bokeh_failed_load) {\n",
       "      console.log(\"Bokeh: BokehJS failed to load within specified timeout.\");\n",
       "      root._bokeh_failed_load = true;\n",
       "    } else if (force !== true) {\n",
       "      var cell = $(document.getElementById(\"1001\")).parents('.cell').data().cell;\n",
       "      cell.output_area.append_execute_result(NB_LOAD_WARNING)\n",
       "    }\n",
       "\n",
       "  }\n",
       "\n",
       "  if (root._bokeh_is_loading === 0) {\n",
       "    console.debug(\"Bokeh: BokehJS loaded, going straight to plotting\");\n",
       "    run_inline_js();\n",
       "  } else {\n",
       "    load_libs(css_urls, js_urls, function() {\n",
       "      console.debug(\"Bokeh: BokehJS plotting callback run at\", now());\n",
       "      run_inline_js();\n",
       "    });\n",
       "  }\n",
       "}(window));"
      ],
      "application/vnd.bokehjs_load.v0+json": "\n(function(root) {\n  function now() {\n    return new Date();\n  }\n\n  var force = true;\n\n  if (typeof root._bokeh_onload_callbacks === \"undefined\" || force === true) {\n    root._bokeh_onload_callbacks = [];\n    root._bokeh_is_loading = undefined;\n  }\n\n  \n\n  \n  if (typeof (root._bokeh_timeout) === \"undefined\" || force === true) {\n    root._bokeh_timeout = Date.now() + 5000;\n    root._bokeh_failed_load = false;\n  }\n\n  var NB_LOAD_WARNING = {'data': {'text/html':\n     \"<div style='background-color: #fdd'>\\n\"+\n     \"<p>\\n\"+\n     \"BokehJS does not appear to have successfully loaded. If loading BokehJS from CDN, this \\n\"+\n     \"may be due to a slow or bad network connection. Possible fixes:\\n\"+\n     \"</p>\\n\"+\n     \"<ul>\\n\"+\n     \"<li>re-rerun `output_notebook()` to attempt to load from CDN again, or</li>\\n\"+\n     \"<li>use INLINE resources instead, as so:</li>\\n\"+\n     \"</ul>\\n\"+\n     \"<code>\\n\"+\n     \"from bokeh.resources import INLINE\\n\"+\n     \"output_notebook(resources=INLINE)\\n\"+\n     \"</code>\\n\"+\n     \"</div>\"}};\n\n  function display_loaded() {\n    var el = document.getElementById(\"1001\");\n    if (el != null) {\n      el.textContent = \"BokehJS is loading...\";\n    }\n    if (root.Bokeh !== undefined) {\n      if (el != null) {\n        el.textContent = \"BokehJS \" + root.Bokeh.version + \" successfully loaded.\";\n      }\n    } else if (Date.now() < root._bokeh_timeout) {\n      setTimeout(display_loaded, 100)\n    }\n  }\n\n\n  function run_callbacks() {\n    try {\n      root._bokeh_onload_callbacks.forEach(function(callback) {\n        if (callback != null)\n          callback();\n      });\n    } finally {\n      delete root._bokeh_onload_callbacks\n    }\n    console.debug(\"Bokeh: all callbacks have finished\");\n  }\n\n  function load_libs(css_urls, js_urls, callback) {\n    if (css_urls == null) css_urls = [];\n    if (js_urls == null) js_urls = [];\n\n    root._bokeh_onload_callbacks.push(callback);\n    if (root._bokeh_is_loading > 0) {\n      console.debug(\"Bokeh: BokehJS is being loaded, scheduling callback at\", now());\n      return null;\n    }\n    if (js_urls == null || js_urls.length === 0) {\n      run_callbacks();\n      return null;\n    }\n    console.debug(\"Bokeh: BokehJS not loaded, scheduling load and callback at\", now());\n    root._bokeh_is_loading = css_urls.length + js_urls.length;\n\n    function on_load() {\n      root._bokeh_is_loading--;\n      if (root._bokeh_is_loading === 0) {\n        console.debug(\"Bokeh: all BokehJS libraries/stylesheets loaded\");\n        run_callbacks()\n      }\n    }\n\n    function on_error() {\n      console.error(\"failed to load \" + url);\n    }\n\n    for (var i = 0; i < css_urls.length; i++) {\n      var url = css_urls[i];\n      const element = document.createElement(\"link\");\n      element.onload = on_load;\n      element.onerror = on_error;\n      element.rel = \"stylesheet\";\n      element.type = \"text/css\";\n      element.href = url;\n      console.debug(\"Bokeh: injecting link tag for BokehJS stylesheet: \", url);\n      document.body.appendChild(element);\n    }\n\n    for (var i = 0; i < js_urls.length; i++) {\n      var url = js_urls[i];\n      var element = document.createElement('script');\n      element.onload = on_load;\n      element.onerror = on_error;\n      element.async = false;\n      element.src = url;\n      console.debug(\"Bokeh: injecting script tag for BokehJS library: \", url);\n      document.head.appendChild(element);\n    }\n  };var element = document.getElementById(\"1001\");\n  if (element == null) {\n    console.error(\"Bokeh: ERROR: autoload.js configured with elementid '1001' but no matching script tag was found. \")\n    return false;\n  }\n\n  function inject_raw_css(css) {\n    const element = document.createElement(\"style\");\n    element.appendChild(document.createTextNode(css));\n    document.body.appendChild(element);\n  }\n\n  var js_urls = [\"https://cdn.pydata.org/bokeh/release/bokeh-1.3.4.min.js\", \"https://cdn.pydata.org/bokeh/release/bokeh-widgets-1.3.4.min.js\", \"https://cdn.pydata.org/bokeh/release/bokeh-tables-1.3.4.min.js\", \"https://cdn.pydata.org/bokeh/release/bokeh-gl-1.3.4.min.js\"];\n  var css_urls = [];\n\n  var inline_js = [\n    function(Bokeh) {\n      Bokeh.set_log_level(\"info\");\n    },\n    \n    function(Bokeh) {\n      \n    },\n    function(Bokeh) {} // ensure no trailing comma for IE\n  ];\n\n  function run_inline_js() {\n    \n    if ((root.Bokeh !== undefined) || (force === true)) {\n      for (var i = 0; i < inline_js.length; i++) {\n        inline_js[i].call(root, root.Bokeh);\n      }if (force === true) {\n        display_loaded();\n      }} else if (Date.now() < root._bokeh_timeout) {\n      setTimeout(run_inline_js, 100);\n    } else if (!root._bokeh_failed_load) {\n      console.log(\"Bokeh: BokehJS failed to load within specified timeout.\");\n      root._bokeh_failed_load = true;\n    } else if (force !== true) {\n      var cell = $(document.getElementById(\"1001\")).parents('.cell').data().cell;\n      cell.output_area.append_execute_result(NB_LOAD_WARNING)\n    }\n\n  }\n\n  if (root._bokeh_is_loading === 0) {\n    console.debug(\"Bokeh: BokehJS loaded, going straight to plotting\");\n    run_inline_js();\n  } else {\n    load_libs(css_urls, js_urls, function() {\n      console.debug(\"Bokeh: BokehJS plotting callback run at\", now());\n      run_inline_js();\n    });\n  }\n}(window));"
     },
     "metadata": {},
     "output_type": "display_data"
    }
   ],
   "source": [
    "from bokeh.io import show, output_notebook\n",
    "from bokeh.plotting import figure\n",
    "from bokeh.palettes import Category20, Spectral4\n",
    "from bokeh.palettes import Spectral6\n",
    "from bokeh.models import Circle, MultiLine, HoverTool, TapTool, BoxSelectTool\n",
    "from bokeh.models import ColumnDataSource, LinearColorMapper, PointDrawTool\n",
    "from bokeh.models.graphs import from_networkx, NodesAndLinkedEdges\n",
    "output_notebook()"
   ]
  },
  {
   "cell_type": "code",
   "execution_count": 215,
   "metadata": {},
   "outputs": [
    {
     "data": {
      "image/png": "[encoded data removed]",
      "text/plain": [
       "<Figure size 432x288 with 1 Axes>"
      ]
     },
     "metadata": {},
     "output_type": "display_data"
    }
   ],
   "source": [
    "nx.draw(G)"
   ]
  },
  {
   "cell_type": "code",
   "execution_count": 199,
   "metadata": {},
   "outputs": [],
   "source": [
    "from bokeh.palettes import Spectral4\n",
    "from bokeh.transform import factor_cmap\n",
    "palette = seaborn.cubehelix_palette(21)\n",
    "pal_hex_lst = palette.as_hex()\n",
    "def bokeh_plot(G,attribute=None,title='',factor=False):\n",
    "\n",
    "  # Create a plot and give it some basic features.\n",
    "  plot = figure(title=title,\n",
    "              x_range=(-2.1,2.1), y_range=(-2.1,2.1),\n",
    "             )\n",
    "  pos = nx.spring_layout(G, weight='association_strength', scale=2)\n",
    "  # Use the renderer built in to `bokeh` to transform our Graph\n",
    "  # object into something that `bokeh` can plot.\n",
    "  graph_renderer = from_networkx(G, pos, center=(0,0))\n",
    "  \n",
    "  # Draw glyphs for our nodes and assign properties for interactions.\n",
    "  if attribute!=None:\n",
    "    idx = graph_renderer.node_renderer.data_source.data['index']\n",
    "    data = [attribute[x] for x in idx]\n",
    "    graph_renderer.node_renderer.data_source.data['node_color'] = data\n",
    "\n",
    "    if factor:\n",
    "      data = [str(attribute[x]) for x in idx]\n",
    "      graph_renderer.node_renderer.data_source.data['node_color'] = data\n",
    "      uniItems = list(set(data))\n",
    "      uniItemsNum = min(20,len(uniItems))\n",
    "      mapper = factor_cmap('node_color', palette=Category20[uniItemsNum], factors=uniItems)\n",
    "      graph_renderer.node_renderer.glyph = Circle(size=10,fill_color= mapper) #, line_color=None)\n",
    "\n",
    "    else:\n",
    "      mapper = LinearColorMapper(palette=pal_hex_lst, low=min(attribute.values()), high=max(attribute.values()))\n",
    "      graph_renderer.node_renderer.glyph = Circle(size=10,fill_color={'field': 'node_color', 'transform': mapper}) #, line_color=None)\n",
    "  else:\n",
    "    graph_renderer.node_renderer.glyph = Circle(size=10,fill_color='blue') #, line_color=None)\n",
    "\n",
    "    \n",
    "  graph_renderer.node_renderer.selection_glyph = Circle(size=15, fill_color=Spectral4[2])\n",
    "  graph_renderer.node_renderer.hover_glyph = Circle(size=15, fill_color=Spectral4[1])                               \n",
    "  graph_renderer.node_renderer.muted_glyph = Circle(size=15, fill_alpha=0.9)\n",
    "  \n",
    "  # Draw glyphs for edges and assign properties for interactions.\n",
    "  graph_renderer.edge_renderer.glyph = MultiLine(line_color=\"#CCCCCC\", line_alpha=1, line_width=1)\n",
    "  graph_renderer.edge_renderer.selection_glyph = MultiLine(line_color=Spectral4[2], line_width=1.5)\n",
    "  graph_renderer.edge_renderer.hover_glyph = MultiLine(line_color=Spectral4[1], line_width=1.5)\n",
    "  \n",
    "  # Add the ability to select nodes.\n",
    "  graph_renderer.selection_policy = NodesAndLinkedEdges()\n",
    "  # Add a hover tool, that allows us to investigate nodes with a tooltip. \n",
    "  hover = HoverTool(tooltips=[(\"Name:\", \"@name\")])\n",
    "  \n",
    "  \n",
    "  # Put everything on the plot.\n",
    "  graph_renderer.node_renderer.data_source.data['name'] =graph_renderer.node_renderer.data_source.data['index']\n",
    "\n",
    "  fill_color='color'\n",
    "  plot.add_tools(hover, TapTool(), BoxSelectTool())\n",
    "  plot.renderers.append(graph_renderer)\n",
    "\n",
    "  show(plot)\n",
    "\n",
    "  # Uncomment this line if using google colab\n",
    "  #output_notebook()"
   ]
  },
  {
   "cell_type": "code",
   "execution_count": 200,
   "metadata": {},
   "outputs": [
    {
     "data": {
      "text/html": [
       "\n",
       "\n",
       "\n",
       "\n",
       "\n",
       "\n",
       "  <div class=\"bk-root\" id=\"dae2b868-eb57-4700-a249-e6952249e169\" data-root-id=\"1002\"></div>\n"
      ]
     },
     "metadata": {},
     "output_type": "display_data"
    },
    {
     "data": {
      "application/javascript": [
       "(function(root) {\n",
       "  function embed_document(root) {\n",
       "    \n",
       "  var docs_json = {\"25fec55b-92ce-4405-b718-c10ac88a1e6d\":{\"roots\":{\"references\":[{\"attributes\":{\"below\":[{\"id\":\"1013\",\"type\":\"LinearAxis\"}],\"center\":[{\"id\":\"1017\",\"type\":\"Grid\"},{\"id\":\"1022\",\"type\":\"Grid\"}],\"left\":[{\"id\":\"1018\",\"type\":\"LinearAxis\"}],\"renderers\":[{\"id\":\"1038\",\"type\":\"GraphRenderer\"}],\"title\":{\"id\":\"1003\",\"type\":\"Title\"},\"toolbar\":{\"id\":\"1029\",\"type\":\"Toolbar\"},\"x_range\":{\"id\":\"1005\",\"type\":\"Range1d\"},\"x_scale\":{\"id\":\"1009\",\"type\":\"LinearScale\"},\"y_range\":{\"id\":\"1007\",\"type\":\"Range1d\"},\"y_scale\":{\"id\":\"1011\",\"type\":\"LinearScale\"}},\"id\":\"1002\",\"subtype\":\"Figure\",\"type\":\"Plot\"},{\"attributes\":{},\"id\":\"1024\",\"type\":\"WheelZoomTool\"},{\"attributes\":{\"overlay\":{\"id\":\"1117\",\"type\":\"BoxAnnotation\"}},\"id\":\"1025\",\"type\":\"BoxZoomTool\"},{\"attributes\":{},\"id\":\"1009\",\"type\":\"LinearScale\"},{\"attributes\":{\"edge_renderer\":{\"id\":\"1045\",\"type\":\"GlyphRenderer\"},\"inspection_policy\":{\"id\":\"1106\",\"type\":\"NodesOnly\"},\"layout_provider\":{\"id\":\"1051\",\"type\":\"StaticLayoutProvider\"},\"node_renderer\":{\"id\":\"1041\",\"type\":\"GlyphRenderer\"},\"selection_policy\":{\"id\":\"1087\",\"type\":\"NodesAndLinkedEdges\"}},\"id\":\"1038\",\"type\":\"GraphRenderer\"},{\"attributes\":{},\"id\":\"1026\",\"type\":\"SaveTool\"},{\"attributes\":{},\"id\":\"1023\",\"type\":\"PanTool\"},{\"attributes\":{\"data_source\":{\"id\":\"1040\",\"type\":\"ColumnDataSource\"},\"glyph\":{\"id\":\"1052\",\"type\":\"Circle\"},\"hover_glyph\":{\"id\":\"1062\",\"type\":\"Circle\"},\"muted_glyph\":{\"id\":\"1067\",\"type\":\"Circle\"},\"selection_glyph\":{\"id\":\"1057\",\"type\":\"Circle\"},\"view\":{\"id\":\"1042\",\"type\":\"CDSView\"}},\"id\":\"1041\",\"type\":\"GlyphRenderer\"},{\"attributes\":{\"source\":{\"id\":\"1040\",\"type\":\"ColumnDataSource\"}},\"id\":\"1042\",\"type\":\"CDSView\"},{\"attributes\":{},\"id\":\"1121\",\"type\":\"Selection\"},{\"attributes\":{},\"id\":\"1027\",\"type\":\"ResetTool\"},{\"attributes\":{},\"id\":\"1120\",\"type\":\"UnionRenderers\"},{\"attributes\":{\"dimension\":1,\"ticker\":{\"id\":\"1019\",\"type\":\"BasicTicker\"}},\"id\":\"1022\",\"type\":\"Grid\"},{\"attributes\":{\"line_color\":{\"value\":\"#abdda4\"},\"line_width\":{\"value\":1.5}},\"id\":\"1082\",\"type\":\"MultiLine\"},{\"attributes\":{},\"id\":\"1028\",\"type\":\"HelpTool\"},{\"attributes\":{},\"id\":\"1087\",\"type\":\"NodesAndLinkedEdges\"},{\"attributes\":{\"text\":\"\"},\"id\":\"1003\",\"type\":\"Title\"},{\"attributes\":{\"callback\":null,\"data\":{\"end\":[\"BBI-IA-DEMO - Bio-based Industries Innovation action - Demonstration\",\"BBI-RIA - Bio-based Industries Research and Innovation action\",\"CSA - Coordination and support action\",\"IA - Innovation action\",\"RIA - Research and Innovation action\",\"BBI-IA-DEMO - Bio-based Industries Innovation action - Demonstration\",\"BBI-IA-FLAG - Bio-based Industries Innovation action - Flagship\",\"BBI-RIA - Bio-based Industries Research and Innovation action\",\"CSA - Coordination and support action\",\"ECSEL-IA - ECSEL Innovation Action\",\"ECSEL-RIA - ECSEL Research and Innovation Action\",\"IA - Innovation action\",\"MSCA-COFUND-DP - Doctoral programmes\",\"MSCA-IF-EF-SE - Society and Enterprise panel\",\"MSCA-ITN-EID - European Industrial Doctorates\",\"MSCA-ITN-EJD - European Joint Doctorates\",\"MSCA-ITN-ETN - European Training Networks\",\"MSCA-RISE - Marie Sk\\u0142odowska-Curie Research and Innovation Staff Exchange (RISE)\",\"RIA - Research and Innovation action\",\"SGA-RIA - SGA-RIA\",\"SME-1 - SME instrument phase 1\",\"SME-2 - SME instrument phase 2\",\"Shift2Rail-RIA - Research and Innovation action\",\"BBI-RIA - Bio-based Industries Research and Innovation action\",\"CSA - Coordination and support action\",\"ECSEL-IA - ECSEL Innovation Action\",\"IA - Innovation action\",\"MSCA-IF-EF-SE - Society and Enterprise panel\",\"MSCA-ITN-EID - European Industrial Doctorates\",\"MSCA-ITN-ETN - European Training Networks\",\"MSCA-RISE - Marie Sk\\u0142odowska-Curie Research and Innovation Staff Exchange (RISE)\",\"RIA - Research and Innovation action\",\"SME-2 - SME instrument phase 2\",\"BBI-RIA - Bio-based Industries Research and Innovation action\",\"CS2-RIA - Research and Innovation action\",\"CSA - Coordination and support action\",\"ECSEL-IA - ECSEL Innovation Action\",\"ECSEL-RIA - ECSEL Research and Innovation Action\",\"FCH2-RIA - Research and Innovation action\",\"IA - Innovation action\",\"MSCA-COFUND-DP - Doctoral programmes\",\"MSCA-ITN-EID - European Industrial Doctorates\",\"MSCA-ITN-EJD - European Joint Doctorates\",\"MSCA-ITN-ETN - European Training Networks\",\"MSCA-RISE - Marie Sk\\u0142odowska-Curie Research and Innovation Staff Exchange (RISE)\",\"RIA - Research and Innovation action\",\"SME-1 - SME instrument phase 1\",\"SME-2 - SME instrument phase 2\",\"CSA - Coordination and support action\",\"IA - Innovation action\",\"IMI2-RIA - Research and Innovation action\",\"RIA - Research and Innovation action\",\"CSA - Coordination and support action\",\"H2020-EEN-SGA - Specific Grant Agreement Enterprise Europe Network (EEN)\",\"IA - Innovation action\",\"PCP - Pre-Commercial Procurement\",\"RIA - Research and Innovation action\",\"CS2-CSA - Coordination & support action\",\"CS2-IA - Innovation action\",\"CS2-RIA - Research and Innovation action\",\"CSA - Coordination and support action\",\"CSA-LS - CSA Lump sum\",\"ECSEL-IA - ECSEL Innovation Action\",\"ECSEL-RIA - ECSEL Research and Innovation Action\",\"ERC-STG - Starting Grant\",\"FCH2-IA - Innovation action\",\"FCH2-RIA - Research and Innovation action\",\"IA - Innovation action\",\"MSCA-COFUND-DP - Doctoral programmes\",\"MSCA-IF-EF-SE - Society and Enterprise panel\",\"MSCA-ITN-EID - European Industrial Doctorates\",\"MSCA-ITN-ETN - European Training Networks\",\"MSCA-RISE - Marie Sk\\u0142odowska-Curie Research and Innovation Staff Exchange (RISE)\",\"RIA - Research and Innovation action\",\"SESAR-IA - Innovation action\",\"SESAR-RIA - Research and Innovation action\",\"SME-1 - SME instrument phase 1\",\"SME-2 - SME instrument phase 2\",\"Shift2Rail-IA - Innovation action\",\"Shift2Rail-RIA - Research and Innovation action\",\"CS2-RIA - Research and Innovation action\",\"CSA - Coordination and support action\",\"ECSEL-IA - ECSEL Innovation Action\",\"ECSEL-RIA - ECSEL Research and Innovation Action\",\"FCH2-IA - Innovation action\",\"FCH2-RIA - Research and Innovation action\",\"IA - Innovation action\",\"MSCA-ITN-EID - European Industrial Doctorates\",\"MSCA-ITN-EJD - European Joint Doctorates\",\"MSCA-ITN-ETN - European Training Networks\",\"MSCA-RISE - Marie Sk\\u0142odowska-Curie Research and Innovation Staff Exchange (RISE)\",\"RIA - Research and Innovation action\",\"SESAR-IA - Innovation action\",\"SESAR-RIA - Research and Innovation action\",\"SME-1 - SME instrument phase 1\",\"SME-2 - SME instrument phase 2\",\"Shift2Rail-RIA - Research and Innovation action\",\"CSA - Coordination and support action\",\"CSA-LS - CSA Lump sum\",\"ECSEL-CSA - ECSEL Coordination & Support action\",\"ECSEL-IA - ECSEL Innovation Action\",\"ECSEL-RIA - ECSEL Research and Innovation Action\",\"ERA-NET-Cofund - ERA-NET Cofund\",\"ERC-POC - Proof of Concept Grant\",\"ERC-STG - Starting Grant\",\"FCH2-CSA - Coordination & support action\",\"FCH2-IA - Innovation action\",\"FCH2-RIA - Research and Innovation action\",\"H2020-EEN-SGA - Specific Grant Agreement Enterprise Europe Network (EEN)\",\"IA - Innovation action\",\"IMI2-RIA - Research and Innovation action\",\"MSCA-COFUND-DP - Doctoral programmes\",\"MSCA-COFUND-FP - Fellowship programmes\",\"MSCA-IF-EF-SE - Society and Enterprise panel\",\"MSCA-ITN-EID - European Industrial Doctorates\",\"MSCA-ITN-EJD - European Joint Doctorates\",\"MSCA-ITN-ETN - European Training Networks\",\"MSCA-RISE - Marie Sk\\u0142odowska-Curie Research and Innovation Staff Exchange (RISE)\",\"PCP - Pre-Commercial Procurement\",\"PPI - Public Procurement of Innovative solutions\",\"RIA - Research and Innovation action\",\"SESAR-IA - Innovation action\",\"SESAR-RIA - Research and Innovation action\",\"SGA-RIA - SGA-RIA\",\"SME-1 - SME instrument phase 1\",\"SME-2 - SME instrument phase 2\",\"Shift2Rail-RIA - Research and Innovation action\",\"CSA-LS - CSA Lump sum\",\"H2020-EEN-SGA - Specific Grant Agreement Enterprise Europe Network (EEN)\",\"IA - Innovation action\",\"RIA - Research and Innovation action\",\"ECSEL-RIA - ECSEL Research and Innovation Action\",\"IA - Innovation action\",\"IMI2-RIA - Research and Innovation action\",\"MSCA-ITN-ETN - European Training Networks\",\"RIA - Research and Innovation action\",\"ECSEL-IA - ECSEL Innovation Action\",\"ECSEL-RIA - ECSEL Research and Innovation Action\",\"FCH2-IA - Innovation action\",\"FCH2-RIA - Research and Innovation action\",\"IA - Innovation action\",\"IMI2-RIA - Research and Innovation action\",\"MSCA-COFUND-DP - Doctoral programmes\",\"MSCA-IF-EF-RI - RI \\u2013 Reintegration panel\",\"MSCA-ITN-EID - European Industrial Doctorates\",\"MSCA-ITN-EJD - European Joint Doctorates\",\"MSCA-ITN-ETN - European Training Networks\",\"MSCA-RISE - Marie Sk\\u0142odowska-Curie Research and Innovation Staff Exchange (RISE)\",\"RIA - Research and Innovation action\",\"SESAR-IA - Innovation action\",\"SESAR-RIA - Research and Innovation action\",\"SGA-RIA - SGA-RIA\",\"SME-1 - SME instrument phase 1\",\"SME-2 - SME instrument phase 2\",\"Shift2Rail-RIA - Research and Innovation action\",\"ECSEL-RIA - ECSEL Research and Innovation Action\",\"FCH2-IA - Innovation action\",\"FCH2-RIA - Research and Innovation action\",\"IA - Innovation action\",\"IA-LS - Innovation action Lump Sum\",\"MSCA-COFUND-DP - Doctoral programmes\",\"MSCA-IF-EF-RI - RI \\u2013 Reintegration panel\",\"MSCA-IF-EF-SE - Society and Enterprise panel\",\"MSCA-ITN-EID - European Industrial Doctorates\",\"MSCA-ITN-EJD - European Joint Doctorates\",\"MSCA-ITN-ETN - European Training Networks\",\"MSCA-RISE - Marie Sk\\u0142odowska-Curie Research and Innovation Staff Exchange (RISE)\",\"RIA - Research and Innovation action\",\"SESAR-RIA - Research and Innovation action\",\"SGA-CSA - Specific Grant agreement and Coordination and Support Action\",\"SGA-RIA - SGA-RIA\",\"SME-1 - SME instrument phase 1\",\"SME-2 - SME instrument phase 2\",\"Shift2Rail-IA-LS - Innovation Action Lump-Sum\",\"Shift2Rail-RIA - Research and Innovation action\",\"ERA-NET-Cofund - ERA-NET Cofund\",\"H2020-EEN-SGA - Specific Grant Agreement Enterprise Europe Network (EEN)\",\"IA - Innovation action\",\"MSCA-ITN-ETN - European Training Networks\",\"ERC-ADG - Advanced Grant\",\"ERC-POC - Proof of Concept Grant\",\"ERC-STG - Starting Grant\",\"IMI2-RIA - Research and Innovation action\",\"MSCA-IF-EF-SE - Society and Enterprise panel\",\"MSCA-IF-EF-ST - Standard EF\",\"MSCA-ITN-ETN - European Training Networks\",\"RIA - Research and Innovation action\",\"SME-1 - SME instrument phase 1\",\"ERC-COG - Consolidator Grant\",\"ERC-POC - Proof of Concept Grant\",\"ERC-STG - Starting Grant\",\"IMI2-RIA - Research and Innovation action\",\"MSCA-COFUND-FP - Fellowship programmes\",\"MSCA-IF-EF-SE - Society and Enterprise panel\",\"MSCA-IF-EF-ST - Standard EF\",\"MSCA-ITN-ETN - European Training Networks\",\"RIA - Research and Innovation action\",\"ERC-POC - Proof of Concept Grant\",\"IA - Innovation action\",\"MSCA-COFUND-DP - Doctoral programmes\",\"MSCA-IF-EF-SE - Society and Enterprise panel\",\"MSCA-IF-EF-ST - Standard EF\",\"MSCA-ITN-ETN - European Training Networks\",\"MSCA-RISE - Marie Sk\\u0142odowska-Curie Research and Innovation Staff Exchange (RISE)\",\"RIA - Research and Innovation action\",\"SME-1 - SME instrument phase 1\",\"IA - Innovation action\",\"MSCA-IF-EF-SE - Society and Enterprise panel\",\"MSCA-IF-EF-ST - Standard EF\",\"MSCA-ITN-EID - European Industrial Doctorates\",\"MSCA-ITN-ETN - European Training Networks\",\"MSCA-RISE - Marie Sk\\u0142odowska-Curie Research and Innovation Staff Exchange (RISE)\",\"RIA - Research and Innovation action\",\"SGA-RIA - SGA-RIA\",\"Shift2Rail-IA - Innovation action\",\"FCH2-IA - Innovation action\",\"FCH2-RIA - Research and Innovation action\",\"H2020-EEN-SGA - Specific Grant Agreement Enterprise Europe Network (EEN)\",\"IA - Innovation action\",\"RIA - Research and Innovation action\",\"FCH2-IA - Innovation action\",\"FCH2-RIA - Research and Innovation action\",\"IA - Innovation action\",\"MSCA-COFUND-DP - Doctoral programmes\",\"MSCA-ITN-ETN - European Training Networks\",\"MSCA-RISE - Marie Sk\\u0142odowska-Curie Research and Innovation Staff Exchange (RISE)\",\"RIA - Research and Innovation action\",\"SME-1 - SME instrument phase 1\",\"FCH2-RIA - Research and Innovation action\",\"H2020-EEN-SGA - Specific Grant Agreement Enterprise Europe Network (EEN)\",\"IA - Innovation action\",\"MSCA-ITN-EID - European Industrial Doctorates\",\"MSCA-ITN-ETN - European Training Networks\",\"MSCA-RISE - Marie Sk\\u0142odowska-Curie Research and Innovation Staff Exchange (RISE)\",\"RIA - Research and Innovation action\",\"SESAR-RIA - Research and Innovation action\",\"SME-1 - SME instrument phase 1\",\"SME-2 - SME instrument phase 2\",\"Shift2Rail-RIA - Research and Innovation action\",\"H2020-EEN-SGA - Specific Grant Agreement Enterprise Europe Network (EEN)\",\"IA - Innovation action\",\"MSCA-ITN-ETN - European Training Networks\",\"MSCA-RISE - Marie Sk\\u0142odowska-Curie Research and Innovation Staff Exchange (RISE)\",\"PCP - Pre-Commercial Procurement\",\"RIA - Research and Innovation action\",\"IA - Innovation action\",\"IA-LS - Innovation action Lump Sum\",\"IMI2-CSA - Coordination & support action\",\"IMI2-RIA - Research and Innovation action\",\"MSCA-COFUND-DP - Doctoral programmes\",\"MSCA-COFUND-FP - Fellowship programmes\",\"MSCA-IF-EF-RI - RI \\u2013 Reintegration panel\",\"MSCA-IF-EF-SE - Society and Enterprise panel\",\"MSCA-IF-EF-ST - Standard EF\",\"MSCA-ITN-EID - European Industrial Doctorates\",\"MSCA-ITN-EJD - European Joint Doctorates\",\"MSCA-ITN-ETN - European Training Networks\",\"MSCA-RISE - Marie Sk\\u0142odowska-Curie Research and Innovation Staff Exchange (RISE)\",\"PCP - Pre-Commercial Procurement\",\"RIA - Research and Innovation action\",\"RIA-LS - Research and Innovation action Lump Sum\",\"SESAR-CSA - Coordination and Support Action\",\"SESAR-IA - Innovation action\",\"SESAR-RIA - Research and Innovation action\",\"SGA-RIA - SGA-RIA\",\"SME-1 - SME instrument phase 1\",\"SME-2 - SME instrument phase 2\",\"Shift2Rail-CSA - Coordination and Support Action\",\"Shift2Rail-IA - Innovation action\",\"Shift2Rail-IA-LS - Innovation Action Lump-Sum\",\"Shift2Rail-RIA - Research and Innovation action\",\"RIA - Research and Innovation action\",\"SME-1 - SME instrument phase 1\",\"IMI2-RIA - Research and Innovation action\",\"MSCA-ITN-EJD - European Joint Doctorates\",\"MSCA-ITN-ETN - European Training Networks\",\"MSCA-RISE - Marie Sk\\u0142odowska-Curie Research and Innovation Staff Exchange (RISE)\",\"RIA - Research and Innovation action\",\"IMI2-RIA - Research and Innovation action\",\"MSCA-COFUND-FP - Fellowship programmes\",\"MSCA-IF-EF-SE - Society and Enterprise panel\",\"MSCA-ITN-EID - European Industrial Doctorates\",\"MSCA-ITN-EJD - European Joint Doctorates\",\"MSCA-ITN-ETN - European Training Networks\",\"MSCA-RISE - Marie Sk\\u0142odowska-Curie Research and Innovation Staff Exchange (RISE)\",\"RIA - Research and Innovation action\",\"RIA-LS - Research and Innovation action Lump Sum\",\"SESAR-IA - Innovation action\",\"SME-1 - SME instrument phase 1\",\"SME-2 - SME instrument phase 2\",\"MSCA-COFUND-DP - Doctoral programmes\",\"MSCA-IF-EF-SE - Society and Enterprise panel\",\"MSCA-ITN-EID - European Industrial Doctorates\",\"MSCA-ITN-ETN - European Training Networks\",\"MSCA-RISE - Marie Sk\\u0142odowska-Curie Research and Innovation Staff Exchange (RISE)\",\"RIA - Research and Innovation action\",\"SME-1 - SME instrument phase 1\",\"MSCA-IF-EF-ST - Standard EF\",\"MSCA-ITN-EID - European Industrial Doctorates\",\"MSCA-ITN-EJD - European Joint Doctorates\",\"MSCA-ITN-ETN - European Training Networks\",\"MSCA-RISE - Marie Sk\\u0142odowska-Curie Research and Innovation Staff Exchange (RISE)\",\"RIA - Research and Innovation action\",\"SME-1 - SME instrument phase 1\",\"SME-2 - SME instrument phase 2\",\"MSCA-ITN-ETN - European Training Networks\",\"MSCA-ITN-ETN - European Training Networks\",\"RIA - Research and Innovation action\",\"MSCA-IF-EF-SE - Society and Enterprise panel\",\"MSCA-IF-EF-ST - Standard EF\",\"MSCA-ITN-EID - European Industrial Doctorates\",\"MSCA-ITN-ETN - European Training Networks\",\"MSCA-RISE - Marie Sk\\u0142odowska-Curie Research and Innovation Staff Exchange (RISE)\",\"RIA - Research and Innovation action\",\"SGA-RIA - SGA-RIA\",\"SME-1 - SME instrument phase 1\",\"SME-2 - SME instrument phase 2\",\"MSCA-IF-EF-ST - Standard EF\",\"MSCA-IF-GF - Global Fellowships\",\"MSCA-ITN-ETN - European Training Networks\",\"RIA - Research and Innovation action\",\"MSCA-IF-GF - Global Fellowships\",\"MSCA-ITN-ETN - European Training Networks\",\"MSCA-RISE - Marie Sk\\u0142odowska-Curie Research and Innovation Staff Exchange (RISE)\",\"RIA - Research and Innovation action\",\"MSCA-ITN-EID - European Industrial Doctorates\",\"MSCA-ITN-EJD - European Joint Doctorates\",\"MSCA-ITN-ETN - European Training Networks\",\"MSCA-RISE - Marie Sk\\u0142odowska-Curie Research and Innovation Staff Exchange (RISE)\",\"RIA - Research and Innovation action\",\"SESAR-RIA - Research and Innovation action\",\"SGA-RIA - SGA-RIA\",\"SME-1 - SME instrument phase 1\",\"SME-2 - SME instrument phase 2\",\"Shift2Rail-RIA - Research and Innovation action\",\"MSCA-ITN-EJD - European Joint Doctorates\",\"MSCA-ITN-ETN - European Training Networks\",\"MSCA-RISE - Marie Sk\\u0142odowska-Curie Research and Innovation Staff Exchange (RISE)\",\"RIA - Research and Innovation action\",\"SESAR-CSA - Coordination and Support Action\",\"SME-1 - SME instrument phase 1\",\"SME-2 - SME instrument phase 2\",\"MSCA-ITN-ETN - European Training Networks\",\"MSCA-RISE - Marie Sk\\u0142odowska-Curie Research and Innovation Staff Exchange (RISE)\",\"RIA - Research and Innovation action\",\"SESAR-RIA - Research and Innovation action\",\"SGA-RIA - SGA-RIA\",\"SME-1 - SME instrument phase 1\",\"SME-2 - SME instrument phase 2\",\"Shift2Rail-RIA - Research and Innovation action\",\"MSCA-RISE - Marie Sk\\u0142odowska-Curie Research and Innovation Staff Exchange (RISE)\",\"RIA - Research and Innovation action\",\"SGA-RIA - SGA-RIA\",\"SME-1 - SME instrument phase 1\",\"SME-2 - SME instrument phase 2\",\"Shift2Rail-IA - Innovation action\",\"Shift2Rail-RIA - Research and Innovation action\",\"PCP - Pre-Commercial Procurement\",\"RIA - Research and Innovation action\",\"RIA - Research and Innovation action\",\"RIA-LS - Research and Innovation action Lump Sum\",\"SESAR-IA - Innovation action\",\"SESAR-RIA - Research and Innovation action\",\"SGA-RIA - SGA-RIA\",\"SME-1 - SME instrument phase 1\",\"SME-2 - SME instrument phase 2\",\"Shift2Rail-CSA - Coordination and Support Action\",\"Shift2Rail-IA - Innovation action\",\"Shift2Rail-IA-LS - Innovation Action Lump-Sum\",\"Shift2Rail-RIA - Research and Innovation action\",\"Shift2Rail-RIA-LS - Shift2Rail Research and Innovation Action Lump-Sum\",\"SESAR-IA - Innovation action\",\"SESAR-RIA - Research and Innovation action\",\"SESAR-IA - Innovation action\",\"SESAR-RIA - Research and Innovation action\",\"Shift2Rail-IA-LS - Innovation Action Lump-Sum\",\"Shift2Rail-RIA - Research and Innovation action\",\"SESAR-RIA - Research and Innovation action\",\"SME-1 - SME instrument phase 1\",\"SME-2 - SME instrument phase 2\",\"Shift2Rail-RIA - Research and Innovation action\",\"SGA-RIA - SGA-RIA\",\"SME-1 - SME instrument phase 1\",\"SME-2 - SME instrument phase 2\",\"SME-1 - SME instrument phase 1\",\"SME-2 - SME instrument phase 2\",\"Shift2Rail-RIA - Research and Innovation action\",\"SME-2 - SME instrument phase 2\",\"Shift2Rail-RIA - Research and Innovation action\",\"Shift2Rail-RIA - Research and Innovation action\",\"Shift2Rail-IA - Innovation action\",\"Shift2Rail-IA-LS - Innovation Action Lump-Sum\",\"Shift2Rail-RIA - Research and Innovation action\",\"Shift2Rail-RIA-LS - Shift2Rail Research and Innovation Action Lump-Sum\",\"Shift2Rail-IA-LS - Innovation Action Lump-Sum\",\"Shift2Rail-RIA - Research and Innovation action\",\"Shift2Rail-RIA-LS - Shift2Rail Research and Innovation Action Lump-Sum\",\"Shift2Rail-RIA - Research and Innovation action\",\"Shift2Rail-RIA-LS - Shift2Rail Research and Innovation Action Lump-Sum\",\"Shift2Rail-RIA-LS - Shift2Rail Research and Innovation Action Lump-Sum\"],\"start\":[\"BBI-CSA - Bio-based Industries Coordination and Support action\",\"BBI-CSA - Bio-based Industries Coordination and Support action\",\"BBI-CSA - Bio-based Industries Coordination and Support action\",\"BBI-CSA - Bio-based Industries Coordination and Support action\",\"BBI-CSA - Bio-based Industries Coordination and Support action\",\"BBI-IA-DEMO - Bio-based Industries Innovation action - Demonstration\",\"BBI-IA-DEMO - Bio-based Industries Innovation action - Demonstration\",\"BBI-IA-DEMO - Bio-based Industries Innovation action - Demonstration\",\"BBI-IA-DEMO - Bio-based Industries Innovation action - Demonstration\",\"BBI-IA-DEMO - Bio-based Industries Innovation action - Demonstration\",\"BBI-IA-DEMO - Bio-based Industries Innovation action - Demonstration\",\"BBI-IA-DEMO - Bio-based Industries Innovation action - Demonstration\",\"BBI-IA-DEMO - Bio-based Industries Innovation action - Demonstration\",\"BBI-IA-DEMO - Bio-based Industries Innovation action - Demonstration\",\"BBI-IA-DEMO - Bio-based Industries Innovation action - Demonstration\",\"BBI-IA-DEMO - Bio-based Industries Innovation action - Demonstration\",\"BBI-IA-DEMO - Bio-based Industries Innovation action - Demonstration\",\"BBI-IA-DEMO - Bio-based Industries Innovation action - Demonstration\",\"BBI-IA-DEMO - Bio-based Industries Innovation action - Demonstration\",\"BBI-IA-DEMO - Bio-based Industries Innovation action - Demonstration\",\"BBI-IA-DEMO - Bio-based Industries Innovation action - Demonstration\",\"BBI-IA-DEMO - Bio-based Industries Innovation action - Demonstration\",\"BBI-IA-DEMO - Bio-based Industries Innovation action - Demonstration\",\"BBI-IA-FLAG - Bio-based Industries Innovation action - Flagship\",\"BBI-IA-FLAG - Bio-based Industries Innovation action - Flagship\",\"BBI-IA-FLAG - Bio-based Industries Innovation action - Flagship\",\"BBI-IA-FLAG - Bio-based Industries Innovation action - Flagship\",\"BBI-IA-FLAG - Bio-based Industries Innovation action - Flagship\",\"BBI-IA-FLAG - Bio-based Industries Innovation action - Flagship\",\"BBI-IA-FLAG - Bio-based Industries Innovation action - Flagship\",\"BBI-IA-FLAG - Bio-based Industries Innovation action - Flagship\",\"BBI-IA-FLAG - Bio-based Industries Innovation action - Flagship\",\"BBI-IA-FLAG - Bio-based Industries Innovation action - Flagship\",\"BBI-RIA - Bio-based Industries Research and Innovation action\",\"BBI-RIA - Bio-based Industries Research and Innovation action\",\"BBI-RIA - Bio-based Industries Research and Innovation action\",\"BBI-RIA - Bio-based Industries Research and Innovation action\",\"BBI-RIA - Bio-based Industries Research and Innovation action\",\"BBI-RIA - Bio-based Industries Research and Innovation action\",\"BBI-RIA - Bio-based Industries Research and Innovation action\",\"BBI-RIA - Bio-based Industries Research and Innovation action\",\"BBI-RIA - Bio-based Industries Research and Innovation action\",\"BBI-RIA - Bio-based Industries Research and Innovation action\",\"BBI-RIA - Bio-based Industries Research and Innovation action\",\"BBI-RIA - Bio-based Industries Research and Innovation action\",\"BBI-RIA - Bio-based Industries Research and Innovation action\",\"BBI-RIA - Bio-based Industries Research and Innovation action\",\"BBI-RIA - Bio-based Industries Research and Innovation action\",\"COFUND-EJP - COFUND (European Joint Programme)\",\"COFUND-EJP - COFUND (European Joint Programme)\",\"COFUND-EJP - COFUND (European Joint Programme)\",\"COFUND-EJP - COFUND (European Joint Programme)\",\"COFUND-PCP - COFUND (PCP)\",\"COFUND-PCP - COFUND (PCP)\",\"COFUND-PCP - COFUND (PCP)\",\"COFUND-PCP - COFUND (PCP)\",\"COFUND-PCP - COFUND (PCP)\",\"CS2-CSA - Coordination & support action\",\"CS2-IA - Innovation action\",\"CS2-IA - Innovation action\",\"CS2-IA - Innovation action\",\"CS2-IA - Innovation action\",\"CS2-IA - Innovation action\",\"CS2-IA - Innovation action\",\"CS2-IA - Innovation action\",\"CS2-IA - Innovation action\",\"CS2-IA - Innovation action\",\"CS2-IA - Innovation action\",\"CS2-IA - Innovation action\",\"CS2-IA - Innovation action\",\"CS2-IA - Innovation action\",\"CS2-IA - Innovation action\",\"CS2-IA - Innovation action\",\"CS2-IA - Innovation action\",\"CS2-IA - Innovation action\",\"CS2-IA - Innovation action\",\"CS2-IA - Innovation action\",\"CS2-IA - Innovation action\",\"CS2-IA - Innovation action\",\"CS2-IA - Innovation action\",\"CS2-RIA - Research and Innovation action\",\"CS2-RIA - Research and Innovation action\",\"CS2-RIA - Research and Innovation action\",\"CS2-RIA - Research and Innovation action\",\"CS2-RIA - Research and Innovation action\",\"CS2-RIA - Research and Innovation action\",\"CS2-RIA - Research and Innovation action\",\"CS2-RIA - Research and Innovation action\",\"CS2-RIA - Research and Innovation action\",\"CS2-RIA - Research and Innovation action\",\"CS2-RIA - Research and Innovation action\",\"CS2-RIA - Research and Innovation action\",\"CS2-RIA - Research and Innovation action\",\"CS2-RIA - Research and Innovation action\",\"CS2-RIA - Research and Innovation action\",\"CS2-RIA - Research and Innovation action\",\"CS2-RIA - Research and Innovation action\",\"CSA - Coordination and support action\",\"CSA - Coordination and support action\",\"CSA - Coordination and support action\",\"CSA - Coordination and support action\",\"CSA - Coordination and support action\",\"CSA - Coordination and support action\",\"CSA - Coordination and support action\",\"CSA - Coordination and support action\",\"CSA - Coordination and support action\",\"CSA - Coordination and support action\",\"CSA - Coordination and support action\",\"CSA - Coordination and support action\",\"CSA - Coordination and support action\",\"CSA - Coordination and support action\",\"CSA - Coordination and support action\",\"CSA - Coordination and support action\",\"CSA - Coordination and support action\",\"CSA - Coordination and support action\",\"CSA - Coordination and support action\",\"CSA - Coordination and support action\",\"CSA - Coordination and support action\",\"CSA - Coordination and support action\",\"CSA - Coordination and support action\",\"CSA - Coordination and support action\",\"CSA - Coordination and support action\",\"CSA - Coordination and support action\",\"CSA - Coordination and support action\",\"CSA - Coordination and support action\",\"CSA - Coordination and support action\",\"CSA - Coordination and support action\",\"CSA-LS - CSA Lump sum\",\"CSA-LS - CSA Lump sum\",\"CSA-LS - CSA Lump sum\",\"CSA-LS - CSA Lump sum\",\"ECSEL-CSA - ECSEL Coordination & Support action\",\"ECSEL-CSA - ECSEL Coordination & Support action\",\"ECSEL-CSA - ECSEL Coordination & Support action\",\"ECSEL-CSA - ECSEL Coordination & Support action\",\"ECSEL-CSA - ECSEL Coordination & Support action\",\"ECSEL-IA - ECSEL Innovation Action\",\"ECSEL-IA - ECSEL Innovation Action\",\"ECSEL-IA - ECSEL Innovation Action\",\"ECSEL-IA - ECSEL Innovation Action\",\"ECSEL-IA - ECSEL Innovation Action\",\"ECSEL-IA - ECSEL Innovation Action\",\"ECSEL-IA - ECSEL Innovation Action\",\"ECSEL-IA - ECSEL Innovation Action\",\"ECSEL-IA - ECSEL Innovation Action\",\"ECSEL-IA - ECSEL Innovation Action\",\"ECSEL-IA - ECSEL Innovation Action\",\"ECSEL-IA - ECSEL Innovation Action\",\"ECSEL-IA - ECSEL Innovation Action\",\"ECSEL-IA - ECSEL Innovation Action\",\"ECSEL-IA - ECSEL Innovation Action\",\"ECSEL-IA - ECSEL Innovation Action\",\"ECSEL-IA - ECSEL Innovation Action\",\"ECSEL-IA - ECSEL Innovation Action\",\"ECSEL-IA - ECSEL Innovation Action\",\"ECSEL-RIA - ECSEL Research and Innovation Action\",\"ECSEL-RIA - ECSEL Research and Innovation Action\",\"ECSEL-RIA - ECSEL Research and Innovation Action\",\"ECSEL-RIA - ECSEL Research and Innovation Action\",\"ECSEL-RIA - ECSEL Research and Innovation Action\",\"ECSEL-RIA - ECSEL Research and Innovation Action\",\"ECSEL-RIA - ECSEL Research and Innovation Action\",\"ECSEL-RIA - ECSEL Research and Innovation Action\",\"ECSEL-RIA - ECSEL Research and Innovation Action\",\"ECSEL-RIA - ECSEL Research and Innovation Action\",\"ECSEL-RIA - ECSEL Research and Innovation Action\",\"ECSEL-RIA - ECSEL Research and Innovation Action\",\"ECSEL-RIA - ECSEL Research and Innovation Action\",\"ECSEL-RIA - ECSEL Research and Innovation Action\",\"ECSEL-RIA - ECSEL Research and Innovation Action\",\"ECSEL-RIA - ECSEL Research and Innovation Action\",\"ECSEL-RIA - ECSEL Research and Innovation Action\",\"ECSEL-RIA - ECSEL Research and Innovation Action\",\"ECSEL-RIA - ECSEL Research and Innovation Action\",\"ECSEL-RIA - ECSEL Research and Innovation Action\",\"ERA-NET-Cofund - ERA-NET Cofund\",\"ERA-NET-Cofund - ERA-NET Cofund\",\"ERA-NET-Cofund - ERA-NET Cofund\",\"ERA-NET-Cofund - ERA-NET Cofund\",\"ERC-ADG - Advanced Grant\",\"ERC-ADG - Advanced Grant\",\"ERC-ADG - Advanced Grant\",\"ERC-ADG - Advanced Grant\",\"ERC-ADG - Advanced Grant\",\"ERC-ADG - Advanced Grant\",\"ERC-ADG - Advanced Grant\",\"ERC-ADG - Advanced Grant\",\"ERC-ADG - Advanced Grant\",\"ERC-COG - Consolidator Grant\",\"ERC-COG - Consolidator Grant\",\"ERC-COG - Consolidator Grant\",\"ERC-COG - Consolidator Grant\",\"ERC-COG - Consolidator Grant\",\"ERC-COG - Consolidator Grant\",\"ERC-COG - Consolidator Grant\",\"ERC-COG - Consolidator Grant\",\"ERC-COG - Consolidator Grant\",\"ERC-POC - Proof of Concept Grant\",\"ERC-POC - Proof of Concept Grant\",\"ERC-POC - Proof of Concept Grant\",\"ERC-POC - Proof of Concept Grant\",\"ERC-POC - Proof of Concept Grant\",\"ERC-POC - Proof of Concept Grant\",\"ERC-POC - Proof of Concept Grant\",\"ERC-POC - Proof of Concept Grant\",\"ERC-POC - Proof of Concept Grant\",\"ERC-POC-LS - ERC Proof of Concept Lump Sum Pilot\",\"ERC-STG - Starting Grant\",\"ERC-STG - Starting Grant\",\"ERC-STG - Starting Grant\",\"ERC-STG - Starting Grant\",\"ERC-STG - Starting Grant\",\"ERC-STG - Starting Grant\",\"ERC-STG - Starting Grant\",\"ERC-STG - Starting Grant\",\"FCH2-CSA - Coordination & support action\",\"FCH2-CSA - Coordination & support action\",\"FCH2-CSA - Coordination & support action\",\"FCH2-CSA - Coordination & support action\",\"FCH2-CSA - Coordination & support action\",\"FCH2-IA - Innovation action\",\"FCH2-IA - Innovation action\",\"FCH2-IA - Innovation action\",\"FCH2-IA - Innovation action\",\"FCH2-IA - Innovation action\",\"FCH2-IA - Innovation action\",\"FCH2-IA - Innovation action\",\"FCH2-IA - Innovation action\",\"FCH2-RIA - Research and Innovation action\",\"FCH2-RIA - Research and Innovation action\",\"FCH2-RIA - Research and Innovation action\",\"FCH2-RIA - Research and Innovation action\",\"FCH2-RIA - Research and Innovation action\",\"FCH2-RIA - Research and Innovation action\",\"FCH2-RIA - Research and Innovation action\",\"FCH2-RIA - Research and Innovation action\",\"FCH2-RIA - Research and Innovation action\",\"FCH2-RIA - Research and Innovation action\",\"FCH2-RIA - Research and Innovation action\",\"H2020-EEN-SGA - Specific Grant Agreement Enterprise Europe Network (EEN)\",\"H2020-EEN-SGA - Specific Grant Agreement Enterprise Europe Network (EEN)\",\"H2020-EEN-SGA - Specific Grant Agreement Enterprise Europe Network (EEN)\",\"H2020-EEN-SGA - Specific Grant Agreement Enterprise Europe Network (EEN)\",\"H2020-EEN-SGA - Specific Grant Agreement Enterprise Europe Network (EEN)\",\"H2020-EEN-SGA - Specific Grant Agreement Enterprise Europe Network (EEN)\",\"IA - Innovation action\",\"IA - Innovation action\",\"IA - Innovation action\",\"IA - Innovation action\",\"IA - Innovation action\",\"IA - Innovation action\",\"IA - Innovation action\",\"IA - Innovation action\",\"IA - Innovation action\",\"IA - Innovation action\",\"IA - Innovation action\",\"IA - Innovation action\",\"IA - Innovation action\",\"IA - Innovation action\",\"IA - Innovation action\",\"IA - Innovation action\",\"IA - Innovation action\",\"IA - Innovation action\",\"IA - Innovation action\",\"IA - Innovation action\",\"IA - Innovation action\",\"IA - Innovation action\",\"IA - Innovation action\",\"IA - Innovation action\",\"IA - Innovation action\",\"IA - Innovation action\",\"IA-LS - Innovation action Lump Sum\",\"IA-LS - Innovation action Lump Sum\",\"IMI2-CSA - Coordination & support action\",\"IMI2-CSA - Coordination & support action\",\"IMI2-CSA - Coordination & support action\",\"IMI2-CSA - Coordination & support action\",\"IMI2-CSA - Coordination & support action\",\"IMI2-RIA - Research and Innovation action\",\"IMI2-RIA - Research and Innovation action\",\"IMI2-RIA - Research and Innovation action\",\"IMI2-RIA - Research and Innovation action\",\"IMI2-RIA - Research and Innovation action\",\"IMI2-RIA - Research and Innovation action\",\"IMI2-RIA - Research and Innovation action\",\"IMI2-RIA - Research and Innovation action\",\"IMI2-RIA - Research and Innovation action\",\"IMI2-RIA - Research and Innovation action\",\"IMI2-RIA - Research and Innovation action\",\"IMI2-RIA - Research and Innovation action\",\"MSCA-COFUND-DP - Doctoral programmes\",\"MSCA-COFUND-DP - Doctoral programmes\",\"MSCA-COFUND-DP - Doctoral programmes\",\"MSCA-COFUND-DP - Doctoral programmes\",\"MSCA-COFUND-DP - Doctoral programmes\",\"MSCA-COFUND-DP - Doctoral programmes\",\"MSCA-COFUND-DP - Doctoral programmes\",\"MSCA-COFUND-FP - Fellowship programmes\",\"MSCA-COFUND-FP - Fellowship programmes\",\"MSCA-COFUND-FP - Fellowship programmes\",\"MSCA-COFUND-FP - Fellowship programmes\",\"MSCA-COFUND-FP - Fellowship programmes\",\"MSCA-COFUND-FP - Fellowship programmes\",\"MSCA-COFUND-FP - Fellowship programmes\",\"MSCA-COFUND-FP - Fellowship programmes\",\"MSCA-IF-EF-CAR - CAR \\u2013 Career Restart panel\",\"MSCA-IF-EF-RI - RI \\u2013 Reintegration panel\",\"MSCA-IF-EF-RI - RI \\u2013 Reintegration panel\",\"MSCA-IF-EF-SE - Society and Enterprise panel\",\"MSCA-IF-EF-SE - Society and Enterprise panel\",\"MSCA-IF-EF-SE - Society and Enterprise panel\",\"MSCA-IF-EF-SE - Society and Enterprise panel\",\"MSCA-IF-EF-SE - Society and Enterprise panel\",\"MSCA-IF-EF-SE - Society and Enterprise panel\",\"MSCA-IF-EF-SE - Society and Enterprise panel\",\"MSCA-IF-EF-SE - Society and Enterprise panel\",\"MSCA-IF-EF-SE - Society and Enterprise panel\",\"MSCA-IF-EF-ST - Standard EF\",\"MSCA-IF-EF-ST - Standard EF\",\"MSCA-IF-EF-ST - Standard EF\",\"MSCA-IF-EF-ST - Standard EF\",\"MSCA-IF-GF - Global Fellowships\",\"MSCA-IF-GF - Global Fellowships\",\"MSCA-IF-GF - Global Fellowships\",\"MSCA-IF-GF - Global Fellowships\",\"MSCA-ITN-EID - European Industrial Doctorates\",\"MSCA-ITN-EID - European Industrial Doctorates\",\"MSCA-ITN-EID - European Industrial Doctorates\",\"MSCA-ITN-EID - European Industrial Doctorates\",\"MSCA-ITN-EID - European Industrial Doctorates\",\"MSCA-ITN-EID - European Industrial Doctorates\",\"MSCA-ITN-EID - European Industrial Doctorates\",\"MSCA-ITN-EID - European Industrial Doctorates\",\"MSCA-ITN-EID - European Industrial Doctorates\",\"MSCA-ITN-EID - European Industrial Doctorates\",\"MSCA-ITN-EJD - European Joint Doctorates\",\"MSCA-ITN-EJD - European Joint Doctorates\",\"MSCA-ITN-EJD - European Joint Doctorates\",\"MSCA-ITN-EJD - European Joint Doctorates\",\"MSCA-ITN-EJD - European Joint Doctorates\",\"MSCA-ITN-EJD - European Joint Doctorates\",\"MSCA-ITN-EJD - European Joint Doctorates\",\"MSCA-ITN-ETN - European Training Networks\",\"MSCA-ITN-ETN - European Training Networks\",\"MSCA-ITN-ETN - European Training Networks\",\"MSCA-ITN-ETN - European Training Networks\",\"MSCA-ITN-ETN - European Training Networks\",\"MSCA-ITN-ETN - European Training Networks\",\"MSCA-ITN-ETN - European Training Networks\",\"MSCA-ITN-ETN - European Training Networks\",\"MSCA-RISE - Marie Sk\\u0142odowska-Curie Research and Innovation Staff Exchange (RISE)\",\"MSCA-RISE - Marie Sk\\u0142odowska-Curie Research and Innovation Staff Exchange (RISE)\",\"MSCA-RISE - Marie Sk\\u0142odowska-Curie Research and Innovation Staff Exchange (RISE)\",\"MSCA-RISE - Marie Sk\\u0142odowska-Curie Research and Innovation Staff Exchange (RISE)\",\"MSCA-RISE - Marie Sk\\u0142odowska-Curie Research and Innovation Staff Exchange (RISE)\",\"MSCA-RISE - Marie Sk\\u0142odowska-Curie Research and Innovation Staff Exchange (RISE)\",\"MSCA-RISE - Marie Sk\\u0142odowska-Curie Research and Innovation Staff Exchange (RISE)\",\"PCP - Pre-Commercial Procurement\",\"PCP - Pre-Commercial Procurement\",\"RIA - Research and Innovation action\",\"RIA - Research and Innovation action\",\"RIA - Research and Innovation action\",\"RIA - Research and Innovation action\",\"RIA - Research and Innovation action\",\"RIA - Research and Innovation action\",\"RIA - Research and Innovation action\",\"RIA - Research and Innovation action\",\"RIA - Research and Innovation action\",\"RIA - Research and Innovation action\",\"RIA - Research and Innovation action\",\"RIA - Research and Innovation action\",\"SESAR-CSA - Coordination and Support Action\",\"SESAR-CSA - Coordination and Support Action\",\"SESAR-IA - Innovation action\",\"SESAR-IA - Innovation action\",\"SESAR-IA - Innovation action\",\"SESAR-IA - Innovation action\",\"SESAR-RIA - Research and Innovation action\",\"SESAR-RIA - Research and Innovation action\",\"SESAR-RIA - Research and Innovation action\",\"SESAR-RIA - Research and Innovation action\",\"SGA-RIA - SGA-RIA\",\"SGA-RIA - SGA-RIA\",\"SGA-RIA - SGA-RIA\",\"SME-1 - SME instrument phase 1\",\"SME-1 - SME instrument phase 1\",\"SME-1 - SME instrument phase 1\",\"SME-2 - SME instrument phase 2\",\"SME-2 - SME instrument phase 2\",\"Shift2Rail-CSA - Coordination and Support Action\",\"Shift2Rail-IA - Innovation action\",\"Shift2Rail-IA - Innovation action\",\"Shift2Rail-IA - Innovation action\",\"Shift2Rail-IA - Innovation action\",\"Shift2Rail-IA-LS - Innovation Action Lump-Sum\",\"Shift2Rail-IA-LS - Innovation Action Lump-Sum\",\"Shift2Rail-IA-LS - Innovation Action Lump-Sum\",\"Shift2Rail-RIA - Research and Innovation action\",\"Shift2Rail-RIA - Research and Innovation action\",\"Shift2Rail-RIA-LS - Shift2Rail Research and Innovation Action Lump-Sum\"]},\"selected\":{\"id\":\"1119\",\"type\":\"Selection\"},\"selection_policy\":{\"id\":\"1120\",\"type\":\"UnionRenderers\"}},\"id\":\"1044\",\"type\":\"ColumnDataSource\"},{\"attributes\":{\"active_drag\":\"auto\",\"active_inspect\":\"auto\",\"active_multi\":null,\"active_scroll\":\"auto\",\"active_tap\":\"auto\",\"tools\":[{\"id\":\"1023\",\"type\":\"PanTool\"},{\"id\":\"1024\",\"type\":\"WheelZoomTool\"},{\"id\":\"1025\",\"type\":\"BoxZoomTool\"},{\"id\":\"1026\",\"type\":\"SaveTool\"},{\"id\":\"1027\",\"type\":\"ResetTool\"},{\"id\":\"1028\",\"type\":\"HelpTool\"},{\"id\":\"1089\",\"type\":\"HoverTool\"},{\"id\":\"1098\",\"type\":\"TapTool\"},{\"id\":\"1099\",\"type\":\"BoxSelectTool\"}]},\"id\":\"1029\",\"type\":\"Toolbar\"},{\"attributes\":{\"data_source\":{\"id\":\"1044\",\"type\":\"ColumnDataSource\"},\"glyph\":{\"id\":\"1072\",\"type\":\"MultiLine\"},\"hover_glyph\":{\"id\":\"1082\",\"type\":\"MultiLine\"},\"muted_glyph\":null,\"selection_glyph\":{\"id\":\"1077\",\"type\":\"MultiLine\"},\"view\":{\"id\":\"1046\",\"type\":\"CDSView\"}},\"id\":\"1045\",\"type\":\"GlyphRenderer\"},{\"attributes\":{\"callback\":null,\"tooltips\":[[\"Name:\",\"@name\"]]},\"id\":\"1089\",\"type\":\"HoverTool\"},{\"attributes\":{\"source\":{\"id\":\"1044\",\"type\":\"ColumnDataSource\"}},\"id\":\"1046\",\"type\":\"CDSView\"},{\"attributes\":{\"callback\":null,\"data\":{\"index\":[\"BBI-CSA - Bio-based Industries Coordination and Support action\",\"BBI-IA-DEMO - Bio-based Industries Innovation action - Demonstration\",\"BBI-IA-FLAG - Bio-based Industries Innovation action - Flagship\",\"BBI-RIA - Bio-based Industries Research and Innovation action\",\"COFUND-EJP - COFUND (European Joint Programme)\",\"COFUND-PCP - COFUND (PCP)\",\"CS2-CSA - Coordination & support action\",\"CS2-IA - Innovation action\",\"CS2-RIA - Research and Innovation action\",\"CSA - Coordination and support action\",\"CSA-LS - CSA Lump sum\",\"ECSEL-CSA - ECSEL Coordination & Support action\",\"ECSEL-IA - ECSEL Innovation Action\",\"ECSEL-RIA - ECSEL Research and Innovation Action\",\"ERA-NET-Cofund - ERA-NET Cofund\",\"ERC-ADG - Advanced Grant\",\"ERC-COG - Consolidator Grant\",\"ERC-POC - Proof of Concept Grant\",\"ERC-POC-LS - ERC Proof of Concept Lump Sum Pilot\",\"ERC-STG - Starting Grant\",\"FCH2-CSA - Coordination & support action\",\"FCH2-IA - Innovation action\",\"FCH2-RIA - Research and Innovation action\",\"H2020-EEN-SGA - Specific Grant Agreement Enterprise Europe Network (EEN)\",\"IA - Innovation action\",\"IA-LS - Innovation action Lump Sum\",\"IMI2-CSA - Coordination & support action\",\"IMI2-RIA - Research and Innovation action\",\"MSCA-COFUND-DP - Doctoral programmes\",\"MSCA-COFUND-FP - Fellowship programmes\",\"MSCA-IF-EF-CAR - CAR \\u2013 Career Restart panel\",\"MSCA-IF-EF-RI - RI \\u2013 Reintegration panel\",\"MSCA-IF-EF-SE - Society and Enterprise panel\",\"MSCA-IF-EF-ST - Standard EF\",\"MSCA-IF-GF - Global Fellowships\",\"MSCA-ITN-EID - European Industrial Doctorates\",\"MSCA-ITN-EJD - European Joint Doctorates\",\"MSCA-ITN-ETN - European Training Networks\",\"MSCA-RISE - Marie Sk\\u0142odowska-Curie Research and Innovation Staff Exchange (RISE)\",\"PCP - Pre-Commercial Procurement\",\"RIA - Research and Innovation action\",\"SESAR-CSA - Coordination and Support Action\",\"SESAR-IA - Innovation action\",\"SESAR-RIA - Research and Innovation action\",\"SGA-RIA - SGA-RIA\",\"SME-1 - SME instrument phase 1\",\"SME-2 - SME instrument phase 2\",\"Shift2Rail-CSA - Coordination and Support Action\",\"Shift2Rail-IA - Innovation action\",\"Shift2Rail-IA-LS - Innovation Action Lump-Sum\",\"Shift2Rail-RIA - Research and Innovation action\",\"Shift2Rail-RIA-LS - Shift2Rail Research and Innovation Action Lump-Sum\",\"PPI - Public Procurement of Innovative solutions\",\"SGA-CSA - Specific Grant agreement and Coordination and Support Action\",\"RIA-LS - Research and Innovation action Lump Sum\"],\"name\":[\"BBI-CSA - Bio-based Industries Coordination and Support action\",\"BBI-IA-DEMO - Bio-based Industries Innovation action - Demonstration\",\"BBI-IA-FLAG - Bio-based Industries Innovation action - Flagship\",\"BBI-RIA - Bio-based Industries Research and Innovation action\",\"COFUND-EJP - COFUND (European Joint Programme)\",\"COFUND-PCP - COFUND (PCP)\",\"CS2-CSA - Coordination & support action\",\"CS2-IA - Innovation action\",\"CS2-RIA - Research and Innovation action\",\"CSA - Coordination and support action\",\"CSA-LS - CSA Lump sum\",\"ECSEL-CSA - ECSEL Coordination & Support action\",\"ECSEL-IA - ECSEL Innovation Action\",\"ECSEL-RIA - ECSEL Research and Innovation Action\",\"ERA-NET-Cofund - ERA-NET Cofund\",\"ERC-ADG - Advanced Grant\",\"ERC-COG - Consolidator Grant\",\"ERC-POC - Proof of Concept Grant\",\"ERC-POC-LS - ERC Proof of Concept Lump Sum Pilot\",\"ERC-STG - Starting Grant\",\"FCH2-CSA - Coordination & support action\",\"FCH2-IA - Innovation action\",\"FCH2-RIA - Research and Innovation action\",\"H2020-EEN-SGA - Specific Grant Agreement Enterprise Europe Network (EEN)\",\"IA - Innovation action\",\"IA-LS - Innovation action Lump Sum\",\"IMI2-CSA - Coordination & support action\",\"IMI2-RIA - Research and Innovation action\",\"MSCA-COFUND-DP - Doctoral programmes\",\"MSCA-COFUND-FP - Fellowship programmes\",\"MSCA-IF-EF-CAR - CAR \\u2013 Career Restart panel\",\"MSCA-IF-EF-RI - RI \\u2013 Reintegration panel\",\"MSCA-IF-EF-SE - Society and Enterprise panel\",\"MSCA-IF-EF-ST - Standard EF\",\"MSCA-IF-GF - Global Fellowships\",\"MSCA-ITN-EID - European Industrial Doctorates\",\"MSCA-ITN-EJD - European Joint Doctorates\",\"MSCA-ITN-ETN - European Training Networks\",\"MSCA-RISE - Marie Sk\\u0142odowska-Curie Research and Innovation Staff Exchange (RISE)\",\"PCP - Pre-Commercial Procurement\",\"RIA - Research and Innovation action\",\"SESAR-CSA - Coordination and Support Action\",\"SESAR-IA - Innovation action\",\"SESAR-RIA - Research and Innovation action\",\"SGA-RIA - SGA-RIA\",\"SME-1 - SME instrument phase 1\",\"SME-2 - SME instrument phase 2\",\"Shift2Rail-CSA - Coordination and Support Action\",\"Shift2Rail-IA - Innovation action\",\"Shift2Rail-IA-LS - Innovation Action Lump-Sum\",\"Shift2Rail-RIA - Research and Innovation action\",\"Shift2Rail-RIA-LS - Shift2Rail Research and Innovation Action Lump-Sum\",\"PPI - Public Procurement of Innovative solutions\",\"SGA-CSA - Specific Grant agreement and Coordination and Support Action\",\"RIA-LS - Research and Innovation action Lump Sum\"]},\"selected\":{\"id\":\"1121\",\"type\":\"Selection\"},\"selection_policy\":{\"id\":\"1122\",\"type\":\"UnionRenderers\"}},\"id\":\"1040\",\"type\":\"ColumnDataSource\"},{\"attributes\":{},\"id\":\"1104\",\"type\":\"BasicTickFormatter\"},{\"attributes\":{\"fill_color\":{\"value\":\"#abdda4\"},\"size\":{\"units\":\"screen\",\"value\":15}},\"id\":\"1062\",\"type\":\"Circle\"},{\"attributes\":{\"bottom_units\":\"screen\",\"fill_alpha\":{\"value\":0.5},\"fill_color\":{\"value\":\"lightgrey\"},\"left_units\":\"screen\",\"level\":\"overlay\",\"line_alpha\":{\"value\":1.0},\"line_color\":{\"value\":\"black\"},\"line_dash\":[4,4],\"line_width\":{\"value\":2},\"render_mode\":\"css\",\"right_units\":\"screen\",\"top_units\":\"screen\"},\"id\":\"1117\",\"type\":\"BoxAnnotation\"},{\"attributes\":{\"callback\":null},\"id\":\"1098\",\"type\":\"TapTool\"},{\"attributes\":{},\"id\":\"1019\",\"type\":\"BasicTicker\"},{\"attributes\":{\"graph_layout\":{\"BBI-CSA - Bio-based Industries Coordination and Support action\":[-0.23459316558860238,-0.056082684290486205],\"BBI-IA-DEMO - Bio-based Industries Innovation action - Demonstration\":[-0.1305739592130905,-0.011166856053330804],\"BBI-IA-FLAG - Bio-based Industries Innovation action - Flagship\":[-0.05992108463015411,0.12165996563611291],\"BBI-RIA - Bio-based Industries Research and Innovation action\":[-0.055468709712279324,0.055442180838434024],\"COFUND-EJP - COFUND (European Joint Programme)\":[0.00532896052428183,0.20196390577024473],\"COFUND-PCP - COFUND (PCP)\":[-0.047318859444868994,-0.2561435351322449],\"CS2-CSA - Coordination & support action\":[2.0,0.5816398231480995],\"CS2-IA - Innovation action\":[-0.041343594561657,-0.04938288423283619],\"CS2-RIA - Research and Innovation action\":[-0.017994839914756047,-0.09307518461753982],\"CSA - Coordination and support action\":[-0.09520565436331709,-0.056675107547424074],\"CSA-LS - CSA Lump sum\":[-0.08992721587779733,-0.22399200871319785],\"ECSEL-CSA - ECSEL Coordination & Support action\":[0.08069347973948006,-0.0969946799456294],\"ECSEL-IA - ECSEL Innovation Action\":[0.0026909942902953047,0.0030682089475280896],\"ECSEL-RIA - ECSEL Research and Innovation Action\":[0.018062078411835384,-0.06810499198814352],\"ERA-NET-Cofund - ERA-NET Cofund\":[-0.23156038240711374,-0.1697504951122958],\"ERC-ADG - Advanced Grant\":[-0.10529234290250303,0.22523928895399567],\"ERC-COG - Consolidator Grant\":[-0.1736257694558916,0.21593365439465328],\"ERC-POC - Proof of Concept Grant\":[-0.10708346357574959,0.1595895488904952],\"ERC-POC-LS - ERC Proof of Concept Lump Sum Pilot\":[0.3512234827619755,-0.12281142762107594],\"ERC-STG - Starting Grant\":[-0.1406757376745961,0.1322437705484794],\"FCH2-CSA - Coordination & support action\":[-0.16361521369339518,-0.19840020092305943],\"FCH2-IA - Innovation action\":[-0.13152897272461164,-0.0911239026956768],\"FCH2-RIA - Research and Innovation action\":[-0.0662394196804187,-0.1067780832090233],\"H2020-EEN-SGA - Specific Grant Agreement Enterprise Europe Network (EEN)\":[-0.1164056576698954,-0.16811945903719125],\"IA - Innovation action\":[-0.0010244135758861617,-0.0324838681290727],\"IA-LS - Innovation action Lump Sum\":[0.15727763228502992,-0.11284466674525352],\"IMI2-CSA - Coordination & support action\":[0.04683251941521128,0.17473200530389094],\"IMI2-RIA - Research and Innovation action\":[-0.002761953321624903,0.10231644787794028],\"MSCA-COFUND-DP - Doctoral programmes\":[-0.10575759583487722,0.06626352450411957],\"MSCA-COFUND-FP - Fellowship programmes\":[-0.16824711862587072,0.07650572984661051],\"MSCA-IF-EF-CAR - CAR \\u2013 Career Restart panel\":[-0.4392275634286388,0.16139523875833825],\"MSCA-IF-EF-RI - RI \\u2013 Reintegration panel\":[0.12307569814511603,0.05895860227234083],\"MSCA-IF-EF-SE - Society and Enterprise panel\":[-0.13034092985026835,0.08631683914414812],\"MSCA-IF-EF-ST - Standard EF\":[-0.2068938585162026,0.15726610711230546],\"MSCA-IF-GF - Global Fellowships\":[-0.2897092829927834,0.10096054536845239],\"MSCA-ITN-EID - European Industrial Doctorates\":[-0.08205420256677616,0.0066553748060177425],\"MSCA-ITN-EJD - European Joint Doctorates\":[0.028671669068079705,0.04650494333936589],\"MSCA-ITN-ETN - European Training Networks\":[-0.11801674597016304,0.03318496923979017],\"MSCA-RISE - Marie Sk\\u0142odowska-Curie Research and Innovation Staff Exchange (RISE)\":[-0.0817907623646374,0.03920405766497731],\"PCP - Pre-Commercial Procurement\":[0.004222482169282644,-0.2384905463266103],\"PPI - Public Procurement of Innovative solutions\":[-0.3625537654755018,-0.28121003651895843],\"RIA - Research and Innovation action\":[-0.026833215537733646,0.0035117513305261087],\"RIA-LS - Research and Innovation action Lump Sum\":[0.19754187625679914,0.10546878521716434],\"SESAR-CSA - Coordination and Support Action\":[0.23102580950594592,-0.06930809021150565],\"SESAR-IA - Innovation action\":[0.1180081519542266,-0.041482555259046],\"SESAR-RIA - Research and Innovation action\":[0.039405517376482214,-0.10426517197472117],\"SGA-CSA - Specific Grant agreement and Coordination and Support Action\":[0.18353930088400783,-0.36889650851588107],\"SGA-RIA - SGA-RIA\":[-0.17600765546023162,-0.006247175279745851],\"SME-1 - SME instrument phase 1\":[-0.03515471292001488,0.03064328669306977],\"SME-2 - SME instrument phase 2\":[-0.07487063191309211,-0.02352175572806347],\"Shift2Rail-CSA - Coordination and Support Action\":[0.16173239199412076,-0.18103500448483154],\"Shift2Rail-IA - Innovation action\":[0.08660967956049821,0.1174677561892258],\"Shift2Rail-IA-LS - Innovation Action Lump-Sum\":[0.1912405024769914,0.024607632982371275],\"Shift2Rail-RIA - Research and Innovation action\":[0.061027431944739106,-0.012614476385286406],\"Shift2Rail-RIA-LS - Shift2Rail Research and Innovation Action Lump-Sum\":[0.22140879268060415,0.152257411899433]}},\"id\":\"1051\",\"type\":\"StaticLayoutProvider\"},{\"attributes\":{\"callback\":null,\"overlay\":{\"id\":\"1118\",\"type\":\"BoxAnnotation\"}},\"id\":\"1099\",\"type\":\"BoxSelectTool\"},{\"attributes\":{},\"id\":\"1115\",\"type\":\"BasicTickFormatter\"},{\"attributes\":{},\"id\":\"1106\",\"type\":\"NodesOnly\"},{\"attributes\":{\"fill_color\":{\"value\":\"#fdae61\"},\"size\":{\"units\":\"screen\",\"value\":15}},\"id\":\"1057\",\"type\":\"Circle\"},{\"attributes\":{},\"id\":\"1014\",\"type\":\"BasicTicker\"},{\"attributes\":{},\"id\":\"1122\",\"type\":\"UnionRenderers\"},{\"attributes\":{\"fill_color\":{\"value\":\"blue\"},\"size\":{\"units\":\"screen\",\"value\":10}},\"id\":\"1052\",\"type\":\"Circle\"},{\"attributes\":{\"formatter\":{\"id\":\"1104\",\"type\":\"BasicTickFormatter\"},\"ticker\":{\"id\":\"1014\",\"type\":\"BasicTicker\"}},\"id\":\"1013\",\"type\":\"LinearAxis\"},{\"attributes\":{\"bottom_units\":\"screen\",\"fill_alpha\":{\"value\":0.5},\"fill_color\":{\"value\":\"lightgrey\"},\"left_units\":\"screen\",\"level\":\"overlay\",\"line_alpha\":{\"value\":1.0},\"line_color\":{\"value\":\"black\"},\"line_dash\":[4,4],\"line_width\":{\"value\":2},\"render_mode\":\"css\",\"right_units\":\"screen\",\"top_units\":\"screen\"},\"id\":\"1118\",\"type\":\"BoxAnnotation\"},{\"attributes\":{\"callback\":null,\"end\":2.1,\"start\":-2.1},\"id\":\"1005\",\"type\":\"Range1d\"},{\"attributes\":{\"line_color\":{\"value\":\"#fdae61\"},\"line_width\":{\"value\":1.5}},\"id\":\"1077\",\"type\":\"MultiLine\"},{\"attributes\":{\"ticker\":{\"id\":\"1014\",\"type\":\"BasicTicker\"}},\"id\":\"1017\",\"type\":\"Grid\"},{\"attributes\":{\"fill_alpha\":{\"value\":0.9},\"size\":{\"units\":\"screen\",\"value\":15}},\"id\":\"1067\",\"type\":\"Circle\"},{\"attributes\":{},\"id\":\"1119\",\"type\":\"Selection\"},{\"attributes\":{\"callback\":null,\"end\":2.1,\"start\":-2.1},\"id\":\"1007\",\"type\":\"Range1d\"},{\"attributes\":{\"formatter\":{\"id\":\"1115\",\"type\":\"BasicTickFormatter\"},\"ticker\":{\"id\":\"1019\",\"type\":\"BasicTicker\"}},\"id\":\"1018\",\"type\":\"LinearAxis\"},{\"attributes\":{},\"id\":\"1011\",\"type\":\"LinearScale\"},{\"attributes\":{\"line_color\":{\"value\":\"#CCCCCC\"}},\"id\":\"1072\",\"type\":\"MultiLine\"}],\"root_ids\":[\"1002\"]},\"title\":\"Bokeh Application\",\"version\":\"1.3.4\"}};\n",
       "  var render_items = [{\"docid\":\"25fec55b-92ce-4405-b718-c10ac88a1e6d\",\"roots\":{\"1002\":\"dae2b868-eb57-4700-a249-e6952249e169\"}}];\n",
       "  root.Bokeh.embed.embed_items_notebook(docs_json, render_items);\n",
       "\n",
       "  }\n",
       "  if (root.Bokeh !== undefined) {\n",
       "    embed_document(root);\n",
       "  } else {\n",
       "    var attempts = 0;\n",
       "    var timer = setInterval(function(root) {\n",
       "      if (root.Bokeh !== undefined) {\n",
       "        embed_document(root);\n",
       "        clearInterval(timer);\n",
       "      }\n",
       "      attempts++;\n",
       "      if (attempts > 100) {\n",
       "        console.log(\"Bokeh: ERROR: Unable to run BokehJS code because BokehJS library is missing\");\n",
       "        clearInterval(timer);\n",
       "      }\n",
       "    }, 10, root)\n",
       "  }\n",
       "})(window);"
      ],
      "application/vnd.bokehjs_exec.v0+json": ""
     },
     "metadata": {
      "application/vnd.bokehjs_exec.v0+json": {
       "id": "1002"
      }
     },
     "output_type": "display_data"
    }
   ],
   "source": [
    "bokeh_plot(G)"
   ]
  },
  {
   "cell_type": "code",
   "execution_count": 202,
   "metadata": {},
   "outputs": [
    {
     "name": "stdout",
     "output_type": "stream",
     "text": [
      "2\n"
     ]
    }
   ],
   "source": [
    "print(nx.number_connected_components(G))"
   ]
  },
  {
   "cell_type": "code",
   "execution_count": null,
   "metadata": {},
   "outputs": [],
   "source": []
  }
 ],
 "metadata": {
  "colab": {
   "collapsed_sections": [
    "1wVzLGfIFZJo"
   ],
   "include_colab_link": true,
   "name": "getting_data_ready.ipynb",
   "provenance": [],
   "toc_visible": true
  },
  "kernelspec": {
   "display_name": "Python 3",
   "language": "python",
   "name": "python3"
  },
  "language_info": {
   "codemirror_mode": {
    "name": "ipython",
    "version": 3
   },
   "file_extension": ".py",
   "mimetype": "text/x-python",
   "name": "python",
   "nbconvert_exporter": "python",
   "pygments_lexer": "ipython3",
   "version": "3.7.3"
  }
 },
 "nbformat": 4,
 "nbformat_minor": 1
}
