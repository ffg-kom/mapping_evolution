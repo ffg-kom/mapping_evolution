{
  "nbformat": 4,
  "nbformat_minor": 0,
  "metadata": {
    "colab": {
      "name": "getting_data_ready.ipynb",
      "provenance": [],
      "collapsed_sections": [
        "1wVzLGfIFZJo"
      ],
      "include_colab_link": true
    },
    "kernelspec": {
      "display_name": "Python 3",
      "language": "python",
      "name": "python3"
    },
    "language_info": {
      "codemirror_mode": {
        "name": "ipython",
        "version": 3
      },
      "file_extension": ".py",
      "mimetype": "text/x-python",
      "name": "python",
      "nbconvert_exporter": "python",
      "pygments_lexer": "ipython3",
      "version": "3.7.3"
    }
  },
  "cells": [
    {
      "cell_type": "markdown",
      "metadata": {
        "id": "view-in-github",
        "colab_type": "text"
      },
      "source": [
        "<a href=\"https://colab.research.google.com/github/ffg-kom/mapping_evolution/blob/master/getting_data_ready.ipynb\" target=\"_parent\"><img src=\"https://colab.research.google.com/assets/colab-badge.svg\" alt=\"Open In Colab\"/></a>"
      ]
    },
    {
      "cell_type": "markdown",
      "metadata": {
        "colab_type": "text",
        "id": "b43wvy6RBNfq"
      },
      "source": [
        "# Imports"
      ]
    },
    {
      "cell_type": "markdown",
      "metadata": {
        "colab_type": "text",
        "id": "Tlp6A0TlB3rn"
      },
      "source": [
        "The following code was copied from https://colab.research.google.com/github/nestauk/im_tutorials/blob/master/notebooks/01_intro_to_pandas_tutorial.ipynb."
      ]
    },
    {
      "cell_type": "code",
      "metadata": {
        "colab_type": "code",
        "id": "T1hId0fb7-XH",
        "outputId": "36a08956-308c-44ce-9989-df206c73cb99",
        "colab": {
          "base_uri": "https://localhost:8080/",
          "height": 240
        }
      },
      "source": [
        "%load_ext autoreload\n",
        "%autoreload 2\n",
        "\n",
        "# install im_tutorial package\n",
        "!pip install git+https://github.com/nestauk/im_tutorials.git"
      ],
      "execution_count": 243,
      "outputs": [
        {
          "output_type": "stream",
          "text": [
            "The autoreload extension is already loaded. To reload it, use:\n",
            "  %reload_ext autoreload\n",
            "Collecting git+https://github.com/nestauk/im_tutorials.git\n",
            "  Cloning https://github.com/nestauk/im_tutorials.git to /tmp/pip-req-build-qk0rlz7g\n",
            "  Running command git clone -q https://github.com/nestauk/im_tutorials.git /tmp/pip-req-build-qk0rlz7g\n",
            "Requirement already satisfied (use --upgrade to upgrade): im-tutorials==0.1.1 from git+https://github.com/nestauk/im_tutorials.git in /usr/local/lib/python3.6/dist-packages\n",
            "Building wheels for collected packages: im-tutorials\n",
            "  Building wheel for im-tutorials (setup.py) ... \u001b[?25l\u001b[?25hdone\n",
            "  Created wheel for im-tutorials: filename=im_tutorials-0.1.1-cp36-none-any.whl size=15103 sha256=ec5a5be433b7e60b69a5ee085bb6415c72ce5ac9e94beb54b83655d1d00738f8\n",
            "  Stored in directory: /tmp/pip-ephem-wheel-cache-59vxu6cu/wheels/47/a3/cb/bdc5f9ba49bcfd2c6864b166a1566eb2f104113bf0c3500330\n",
            "Successfully built im-tutorials\n"
          ],
          "name": "stdout"
        }
      ]
    },
    {
      "cell_type": "code",
      "metadata": {
        "colab_type": "code",
        "id": "xr-zKnF5ByVZ",
        "colab": {}
      },
      "source": [
        "# numpy for mathematical functions\n",
        "import numpy as np\n",
        "# pandas for handling tabular data\n",
        "import pandas as pd\n",
        "# explained later\n",
        "from im_tutorials.data.cordis import h2020_projects\n",
        "\n",
        "# for plotting\n",
        "import matplotlib.pyplot as plt\n",
        "\n",
        "# data\n",
        "from im_tutorials.data.cordis import cordis_table"
      ],
      "execution_count": 0,
      "outputs": []
    },
    {
      "cell_type": "markdown",
      "metadata": {
        "colab_type": "text",
        "id": "gD7Wa-SFFDkb"
      },
      "source": [
        "# Loading data"
      ]
    },
    {
      "cell_type": "code",
      "metadata": {
        "colab_type": "code",
        "id": "fLvnUgG5CXdf",
        "outputId": "b1303ccf-ee51-4c46-b48b-4df73f04a412",
        "colab": {
          "base_uri": "https://localhost:8080/",
          "height": 35
        }
      },
      "source": [
        "# load tables\n",
        "cordis_o_df = cordis_table('organisations')\n",
        "cordis_p_df = cordis_table('projects')\n",
        "cordis_p_o_df = cordis_table('project_organisations')\n",
        "cordis_pub_df = cordis_table('publications')\n",
        "\n",
        "# merge them\n",
        "cordis_project_orgs_df = cordis_p_o_df.merge(\n",
        "  cordis_o_df, left_on='organization_id', right_on='id', how='left'\n",
        ")\n",
        "cordis_project_orgs_df = cordis_project_orgs_df.merge(\n",
        "  cordis_p_df, left_on='project_rcn', right_on='rcn', how='left'\n",
        ")\n",
        "\n",
        "cordis_project_orgs_df.rename( columns={'contribution': 'ec_contribution_organization'\n",
        "                                        , 'ec_contribution': 'ec_contribution_project'\n",
        "                                        , 'total_cost': 'total_cost_project'\n",
        "                                       }, inplace=True )\n",
        "\n",
        "cordis_project_orgs_df.shape"
      ],
      "execution_count": 245,
      "outputs": [
        {
          "output_type": "execute_result",
          "data": {
            "text/plain": [
              "(251040, 25)"
            ]
          },
          "metadata": {
            "tags": []
          },
          "execution_count": 245
        }
      ]
    },
    {
      "cell_type": "code",
      "metadata": {
        "colab_type": "code",
        "id": "4xAHZQ9MOd_E",
        "outputId": "e2aa9e1f-814e-42c5-95a3-401edca024dc",
        "colab": {
          "base_uri": "https://localhost:8080/",
          "height": 35
        }
      },
      "source": [
        "# add number of partners per project as a column\n",
        "count_partners_df = cordis_project_orgs_df[['project_rcn', 'organization_id']].groupby( by='project_rcn' ).count()\n",
        "count_partners_df.rename( columns={'organization_id': 'number_of_partners'}, inplace=True )\n",
        "\n",
        "cordis_project_orgs_df = cordis_project_orgs_df.merge(\n",
        "  count_partners_df, on='project_rcn', how='left'\n",
        ")\n",
        "\n",
        "# add number of publications per project as a column\n",
        "count_publications_df = cordis_pub_df[['id', 'project_rcn']].groupby( by='project_rcn' ).count()\n",
        "count_publications_df.rename( columns={'id': 'number_of_publications'}, inplace=True )\n",
        "\n",
        "cordis_project_orgs_df = cordis_project_orgs_df.merge(\n",
        "  count_publications_df, on='project_rcn', how='left'\n",
        ")\n",
        "\n",
        "\n",
        "# shape: should by (something, 27) \n",
        "cordis_project_orgs_df.shape\n"
      ],
      "execution_count": 246,
      "outputs": [
        {
          "output_type": "execute_result",
          "data": {
            "text/plain": [
              "(251040, 27)"
            ]
          },
          "metadata": {
            "tags": []
          },
          "execution_count": 246
        }
      ]
    },
    {
      "cell_type": "code",
      "metadata": {
        "colab_type": "code",
        "id": "URh9mweOTru4",
        "colab": {}
      },
      "source": [
        "# preparing dictionaries to effectively group data\n",
        "dict_funding_schemes_along_programmes = {'BBI-CSA - Bio-based Industries Coordination and Support action': 'Bio-based Industries',\n",
        "                                         'BBI-IA-DEMO - Bio-based Industries Innovation action - Demonstration': 'Bio-based Industries', \n",
        "                                         'BBI-IA-FLAG - Bio-based Industries Innovation action - Flagship': 'Bio-based Industries',\n",
        "                                         'BBI-RIA - Bio-based Industries Research and Innovation action': 'Bio-based Industries', \n",
        "                                         'COFUND-EJP - COFUND (European Joint Programme)': '(general)', \n",
        "                                         'COFUND-PCP - COFUND (PCP)': '(general)', \n",
        "                                         'CS2-CSA - Coordination & support action': 'Clean Sky 2', \n",
        "                                         'CS2-IA - Innovation action': 'Clean Sky 2', \n",
        "                                         'CS2-RIA - Research and Innovation action': 'Clean Sky 2', \n",
        "                                         'CSA - Coordination and support action': '(general)', \n",
        "                                         'CSA-LS - CSA Lump sum': '(general)', \n",
        "                                         'ECSEL-CSA - ECSEL Coordination & Support action': 'ECSEL (Electronic Components and Systems for European Leadership)', \n",
        "                                         'ECSEL-IA - ECSEL Innovation Action': 'ECSEL (Electronic Components and Systems for European Leadership)', \n",
        "                                         'ECSEL-RIA - ECSEL Research and Innovation Action': 'ECSEL (Electronic Components and Systems for European Leadership)', \n",
        "                                         'ERA-NET-Cofund - ERA-NET Cofund': 'ERA-NET', \n",
        "                                         'ERC-ADG - Advanced Grant': 'ERC (European Research Council)', \n",
        "                                         'ERC-COG - Consolidator Grant': 'ERC (European Research Council)', \n",
        "                                         'ERC-POC - Proof of Concept Grant': 'ERC (European Research Council)', \n",
        "                                         'ERC-POC-LS - ERC Proof of Concept Lump Sum Pilot': 'ERC (European Research Council)', \n",
        "                                         'ERC-STG - Starting Grant': 'ERC (European Research Council)', \n",
        "                                         'FCH2-CSA - Coordination & support action': 'FCH2 (Fuel Cells and Hydrogen 2)', \n",
        "                                         'FCH2-IA - Innovation action': 'FCH2 (Fuel Cells and Hydrogen 2)', \n",
        "                                         'FCH2-RIA - Research and Innovation action': 'FCH2 (Fuel Cells and Hydrogen 2)', \n",
        "                                         'H2020-EEN-SGA - Specific Grant Agreement Enterprise Europe Network (EEN)': 'SME (Small and medium-sized Enterprises)', \n",
        "                                         'IA - Innovation action': '(general)', \n",
        "                                         'IA-LS - Innovation action Lump Sum': '(general)', \n",
        "                                         'IMI2-CSA - Coordination & support action': 'IMI2 (Innovative Medicines Initiative)', \n",
        "                                         'IMI2-RIA - Research and Innovation action': 'IMI2 (Innovative Medicines Initiative)', \n",
        "                                         'MSCA-COFUND-DP - Doctoral programmes': 'MSCA (Marie Skłodowska-Curie Actions)', \n",
        "                                         'MSCA-COFUND-FP - Fellowship programmes': 'MSCA (Marie Skłodowska-Curie Actions)', \n",
        "                                         'MSCA-IF-EF-CAR - CAR â€“ Career Restart panel': 'MSCA (Marie Skłodowska-Curie Actions)', \n",
        "                                         'MSCA-IF-EF-RI - RI â€“ Reintegration panel': 'MSCA (Marie Skłodowska-Curie Actions)', \n",
        "                                         'MSCA-IF-EF-SE - Society and Enterprise panel': 'MSCA (Marie Skłodowska-Curie Actions)', \n",
        "                                         'MSCA-IF-EF-ST - Standard EF': 'MSCA (Marie Skłodowska-Curie Actions)', \n",
        "                                         'MSCA-IF-GF - Global Fellowships': 'MSCA (Marie Skłodowska-Curie Actions)', \n",
        "                                         'MSCA-ITN-EID - European Industrial Doctorates': 'MSCA (Marie Skłodowska-Curie Actions)', \n",
        "                                         'MSCA-ITN-EJD - European Joint Doctorates': 'MSCA (Marie Skłodowska-Curie Actions)', \n",
        "                                         'MSCA-ITN-ETN - European Training Networks': 'MSCA (Marie Skłodowska-Curie Actions)', \n",
        "                                         'MSCA-RISE - Marie SkÅ‚odowska-Curie Research and Innovation Staff Exchange (RISE)': 'MSCA (Marie Skłodowska-Curie Actions)', \n",
        "                                         'PCP - Pre-Commercial Procurement': 'PCP & PPI (Pre-commercial or public Procurement)', \n",
        "                                         'PPI - Public Procurement of Innovative solutions': 'PCP & PPI (Pre-commercial or public Procurement)', \n",
        "                                         'RIA - Research and Innovation action': '(general)', \n",
        "                                         'RIA-LS - Research and Innovation action Lump Sum': '(general)', \n",
        "                                         'SESAR-CSA - Coordination and Support Action': 'SESAR (Single European Sky)', \n",
        "                                         'SESAR-IA - Innovation action': 'SESAR (Single European Sky)', \n",
        "                                         'SESAR-RIA - Research and Innovation action': 'SESAR (Single European Sky)', \n",
        "                                         'SGA-CSA - Specific Grant agreement and Coordination and Support Action': '(general)', \n",
        "                                         'SGA-RIA - SGA-RIA': '(general)', \n",
        "                                         'Shift2Rail-CSA - Coordination and Support Action': 'Shift2Rail', \n",
        "                                         'Shift2Rail-IA - Innovation action': 'Shift2Rail', \n",
        "                                         'Shift2Rail-IA-LS - Innovation Action Lump-Sum': 'Shift2Rail', \n",
        "                                         'Shift2Rail-RIA - Research and Innovation action': 'Shift2Rail', \n",
        "                                         'Shift2Rail-RIA-LS - Shift2Rail Research and Innovation Action Lump-Sum': 'Shift2Rail', \n",
        "                                         'SME-1 - SME instrument phase 1': 'SME (Small and medium-sized Enterprises)', \n",
        "                                         'SME-2 - SME instrument phase 2': 'SME (Small and medium-sized Enterprises)'\n",
        "                                        }\n",
        "\n",
        "dict_funding_schemes_along_actions = {'BBI-CSA - Bio-based Industries Coordination and Support action': 'CSA (Coordination and Support Action)',\n",
        "                                      'BBI-IA-DEMO - Bio-based Industries Innovation action - Demonstration': 'IA (Innovation Action)',\n",
        "                                      'BBI-IA-FLAG - Bio-based Industries Innovation action - Flagship': 'IA (Innovation Action)',\n",
        "                                      'BBI-RIA - Bio-based Industries Research and Innovation action': 'RIA (Research and Innovation Action)',\n",
        "                                      'COFUND-EJP - COFUND (European Joint Programme)': 'COFUND',\n",
        "                                      'COFUND-PCP - COFUND (PCP)': 'COFUND',\n",
        "                                      'CS2-CSA - Coordination & support action': 'CSA (Coordination and Support Action)',\n",
        "                                      'CS2-IA - Innovation action': 'IA (Innovation Action)',\n",
        "                                      'CS2-RIA - Research and Innovation action': 'RIA (Research and Innovation Action)',\n",
        "                                      'CSA - Coordination and support action': 'CSA (Coordination and Support Action)',\n",
        "                                      'CSA-LS - CSA Lump sum': 'CSA (Coordination and Support Action)',\n",
        "                                      'ECSEL-CSA - ECSEL Coordination & Support action': 'CSA (Coordination and Support Action)',\n",
        "                                      'ECSEL-IA - ECSEL Innovation Action': 'IA (Innovation Action)',\n",
        "                                      'ECSEL-RIA - ECSEL Research and Innovation Action': 'RIA (Research and Innovation Action)',\n",
        "                                      'ERA-NET-Cofund - ERA-NET Cofund': 'COFUND',\n",
        "                                      'ERC-ADG - Advanced Grant': 'Grant',\n",
        "                                      'ERC-COG - Consolidator Grant': 'Grant',\n",
        "                                      'ERC-POC - Proof of Concept Grant': 'Grant',\n",
        "                                      'ERC-POC-LS - ERC Proof of Concept Lump Sum Pilot': 'Grant',\n",
        "                                      'ERC-STG - Starting Grant': 'Grant',\n",
        "                                      'FCH2-CSA - Coordination & support action': 'CSA (Coordination and Support Action)',\n",
        "                                      'FCH2-IA - Innovation action': 'IA (Innovation Action)',\n",
        "                                      'FCH2-RIA - Research and Innovation action': 'RIA (Research and Innovation Action)',\n",
        "                                      'H2020-EEN-SGA - Specific Grant Agreement Enterprise Europe Network (EEN)': 'SME (Small and medium-sized Enterprises)',\n",
        "                                      'IA - Innovation action': 'IA (Innovation Action)',\n",
        "                                      'IA-LS - Innovation action Lump Sum': 'IA (Innovation Action)',\n",
        "                                      'IMI2-CSA - Coordination & support action': 'CSA (Coordination and Support Action)',\n",
        "                                      'IMI2-RIA - Research and Innovation action': 'RIA (Research and Innovation Action)',\n",
        "                                      'MSCA-COFUND-DP - Doctoral programmes': 'COFUND',\n",
        "                                      'MSCA-COFUND-FP - Fellowship programmes': 'COFUND',\n",
        "                                      'MSCA-IF-EF-CAR - CAR â€“ Career Restart panel': 'Fellowship',\n",
        "                                      'MSCA-IF-EF-RI - RI â€“ Reintegration panel': 'Fellowship',\n",
        "                                      'MSCA-IF-EF-SE - Society and Enterprise panel': 'Fellowship',\n",
        "                                      'MSCA-IF-EF-ST - Standard EF': 'Fellowship',\n",
        "                                      'MSCA-IF-GF - Global Fellowships': 'Fellowship',\n",
        "                                      'MSCA-ITN-EID - European Industrial Doctorates': 'Innovative Training Networks',\n",
        "                                      'MSCA-ITN-EJD - European Joint Doctorates': 'Innovative Training Networks',\n",
        "                                      'MSCA-ITN-ETN - European Training Networks': 'Innovative Training Networks',\n",
        "                                      'MSCA-RISE - Marie SkÅ‚odowska-Curie Research and Innovation Staff Exchange (RISE)': 'Research & Innovation Staff Exchange',\n",
        "                                      'PCP - Pre-Commercial Procurement': 'Procurement',\n",
        "                                      'PPI - Public Procurement of Innovative solutions': 'Procurement',\n",
        "                                      'RIA - Research and Innovation action': 'RIA (Research and Innovation Action)',\n",
        "                                      'RIA-LS - Research and Innovation action Lump Sum': 'RIA (Research and Innovation Action)',\n",
        "                                      'SESAR-CSA - Coordination and Support Action': 'CSA (Coordination and Support Action)',\n",
        "                                      'SESAR-IA - Innovation action': 'IA (Innovation Action)',\n",
        "                                      'SESAR-RIA - Research and Innovation action': 'RIA (Research and Innovation Action)',\n",
        "                                      'SGA-CSA - Specific Grant agreement and Coordination and Support Action': 'CSA (Coordination and Support Action)',\n",
        "                                      'SGA-RIA - SGA-RIA': 'RIA (Research and Innovation Action)',\n",
        "                                      'Shift2Rail-CSA - Coordination and Support Action': 'CSA (Coordination and Support Action)',\n",
        "                                      'Shift2Rail-IA - Innovation action': 'IA (Innovation Action)',\n",
        "                                      'Shift2Rail-IA-LS - Innovation Action Lump-Sum': 'IA (Innovation Action)',\n",
        "                                      'Shift2Rail-RIA - Research and Innovation action': 'RIA (Research and Innovation Action)',\n",
        "                                      'Shift2Rail-RIA-LS - Shift2Rail Research and Innovation Action Lump-Sum': 'RIA (Research and Innovation Action)',\n",
        "                                      'SME-1 - SME instrument phase 1': 'SME (Small and medium-sized Enterprises)',\n",
        "                                      'SME-2 - SME instrument phase 2': 'SME (Small and medium-sized Enterprises)'\n",
        "                                     }\n"
      ],
      "execution_count": 0,
      "outputs": []
    },
    {
      "cell_type": "code",
      "metadata": {
        "colab_type": "code",
        "id": "UMo4DoWfU92F",
        "outputId": "681856d7-ba1a-49ed-b17e-a6865de5850e",
        "colab": {
          "base_uri": "https://localhost:8080/",
          "height": 35
        }
      },
      "source": [
        "# add dictionaries as new columns\n",
        "cordis_project_orgs_df['funding_scheme_programme'] = cordis_project_orgs_df['funding_scheme']\n",
        "cordis_project_orgs_df['funding_scheme_programme'] = cordis_project_orgs_df['funding_scheme_programme'].map(dict_funding_schemes_along_programmes)\n",
        "\n",
        "cordis_project_orgs_df['funding_scheme_action'] = cordis_project_orgs_df['funding_scheme']\n",
        "cordis_project_orgs_df['funding_scheme_action'] = cordis_project_orgs_df['funding_scheme_action'].map(dict_funding_schemes_along_actions)\n",
        "\n",
        "\n",
        "cordis_project_orgs_df.shape\n",
        "    "
      ],
      "execution_count": 248,
      "outputs": [
        {
          "output_type": "execute_result",
          "data": {
            "text/plain": [
              "(251040, 29)"
            ]
          },
          "metadata": {
            "tags": []
          },
          "execution_count": 248
        }
      ]
    },
    {
      "cell_type": "code",
      "metadata": {
        "colab_type": "code",
        "id": "g04kcY5p6Gma",
        "outputId": "38c18db0-b884-421e-c027-ea8865d18767",
        "colab": {
          "base_uri": "https://localhost:8080/",
          "height": 35
        }
      },
      "source": [
        "# narrow our dataset down to what we want to work with\n",
        "subset = cordis_project_orgs_df[\n",
        "    (cordis_project_orgs_df.activity_type == 'Private for-profit entities (excluding Higher or Secondary Education Establishments)')\n",
        "  & (cordis_project_orgs_df.framework == 'H2020')\n",
        "]\n",
        "\n",
        "df = subset[['organization_id', 'start_date_code', 'funding_scheme', 'funding_scheme_programme', 'funding_scheme_action', 'number_of_partners', 'number_of_publications', 'ec_contribution_organization', 'ec_contribution_project', 'total_cost_project']]\n",
        "\n",
        "# putting data in order\n",
        "df = df.sort_values( by=['organization_id', 'start_date_code'] ).reset_index()\n",
        "\n",
        "# add a column that numbers entries per organisation\n",
        "df['organization_entry_number'] = df.groupby('organization_id').cumcount()\n",
        "df.shape\n"
      ],
      "execution_count": 249,
      "outputs": [
        {
          "output_type": "execute_result",
          "data": {
            "text/plain": [
              "(37138, 12)"
            ]
          },
          "metadata": {
            "tags": []
          },
          "execution_count": 249
        }
      ]
    },
    {
      "cell_type": "markdown",
      "metadata": {
        "colab_type": "text",
        "id": "1wVzLGfIFZJo"
      },
      "source": [
        "\n",
        "## Playing with the data\n",
        "\n",
        "Just skip this part when getting data ready for exporting!"
      ]
    },
    {
      "cell_type": "code",
      "metadata": {
        "colab_type": "code",
        "id": "qSpqE1TZGnL0",
        "outputId": "44ab5939-31fe-4e22-dd55-de8094243341",
        "colab": {
          "base_uri": "https://localhost:8080/",
          "height": 165
        }
      },
      "source": [
        "cordis_project_orgs_df.columns"
      ],
      "execution_count": 0,
      "outputs": [
        {
          "output_type": "execute_result",
          "data": {
            "text/plain": [
              "Index(['project_rcn', 'organization_id', 'activity_type', 'address',\n",
              "       'ec_contribution_organization', 'type', 'website_x', 'id', 'name',\n",
              "       'country_code', 'country_name', 'rcn', 'acronym', 'end_date_code',\n",
              "       'ec_contribution_project', 'framework', 'funding_scheme',\n",
              "       'funded_under', 'objective', 'project_description', 'start_date_code',\n",
              "       'status', 'title', 'total_cost_project', 'website_y',\n",
              "       'number_of_partners', 'number_of_publications',\n",
              "       'funding_scheme_programme', 'funding_scheme_action'],\n",
              "      dtype='object')"
            ]
          },
          "metadata": {
            "tags": []
          },
          "execution_count": 123
        }
      ]
    },
    {
      "cell_type": "code",
      "metadata": {
        "colab_type": "code",
        "id": "agGlHcvZEJnQ",
        "outputId": "7b0310df-d477-470b-a789-dc23fdfd8f02",
        "colab": {
          "base_uri": "https://localhost:8080/",
          "height": 146
        }
      },
      "source": [
        "cordis_project_orgs_df['activity_type'].value_counts()"
      ],
      "execution_count": 0,
      "outputs": [
        {
          "output_type": "execute_result",
          "data": {
            "text/plain": [
              "Higher or Secondary Education Establishments                                                         88335\n",
              "Private for-profit entities (excluding Higher or Secondary Education Establishments)                 78810\n",
              "Research Organisations                                                                               55099\n",
              "Other                                                                                                15406\n",
              "Public bodies (excluding Research Organisations and Secondary or Higher Education Establishments)    12454\n",
              "                                                                                                       936\n",
              "Name: activity_type, dtype: int64"
            ]
          },
          "metadata": {
            "tags": []
          },
          "execution_count": 124
        }
      ]
    },
    {
      "cell_type": "code",
      "metadata": {
        "colab_type": "code",
        "id": "5-R2gHIuHLIa",
        "outputId": "b17ecd57-95d2-4823-d548-26fb0e49aaa7",
        "colab": {
          "base_uri": "https://localhost:8080/",
          "height": 128
        }
      },
      "source": [
        "# within subset, how often do organisations appear\n",
        "subset['organization_id'].value_counts().head()\n",
        "\n"
      ],
      "execution_count": 0,
      "outputs": [
        {
          "output_type": "execute_result",
          "data": {
            "text/plain": [
              "999993856    148\n",
              "999960488     84\n",
              "999909854     79\n",
              "999951467     76\n",
              "999908787     73\n",
              "Name: organization_id, dtype: int64"
            ]
          },
          "metadata": {
            "tags": []
          },
          "execution_count": 125
        }
      ]
    },
    {
      "cell_type": "code",
      "metadata": {
        "colab_type": "code",
        "id": "vqi_ZO1HKC4D",
        "outputId": "650df0d1-e51f-4964-e87e-b34d8ffa33ca",
        "colab": {}
      },
      "source": [
        "subset[['organization_id', 'start_date_code', 'funding_scheme', 'number_of_partners', 'ec_contribution_organization', 'ec_contribution_project', 'total_cost_project']]\n"
      ],
      "execution_count": 0,
      "outputs": [
        {
          "output_type": "execute_result",
          "data": {
            "text/html": [
              "<div>\n",
              "<style scoped>\n",
              "    .dataframe tbody tr th:only-of-type {\n",
              "        vertical-align: middle;\n",
              "    }\n",
              "\n",
              "    .dataframe tbody tr th {\n",
              "        vertical-align: top;\n",
              "    }\n",
              "\n",
              "    .dataframe thead th {\n",
              "        text-align: right;\n",
              "    }\n",
              "</style>\n",
              "<table border=\"1\" class=\"dataframe\">\n",
              "  <thead>\n",
              "    <tr style=\"text-align: right;\">\n",
              "      <th></th>\n",
              "      <th>organization_id</th>\n",
              "      <th>start_date_code</th>\n",
              "      <th>funding_scheme</th>\n",
              "      <th>number_of_partners</th>\n",
              "      <th>ec_contribution_organization</th>\n",
              "      <th>ec_contribution_project</th>\n",
              "      <th>total_cost_project</th>\n",
              "    </tr>\n",
              "  </thead>\n",
              "  <tbody>\n",
              "    <tr>\n",
              "      <th>135899</th>\n",
              "      <td>999905974</td>\n",
              "      <td>2014-01-01</td>\n",
              "      <td>CSA - Coordination and support action</td>\n",
              "      <td>1</td>\n",
              "      <td>230000</td>\n",
              "      <td>230000</td>\n",
              "      <td>230000</td>\n",
              "    </tr>\n",
              "    <tr>\n",
              "      <th>135943</th>\n",
              "      <td>999574428</td>\n",
              "      <td>2014-08-01</td>\n",
              "      <td>CSA - Coordination and support action</td>\n",
              "      <td>38</td>\n",
              "      <td>20000</td>\n",
              "      <td>5000000</td>\n",
              "      <td>5000000</td>\n",
              "    </tr>\n",
              "    <tr>\n",
              "      <th>135953</th>\n",
              "      <td>999940118</td>\n",
              "      <td>2014-08-01</td>\n",
              "      <td>CSA - Coordination and support action</td>\n",
              "      <td>38</td>\n",
              "      <td>35000</td>\n",
              "      <td>5000000</td>\n",
              "      <td>5000000</td>\n",
              "    </tr>\n",
              "    <tr>\n",
              "      <th>135972</th>\n",
              "      <td>984286452</td>\n",
              "      <td>2014-10-01</td>\n",
              "      <td>CSA - Coordination and support action</td>\n",
              "      <td>58</td>\n",
              "      <td>31608</td>\n",
              "      <td>6000000</td>\n",
              "      <td>6000000</td>\n",
              "    </tr>\n",
              "    <tr>\n",
              "      <th>135977</th>\n",
              "      <td>998142126</td>\n",
              "      <td>2014-10-01</td>\n",
              "      <td>CSA - Coordination and support action</td>\n",
              "      <td>58</td>\n",
              "      <td>551450</td>\n",
              "      <td>6000000</td>\n",
              "      <td>6000000</td>\n",
              "    </tr>\n",
              "    <tr>\n",
              "      <th>...</th>\n",
              "      <td>...</td>\n",
              "      <td>...</td>\n",
              "      <td>...</td>\n",
              "      <td>...</td>\n",
              "      <td>...</td>\n",
              "      <td>...</td>\n",
              "      <td>...</td>\n",
              "    </tr>\n",
              "    <tr>\n",
              "      <th>251026</th>\n",
              "      <td>903840472</td>\n",
              "      <td>2019-09-01</td>\n",
              "      <td>CSA - Coordination and support action</td>\n",
              "      <td>1</td>\n",
              "      <td>120625</td>\n",
              "      <td>120625</td>\n",
              "      <td>120625</td>\n",
              "    </tr>\n",
              "    <tr>\n",
              "      <th>251028</th>\n",
              "      <td>904273189</td>\n",
              "      <td>2019-09-01</td>\n",
              "      <td>SME-1 - SME instrument phase 1</td>\n",
              "      <td>1</td>\n",
              "      <td>50000</td>\n",
              "      <td>50000</td>\n",
              "      <td>71429</td>\n",
              "    </tr>\n",
              "    <tr>\n",
              "      <th>251029</th>\n",
              "      <td>910867831</td>\n",
              "      <td>2019-09-01</td>\n",
              "      <td>SME-2 - SME instrument phase 2</td>\n",
              "      <td>1</td>\n",
              "      <td>1059217</td>\n",
              "      <td>1059217</td>\n",
              "      <td>1513168</td>\n",
              "    </tr>\n",
              "    <tr>\n",
              "      <th>251030</th>\n",
              "      <td>915409662</td>\n",
              "      <td>2020-02-01</td>\n",
              "      <td>MSCA-ITN-ETN - European Training Networks</td>\n",
              "      <td>10</td>\n",
              "      <td>281277</td>\n",
              "      <td>4099782</td>\n",
              "      <td>4099782</td>\n",
              "    </tr>\n",
              "    <tr>\n",
              "      <th>251032</th>\n",
              "      <td>960338413</td>\n",
              "      <td>2020-02-01</td>\n",
              "      <td>MSCA-ITN-ETN - European Training Networks</td>\n",
              "      <td>10</td>\n",
              "      <td>265620</td>\n",
              "      <td>4099782</td>\n",
              "      <td>4099782</td>\n",
              "    </tr>\n",
              "  </tbody>\n",
              "</table>\n",
              "<p>37138 rows × 7 columns</p>\n",
              "</div>"
            ],
            "text/plain": [
              "        organization_id start_date_code  \\\n",
              "135899        999905974      2014-01-01   \n",
              "135943        999574428      2014-08-01   \n",
              "135953        999940118      2014-08-01   \n",
              "135972        984286452      2014-10-01   \n",
              "135977        998142126      2014-10-01   \n",
              "...                 ...             ...   \n",
              "251026        903840472      2019-09-01   \n",
              "251028        904273189      2019-09-01   \n",
              "251029        910867831      2019-09-01   \n",
              "251030        915409662      2020-02-01   \n",
              "251032        960338413      2020-02-01   \n",
              "\n",
              "                                   funding_scheme  number_of_partners  \\\n",
              "135899      CSA - Coordination and support action                   1   \n",
              "135943      CSA - Coordination and support action                  38   \n",
              "135953      CSA - Coordination and support action                  38   \n",
              "135972      CSA - Coordination and support action                  58   \n",
              "135977      CSA - Coordination and support action                  58   \n",
              "...                                           ...                 ...   \n",
              "251026      CSA - Coordination and support action                   1   \n",
              "251028             SME-1 - SME instrument phase 1                   1   \n",
              "251029             SME-2 - SME instrument phase 2                   1   \n",
              "251030  MSCA-ITN-ETN - European Training Networks                  10   \n",
              "251032  MSCA-ITN-ETN - European Training Networks                  10   \n",
              "\n",
              "        ec_contribution_organization  ec_contribution_project  \\\n",
              "135899                        230000                   230000   \n",
              "135943                         20000                  5000000   \n",
              "135953                         35000                  5000000   \n",
              "135972                         31608                  6000000   \n",
              "135977                        551450                  6000000   \n",
              "...                              ...                      ...   \n",
              "251026                        120625                   120625   \n",
              "251028                         50000                    50000   \n",
              "251029                       1059217                  1059217   \n",
              "251030                        281277                  4099782   \n",
              "251032                        265620                  4099782   \n",
              "\n",
              "        total_cost_project  \n",
              "135899              230000  \n",
              "135943             5000000  \n",
              "135953             5000000  \n",
              "135972             6000000  \n",
              "135977             6000000  \n",
              "...                    ...  \n",
              "251026              120625  \n",
              "251028               71429  \n",
              "251029             1513168  \n",
              "251030             4099782  \n",
              "251032             4099782  \n",
              "\n",
              "[37138 rows x 7 columns]"
            ]
          },
          "metadata": {
            "tags": []
          },
          "execution_count": 126
        }
      ]
    },
    {
      "cell_type": "code",
      "metadata": {
        "colab_type": "code",
        "id": "qIiwnrBp0yM9",
        "outputId": "18254bab-8d1e-4983-f4ee-f422fc92c418",
        "colab": {}
      },
      "source": [
        "for i in range(100):\n",
        "  print(cordis_project_orgs_df.loc[i + 10000].funded_under[0]['title'])\n",
        "\n"
      ],
      "execution_count": 0,
      "outputs": [
        {
          "output_type": "stream",
          "text": [
            "Specific Programme \"Cooperation\": Security\n",
            "Specific Programme \"Cooperation\": Security\n",
            "Specific Programme \"Cooperation\": Security\n",
            "Specific Programme \"Cooperation\": Security\n",
            "Specific Programme \"Cooperation\": Security\n",
            "Specific Programme \"Cooperation\": Security\n",
            "Specific Programme \"Cooperation\": Security\n",
            "Specific Programme \"Cooperation\": Security\n",
            "Specific Programme \"Cooperation\": Security\n",
            "Specific Programme \"Cooperation\": Security\n",
            "Specific Programme \"Cooperation\": Security\n",
            "Specific programme \"People\" implementing the Seventh Framework Programme of the European Community for research, technological development and demonstration activities (2007 to 2013)\n",
            "Specific programme \"People\" implementing the Seventh Framework Programme of the European Community for research, technological development and demonstration activities (2007 to 2013)\n",
            "Specific programme \"People\" implementing the Seventh Framework Programme of the European Community for research, technological development and demonstration activities (2007 to 2013)\n",
            "Specific programme \"People\" implementing the Seventh Framework Programme of the European Community for research, technological development and demonstration activities (2007 to 2013)\n",
            "Specific programme \"People\" implementing the Seventh Framework Programme of the European Community for research, technological development and demonstration activities (2007 to 2013)\n",
            "Specific programme \"People\" implementing the Seventh Framework Programme of the European Community for research, technological development and demonstration activities (2007 to 2013)\n",
            "Specific programme \"People\" implementing the Seventh Framework Programme of the European Community for research, technological development and demonstration activities (2007 to 2013)\n",
            "Specific programme \"People\" implementing the Seventh Framework Programme of the European Community for research, technological development and demonstration activities (2007 to 2013)\n",
            "Specific programme \"People\" implementing the Seventh Framework Programme of the European Community for research, technological development and demonstration activities (2007 to 2013)\n",
            "Specific programme \"People\" implementing the Seventh Framework Programme of the European Community for research, technological development and demonstration activities (2007 to 2013)\n",
            "Specific programme \"People\" implementing the Seventh Framework Programme of the European Community for research, technological development and demonstration activities (2007 to 2013)\n",
            "Specific programme \"People\" implementing the Seventh Framework Programme of the European Community for research, technological development and demonstration activities (2007 to 2013)\n",
            "Specific programme \"People\" implementing the Seventh Framework Programme of the European Community for research, technological development and demonstration activities (2007 to 2013)\n",
            "Specific programme \"People\" implementing the Seventh Framework Programme of the European Community for research, technological development and demonstration activities (2007 to 2013)\n",
            "Specific programme \"People\" implementing the Seventh Framework Programme of the European Community for research, technological development and demonstration activities (2007 to 2013)\n",
            "Specific programme \"People\" implementing the Seventh Framework Programme of the European Community for research, technological development and demonstration activities (2007 to 2013)\n",
            "Specific programme \"People\" implementing the Seventh Framework Programme of the European Community for research, technological development and demonstration activities (2007 to 2013)\n",
            "Specific programme \"People\" implementing the Seventh Framework Programme of the European Community for research, technological development and demonstration activities (2007 to 2013)\n",
            "Specific programme \"People\" implementing the Seventh Framework Programme of the European Community for research, technological development and demonstration activities (2007 to 2013)\n",
            "Specific programme \"People\" implementing the Seventh Framework Programme of the European Community for research, technological development and demonstration activities (2007 to 2013)\n",
            "Specific programme \"People\" implementing the Seventh Framework Programme of the European Community for research, technological development and demonstration activities (2007 to 2013)\n",
            "Specific programme \"People\" implementing the Seventh Framework Programme of the European Community for research, technological development and demonstration activities (2007 to 2013)\n",
            "Specific programme: \"Ideas\" implementing the Seventh Framework Programme of the European Community for research, technological development and demonstration activities (2007 to 2013)\n",
            "Specific programme: \"Ideas\" implementing the Seventh Framework Programme of the European Community for research, technological development and demonstration activities (2007 to 2013)\n",
            "Specific programme: \"Ideas\" implementing the Seventh Framework Programme of the European Community for research, technological development and demonstration activities (2007 to 2013)\n",
            "Specific programme: \"Ideas\" implementing the Seventh Framework Programme of the European Community for research, technological development and demonstration activities (2007 to 2013)\n",
            "Specific programme: \"Ideas\" implementing the Seventh Framework Programme of the European Community for research, technological development and demonstration activities (2007 to 2013)\n",
            "Specific programme: \"Ideas\" implementing the Seventh Framework Programme of the European Community for research, technological development and demonstration activities (2007 to 2013)\n",
            "Specific programme \"People\" implementing the Seventh Framework Programme of the European Community for research, technological development and demonstration activities (2007 to 2013)\n",
            "Specific programme \"People\" implementing the Seventh Framework Programme of the European Community for research, technological development and demonstration activities (2007 to 2013)\n",
            "Specific programme \"People\" implementing the Seventh Framework Programme of the European Community for research, technological development and demonstration activities (2007 to 2013)\n",
            "Specific programme \"People\" implementing the Seventh Framework Programme of the European Community for research, technological development and demonstration activities (2007 to 2013)\n",
            "Specific programme \"People\" implementing the Seventh Framework Programme of the European Community for research, technological development and demonstration activities (2007 to 2013)\n",
            "Specific programme \"People\" implementing the Seventh Framework Programme of the European Community for research, technological development and demonstration activities (2007 to 2013)\n",
            "Specific programme \"People\" implementing the Seventh Framework Programme of the European Community for research, technological development and demonstration activities (2007 to 2013)\n",
            "Specific programme \"People\" implementing the Seventh Framework Programme of the European Community for research, technological development and demonstration activities (2007 to 2013)\n",
            "Specific programme \"People\" implementing the Seventh Framework Programme of the European Community for research, technological development and demonstration activities (2007 to 2013)\n",
            "Specific programme \"People\" implementing the Seventh Framework Programme of the European Community for research, technological development and demonstration activities (2007 to 2013)\n",
            "Specific Programme \"Capacities\": Regions of knowledge and support for regional research-driven clusters\n",
            "Specific Programme \"Capacities\": Regions of knowledge and support for regional research-driven clusters\n",
            "Specific Programme \"Capacities\": Regions of knowledge and support for regional research-driven clusters\n",
            "Specific Programme \"Capacities\": Regions of knowledge and support for regional research-driven clusters\n",
            "Specific Programme \"Capacities\": Regions of knowledge and support for regional research-driven clusters\n",
            "Specific Programme \"Capacities\": Regions of knowledge and support for regional research-driven clusters\n",
            "Specific Programme \"Capacities\": Regions of knowledge and support for regional research-driven clusters\n",
            "Specific Programme \"Capacities\": Regions of knowledge and support for regional research-driven clusters\n",
            "Specific Programme \"Capacities\": Research potential of Convergence Regions\n",
            "Specific Programme \"Capacities\": Research potential of Convergence Regions\n",
            "Specific Programme \"Capacities\": Research potential of Convergence Regions\n",
            "Specific Programme \"Capacities\": Research potential of Convergence Regions\n",
            "Specific Programme \"Capacities\": Research potential of Convergence Regions\n",
            "Specific Programme \"Capacities\": Research potential of Convergence Regions\n",
            "Specific Programme \"Capacities\": Research potential of Convergence Regions\n",
            "Specific Programme \"Capacities\": Research potential of Convergence Regions\n",
            "Specific Programme \"Capacities\": Research potential of Convergence Regions\n",
            "Specific Programme \"Capacities\": Research potential of Convergence Regions\n",
            "Specific Programme \"Cooperation\": Health\n",
            "Specific Programme \"Cooperation\": Health\n",
            "Specific Programme \"Cooperation\": Health\n",
            "Specific Programme \"Cooperation\": Health\n",
            "Specific Programme \"Cooperation\": Health\n",
            "Specific Programme \"Cooperation\": Health\n",
            "Specific Programme \"Cooperation\": Health\n",
            "Specific Programme \"Cooperation\": Health\n",
            "Specific Programme \"Cooperation\": Health\n",
            "Specific Programme \"Cooperation\": Health\n",
            "Specific Programme \"Cooperation\": Health\n",
            "Specific Programme \"Cooperation\": Health\n",
            "Specific Programme \"Cooperation\": Health\n",
            "Specific Programme \"Cooperation\": Health\n",
            "Specific Programme \"Cooperation\": Health\n",
            "Specific Programme \"Cooperation\": Health\n",
            "Specific Programme \"Cooperation\": Health\n",
            "Specific Programme \"Cooperation\": Health\n",
            "Specific Programme \"Cooperation\": Health\n",
            "Specific Programme \"Cooperation\": Health\n",
            "Specific Programme \"Cooperation\": Health\n",
            "Specific Programme \"Cooperation\": Health\n",
            "Specific Programme \"Cooperation\": Health\n",
            "Specific Programme \"Cooperation\": Health\n",
            "Specific Programme \"Cooperation\": Health\n",
            "Specific Programme \"Cooperation\": Health\n",
            "Specific Programme \"Cooperation\": Health\n",
            "Specific Programme \"Cooperation\": Health\n",
            "Specific Programme \"Cooperation\": Health\n",
            "Specific Programme \"Cooperation\": Health\n",
            "Specific Programme \"Cooperation\": Health\n",
            "Specific Programme \"Cooperation\": Health\n",
            "Specific Programme \"Cooperation\": Health\n"
          ],
          "name": "stdout"
        }
      ]
    },
    {
      "cell_type": "code",
      "metadata": {
        "colab_type": "code",
        "id": "gSx90hEWBZf-",
        "colab": {}
      },
      "source": [
        "df['funding_scheme'].value_counts().to_csv('funding_scheme_grouping.csv', header = True)"
      ],
      "execution_count": 0,
      "outputs": []
    },
    {
      "cell_type": "markdown",
      "metadata": {
        "colab_type": "text",
        "id": "KifyiO6cw2Aw"
      },
      "source": [
        "# Preparing data for a Sankey diagram\n",
        "\n",
        "\n"
      ]
    },
    {
      "cell_type": "markdown",
      "metadata": {
        "colab_type": "text",
        "id": "hr2PlbEwz1zO"
      },
      "source": [
        "## First two projects of every organisation"
      ]
    },
    {
      "cell_type": "code",
      "metadata": {
        "colab_type": "code",
        "id": "Qk_VLpr0QKSS",
        "outputId": "adf922cd-28e9-4b96-be8e-bb7dcfeb4e8a",
        "colab": {
          "base_uri": "https://localhost:8080/",
          "height": 35
        }
      },
      "source": [
        "# prepare the column that shall be used as the category shown in the sankey diagram\n",
        "#   v   v   v   v   v   v   v   v   v   #\n",
        "sankey_column = 'funding_scheme_action'\n",
        "#   ^   ^   ^   ^   ^   ^   ^   ^   ^   #\n",
        "\n",
        "\n",
        "dfs = df.rename(columns={sankey_column:'sankey'})\n",
        "\n",
        "# looking at first two entries of organisations\n",
        "first = dfs[dfs['organization_entry_number'] == 0]\n",
        "second = dfs[dfs['organization_entry_number'] == 1]\n",
        "\n",
        "# left is second step, right is first step\n",
        "onestep = second.merge(first, on='organization_id', how='left')\n",
        "\n",
        "# aggregate over sankey-columns\n",
        "sankey_df = onestep[['sankey_y', 'sankey_x', 'organization_id']].groupby(['sankey_y', 'sankey_x']).count()\n",
        "\n",
        "# prepare for proper output (index -> columns, renaming)\n",
        "sankey_df.reset_index(level=['sankey_y', 'sankey_x'], inplace=True)\n",
        "sankey_df.rename(columns={'sankey_y':'source', 'sankey_x':'target', 'organization_id':'value'}, inplace=True)\n",
        "\n",
        "# add a blank space to all targets (so targets differ from sources)\n",
        "sankey_df['target'] = sankey_df['target'] + ' '\n",
        "\n",
        "sankey_df.shape"
      ],
      "execution_count": 0,
      "outputs": [
        {
          "output_type": "execute_result",
          "data": {
            "text/plain": [
              "(62, 3)"
            ]
          },
          "metadata": {
            "tags": []
          },
          "execution_count": 129
        }
      ]
    },
    {
      "cell_type": "code",
      "metadata": {
        "colab_type": "code",
        "id": "5Y_wmoSDSuu4",
        "colab": {}
      },
      "source": [
        "# export csv\n",
        "sankey_df.to_csv('sankey_onestep_data.csv', index=False, sep=';')\n"
      ],
      "execution_count": 0,
      "outputs": []
    },
    {
      "cell_type": "markdown",
      "metadata": {
        "colab_type": "text",
        "id": "A1XQ84Fp3Ypf"
      },
      "source": [
        "## All projects"
      ]
    },
    {
      "cell_type": "markdown",
      "metadata": {
        "colab_type": "text",
        "id": "WRU45Es83jKT"
      },
      "source": [
        "There are cases, when an organisation has two or more new projects at once, in which case there is no clear order of projects/funding schemes.\n",
        "We ignored this fact and - for the sake of getting the job done - live with the noise it adds."
      ]
    },
    {
      "cell_type": "code",
      "metadata": {
        "colab_type": "code",
        "id": "fQ3vgsKqUm0-",
        "outputId": "be47806b-3e29-4335-b8b0-c57a617c1d55",
        "colab": {
          "base_uri": "https://localhost:8080/",
          "height": 35
        }
      },
      "source": [
        "# prepare the column that shall be used as the category shown in the sankey diagram\n",
        "#   v   v   v   v   v   v   v   v   v   #\n",
        "sankey_column = 'funding_scheme_action'\n",
        "#   ^   ^   ^   ^   ^   ^   ^   ^   ^   #\n",
        "\n",
        "\n",
        "dfs = df.rename(columns={sankey_column:'sankey'})\n",
        "\n",
        "# looking at first two entries of organisations\n",
        "dfs['next_step'] = dfs['organization_entry_number'] + 1\n",
        "\n",
        "# left is current step, right is next step\n",
        "allsteps = dfs.merge(dfs, left_on=['organization_id', 'next_step']\n",
        "                    , right_on=['organization_id', 'organization_entry_number'], how='left')\n",
        "\n",
        "\n",
        "# aggregate over sankey-columns\n",
        "sankey_df = allsteps[['sankey_y', 'sankey_x', 'organization_id']].groupby(['sankey_y', 'sankey_x']).count()\n",
        "\n",
        "# prepare for proper output (index -> columns, renaming)\n",
        "sankey_df.reset_index(level=['sankey_y', 'sankey_x'], inplace=True)\n",
        "sankey_df.rename(columns={'sankey_y':'source', 'sankey_x':'target', 'organization_id':'value'}, inplace=True)\n",
        "\n",
        "# add a blank space to all targets (so targets differ from sources)\n",
        "sankey_df['target'] = sankey_df['target'] + ' '\n",
        "\n",
        "sankey_df.shape\n"
      ],
      "execution_count": 0,
      "outputs": [
        {
          "output_type": "execute_result",
          "data": {
            "text/plain": [
              "(70, 3)"
            ]
          },
          "metadata": {
            "tags": []
          },
          "execution_count": 131
        }
      ]
    },
    {
      "cell_type": "code",
      "metadata": {
        "colab_type": "code",
        "id": "Ip-LP23n67Ru",
        "colab": {}
      },
      "source": [
        "# export csv\n",
        "sankey_df.to_csv('sankey_allsteps_data.csv', index=False, sep=',')\n"
      ],
      "execution_count": 0,
      "outputs": []
    },
    {
      "cell_type": "markdown",
      "metadata": {
        "colab_type": "text",
        "id": "4hZmGzCi84ho"
      },
      "source": [
        "# Preparing data for a network graph\n",
        "\n",
        "\n"
      ]
    },
    {
      "cell_type": "markdown",
      "metadata": {
        "colab_type": "text",
        "id": "JyDT-j8W84jA"
      },
      "source": [
        "## All projects"
      ]
    },
    {
      "cell_type": "markdown",
      "metadata": {
        "colab_type": "text",
        "id": "kaBYCuUs84jF"
      },
      "source": [
        "There are cases, when an organisation has two or more new projects at once, in which case there is no clear order of projects/funding schemes.\n",
        "We ignored this fact and - for the sake of getting the job done - live with the noise it adds."
      ]
    },
    {
      "cell_type": "code",
      "metadata": {
        "colab_type": "code",
        "id": "g_tLNKJS84jH",
        "outputId": "6364fbfa-3ab6-4ec8-f498-7aff86db2e0d",
        "colab": {
          "base_uri": "https://localhost:8080/",
          "height": 35
        }
      },
      "source": [
        "# code is copied from above and I didn't rename variables to leviate debugging\n",
        "# prepare the column that shall be used as the category shown in the sankey diagram\n",
        "#   v   v   v   v   v   v   v   v   v   #\n",
        "sankey_column = 'funding_scheme'\n",
        "#   ^   ^   ^   ^   ^   ^   ^   ^   ^   #\n",
        "\n",
        "\n",
        "dfs = df.rename(columns={sankey_column:'sankey'})\n",
        "\n",
        "# looking at first two entries of organisations\n",
        "dfs['next_step'] = dfs['organization_entry_number'] + 1\n",
        "\n",
        "# left is current step, right is next step\n",
        "allsteps = dfs.merge(dfs, left_on=['organization_id', 'next_step']\n",
        "                    , right_on=['organization_id', 'organization_entry_number'], how='left')\n",
        "\n",
        "\n",
        "# aggregate over sankey-columns\n",
        "sankey_df = allsteps[['sankey_y', 'sankey_x', 'organization_id']].groupby(['sankey_y', 'sankey_x']).count()\n",
        "\n",
        "# prepare for proper output (index -> columns, renaming)\n",
        "sankey_df.reset_index(level=['sankey_y', 'sankey_x'], inplace=True)\n",
        "sankey_df.rename(columns={'sankey_y':'source', 'sankey_x':'target', 'organization_id':'value'}, inplace=True)\n",
        "\n",
        "\n",
        "#----------- from here onwards there's network specific stuff going on\n",
        "\n",
        "# edges, directional\n",
        "edges_dir = sankey_df\n",
        "\n",
        "# create edges without direction - sort all pairs\n",
        "edges = []\n",
        "for s, t, c in zip(edges_dir['source'], edges_dir['target'], edges_dir['value']):\n",
        "    edge = sorted([s, t])\n",
        "    edge.append(c)\n",
        "    edges.append(edge)\n",
        "\n",
        "# transform to DataFrame, so I can sum up duplicates\n",
        "edges_df = pd.DataFrame(edges)\n",
        "edges_df = edges_df.groupby([0, 1]).sum().reset_index()\n",
        "\n",
        "# transform weights into dictionary\n",
        "edges_df.rename(columns={2:'weight'}, inplace=True)\n",
        "edges_df[3] = pd.DataFrame(edges_df['weight']).to_dict(orient='records')\n",
        "\n",
        "\n",
        "# extract nodes from edges\n",
        "nodes_df = edges_df[0].append(edges_df[1]).drop_duplicates().reset_index()[0]\n",
        "\n",
        "\n",
        "print(str(nodes_df.shape[0]) + ' nodes with ' + str(edges_df.shape[0]) + ' edges ready for further processing')\n"
      ],
      "execution_count": 259,
      "outputs": [
        {
          "output_type": "stream",
          "text": [
            "55 nodes with 400 edges ready for further processing\n"
          ],
          "name": "stdout"
        }
      ]
    },
    {
      "cell_type": "code",
      "metadata": {
        "colab_type": "code",
        "id": "bZaWYlSo84jP",
        "colab": {}
      },
      "source": [
        "# export csv\n",
        "edges_df.to_csv('network_data_edges.csv', index=False, sep=',', header=True)\n",
        "nodes_df.to_csv('network_data_nodes.csv', index=False, sep=',', header=True)\n",
        "\n"
      ],
      "execution_count": 0,
      "outputs": []
    },
    {
      "cell_type": "markdown",
      "metadata": {
        "colab_type": "text",
        "id": "DsLgGQO5FkF6"
      },
      "source": [
        "# Playing around with network graphics"
      ]
    },
    {
      "cell_type": "markdown",
      "metadata": {
        "colab_type": "text",
        "id": "HehRQyu6FsdD"
      },
      "source": [
        "Code here is copied from nestauk/im_tutorials/NetworkScience.ipynb.\n"
      ]
    },
    {
      "cell_type": "code",
      "metadata": {
        "colab_type": "code",
        "id": "KLXoK_0X84jT",
        "outputId": "6ffdbe9a-5d46-429f-c141-d89fdb1721a0",
        "colab": {
          "base_uri": "https://localhost:8080/",
          "height": 869
        }
      },
      "source": [
        "%load_ext autoreload\n",
        "%autoreload 2\n",
        "# install im_tutorial package\n",
        "!pip install git+https://github.com/nestauk/im_tutorials.git\n",
        "!pip install pybind11\n",
        "!pip install cpalgorithm\n",
        "!pip install networkx\n",
        "!pip install seaborn\n",
        "# Needed to make some of the drag and dropping work\n",
        "!pip install -U bokeh"
      ],
      "execution_count": 252,
      "outputs": [
        {
          "output_type": "stream",
          "text": [
            "The autoreload extension is already loaded. To reload it, use:\n",
            "  %reload_ext autoreload\n",
            "Collecting git+https://github.com/nestauk/im_tutorials.git\n",
            "  Cloning https://github.com/nestauk/im_tutorials.git to /tmp/pip-req-build-r1830ypg\n",
            "  Running command git clone -q https://github.com/nestauk/im_tutorials.git /tmp/pip-req-build-r1830ypg\n",
            "Requirement already satisfied (use --upgrade to upgrade): im-tutorials==0.1.1 from git+https://github.com/nestauk/im_tutorials.git in /usr/local/lib/python3.6/dist-packages\n",
            "Building wheels for collected packages: im-tutorials\n",
            "  Building wheel for im-tutorials (setup.py) ... \u001b[?25l\u001b[?25hdone\n",
            "  Created wheel for im-tutorials: filename=im_tutorials-0.1.1-cp36-none-any.whl size=15103 sha256=42555b7ccaa224a331db91ca35a546e1be1a527904ead4fc2d1e21a32138122a\n",
            "  Stored in directory: /tmp/pip-ephem-wheel-cache-5v6hh0d5/wheels/47/a3/cb/bdc5f9ba49bcfd2c6864b166a1566eb2f104113bf0c3500330\n",
            "Successfully built im-tutorials\n",
            "Requirement already satisfied: pybind11 in /usr/local/lib/python3.6/dist-packages (2.4.3)\n",
            "Requirement already satisfied: cpalgorithm in /usr/local/lib/python3.6/dist-packages (0.0.14)\n",
            "Requirement already satisfied: numpy>=1.14.2 in /usr/local/lib/python3.6/dist-packages (from cpalgorithm) (1.16.5)\n",
            "Requirement already satisfied: scipy>=1.1.0 in /usr/local/lib/python3.6/dist-packages (from cpalgorithm) (1.3.1)\n",
            "Requirement already satisfied: simanneal in /usr/local/lib/python3.6/dist-packages (from cpalgorithm) (0.5.0)\n",
            "Requirement already satisfied: networkx>=2.0 in /usr/local/lib/python3.6/dist-packages (from cpalgorithm) (2.4)\n",
            "Requirement already satisfied: pybind11>=2.2 in /usr/local/lib/python3.6/dist-packages (from cpalgorithm) (2.4.3)\n",
            "Requirement already satisfied: decorator>=4.3.0 in /usr/local/lib/python3.6/dist-packages (from networkx>=2.0->cpalgorithm) (4.4.0)\n",
            "Requirement already satisfied: networkx in /usr/local/lib/python3.6/dist-packages (2.4)\n",
            "Requirement already satisfied: decorator>=4.3.0 in /usr/local/lib/python3.6/dist-packages (from networkx) (4.4.0)\n",
            "Requirement already satisfied: seaborn in /usr/local/lib/python3.6/dist-packages (0.9.0)\n",
            "Requirement already satisfied: scipy>=0.14.0 in /usr/local/lib/python3.6/dist-packages (from seaborn) (1.3.1)\n",
            "Requirement already satisfied: pandas>=0.15.2 in /usr/local/lib/python3.6/dist-packages (from seaborn) (0.24.2)\n",
            "Requirement already satisfied: matplotlib>=1.4.3 in /usr/local/lib/python3.6/dist-packages (from seaborn) (3.0.3)\n",
            "Requirement already satisfied: numpy>=1.9.3 in /usr/local/lib/python3.6/dist-packages (from seaborn) (1.16.5)\n",
            "Requirement already satisfied: pytz>=2011k in /usr/local/lib/python3.6/dist-packages (from pandas>=0.15.2->seaborn) (2018.9)\n",
            "Requirement already satisfied: python-dateutil>=2.5.0 in /usr/local/lib/python3.6/dist-packages (from pandas>=0.15.2->seaborn) (2.5.3)\n",
            "Requirement already satisfied: kiwisolver>=1.0.1 in /usr/local/lib/python3.6/dist-packages (from matplotlib>=1.4.3->seaborn) (1.1.0)\n",
            "Requirement already satisfied: cycler>=0.10 in /usr/local/lib/python3.6/dist-packages (from matplotlib>=1.4.3->seaborn) (0.10.0)\n",
            "Requirement already satisfied: pyparsing!=2.0.4,!=2.1.2,!=2.1.6,>=2.0.1 in /usr/local/lib/python3.6/dist-packages (from matplotlib>=1.4.3->seaborn) (2.4.2)\n",
            "Requirement already satisfied: six>=1.5 in /usr/local/lib/python3.6/dist-packages (from python-dateutil>=2.5.0->pandas>=0.15.2->seaborn) (1.12.0)\n",
            "Requirement already satisfied: setuptools in /usr/local/lib/python3.6/dist-packages (from kiwisolver>=1.0.1->matplotlib>=1.4.3->seaborn) (41.4.0)\n",
            "Requirement already up-to-date: bokeh in /usr/local/lib/python3.6/dist-packages (1.3.4)\n",
            "Requirement already satisfied, skipping upgrade: PyYAML>=3.10 in /usr/local/lib/python3.6/dist-packages (from bokeh) (3.13)\n",
            "Requirement already satisfied, skipping upgrade: python-dateutil>=2.1 in /usr/local/lib/python3.6/dist-packages (from bokeh) (2.5.3)\n",
            "Requirement already satisfied, skipping upgrade: packaging>=16.8 in /usr/local/lib/python3.6/dist-packages (from bokeh) (19.2)\n",
            "Requirement already satisfied, skipping upgrade: six>=1.5.2 in /usr/local/lib/python3.6/dist-packages (from bokeh) (1.12.0)\n",
            "Requirement already satisfied, skipping upgrade: numpy>=1.7.1 in /usr/local/lib/python3.6/dist-packages (from bokeh) (1.16.5)\n",
            "Requirement already satisfied, skipping upgrade: tornado>=4.3 in /usr/local/lib/python3.6/dist-packages (from bokeh) (4.5.3)\n",
            "Requirement already satisfied, skipping upgrade: pillow>=4.0 in /usr/local/lib/python3.6/dist-packages (from bokeh) (4.3.0)\n",
            "Requirement already satisfied, skipping upgrade: Jinja2>=2.7 in /usr/local/lib/python3.6/dist-packages (from bokeh) (2.10.3)\n",
            "Requirement already satisfied, skipping upgrade: pyparsing>=2.0.2 in /usr/local/lib/python3.6/dist-packages (from packaging>=16.8->bokeh) (2.4.2)\n",
            "Requirement already satisfied, skipping upgrade: olefile in /usr/local/lib/python3.6/dist-packages (from pillow>=4.0->bokeh) (0.46)\n",
            "Requirement already satisfied, skipping upgrade: MarkupSafe>=0.23 in /usr/local/lib/python3.6/dist-packages (from Jinja2>=2.7->bokeh) (1.1.1)\n"
          ],
          "name": "stdout"
        }
      ]
    },
    {
      "cell_type": "code",
      "metadata": {
        "colab_type": "code",
        "id": "SuLMaFMOF3Gr",
        "colab": {}
      },
      "source": [
        "# importing useful Python utility libraries we'll need\n",
        "from collections import Counter, defaultdict\n",
        "import itertools\n",
        "\n",
        "# matplotlib for static plots\n",
        "import matplotlib.pyplot as plt\n",
        "from matplotlib import pylab\n",
        "\n",
        "# makes the plots prettier\n",
        "import seaborn\n",
        "\n",
        "# numpy for mathematical functions\n",
        "import numpy as np\n",
        "\n",
        "# pandas for handling tabular data\n",
        "import pandas as pd\n",
        "\n",
        "# networkx for the analysis of graphs\n",
        "import networkx as nx\n",
        "\n",
        "#from im_tutorials.utilities import chunks\n",
        "from im_tutorials.data import *\n",
        "\n",
        "# Useful data structure to count occurances\n",
        "from collections import Counter\n",
        "\n",
        "#Iteration lib\n",
        "import itertools as it"
      ],
      "execution_count": 0,
      "outputs": []
    },
    {
      "cell_type": "code",
      "metadata": {
        "id": "4tQQTLBnlM0u",
        "colab_type": "code",
        "colab": {}
      },
      "source": [
        "from bokeh.io import show, output_notebook\n",
        "from bokeh.plotting import figure\n",
        "from bokeh.palettes import Category20, Spectral4\n",
        "from bokeh.palettes import Spectral6\n",
        "from bokeh.models import Circle, MultiLine, HoverTool, TapTool, BoxSelectTool\n",
        "from bokeh.models import ColumnDataSource, LinearColorMapper, PointDrawTool\n",
        "from bokeh.models.graphs import from_networkx, NodesAndLinkedEdges\n",
        "output_notebook()"
      ],
      "execution_count": 0,
      "outputs": []
    },
    {
      "cell_type": "code",
      "metadata": {
        "id": "7DlvjiqClM1D",
        "colab_type": "code",
        "colab": {}
      },
      "source": [
        "from bokeh.palettes import Spectral4\n",
        "from bokeh.transform import factor_cmap\n",
        "palette = seaborn.cubehelix_palette(21)\n",
        "pal_hex_lst = palette.as_hex()\n",
        "def bokeh_plot(G,attribute=None,title='',factor=False):\n",
        "\n",
        "  # Create a plot and give it some basic features.\n",
        "  plot = figure(title=title,\n",
        "              x_range=(-2.1,2.1), y_range=(-2.1,2.1),\n",
        "             )\n",
        "  pos = nx.spring_layout(G, weight='association_strength', scale=2)\n",
        "  # Use the renderer built in to `bokeh` to transform our Graph\n",
        "  # object into something that `bokeh` can plot.\n",
        "  graph_renderer = from_networkx(G, pos, center=(0,0))\n",
        "  \n",
        "  # Draw glyphs for our nodes and assign properties for interactions.\n",
        "  if attribute!=None:\n",
        "    idx = graph_renderer.node_renderer.data_source.data['index']\n",
        "    data = [attribute[x] for x in idx]\n",
        "    graph_renderer.node_renderer.data_source.data['node_color'] = data\n",
        "\n",
        "    if factor:\n",
        "      data = [str(attribute[x]) for x in idx]\n",
        "      graph_renderer.node_renderer.data_source.data['node_color'] = data\n",
        "      uniItems = list(set(data))\n",
        "      uniItemsNum = min(20,len(uniItems))\n",
        "      mapper = factor_cmap('node_color', palette=Category20[uniItemsNum], factors=uniItems)\n",
        "      graph_renderer.node_renderer.glyph = Circle(size=10,fill_color= mapper) #, line_color=None)\n",
        "\n",
        "    else:\n",
        "      mapper = LinearColorMapper(palette=pal_hex_lst, low=min(attribute.values()), high=max(attribute.values()))\n",
        "      graph_renderer.node_renderer.glyph = Circle(size=10,fill_color={'field': 'node_color', 'transform': mapper}) #, line_color=None)\n",
        "  else:\n",
        "    graph_renderer.node_renderer.glyph = Circle(size=10,fill_color='blue') #, line_color=None)\n",
        "\n",
        "    \n",
        "  graph_renderer.node_renderer.selection_glyph = Circle(size=15, fill_color=Spectral4[2])\n",
        "  graph_renderer.node_renderer.hover_glyph = Circle(size=15, fill_color=Spectral4[1])                               \n",
        "  graph_renderer.node_renderer.muted_glyph = Circle(size=15, fill_alpha=0.9)\n",
        "  \n",
        "  # Draw glyphs for edges and assign properties for interactions.\n",
        "  graph_renderer.edge_renderer.glyph = MultiLine(line_color=\"#CCCCCC\", line_alpha=1, line_width=1)\n",
        "  graph_renderer.edge_renderer.selection_glyph = MultiLine(line_color=Spectral4[2], line_width=1.5)\n",
        "  graph_renderer.edge_renderer.hover_glyph = MultiLine(line_color=Spectral4[1], line_width=1.5)\n",
        "  \n",
        "  # Add the ability to select nodes.\n",
        "  graph_renderer.selection_policy = NodesAndLinkedEdges()\n",
        "  # Add a hover tool, that allows us to investigate nodes with a tooltip. \n",
        "  hover = HoverTool(tooltips=[(\"Name:\", \"@name\")])\n",
        "  \n",
        "  \n",
        "  # Put everything on the plot.\n",
        "  graph_renderer.node_renderer.data_source.data['name'] =graph_renderer.node_renderer.data_source.data['index']\n",
        "\n",
        "  fill_color='color'\n",
        "  plot.add_tools(hover, TapTool(), BoxSelectTool())\n",
        "  plot.renderers.append(graph_renderer)\n",
        "\n",
        "  show(plot)\n",
        "\n",
        "  # Uncomment this line if using google colab\n",
        "  #output_notebook()"
      ],
      "execution_count": 0,
      "outputs": []
    },
    {
      "cell_type": "code",
      "metadata": {
        "id": "6t-APS9ZlM0W",
        "colab_type": "code",
        "colab": {}
      },
      "source": [
        "G = nx.Graph()\n",
        "\n",
        "# load nodes into graph\n",
        "G.add_nodes_from(nodes_df)\n",
        "\n",
        "# load edges with weights into graph - two versions\n",
        "# > 1 < load as tuples [node1, node2, {'weight': weight}]; DataFrame converted to List on the fly\n",
        "# G.add_edges_from(edges_df[[0,1,3]].values.tolist())\n",
        "# > 2 < load as tuples [node1, node2, weight as int]; makes part of pre-processing obsolete\n",
        "G.add_weighted_edges_from(edges_df[[0,1,'weight']].values.tolist())"
      ],
      "execution_count": 0,
      "outputs": []
    },
    {
      "cell_type": "code",
      "metadata": {
        "id": "IurILV8ClM0s",
        "colab_type": "code",
        "outputId": "50d7ff3e-8c4a-4e53-890c-29f4a61d7d22",
        "colab": {
          "base_uri": "https://localhost:8080/",
          "height": 55
        }
      },
      "source": [
        "# print edges with weights\n",
        "print([(x,y,G[x][y]['weight']) for x in G for y in G[x] if x<y])"
      ],
      "execution_count": 271,
      "outputs": [
        {
          "output_type": "stream",
          "text": [
            "[('BBI-CSA - Bio-based Industries Coordination and Support action', 'BBI-IA-DEMO - Bio-based Industries Innovation action - Demonstration', 4), ('BBI-CSA - Bio-based Industries Coordination and Support action', 'BBI-RIA - Bio-based Industries Research and Innovation action', 2), ('BBI-CSA - Bio-based Industries Coordination and Support action', 'CSA - Coordination and support action', 23), ('BBI-CSA - Bio-based Industries Coordination and Support action', 'IA - Innovation action', 9), ('BBI-CSA - Bio-based Industries Coordination and Support action', 'RIA - Research and Innovation action', 12), ('BBI-IA-DEMO - Bio-based Industries Innovation action - Demonstration', 'BBI-IA-FLAG - Bio-based Industries Innovation action - Flagship', 6), ('BBI-IA-DEMO - Bio-based Industries Innovation action - Demonstration', 'BBI-RIA - Bio-based Industries Research and Innovation action', 31), ('BBI-IA-DEMO - Bio-based Industries Innovation action - Demonstration', 'CSA - Coordination and support action', 3), ('BBI-IA-DEMO - Bio-based Industries Innovation action - Demonstration', 'ECSEL-IA - ECSEL Innovation Action', 1), ('BBI-IA-DEMO - Bio-based Industries Innovation action - Demonstration', 'ECSEL-RIA - ECSEL Research and Innovation Action', 2), ('BBI-IA-DEMO - Bio-based Industries Innovation action - Demonstration', 'IA - Innovation action', 65), ('BBI-IA-DEMO - Bio-based Industries Innovation action - Demonstration', 'MSCA-COFUND-DP - Doctoral programmes', 1), ('BBI-IA-DEMO - Bio-based Industries Innovation action - Demonstration', 'MSCA-IF-EF-SE - Society and Enterprise panel', 1), ('BBI-IA-DEMO - Bio-based Industries Innovation action - Demonstration', 'MSCA-ITN-EID - European Industrial Doctorates', 1), ('BBI-IA-DEMO - Bio-based Industries Innovation action - Demonstration', 'MSCA-ITN-EJD - European Joint Doctorates', 1), ('BBI-IA-DEMO - Bio-based Industries Innovation action - Demonstration', 'MSCA-ITN-ETN - European Training Networks', 16), ('BBI-IA-DEMO - Bio-based Industries Innovation action - Demonstration', 'MSCA-RISE - Marie Skłodowska-Curie Research and Innovation Staff Exchange (RISE)', 4), ('BBI-IA-DEMO - Bio-based Industries Innovation action - Demonstration', 'RIA - Research and Innovation action', 47), ('BBI-IA-DEMO - Bio-based Industries Innovation action - Demonstration', 'SGA-RIA - SGA-RIA', 1), ('BBI-IA-DEMO - Bio-based Industries Innovation action - Demonstration', 'SME-1 - SME instrument phase 1', 5), ('BBI-IA-DEMO - Bio-based Industries Innovation action - Demonstration', 'SME-2 - SME instrument phase 2', 4), ('BBI-IA-DEMO - Bio-based Industries Innovation action - Demonstration', 'Shift2Rail-RIA - Research and Innovation action', 1), ('BBI-RIA - Bio-based Industries Research and Innovation action', 'CS2-RIA - Research and Innovation action', 1), ('BBI-RIA - Bio-based Industries Research and Innovation action', 'CSA - Coordination and support action', 10), ('BBI-RIA - Bio-based Industries Research and Innovation action', 'ECSEL-IA - ECSEL Innovation Action', 1), ('BBI-RIA - Bio-based Industries Research and Innovation action', 'ECSEL-RIA - ECSEL Research and Innovation Action', 1), ('BBI-RIA - Bio-based Industries Research and Innovation action', 'FCH2-RIA - Research and Innovation action', 2), ('BBI-RIA - Bio-based Industries Research and Innovation action', 'IA - Innovation action', 84), ('BBI-RIA - Bio-based Industries Research and Innovation action', 'MSCA-COFUND-DP - Doctoral programmes', 2), ('BBI-RIA - Bio-based Industries Research and Innovation action', 'MSCA-ITN-EID - European Industrial Doctorates', 1), ('BBI-RIA - Bio-based Industries Research and Innovation action', 'MSCA-ITN-EJD - European Joint Doctorates', 3), ('BBI-RIA - Bio-based Industries Research and Innovation action', 'MSCA-ITN-ETN - European Training Networks', 19), ('BBI-RIA - Bio-based Industries Research and Innovation action', 'MSCA-RISE - Marie Skłodowska-Curie Research and Innovation Staff Exchange (RISE)', 10), ('BBI-RIA - Bio-based Industries Research and Innovation action', 'RIA - Research and Innovation action', 82), ('BBI-RIA - Bio-based Industries Research and Innovation action', 'SME-1 - SME instrument phase 1', 8), ('BBI-RIA - Bio-based Industries Research and Innovation action', 'SME-2 - SME instrument phase 2', 3), ('CSA - Coordination and support action', 'CSA-LS - CSA Lump sum', 6), ('CSA - Coordination and support action', 'ECSEL-CSA - ECSEL Coordination & Support action', 4), ('CSA - Coordination and support action', 'ECSEL-IA - ECSEL Innovation Action', 12), ('CSA - Coordination and support action', 'ECSEL-RIA - ECSEL Research and Innovation Action', 19), ('CSA - Coordination and support action', 'ERA-NET-Cofund - ERA-NET Cofund', 3), ('CSA - Coordination and support action', 'ERC-POC - Proof of Concept Grant', 1), ('CSA - Coordination and support action', 'ERC-STG - Starting Grant', 1), ('CSA - Coordination and support action', 'FCH2-CSA - Coordination & support action', 1), ('CSA - Coordination and support action', 'FCH2-IA - Innovation action', 6), ('CSA - Coordination and support action', 'FCH2-RIA - Research and Innovation action', 6), ('CSA - Coordination and support action', 'H2020-EEN-SGA - Specific Grant Agreement Enterprise Europe Network (EEN)', 72), ('CSA - Coordination and support action', 'IA - Innovation action', 511), ('CSA - Coordination and support action', 'IMI2-RIA - Research and Innovation action', 9), ('CSA - Coordination and support action', 'MSCA-COFUND-DP - Doctoral programmes', 4), ('CSA - Coordination and support action', 'MSCA-COFUND-FP - Fellowship programmes', 2), ('CSA - Coordination and support action', 'MSCA-IF-EF-SE - Society and Enterprise panel', 10), ('CSA - Coordination and support action', 'MSCA-ITN-EID - European Industrial Doctorates', 13), ('CSA - Coordination and support action', 'MSCA-ITN-EJD - European Joint Doctorates', 9), ('CSA - Coordination and support action', 'MSCA-ITN-ETN - European Training Networks', 73), ('CSA - Coordination and support action', 'MSCA-RISE - Marie Skłodowska-Curie Research and Innovation Staff Exchange (RISE)', 34), ('CSA - Coordination and support action', 'PCP - Pre-Commercial Procurement', 13), ('CSA - Coordination and support action', 'PPI - Public Procurement of Innovative solutions', 1), ('CSA - Coordination and support action', 'RIA - Research and Innovation action', 830), ('CSA - Coordination and support action', 'SESAR-IA - Innovation action', 6), ('CSA - Coordination and support action', 'SESAR-RIA - Research and Innovation action', 6), ('CSA - Coordination and support action', 'SGA-RIA - SGA-RIA', 9), ('CSA - Coordination and support action', 'SME-1 - SME instrument phase 1', 32), ('CSA - Coordination and support action', 'SME-2 - SME instrument phase 2', 13), ('CSA - Coordination and support action', 'Shift2Rail-RIA - Research and Innovation action', 6), ('IA - Innovation action', 'IA-LS - Innovation action Lump Sum', 7), ('IA - Innovation action', 'IMI2-CSA - Coordination & support action', 1), ('IA - Innovation action', 'IMI2-RIA - Research and Innovation action', 9), ('IA - Innovation action', 'MSCA-COFUND-DP - Doctoral programmes', 9), ('IA - Innovation action', 'MSCA-COFUND-FP - Fellowship programmes', 3), ('IA - Innovation action', 'MSCA-IF-EF-RI - RI – Reintegration panel', 1), ('IA - Innovation action', 'MSCA-IF-EF-SE - Society and Enterprise panel', 13), ('IA - Innovation action', 'MSCA-IF-EF-ST - Standard EF', 1), ('IA - Innovation action', 'MSCA-ITN-EID - European Industrial Doctorates', 44), ('IA - Innovation action', 'MSCA-ITN-EJD - European Joint Doctorates', 23), ('IA - Innovation action', 'MSCA-ITN-ETN - European Training Networks', 278), ('IA - Innovation action', 'MSCA-RISE - Marie Skłodowska-Curie Research and Innovation Staff Exchange (RISE)', 93), ('IA - Innovation action', 'PCP - Pre-Commercial Procurement', 3), ('IA - Innovation action', 'RIA - Research and Innovation action', 2761), ('IA - Innovation action', 'RIA-LS - Research and Innovation action Lump Sum', 1), ('IA - Innovation action', 'SESAR-CSA - Coordination and Support Action', 2), ('IA - Innovation action', 'SESAR-IA - Innovation action', 7), ('IA - Innovation action', 'SESAR-RIA - Research and Innovation action', 24), ('IA - Innovation action', 'SGA-RIA - SGA-RIA', 33), ('IA - Innovation action', 'SME-1 - SME instrument phase 1', 158), ('IA - Innovation action', 'SME-2 - SME instrument phase 2', 89), ('IA - Innovation action', 'Shift2Rail-CSA - Coordination and Support Action', 1), ('IA - Innovation action', 'Shift2Rail-IA - Innovation action', 6), ('IA - Innovation action', 'Shift2Rail-IA-LS - Innovation Action Lump-Sum', 3), ('IA - Innovation action', 'Shift2Rail-RIA - Research and Innovation action', 45), ('RIA - Research and Innovation action', 'RIA-LS - Research and Innovation action Lump Sum', 1), ('RIA - Research and Innovation action', 'SESAR-IA - Innovation action', 21), ('RIA - Research and Innovation action', 'SESAR-RIA - Research and Innovation action', 36), ('RIA - Research and Innovation action', 'SGA-RIA - SGA-RIA', 68), ('RIA - Research and Innovation action', 'SME-1 - SME instrument phase 1', 185), ('RIA - Research and Innovation action', 'SME-2 - SME instrument phase 2', 90), ('RIA - Research and Innovation action', 'Shift2Rail-CSA - Coordination and Support Action', 1), ('RIA - Research and Innovation action', 'Shift2Rail-IA - Innovation action', 9), ('RIA - Research and Innovation action', 'Shift2Rail-IA-LS - Innovation Action Lump-Sum', 7), ('RIA - Research and Innovation action', 'Shift2Rail-RIA - Research and Innovation action', 67), ('RIA - Research and Innovation action', 'Shift2Rail-RIA-LS - Shift2Rail Research and Innovation Action Lump-Sum', 1), ('BBI-IA-FLAG - Bio-based Industries Innovation action - Flagship', 'BBI-RIA - Bio-based Industries Research and Innovation action', 8), ('BBI-IA-FLAG - Bio-based Industries Innovation action - Flagship', 'CSA - Coordination and support action', 2), ('BBI-IA-FLAG - Bio-based Industries Innovation action - Flagship', 'ECSEL-IA - ECSEL Innovation Action', 1), ('BBI-IA-FLAG - Bio-based Industries Innovation action - Flagship', 'IA - Innovation action', 10), ('BBI-IA-FLAG - Bio-based Industries Innovation action - Flagship', 'MSCA-IF-EF-SE - Society and Enterprise panel', 1), ('BBI-IA-FLAG - Bio-based Industries Innovation action - Flagship', 'MSCA-ITN-EID - European Industrial Doctorates', 1), ('BBI-IA-FLAG - Bio-based Industries Innovation action - Flagship', 'MSCA-ITN-ETN - European Training Networks', 1), ('BBI-IA-FLAG - Bio-based Industries Innovation action - Flagship', 'MSCA-RISE - Marie Skłodowska-Curie Research and Innovation Staff Exchange (RISE)', 2), ('BBI-IA-FLAG - Bio-based Industries Innovation action - Flagship', 'RIA - Research and Innovation action', 24), ('BBI-IA-FLAG - Bio-based Industries Innovation action - Flagship', 'SME-2 - SME instrument phase 2', 1), ('ECSEL-IA - ECSEL Innovation Action', 'ECSEL-RIA - ECSEL Research and Innovation Action', 142), ('ECSEL-IA - ECSEL Innovation Action', 'FCH2-IA - Innovation action', 3), ('ECSEL-IA - ECSEL Innovation Action', 'FCH2-RIA - Research and Innovation action', 4), ('ECSEL-IA - ECSEL Innovation Action', 'IA - Innovation action', 118), ('ECSEL-IA - ECSEL Innovation Action', 'IMI2-RIA - Research and Innovation action', 2), ('ECSEL-IA - ECSEL Innovation Action', 'MSCA-COFUND-DP - Doctoral programmes', 3), ('ECSEL-IA - ECSEL Innovation Action', 'MSCA-IF-EF-RI - RI – Reintegration panel', 1), ('ECSEL-IA - ECSEL Innovation Action', 'MSCA-ITN-EID - European Industrial Doctorates', 7), ('ECSEL-IA - ECSEL Innovation Action', 'MSCA-ITN-EJD - European Joint Doctorates', 1), ('ECSEL-IA - ECSEL Innovation Action', 'MSCA-ITN-ETN - European Training Networks', 28), ('ECSEL-IA - ECSEL Innovation Action', 'MSCA-RISE - Marie Skłodowska-Curie Research and Innovation Staff Exchange (RISE)', 5), ('ECSEL-IA - ECSEL Innovation Action', 'RIA - Research and Innovation action', 141), ('ECSEL-IA - ECSEL Innovation Action', 'SESAR-IA - Innovation action', 1), ('ECSEL-IA - ECSEL Innovation Action', 'SESAR-RIA - Research and Innovation action', 2), ('ECSEL-IA - ECSEL Innovation Action', 'SGA-RIA - SGA-RIA', 9), ('ECSEL-IA - ECSEL Innovation Action', 'SME-1 - SME instrument phase 1', 7), ('ECSEL-IA - ECSEL Innovation Action', 'SME-2 - SME instrument phase 2', 6), ('ECSEL-IA - ECSEL Innovation Action', 'Shift2Rail-RIA - Research and Innovation action', 4), ('ECSEL-RIA - ECSEL Research and Innovation Action', 'FCH2-IA - Innovation action', 4), ('ECSEL-RIA - ECSEL Research and Innovation Action', 'FCH2-RIA - Research and Innovation action', 3), ('ECSEL-RIA - ECSEL Research and Innovation Action', 'IA - Innovation action', 120), ('ECSEL-RIA - ECSEL Research and Innovation Action', 'IA-LS - Innovation action Lump Sum', 2), ('ECSEL-RIA - ECSEL Research and Innovation Action', 'MSCA-COFUND-DP - Doctoral programmes', 1), ('ECSEL-RIA - ECSEL Research and Innovation Action', 'MSCA-IF-EF-RI - RI – Reintegration panel', 1), ('ECSEL-RIA - ECSEL Research and Innovation Action', 'MSCA-IF-EF-SE - Society and Enterprise panel', 1), ('ECSEL-RIA - ECSEL Research and Innovation Action', 'MSCA-ITN-EID - European Industrial Doctorates', 8), ('ECSEL-RIA - ECSEL Research and Innovation Action', 'MSCA-ITN-EJD - European Joint Doctorates', 1), ('ECSEL-RIA - ECSEL Research and Innovation Action', 'MSCA-ITN-ETN - European Training Networks', 29), ('ECSEL-RIA - ECSEL Research and Innovation Action', 'MSCA-RISE - Marie Skłodowska-Curie Research and Innovation Staff Exchange (RISE)', 7), ('ECSEL-RIA - ECSEL Research and Innovation Action', 'RIA - Research and Innovation action', 182), ('ECSEL-RIA - ECSEL Research and Innovation Action', 'SESAR-RIA - Research and Innovation action', 2), ('ECSEL-RIA - ECSEL Research and Innovation Action', 'SGA-CSA - Specific Grant agreement and Coordination and Support Action', 1), ('ECSEL-RIA - ECSEL Research and Innovation Action', 'SGA-RIA - SGA-RIA', 10), ('ECSEL-RIA - ECSEL Research and Innovation Action', 'SME-1 - SME instrument phase 1', 14), ('ECSEL-RIA - ECSEL Research and Innovation Action', 'SME-2 - SME instrument phase 2', 10), ('ECSEL-RIA - ECSEL Research and Innovation Action', 'Shift2Rail-IA-LS - Innovation Action Lump-Sum', 2), ('ECSEL-RIA - ECSEL Research and Innovation Action', 'Shift2Rail-RIA - Research and Innovation action', 6), ('MSCA-COFUND-DP - Doctoral programmes', 'MSCA-IF-EF-SE - Society and Enterprise panel', 1), ('MSCA-COFUND-DP - Doctoral programmes', 'MSCA-ITN-EID - European Industrial Doctorates', 3), ('MSCA-COFUND-DP - Doctoral programmes', 'MSCA-ITN-ETN - European Training Networks', 13), ('MSCA-COFUND-DP - Doctoral programmes', 'MSCA-RISE - Marie Skłodowska-Curie Research and Innovation Staff Exchange (RISE)', 2), ('MSCA-COFUND-DP - Doctoral programmes', 'RIA - Research and Innovation action', 21), ('MSCA-COFUND-DP - Doctoral programmes', 'SME-1 - SME instrument phase 1', 2), ('MSCA-IF-EF-SE - Society and Enterprise panel', 'MSCA-IF-EF-ST - Standard EF', 2), ('MSCA-IF-EF-SE - Society and Enterprise panel', 'MSCA-ITN-EID - European Industrial Doctorates', 4), ('MSCA-IF-EF-SE - Society and Enterprise panel', 'MSCA-ITN-ETN - European Training Networks', 27), ('MSCA-IF-EF-SE - Society and Enterprise panel', 'MSCA-RISE - Marie Skłodowska-Curie Research and Innovation Staff Exchange (RISE)', 8), ('MSCA-IF-EF-SE - Society and Enterprise panel', 'RIA - Research and Innovation action', 31), ('MSCA-IF-EF-SE - Society and Enterprise panel', 'SGA-RIA - SGA-RIA', 3), ('MSCA-IF-EF-SE - Society and Enterprise panel', 'SME-1 - SME instrument phase 1', 7), ('MSCA-IF-EF-SE - Society and Enterprise panel', 'SME-2 - SME instrument phase 2', 4), ('MSCA-ITN-EID - European Industrial Doctorates', 'MSCA-ITN-EJD - European Joint Doctorates', 7), ('MSCA-ITN-EID - European Industrial Doctorates', 'MSCA-ITN-ETN - European Training Networks', 69), ('MSCA-ITN-EID - European Industrial Doctorates', 'MSCA-RISE - Marie Skłodowska-Curie Research and Innovation Staff Exchange (RISE)', 12), ('MSCA-ITN-EID - European Industrial Doctorates', 'RIA - Research and Innovation action', 98), ('MSCA-ITN-EID - European Industrial Doctorates', 'SESAR-RIA - Research and Innovation action', 1), ('MSCA-ITN-EID - European Industrial Doctorates', 'SGA-RIA - SGA-RIA', 5), ('MSCA-ITN-EID - European Industrial Doctorates', 'SME-1 - SME instrument phase 1', 6), ('MSCA-ITN-EID - European Industrial Doctorates', 'SME-2 - SME instrument phase 2', 4), ('MSCA-ITN-EID - European Industrial Doctorates', 'Shift2Rail-RIA - Research and Innovation action', 3), ('MSCA-ITN-EJD - European Joint Doctorates', 'MSCA-ITN-ETN - European Training Networks', 29), ('MSCA-ITN-EJD - European Joint Doctorates', 'MSCA-RISE - Marie Skłodowska-Curie Research and Innovation Staff Exchange (RISE)', 4), ('MSCA-ITN-EJD - European Joint Doctorates', 'RIA - Research and Innovation action', 48), ('MSCA-ITN-EJD - European Joint Doctorates', 'SESAR-CSA - Coordination and Support Action', 1), ('MSCA-ITN-EJD - European Joint Doctorates', 'SME-1 - SME instrument phase 1', 3), ('MSCA-ITN-EJD - European Joint Doctorates', 'SME-2 - SME instrument phase 2', 2), ('MSCA-ITN-ETN - European Training Networks', 'MSCA-RISE - Marie Skłodowska-Curie Research and Innovation Staff Exchange (RISE)', 97), ('MSCA-ITN-ETN - European Training Networks', 'RIA - Research and Innovation action', 727), ('MSCA-ITN-ETN - European Training Networks', 'SESAR-RIA - Research and Innovation action', 3), ('MSCA-ITN-ETN - European Training Networks', 'SGA-RIA - SGA-RIA', 18), ('MSCA-ITN-ETN - European Training Networks', 'SME-1 - SME instrument phase 1', 49), ('MSCA-ITN-ETN - European Training Networks', 'SME-2 - SME instrument phase 2', 26), ('MSCA-ITN-ETN - European Training Networks', 'Shift2Rail-RIA - Research and Innovation action', 8), ('MSCA-RISE - Marie Skłodowska-Curie Research and Innovation Staff Exchange (RISE)', 'RIA - Research and Innovation action', 147), ('MSCA-RISE - Marie Skłodowska-Curie Research and Innovation Staff Exchange (RISE)', 'SGA-RIA - SGA-RIA', 5), ('MSCA-RISE - Marie Skłodowska-Curie Research and Innovation Staff Exchange (RISE)', 'SME-1 - SME instrument phase 1', 44), ('MSCA-RISE - Marie Skłodowska-Curie Research and Innovation Staff Exchange (RISE)', 'SME-2 - SME instrument phase 2', 10), ('MSCA-RISE - Marie Skłodowska-Curie Research and Innovation Staff Exchange (RISE)', 'Shift2Rail-IA - Innovation action', 1), ('MSCA-RISE - Marie Skłodowska-Curie Research and Innovation Staff Exchange (RISE)', 'Shift2Rail-RIA - Research and Innovation action', 1), ('SGA-RIA - SGA-RIA', 'SME-1 - SME instrument phase 1', 1), ('SGA-RIA - SGA-RIA', 'SME-2 - SME instrument phase 2', 2), ('SME-1 - SME instrument phase 1', 'SME-2 - SME instrument phase 2', 398), ('SME-1 - SME instrument phase 1', 'Shift2Rail-RIA - Research and Innovation action', 3), ('SME-2 - SME instrument phase 2', 'Shift2Rail-RIA - Research and Innovation action', 3), ('Shift2Rail-RIA - Research and Innovation action', 'Shift2Rail-RIA-LS - Shift2Rail Research and Innovation Action Lump-Sum', 5), ('CS2-RIA - Research and Innovation action', 'CSA - Coordination and support action', 4), ('CS2-RIA - Research and Innovation action', 'ECSEL-IA - ECSEL Innovation Action', 2), ('CS2-RIA - Research and Innovation action', 'ECSEL-RIA - ECSEL Research and Innovation Action', 4), ('CS2-RIA - Research and Innovation action', 'FCH2-IA - Innovation action', 1), ('CS2-RIA - Research and Innovation action', 'FCH2-RIA - Research and Innovation action', 2), ('CS2-RIA - Research and Innovation action', 'IA - Innovation action', 11), ('CS2-RIA - Research and Innovation action', 'MSCA-ITN-EID - European Industrial Doctorates', 3), ('CS2-RIA - Research and Innovation action', 'MSCA-ITN-EJD - European Joint Doctorates', 4), ('CS2-RIA - Research and Innovation action', 'MSCA-ITN-ETN - European Training Networks', 7), ('CS2-RIA - Research and Innovation action', 'MSCA-RISE - Marie Skłodowska-Curie Research and Innovation Staff Exchange (RISE)', 1), ('CS2-RIA - Research and Innovation action', 'RIA - Research and Innovation action', 50), ('CS2-RIA - Research and Innovation action', 'SESAR-IA - Innovation action', 2), ('CS2-RIA - Research and Innovation action', 'SESAR-RIA - Research and Innovation action', 3), ('CS2-RIA - Research and Innovation action', 'SME-1 - SME instrument phase 1', 2), ('CS2-RIA - Research and Innovation action', 'SME-2 - SME instrument phase 2', 2), ('CS2-RIA - Research and Innovation action', 'Shift2Rail-RIA - Research and Innovation action', 1), ('FCH2-RIA - Research and Innovation action', 'H2020-EEN-SGA - Specific Grant Agreement Enterprise Europe Network (EEN)', 1), ('FCH2-RIA - Research and Innovation action', 'IA - Innovation action', 43), ('FCH2-RIA - Research and Innovation action', 'MSCA-ITN-EID - European Industrial Doctorates', 3), ('FCH2-RIA - Research and Innovation action', 'MSCA-ITN-ETN - European Training Networks', 10), ('FCH2-RIA - Research and Innovation action', 'MSCA-RISE - Marie Skłodowska-Curie Research and Innovation Staff Exchange (RISE)', 5), ('FCH2-RIA - Research and Innovation action', 'RIA - Research and Innovation action', 73), ('FCH2-RIA - Research and Innovation action', 'SESAR-RIA - Research and Innovation action', 2), ('FCH2-RIA - Research and Innovation action', 'SME-1 - SME instrument phase 1', 7), ('FCH2-RIA - Research and Innovation action', 'SME-2 - SME instrument phase 2', 3), ('FCH2-RIA - Research and Innovation action', 'Shift2Rail-RIA - Research and Innovation action', 1), ('COFUND-EJP - COFUND (European Joint Programme)', 'CSA - Coordination and support action', 2), ('COFUND-EJP - COFUND (European Joint Programme)', 'IA - Innovation action', 1), ('COFUND-EJP - COFUND (European Joint Programme)', 'IMI2-RIA - Research and Innovation action', 3), ('COFUND-EJP - COFUND (European Joint Programme)', 'RIA - Research and Innovation action', 7), ('IMI2-RIA - Research and Innovation action', 'MSCA-COFUND-FP - Fellowship programmes', 9), ('IMI2-RIA - Research and Innovation action', 'MSCA-IF-EF-SE - Society and Enterprise panel', 1), ('IMI2-RIA - Research and Innovation action', 'MSCA-ITN-EID - European Industrial Doctorates', 5), ('IMI2-RIA - Research and Innovation action', 'MSCA-ITN-EJD - European Joint Doctorates', 5), ('IMI2-RIA - Research and Innovation action', 'MSCA-ITN-ETN - European Training Networks', 104), ('IMI2-RIA - Research and Innovation action', 'MSCA-RISE - Marie Skłodowska-Curie Research and Innovation Staff Exchange (RISE)', 4), ('IMI2-RIA - Research and Innovation action', 'RIA - Research and Innovation action', 81), ('IMI2-RIA - Research and Innovation action', 'RIA-LS - Research and Innovation action Lump Sum', 1), ('IMI2-RIA - Research and Innovation action', 'SESAR-IA - Innovation action', 1), ('IMI2-RIA - Research and Innovation action', 'SME-1 - SME instrument phase 1', 2), ('IMI2-RIA - Research and Innovation action', 'SME-2 - SME instrument phase 2', 3), ('COFUND-PCP - COFUND (PCP)', 'CSA - Coordination and support action', 3), ('COFUND-PCP - COFUND (PCP)', 'H2020-EEN-SGA - Specific Grant Agreement Enterprise Europe Network (EEN)', 2), ('COFUND-PCP - COFUND (PCP)', 'IA - Innovation action', 1), ('COFUND-PCP - COFUND (PCP)', 'PCP - Pre-Commercial Procurement', 2), ('COFUND-PCP - COFUND (PCP)', 'RIA - Research and Innovation action', 3), ('H2020-EEN-SGA - Specific Grant Agreement Enterprise Europe Network (EEN)', 'IA - Innovation action', 11), ('H2020-EEN-SGA - Specific Grant Agreement Enterprise Europe Network (EEN)', 'MSCA-ITN-ETN - European Training Networks', 7), ('H2020-EEN-SGA - Specific Grant Agreement Enterprise Europe Network (EEN)', 'MSCA-RISE - Marie Skłodowska-Curie Research and Innovation Staff Exchange (RISE)', 2), ('H2020-EEN-SGA - Specific Grant Agreement Enterprise Europe Network (EEN)', 'PCP - Pre-Commercial Procurement', 1), ('H2020-EEN-SGA - Specific Grant Agreement Enterprise Europe Network (EEN)', 'RIA - Research and Innovation action', 8), ('PCP - Pre-Commercial Procurement', 'RIA - Research and Innovation action', 7), ('CS2-IA - Innovation action', 'CS2-RIA - Research and Innovation action', 58), ('CS2-IA - Innovation action', 'CSA - Coordination and support action', 5), ('CS2-IA - Innovation action', 'CSA-LS - CSA Lump sum', 1), ('CS2-IA - Innovation action', 'ECSEL-IA - ECSEL Innovation Action', 2), ('CS2-IA - Innovation action', 'ECSEL-RIA - ECSEL Research and Innovation Action', 3), ('CS2-IA - Innovation action', 'ERC-STG - Starting Grant', 1), ('CS2-IA - Innovation action', 'FCH2-IA - Innovation action', 2), ('CS2-IA - Innovation action', 'FCH2-RIA - Research and Innovation action', 1), ('CS2-IA - Innovation action', 'IA - Innovation action', 26), ('CS2-IA - Innovation action', 'MSCA-COFUND-DP - Doctoral programmes', 1), ('CS2-IA - Innovation action', 'MSCA-IF-EF-SE - Society and Enterprise panel', 1), ('CS2-IA - Innovation action', 'MSCA-ITN-EID - European Industrial Doctorates', 3), ('CS2-IA - Innovation action', 'MSCA-ITN-ETN - European Training Networks', 9), ('CS2-IA - Innovation action', 'MSCA-RISE - Marie Skłodowska-Curie Research and Innovation Staff Exchange (RISE)', 3), ('CS2-IA - Innovation action', 'RIA - Research and Innovation action', 90), ('CS2-IA - Innovation action', 'SESAR-IA - Innovation action', 1), ('CS2-IA - Innovation action', 'SESAR-RIA - Research and Innovation action', 3), ('CS2-IA - Innovation action', 'SME-1 - SME instrument phase 1', 3), ('CS2-IA - Innovation action', 'SME-2 - SME instrument phase 2', 3), ('CS2-IA - Innovation action', 'Shift2Rail-IA - Innovation action', 1), ('CS2-IA - Innovation action', 'Shift2Rail-RIA - Research and Innovation action', 2), ('CSA-LS - CSA Lump sum', 'H2020-EEN-SGA - Specific Grant Agreement Enterprise Europe Network (EEN)', 13), ('CSA-LS - CSA Lump sum', 'IA - Innovation action', 2), ('CSA-LS - CSA Lump sum', 'RIA - Research and Innovation action', 2), ('ERC-STG - Starting Grant', 'MSCA-IF-EF-SE - Society and Enterprise panel', 3), ('ERC-STG - Starting Grant', 'MSCA-IF-EF-ST - Standard EF', 1), ('ERC-STG - Starting Grant', 'MSCA-ITN-EID - European Industrial Doctorates', 2), ('ERC-STG - Starting Grant', 'MSCA-ITN-ETN - European Training Networks', 2), ('ERC-STG - Starting Grant', 'MSCA-RISE - Marie Skłodowska-Curie Research and Innovation Staff Exchange (RISE)', 1), ('ERC-STG - Starting Grant', 'RIA - Research and Innovation action', 3), ('ERC-STG - Starting Grant', 'SGA-RIA - SGA-RIA', 1), ('ERC-STG - Starting Grant', 'Shift2Rail-IA - Innovation action', 1), ('FCH2-IA - Innovation action', 'FCH2-RIA - Research and Innovation action', 50), ('FCH2-IA - Innovation action', 'IA - Innovation action', 29), ('FCH2-IA - Innovation action', 'MSCA-COFUND-DP - Doctoral programmes', 1), ('FCH2-IA - Innovation action', 'MSCA-ITN-ETN - European Training Networks', 3), ('FCH2-IA - Innovation action', 'MSCA-RISE - Marie Skłodowska-Curie Research and Innovation Staff Exchange (RISE)', 1), ('FCH2-IA - Innovation action', 'RIA - Research and Innovation action', 32), ('FCH2-IA - Innovation action', 'SME-1 - SME instrument phase 1', 1), ('SESAR-IA - Innovation action', 'SESAR-RIA - Research and Innovation action', 86), ('SESAR-IA - Innovation action', 'Shift2Rail-IA-LS - Innovation Action Lump-Sum', 2), ('SESAR-IA - Innovation action', 'Shift2Rail-RIA - Research and Innovation action', 1), ('SESAR-RIA - Research and Innovation action', 'SME-1 - SME instrument phase 1', 2), ('SESAR-RIA - Research and Innovation action', 'SME-2 - SME instrument phase 2', 1), ('SESAR-RIA - Research and Innovation action', 'Shift2Rail-RIA - Research and Innovation action', 2), ('Shift2Rail-IA - Innovation action', 'Shift2Rail-IA-LS - Innovation Action Lump-Sum', 3), ('Shift2Rail-IA - Innovation action', 'Shift2Rail-RIA - Research and Innovation action', 9), ('Shift2Rail-IA - Innovation action', 'Shift2Rail-RIA-LS - Shift2Rail Research and Innovation Action Lump-Sum', 2), ('ECSEL-CSA - ECSEL Coordination & Support action', 'ECSEL-RIA - ECSEL Research and Innovation Action', 2), ('ECSEL-CSA - ECSEL Coordination & Support action', 'IA - Innovation action', 2), ('ECSEL-CSA - ECSEL Coordination & Support action', 'IMI2-RIA - Research and Innovation action', 2), ('ECSEL-CSA - ECSEL Coordination & Support action', 'MSCA-ITN-ETN - European Training Networks', 1), ('ECSEL-CSA - ECSEL Coordination & Support action', 'RIA - Research and Innovation action', 3), ('ERA-NET-Cofund - ERA-NET Cofund', 'H2020-EEN-SGA - Specific Grant Agreement Enterprise Europe Network (EEN)', 2), ('ERA-NET-Cofund - ERA-NET Cofund', 'IA - Innovation action', 1), ('ERA-NET-Cofund - ERA-NET Cofund', 'MSCA-ITN-ETN - European Training Networks', 2), ('ERC-POC - Proof of Concept Grant', 'IA - Innovation action', 2), ('ERC-POC - Proof of Concept Grant', 'MSCA-COFUND-DP - Doctoral programmes', 1), ('ERC-POC - Proof of Concept Grant', 'MSCA-IF-EF-SE - Society and Enterprise panel', 4), ('ERC-POC - Proof of Concept Grant', 'MSCA-IF-EF-ST - Standard EF', 2), ('ERC-POC - Proof of Concept Grant', 'MSCA-ITN-ETN - European Training Networks', 9), ('ERC-POC - Proof of Concept Grant', 'MSCA-RISE - Marie Skłodowska-Curie Research and Innovation Staff Exchange (RISE)', 1), ('ERC-POC - Proof of Concept Grant', 'RIA - Research and Innovation action', 12), ('ERC-POC - Proof of Concept Grant', 'SME-1 - SME instrument phase 1', 4), ('FCH2-CSA - Coordination & support action', 'FCH2-IA - Innovation action', 8), ('FCH2-CSA - Coordination & support action', 'FCH2-RIA - Research and Innovation action', 6), ('FCH2-CSA - Coordination & support action', 'H2020-EEN-SGA - Specific Grant Agreement Enterprise Europe Network (EEN)', 1), ('FCH2-CSA - Coordination & support action', 'IA - Innovation action', 2), ('FCH2-CSA - Coordination & support action', 'RIA - Research and Innovation action', 1), ('MSCA-COFUND-FP - Fellowship programmes', 'MSCA-IF-EF-ST - Standard EF', 1), ('MSCA-COFUND-FP - Fellowship programmes', 'MSCA-ITN-EID - European Industrial Doctorates', 1), ('MSCA-COFUND-FP - Fellowship programmes', 'MSCA-ITN-EJD - European Joint Doctorates', 1), ('MSCA-COFUND-FP - Fellowship programmes', 'MSCA-ITN-ETN - European Training Networks', 8), ('MSCA-COFUND-FP - Fellowship programmes', 'MSCA-RISE - Marie Skłodowska-Curie Research and Innovation Staff Exchange (RISE)', 1), ('MSCA-COFUND-FP - Fellowship programmes', 'RIA - Research and Innovation action', 5), ('MSCA-COFUND-FP - Fellowship programmes', 'SME-1 - SME instrument phase 1', 1), ('MSCA-COFUND-FP - Fellowship programmes', 'SME-2 - SME instrument phase 2', 1), ('MSCA-IF-EF-RI - RI – Reintegration panel', 'MSCA-ITN-ETN - European Training Networks', 2), ('MSCA-IF-EF-RI - RI – Reintegration panel', 'RIA - Research and Innovation action', 2), ('IA-LS - Innovation action Lump Sum', 'RIA - Research and Innovation action', 10), ('IA-LS - Innovation action Lump Sum', 'SME-1 - SME instrument phase 1', 1), ('Shift2Rail-IA-LS - Innovation Action Lump-Sum', 'Shift2Rail-RIA - Research and Innovation action', 20), ('Shift2Rail-IA-LS - Innovation Action Lump-Sum', 'Shift2Rail-RIA-LS - Shift2Rail Research and Innovation Action Lump-Sum', 4), ('ERC-ADG - Advanced Grant', 'ERC-POC - Proof of Concept Grant', 1), ('ERC-ADG - Advanced Grant', 'ERC-STG - Starting Grant', 1), ('ERC-ADG - Advanced Grant', 'IMI2-RIA - Research and Innovation action', 1), ('ERC-ADG - Advanced Grant', 'MSCA-IF-EF-SE - Society and Enterprise panel', 1), ('ERC-ADG - Advanced Grant', 'MSCA-IF-EF-ST - Standard EF', 4), ('ERC-ADG - Advanced Grant', 'MSCA-ITN-ETN - European Training Networks', 1), ('ERC-ADG - Advanced Grant', 'RIA - Research and Innovation action', 3), ('ERC-ADG - Advanced Grant', 'SME-1 - SME instrument phase 1', 1), ('MSCA-IF-EF-ST - Standard EF', 'MSCA-IF-GF - Global Fellowships', 3), ('MSCA-IF-EF-ST - Standard EF', 'MSCA-ITN-ETN - European Training Networks', 3), ('MSCA-IF-EF-ST - Standard EF', 'RIA - Research and Innovation action', 5), ('ERC-COG - Consolidator Grant', 'ERC-POC - Proof of Concept Grant', 1), ('ERC-COG - Consolidator Grant', 'ERC-STG - Starting Grant', 1), ('ERC-COG - Consolidator Grant', 'IMI2-RIA - Research and Innovation action', 1), ('ERC-COG - Consolidator Grant', 'MSCA-COFUND-FP - Fellowship programmes', 1), ('ERC-COG - Consolidator Grant', 'MSCA-IF-EF-SE - Society and Enterprise panel', 5), ('ERC-COG - Consolidator Grant', 'MSCA-IF-EF-ST - Standard EF', 3), ('ERC-COG - Consolidator Grant', 'MSCA-ITN-ETN - European Training Networks', 1), ('ERC-COG - Consolidator Grant', 'RIA - Research and Innovation action', 5), ('ERC-POC-LS - ERC Proof of Concept Lump Sum Pilot', 'IA - Innovation action', 1), ('IMI2-CSA - Coordination & support action', 'IMI2-RIA - Research and Innovation action', 51), ('IMI2-CSA - Coordination & support action', 'MSCA-ITN-EJD - European Joint Doctorates', 1), ('IMI2-CSA - Coordination & support action', 'MSCA-ITN-ETN - European Training Networks', 13), ('IMI2-CSA - Coordination & support action', 'MSCA-RISE - Marie Skłodowska-Curie Research and Innovation Staff Exchange (RISE)', 1), ('IMI2-CSA - Coordination & support action', 'RIA - Research and Innovation action', 9), ('SESAR-CSA - Coordination and Support Action', 'SESAR-IA - Innovation action', 17), ('SESAR-CSA - Coordination and Support Action', 'SESAR-RIA - Research and Innovation action', 86), ('Shift2Rail-CSA - Coordination and Support Action', 'Shift2Rail-RIA - Research and Innovation action', 5), ('MSCA-IF-EF-CAR - CAR – Career Restart panel', 'MSCA-ITN-ETN - European Training Networks', 1), ('MSCA-IF-GF - Global Fellowships', 'MSCA-ITN-ETN - European Training Networks', 3), ('MSCA-IF-GF - Global Fellowships', 'MSCA-RISE - Marie Skłodowska-Curie Research and Innovation Staff Exchange (RISE)', 4), ('MSCA-IF-GF - Global Fellowships', 'RIA - Research and Innovation action', 3)]\n"
          ],
          "name": "stdout"
        }
      ]
    },
    {
      "cell_type": "code",
      "metadata": {
        "id": "V9L3tya2lM04",
        "colab_type": "code",
        "outputId": "c0a26cc1-10a0-43a0-b9f8-48f3d089f8c4",
        "colab": {
          "base_uri": "https://localhost:8080/",
          "height": 319
        }
      },
      "source": [
        "nx.draw(G)"
      ],
      "execution_count": 0,
      "outputs": [
        {
          "output_type": "display_data",
          "data": {
            "image/png": "[encoded data removed]",
            "text/plain": [
              "<Figure size 432x288 with 1 Axes>"
            ]
          },
          "metadata": {
            "tags": []
          }
        }
      ]
    },
    {
      "cell_type": "code",
      "metadata": {
        "id": "CWypSm0dlM1H",
        "colab_type": "code",
        "outputId": "11a779fe-b4ac-440b-d1f6-c0d11b91013e",
        "colab": {
          "base_uri": "https://localhost:8080/",
          "height": 617
        }
      },
      "source": [
        "bokeh_plot(G)"
      ],
      "execution_count": 0,
      "outputs": [
        {
          "output_type": "display_data",
          "data": {
            "application/javascript": [
              "\n",
              "(function(root) {\n",
              "  function now() {\n",
              "    return new Date();\n",
              "  }\n",
              "\n",
              "  var force = true;\n",
              "\n",
              "  if (typeof root._bokeh_onload_callbacks === \"undefined\" || force === true) {\n",
              "    root._bokeh_onload_callbacks = [];\n",
              "    root._bokeh_is_loading = undefined;\n",
              "  }\n",
              "\n",
              "  var JS_MIME_TYPE = 'application/javascript';\n",
              "  var HTML_MIME_TYPE = 'text/html';\n",
              "  var EXEC_MIME_TYPE = 'application/vnd.bokehjs_exec.v0+json';\n",
              "  var CLASS_NAME = 'output_bokeh rendered_html';\n",
              "\n",
              "  /**\n",
              "   * Render data to the DOM node\n",
              "   */\n",
              "  function render(props, node) {\n",
              "    var script = document.createElement(\"script\");\n",
              "    node.appendChild(script);\n",
              "  }\n",
              "\n",
              "  /**\n",
              "   * Handle when an output is cleared or removed\n",
              "   */\n",
              "  function handleClearOutput(event, handle) {\n",
              "    var cell = handle.cell;\n",
              "\n",
              "    var id = cell.output_area._bokeh_element_id;\n",
              "    var server_id = cell.output_area._bokeh_server_id;\n",
              "    // Clean up Bokeh references\n",
              "    if (id != null && id in Bokeh.index) {\n",
              "      Bokeh.index[id].model.document.clear();\n",
              "      delete Bokeh.index[id];\n",
              "    }\n",
              "\n",
              "    if (server_id !== undefined) {\n",
              "      // Clean up Bokeh references\n",
              "      var cmd = \"from bokeh.io.state import curstate; print(curstate().uuid_to_server['\" + server_id + \"'].get_sessions()[0].document.roots[0]._id)\";\n",
              "      cell.notebook.kernel.execute(cmd, {\n",
              "        iopub: {\n",
              "          output: function(msg) {\n",
              "            var id = msg.content.text.trim();\n",
              "            if (id in Bokeh.index) {\n",
              "              Bokeh.index[id].model.document.clear();\n",
              "              delete Bokeh.index[id];\n",
              "            }\n",
              "          }\n",
              "        }\n",
              "      });\n",
              "      // Destroy server and session\n",
              "      var cmd = \"import bokeh.io.notebook as ion; ion.destroy_server('\" + server_id + \"')\";\n",
              "      cell.notebook.kernel.execute(cmd);\n",
              "    }\n",
              "  }\n",
              "\n",
              "  /**\n",
              "   * Handle when a new output is added\n",
              "   */\n",
              "  function handleAddOutput(event, handle) {\n",
              "    var output_area = handle.output_area;\n",
              "    var output = handle.output;\n",
              "\n",
              "    // limit handleAddOutput to display_data with EXEC_MIME_TYPE content only\n",
              "    if ((output.output_type != \"display_data\") || (!output.data.hasOwnProperty(EXEC_MIME_TYPE))) {\n",
              "      return\n",
              "    }\n",
              "\n",
              "    var toinsert = output_area.element.find(\".\" + CLASS_NAME.split(' ')[0]);\n",
              "\n",
              "    if (output.metadata[EXEC_MIME_TYPE][\"id\"] !== undefined) {\n",
              "      toinsert[toinsert.length - 1].firstChild.textContent = output.data[JS_MIME_TYPE];\n",
              "      // store reference to embed id on output_area\n",
              "      output_area._bokeh_element_id = output.metadata[EXEC_MIME_TYPE][\"id\"];\n",
              "    }\n",
              "    if (output.metadata[EXEC_MIME_TYPE][\"server_id\"] !== undefined) {\n",
              "      var bk_div = document.createElement(\"div\");\n",
              "      bk_div.innerHTML = output.data[HTML_MIME_TYPE];\n",
              "      var script_attrs = bk_div.children[0].attributes;\n",
              "      for (var i = 0; i < script_attrs.length; i++) {\n",
              "        toinsert[toinsert.length - 1].firstChild.setAttribute(script_attrs[i].name, script_attrs[i].value);\n",
              "      }\n",
              "      // store reference to server id on output_area\n",
              "      output_area._bokeh_server_id = output.metadata[EXEC_MIME_TYPE][\"server_id\"];\n",
              "    }\n",
              "  }\n",
              "\n",
              "  function register_renderer(events, OutputArea) {\n",
              "\n",
              "    function append_mime(data, metadata, element) {\n",
              "      // create a DOM node to render to\n",
              "      var toinsert = this.create_output_subarea(\n",
              "        metadata,\n",
              "        CLASS_NAME,\n",
              "        EXEC_MIME_TYPE\n",
              "      );\n",
              "      this.keyboard_manager.register_events(toinsert);\n",
              "      // Render to node\n",
              "      var props = {data: data, metadata: metadata[EXEC_MIME_TYPE]};\n",
              "      render(props, toinsert[toinsert.length - 1]);\n",
              "      element.append(toinsert);\n",
              "      return toinsert\n",
              "    }\n",
              "\n",
              "    /* Handle when an output is cleared or removed */\n",
              "    events.on('clear_output.CodeCell', handleClearOutput);\n",
              "    events.on('delete.Cell', handleClearOutput);\n",
              "\n",
              "    /* Handle when a new output is added */\n",
              "    events.on('output_added.OutputArea', handleAddOutput);\n",
              "\n",
              "    /**\n",
              "     * Register the mime type and append_mime function with output_area\n",
              "     */\n",
              "    OutputArea.prototype.register_mime_type(EXEC_MIME_TYPE, append_mime, {\n",
              "      /* Is output safe? */\n",
              "      safe: true,\n",
              "      /* Index of renderer in `output_area.display_order` */\n",
              "      index: 0\n",
              "    });\n",
              "  }\n",
              "\n",
              "  // register the mime type if in Jupyter Notebook environment and previously unregistered\n",
              "  if (root.Jupyter !== undefined) {\n",
              "    var events = require('base/js/events');\n",
              "    var OutputArea = require('notebook/js/outputarea').OutputArea;\n",
              "\n",
              "    if (OutputArea.prototype.mime_types().indexOf(EXEC_MIME_TYPE) == -1) {\n",
              "      register_renderer(events, OutputArea);\n",
              "    }\n",
              "  }\n",
              "\n",
              "  \n",
              "  if (typeof (root._bokeh_timeout) === \"undefined\" || force === true) {\n",
              "    root._bokeh_timeout = Date.now() + 5000;\n",
              "    root._bokeh_failed_load = false;\n",
              "  }\n",
              "\n",
              "  var NB_LOAD_WARNING = {'data': {'text/html':\n",
              "     \"<div style='background-color: #fdd'>\\n\"+\n",
              "     \"<p>\\n\"+\n",
              "     \"BokehJS does not appear to have successfully loaded. If loading BokehJS from CDN, this \\n\"+\n",
              "     \"may be due to a slow or bad network connection. Possible fixes:\\n\"+\n",
              "     \"</p>\\n\"+\n",
              "     \"<ul>\\n\"+\n",
              "     \"<li>re-rerun `output_notebook()` to attempt to load from CDN again, or</li>\\n\"+\n",
              "     \"<li>use INLINE resources instead, as so:</li>\\n\"+\n",
              "     \"</ul>\\n\"+\n",
              "     \"<code>\\n\"+\n",
              "     \"from bokeh.resources import INLINE\\n\"+\n",
              "     \"output_notebook(resources=INLINE)\\n\"+\n",
              "     \"</code>\\n\"+\n",
              "     \"</div>\"}};\n",
              "\n",
              "  function display_loaded() {\n",
              "    var el = document.getElementById(null);\n",
              "    if (el != null) {\n",
              "      el.textContent = \"BokehJS is loading...\";\n",
              "    }\n",
              "    if (root.Bokeh !== undefined) {\n",
              "      if (el != null) {\n",
              "        el.textContent = \"BokehJS \" + root.Bokeh.version + \" successfully loaded.\";\n",
              "      }\n",
              "    } else if (Date.now() < root._bokeh_timeout) {\n",
              "      setTimeout(display_loaded, 100)\n",
              "    }\n",
              "  }\n",
              "\n",
              "\n",
              "  function run_callbacks() {\n",
              "    try {\n",
              "      root._bokeh_onload_callbacks.forEach(function(callback) {\n",
              "        if (callback != null)\n",
              "          callback();\n",
              "      });\n",
              "    } finally {\n",
              "      delete root._bokeh_onload_callbacks\n",
              "    }\n",
              "    console.debug(\"Bokeh: all callbacks have finished\");\n",
              "  }\n",
              "\n",
              "  function load_libs(css_urls, js_urls, callback) {\n",
              "    if (css_urls == null) css_urls = [];\n",
              "    if (js_urls == null) js_urls = [];\n",
              "\n",
              "    root._bokeh_onload_callbacks.push(callback);\n",
              "    if (root._bokeh_is_loading > 0) {\n",
              "      console.debug(\"Bokeh: BokehJS is being loaded, scheduling callback at\", now());\n",
              "      return null;\n",
              "    }\n",
              "    if (js_urls == null || js_urls.length === 0) {\n",
              "      run_callbacks();\n",
              "      return null;\n",
              "    }\n",
              "    console.debug(\"Bokeh: BokehJS not loaded, scheduling load and callback at\", now());\n",
              "    root._bokeh_is_loading = css_urls.length + js_urls.length;\n",
              "\n",
              "    function on_load() {\n",
              "      root._bokeh_is_loading--;\n",
              "      if (root._bokeh_is_loading === 0) {\n",
              "        console.debug(\"Bokeh: all BokehJS libraries/stylesheets loaded\");\n",
              "        run_callbacks()\n",
              "      }\n",
              "    }\n",
              "\n",
              "    function on_error() {\n",
              "      console.error(\"failed to load \" + url);\n",
              "    }\n",
              "\n",
              "    for (var i = 0; i < css_urls.length; i++) {\n",
              "      var url = css_urls[i];\n",
              "      const element = document.createElement(\"link\");\n",
              "      element.onload = on_load;\n",
              "      element.onerror = on_error;\n",
              "      element.rel = \"stylesheet\";\n",
              "      element.type = \"text/css\";\n",
              "      element.href = url;\n",
              "      console.debug(\"Bokeh: injecting link tag for BokehJS stylesheet: \", url);\n",
              "      document.body.appendChild(element);\n",
              "    }\n",
              "\n",
              "    for (var i = 0; i < js_urls.length; i++) {\n",
              "      var url = js_urls[i];\n",
              "      var element = document.createElement('script');\n",
              "      element.onload = on_load;\n",
              "      element.onerror = on_error;\n",
              "      element.async = false;\n",
              "      element.src = url;\n",
              "      console.debug(\"Bokeh: injecting script tag for BokehJS library: \", url);\n",
              "      document.head.appendChild(element);\n",
              "    }\n",
              "  };\n",
              "\n",
              "  function inject_raw_css(css) {\n",
              "    const element = document.createElement(\"style\");\n",
              "    element.appendChild(document.createTextNode(css));\n",
              "    document.body.appendChild(element);\n",
              "  }\n",
              "\n",
              "  var js_urls = [\"https://cdn.pydata.org/bokeh/release/bokeh-1.3.4.min.js\", \"https://cdn.pydata.org/bokeh/release/bokeh-widgets-1.3.4.min.js\", \"https://cdn.pydata.org/bokeh/release/bokeh-tables-1.3.4.min.js\", \"https://cdn.pydata.org/bokeh/release/bokeh-gl-1.3.4.min.js\"];\n",
              "  var css_urls = [];\n",
              "\n",
              "  var inline_js = [\n",
              "    function(Bokeh) {\n",
              "      Bokeh.set_log_level(\"info\");\n",
              "    },\n",
              "    \n",
              "    function(Bokeh) {\n",
              "      \n",
              "    },\n",
              "    function(Bokeh) {} // ensure no trailing comma for IE\n",
              "  ];\n",
              "\n",
              "  function run_inline_js() {\n",
              "    \n",
              "    if ((root.Bokeh !== undefined) || (force === true)) {\n",
              "      for (var i = 0; i < inline_js.length; i++) {\n",
              "        inline_js[i].call(root, root.Bokeh);\n",
              "      }} else if (Date.now() < root._bokeh_timeout) {\n",
              "      setTimeout(run_inline_js, 100);\n",
              "    } else if (!root._bokeh_failed_load) {\n",
              "      console.log(\"Bokeh: BokehJS failed to load within specified timeout.\");\n",
              "      root._bokeh_failed_load = true;\n",
              "    } else if (force !== true) {\n",
              "      var cell = $(document.getElementById(null)).parents('.cell').data().cell;\n",
              "      cell.output_area.append_execute_result(NB_LOAD_WARNING)\n",
              "    }\n",
              "\n",
              "  }\n",
              "\n",
              "  if (root._bokeh_is_loading === 0) {\n",
              "    console.debug(\"Bokeh: BokehJS loaded, going straight to plotting\");\n",
              "    run_inline_js();\n",
              "  } else {\n",
              "    load_libs(css_urls, js_urls, function() {\n",
              "      console.debug(\"Bokeh: BokehJS plotting callback run at\", now());\n",
              "      run_inline_js();\n",
              "    });\n",
              "  }\n",
              "}(window));"
            ],
            "application/vnd.bokehjs_load.v0+json": "\n(function(root) {\n  function now() {\n    return new Date();\n  }\n\n  var force = true;\n\n  if (typeof root._bokeh_onload_callbacks === \"undefined\" || force === true) {\n    root._bokeh_onload_callbacks = [];\n    root._bokeh_is_loading = undefined;\n  }\n\n  \n\n  \n  if (typeof (root._bokeh_timeout) === \"undefined\" || force === true) {\n    root._bokeh_timeout = Date.now() + 5000;\n    root._bokeh_failed_load = false;\n  }\n\n  var NB_LOAD_WARNING = {'data': {'text/html':\n     \"<div style='background-color: #fdd'>\\n\"+\n     \"<p>\\n\"+\n     \"BokehJS does not appear to have successfully loaded. If loading BokehJS from CDN, this \\n\"+\n     \"may be due to a slow or bad network connection. Possible fixes:\\n\"+\n     \"</p>\\n\"+\n     \"<ul>\\n\"+\n     \"<li>re-rerun `output_notebook()` to attempt to load from CDN again, or</li>\\n\"+\n     \"<li>use INLINE resources instead, as so:</li>\\n\"+\n     \"</ul>\\n\"+\n     \"<code>\\n\"+\n     \"from bokeh.resources import INLINE\\n\"+\n     \"output_notebook(resources=INLINE)\\n\"+\n     \"</code>\\n\"+\n     \"</div>\"}};\n\n  function display_loaded() {\n    var el = document.getElementById(null);\n    if (el != null) {\n      el.textContent = \"BokehJS is loading...\";\n    }\n    if (root.Bokeh !== undefined) {\n      if (el != null) {\n        el.textContent = \"BokehJS \" + root.Bokeh.version + \" successfully loaded.\";\n      }\n    } else if (Date.now() < root._bokeh_timeout) {\n      setTimeout(display_loaded, 100)\n    }\n  }\n\n\n  function run_callbacks() {\n    try {\n      root._bokeh_onload_callbacks.forEach(function(callback) {\n        if (callback != null)\n          callback();\n      });\n    } finally {\n      delete root._bokeh_onload_callbacks\n    }\n    console.debug(\"Bokeh: all callbacks have finished\");\n  }\n\n  function load_libs(css_urls, js_urls, callback) {\n    if (css_urls == null) css_urls = [];\n    if (js_urls == null) js_urls = [];\n\n    root._bokeh_onload_callbacks.push(callback);\n    if (root._bokeh_is_loading > 0) {\n      console.debug(\"Bokeh: BokehJS is being loaded, scheduling callback at\", now());\n      return null;\n    }\n    if (js_urls == null || js_urls.length === 0) {\n      run_callbacks();\n      return null;\n    }\n    console.debug(\"Bokeh: BokehJS not loaded, scheduling load and callback at\", now());\n    root._bokeh_is_loading = css_urls.length + js_urls.length;\n\n    function on_load() {\n      root._bokeh_is_loading--;\n      if (root._bokeh_is_loading === 0) {\n        console.debug(\"Bokeh: all BokehJS libraries/stylesheets loaded\");\n        run_callbacks()\n      }\n    }\n\n    function on_error() {\n      console.error(\"failed to load \" + url);\n    }\n\n    for (var i = 0; i < css_urls.length; i++) {\n      var url = css_urls[i];\n      const element = document.createElement(\"link\");\n      element.onload = on_load;\n      element.onerror = on_error;\n      element.rel = \"stylesheet\";\n      element.type = \"text/css\";\n      element.href = url;\n      console.debug(\"Bokeh: injecting link tag for BokehJS stylesheet: \", url);\n      document.body.appendChild(element);\n    }\n\n    for (var i = 0; i < js_urls.length; i++) {\n      var url = js_urls[i];\n      var element = document.createElement('script');\n      element.onload = on_load;\n      element.onerror = on_error;\n      element.async = false;\n      element.src = url;\n      console.debug(\"Bokeh: injecting script tag for BokehJS library: \", url);\n      document.head.appendChild(element);\n    }\n  };\n\n  function inject_raw_css(css) {\n    const element = document.createElement(\"style\");\n    element.appendChild(document.createTextNode(css));\n    document.body.appendChild(element);\n  }\n\n  var js_urls = [\"https://cdn.pydata.org/bokeh/release/bokeh-1.3.4.min.js\", \"https://cdn.pydata.org/bokeh/release/bokeh-widgets-1.3.4.min.js\", \"https://cdn.pydata.org/bokeh/release/bokeh-tables-1.3.4.min.js\", \"https://cdn.pydata.org/bokeh/release/bokeh-gl-1.3.4.min.js\"];\n  var css_urls = [];\n\n  var inline_js = [\n    function(Bokeh) {\n      Bokeh.set_log_level(\"info\");\n    },\n    \n    function(Bokeh) {\n      \n    },\n    function(Bokeh) {} // ensure no trailing comma for IE\n  ];\n\n  function run_inline_js() {\n    \n    if ((root.Bokeh !== undefined) || (force === true)) {\n      for (var i = 0; i < inline_js.length; i++) {\n        inline_js[i].call(root, root.Bokeh);\n      }} else if (Date.now() < root._bokeh_timeout) {\n      setTimeout(run_inline_js, 100);\n    } else if (!root._bokeh_failed_load) {\n      console.log(\"Bokeh: BokehJS failed to load within specified timeout.\");\n      root._bokeh_failed_load = true;\n    } else if (force !== true) {\n      var cell = $(document.getElementById(null)).parents('.cell').data().cell;\n      cell.output_area.append_execute_result(NB_LOAD_WARNING)\n    }\n\n  }\n\n  if (root._bokeh_is_loading === 0) {\n    console.debug(\"Bokeh: BokehJS loaded, going straight to plotting\");\n    run_inline_js();\n  } else {\n    load_libs(css_urls, js_urls, function() {\n      console.debug(\"Bokeh: BokehJS plotting callback run at\", now());\n      run_inline_js();\n    });\n  }\n}(window));"
          },
          "metadata": {
            "tags": []
          }
        },
        {
          "output_type": "display_data",
          "data": {
            "text/html": [
              "\n",
              "\n",
              "\n",
              "\n",
              "\n",
              "\n",
              "  <div class=\"bk-root\" id=\"f704c2f3-2fa5-4c75-b726-6f010c9aa817\" data-root-id=\"1527\"></div>\n"
            ]
          },
          "metadata": {
            "tags": []
          }
        },
        {
          "output_type": "display_data",
          "data": {
            "application/javascript": [
              "(function(root) {\n",
              "  function embed_document(root) {\n",
              "    \n",
              "  var docs_json = {\"6218703f-caac-46de-9414-4bc813834b9b\":{\"roots\":{\"references\":[{\"attributes\":{\"below\":[{\"id\":\"1538\",\"type\":\"LinearAxis\"}],\"center\":[{\"id\":\"1542\",\"type\":\"Grid\"},{\"id\":\"1547\",\"type\":\"Grid\"}],\"left\":[{\"id\":\"1543\",\"type\":\"LinearAxis\"}],\"renderers\":[{\"id\":\"1563\",\"type\":\"GraphRenderer\"}],\"title\":{\"id\":\"1528\",\"type\":\"Title\"},\"toolbar\":{\"id\":\"1554\",\"type\":\"Toolbar\"},\"x_range\":{\"id\":\"1530\",\"type\":\"Range1d\"},\"x_scale\":{\"id\":\"1534\",\"type\":\"LinearScale\"},\"y_range\":{\"id\":\"1532\",\"type\":\"Range1d\"},\"y_scale\":{\"id\":\"1536\",\"type\":\"LinearScale\"}},\"id\":\"1527\",\"subtype\":\"Figure\",\"type\":\"Plot\"},{\"attributes\":{},\"id\":\"1548\",\"type\":\"PanTool\"},{\"attributes\":{\"callback\":null,\"data\":{\"end\":[\"BBI-IA-DEMO - Bio-based Industries Innovation action - Demonstration\",\"BBI-RIA - Bio-based Industries Research and Innovation action\",\"CSA - Coordination and support action\",\"IA - Innovation action\",\"RIA - Research and Innovation action\",\"BBI-IA-DEMO - Bio-based Industries Innovation action - Demonstration\",\"BBI-IA-FLAG - Bio-based Industries Innovation action - Flagship\",\"BBI-RIA - Bio-based Industries Research and Innovation action\",\"CSA - Coordination and support action\",\"ECSEL-IA - ECSEL Innovation Action\",\"ECSEL-RIA - ECSEL Research and Innovation Action\",\"IA - Innovation action\",\"MSCA-COFUND-DP - Doctoral programmes\",\"MSCA-IF-EF-SE - Society and Enterprise panel\",\"MSCA-ITN-EID - European Industrial Doctorates\",\"MSCA-ITN-EJD - European Joint Doctorates\",\"MSCA-ITN-ETN - European Training Networks\",\"MSCA-RISE - Marie Sk\\u0142odowska-Curie Research and Innovation Staff Exchange (RISE)\",\"RIA - Research and Innovation action\",\"SGA-RIA - SGA-RIA\",\"SME-1 - SME instrument phase 1\",\"SME-2 - SME instrument phase 2\",\"Shift2Rail-RIA - Research and Innovation action\",\"BBI-IA-FLAG - Bio-based Industries Innovation action - Flagship\",\"BBI-RIA - Bio-based Industries Research and Innovation action\",\"CS2-RIA - Research and Innovation action\",\"CSA - Coordination and support action\",\"ECSEL-IA - ECSEL Innovation Action\",\"ECSEL-RIA - ECSEL Research and Innovation Action\",\"FCH2-RIA - Research and Innovation action\",\"IA - Innovation action\",\"MSCA-COFUND-DP - Doctoral programmes\",\"MSCA-ITN-EID - European Industrial Doctorates\",\"MSCA-ITN-EJD - European Joint Doctorates\",\"MSCA-ITN-ETN - European Training Networks\",\"MSCA-RISE - Marie Sk\\u0142odowska-Curie Research and Innovation Staff Exchange (RISE)\",\"RIA - Research and Innovation action\",\"SME-1 - SME instrument phase 1\",\"SME-2 - SME instrument phase 2\",\"BBI-IA-FLAG - Bio-based Industries Innovation action - Flagship\",\"COFUND-EJP - COFUND (European Joint Programme)\",\"COFUND-PCP - COFUND (PCP)\",\"CS2-IA - Innovation action\",\"CS2-RIA - Research and Innovation action\",\"CSA - Coordination and support action\",\"CSA-LS - CSA Lump sum\",\"ECSEL-CSA - ECSEL Coordination & Support action\",\"ECSEL-IA - ECSEL Innovation Action\",\"ECSEL-RIA - ECSEL Research and Innovation Action\",\"ERA-NET-Cofund - ERA-NET Cofund\",\"ERC-POC - Proof of Concept Grant\",\"ERC-STG - Starting Grant\",\"FCH2-CSA - Coordination & support action\",\"FCH2-IA - Innovation action\",\"FCH2-RIA - Research and Innovation action\",\"H2020-EEN-SGA - Specific Grant Agreement Enterprise Europe Network (EEN)\",\"IA - Innovation action\",\"IMI2-RIA - Research and Innovation action\",\"MSCA-COFUND-DP - Doctoral programmes\",\"MSCA-COFUND-FP - Fellowship programmes\",\"MSCA-IF-EF-SE - Society and Enterprise panel\",\"MSCA-ITN-EID - European Industrial Doctorates\",\"MSCA-ITN-EJD - European Joint Doctorates\",\"MSCA-ITN-ETN - European Training Networks\",\"MSCA-RISE - Marie Sk\\u0142odowska-Curie Research and Innovation Staff Exchange (RISE)\",\"PCP - Pre-Commercial Procurement\",\"PPI - Public Procurement of Innovative solutions\",\"RIA - Research and Innovation action\",\"SESAR-IA - Innovation action\",\"SESAR-RIA - Research and Innovation action\",\"SGA-RIA - SGA-RIA\",\"SME-1 - SME instrument phase 1\",\"SME-2 - SME instrument phase 2\",\"Shift2Rail-RIA - Research and Innovation action\",\"BBI-IA-FLAG - Bio-based Industries Innovation action - Flagship\",\"COFUND-EJP - COFUND (European Joint Programme)\",\"COFUND-PCP - COFUND (PCP)\",\"CS2-IA - Innovation action\",\"CS2-RIA - Research and Innovation action\",\"CSA-LS - CSA Lump sum\",\"ECSEL-CSA - ECSEL Coordination & Support action\",\"ECSEL-IA - ECSEL Innovation Action\",\"ECSEL-RIA - ECSEL Research and Innovation Action\",\"ERA-NET-Cofund - ERA-NET Cofund\",\"ERC-POC - Proof of Concept Grant\",\"ERC-POC-LS - ERC Proof of Concept Lump Sum Pilot\",\"FCH2-CSA - Coordination & support action\",\"FCH2-IA - Innovation action\",\"FCH2-RIA - Research and Innovation action\",\"H2020-EEN-SGA - Specific Grant Agreement Enterprise Europe Network (EEN)\",\"IA - Innovation action\",\"IA-LS - Innovation action Lump Sum\",\"IMI2-CSA - Coordination & support action\",\"IMI2-RIA - Research and Innovation action\",\"MSCA-COFUND-DP - Doctoral programmes\",\"MSCA-COFUND-FP - Fellowship programmes\",\"MSCA-IF-EF-RI - RI \\u2013 Reintegration panel\",\"MSCA-IF-EF-SE - Society and Enterprise panel\",\"MSCA-IF-EF-ST - Standard EF\",\"MSCA-ITN-EID - European Industrial Doctorates\",\"MSCA-ITN-EJD - European Joint Doctorates\",\"MSCA-ITN-ETN - European Training Networks\",\"MSCA-RISE - Marie Sk\\u0142odowska-Curie Research and Innovation Staff Exchange (RISE)\",\"PCP - Pre-Commercial Procurement\",\"RIA - Research and Innovation action\",\"RIA-LS - Research and Innovation action Lump Sum\",\"SESAR-CSA - Coordination and Support Action\",\"SESAR-IA - Innovation action\",\"SESAR-RIA - Research and Innovation action\",\"SGA-RIA - SGA-RIA\",\"SME-1 - SME instrument phase 1\",\"SME-2 - SME instrument phase 2\",\"Shift2Rail-CSA - Coordination and Support Action\",\"Shift2Rail-IA - Innovation action\",\"Shift2Rail-IA-LS - Innovation Action Lump-Sum\",\"Shift2Rail-RIA - Research and Innovation action\",\"BBI-IA-FLAG - Bio-based Industries Innovation action - Flagship\",\"COFUND-EJP - COFUND (European Joint Programme)\",\"COFUND-PCP - COFUND (PCP)\",\"CS2-IA - Innovation action\",\"CS2-RIA - Research and Innovation action\",\"CSA-LS - CSA Lump sum\",\"ECSEL-CSA - ECSEL Coordination & Support action\",\"ECSEL-IA - ECSEL Innovation Action\",\"ECSEL-RIA - ECSEL Research and Innovation Action\",\"ERC-ADG - Advanced Grant\",\"ERC-COG - Consolidator Grant\",\"ERC-POC - Proof of Concept Grant\",\"ERC-STG - Starting Grant\",\"FCH2-CSA - Coordination & support action\",\"FCH2-IA - Innovation action\",\"FCH2-RIA - Research and Innovation action\",\"H2020-EEN-SGA - Specific Grant Agreement Enterprise Europe Network (EEN)\",\"IA-LS - Innovation action Lump Sum\",\"IMI2-CSA - Coordination & support action\",\"IMI2-RIA - Research and Innovation action\",\"MSCA-COFUND-DP - Doctoral programmes\",\"MSCA-COFUND-FP - Fellowship programmes\",\"MSCA-IF-EF-RI - RI \\u2013 Reintegration panel\",\"MSCA-IF-EF-SE - Society and Enterprise panel\",\"MSCA-IF-EF-ST - Standard EF\",\"MSCA-IF-GF - Global Fellowships\",\"MSCA-ITN-EID - European Industrial Doctorates\",\"MSCA-ITN-EJD - European Joint Doctorates\",\"MSCA-ITN-ETN - European Training Networks\",\"MSCA-RISE - Marie Sk\\u0142odowska-Curie Research and Innovation Staff Exchange (RISE)\",\"PCP - Pre-Commercial Procurement\",\"RIA - Research and Innovation action\",\"RIA-LS - Research and Innovation action Lump Sum\",\"SESAR-IA - Innovation action\",\"SESAR-RIA - Research and Innovation action\",\"SGA-RIA - SGA-RIA\",\"SME-1 - SME instrument phase 1\",\"SME-2 - SME instrument phase 2\",\"Shift2Rail-CSA - Coordination and Support Action\",\"Shift2Rail-IA - Innovation action\",\"Shift2Rail-IA-LS - Innovation Action Lump-Sum\",\"Shift2Rail-RIA - Research and Innovation action\",\"Shift2Rail-RIA-LS - Shift2Rail Research and Innovation Action Lump-Sum\",\"ECSEL-IA - ECSEL Innovation Action\",\"MSCA-IF-EF-SE - Society and Enterprise panel\",\"MSCA-ITN-EID - European Industrial Doctorates\",\"MSCA-ITN-ETN - European Training Networks\",\"MSCA-RISE - Marie Sk\\u0142odowska-Curie Research and Innovation Staff Exchange (RISE)\",\"SME-2 - SME instrument phase 2\",\"CS2-IA - Innovation action\",\"CS2-RIA - Research and Innovation action\",\"ECSEL-IA - ECSEL Innovation Action\",\"ECSEL-RIA - ECSEL Research and Innovation Action\",\"FCH2-IA - Innovation action\",\"FCH2-RIA - Research and Innovation action\",\"IMI2-RIA - Research and Innovation action\",\"MSCA-COFUND-DP - Doctoral programmes\",\"MSCA-IF-EF-RI - RI \\u2013 Reintegration panel\",\"MSCA-ITN-EID - European Industrial Doctorates\",\"MSCA-ITN-EJD - European Joint Doctorates\",\"MSCA-ITN-ETN - European Training Networks\",\"MSCA-RISE - Marie Sk\\u0142odowska-Curie Research and Innovation Staff Exchange (RISE)\",\"SESAR-IA - Innovation action\",\"SESAR-RIA - Research and Innovation action\",\"SGA-RIA - SGA-RIA\",\"SME-1 - SME instrument phase 1\",\"SME-2 - SME instrument phase 2\",\"Shift2Rail-RIA - Research and Innovation action\",\"CS2-IA - Innovation action\",\"CS2-RIA - Research and Innovation action\",\"ECSEL-CSA - ECSEL Coordination & Support action\",\"ECSEL-RIA - ECSEL Research and Innovation Action\",\"FCH2-IA - Innovation action\",\"FCH2-RIA - Research and Innovation action\",\"IA-LS - Innovation action Lump Sum\",\"MSCA-COFUND-DP - Doctoral programmes\",\"MSCA-IF-EF-RI - RI \\u2013 Reintegration panel\",\"MSCA-IF-EF-SE - Society and Enterprise panel\",\"MSCA-ITN-EID - European Industrial Doctorates\",\"MSCA-ITN-EJD - European Joint Doctorates\",\"MSCA-ITN-ETN - European Training Networks\",\"MSCA-RISE - Marie Sk\\u0142odowska-Curie Research and Innovation Staff Exchange (RISE)\",\"SESAR-RIA - Research and Innovation action\",\"SGA-CSA - Specific Grant agreement and Coordination and Support Action\",\"SGA-RIA - SGA-RIA\",\"SME-1 - SME instrument phase 1\",\"SME-2 - SME instrument phase 2\",\"Shift2Rail-IA-LS - Innovation Action Lump-Sum\",\"Shift2Rail-RIA - Research and Innovation action\",\"CS2-IA - Innovation action\",\"ERC-POC - Proof of Concept Grant\",\"FCH2-IA - Innovation action\",\"MSCA-COFUND-DP - Doctoral programmes\",\"MSCA-IF-EF-SE - Society and Enterprise panel\",\"MSCA-ITN-EID - European Industrial Doctorates\",\"MSCA-ITN-ETN - European Training Networks\",\"MSCA-RISE - Marie Sk\\u0142odowska-Curie Research and Innovation Staff Exchange (RISE)\",\"SME-1 - SME instrument phase 1\",\"CS2-IA - Innovation action\",\"ERC-ADG - Advanced Grant\",\"ERC-COG - Consolidator Grant\",\"ERC-POC - Proof of Concept Grant\",\"ERC-STG - Starting Grant\",\"IMI2-RIA - Research and Innovation action\",\"MSCA-IF-EF-SE - Society and Enterprise panel\",\"MSCA-IF-EF-ST - Standard EF\",\"MSCA-ITN-EID - European Industrial Doctorates\",\"MSCA-ITN-ETN - European Training Networks\",\"MSCA-RISE - Marie Sk\\u0142odowska-Curie Research and Innovation Staff Exchange (RISE)\",\"SGA-RIA - SGA-RIA\",\"SME-1 - SME instrument phase 1\",\"SME-2 - SME instrument phase 2\",\"CS2-IA - Innovation action\",\"CS2-RIA - Research and Innovation action\",\"ERC-STG - Starting Grant\",\"FCH2-RIA - Research and Innovation action\",\"IMI2-RIA - Research and Innovation action\",\"MSCA-COFUND-FP - Fellowship programmes\",\"MSCA-ITN-EID - European Industrial Doctorates\",\"MSCA-ITN-EJD - European Joint Doctorates\",\"MSCA-ITN-ETN - European Training Networks\",\"MSCA-RISE - Marie Sk\\u0142odowska-Curie Research and Innovation Staff Exchange (RISE)\",\"SESAR-RIA - Research and Innovation action\",\"SGA-RIA - SGA-RIA\",\"SME-1 - SME instrument phase 1\",\"SME-2 - SME instrument phase 2\",\"Shift2Rail-RIA - Research and Innovation action\",\"CS2-RIA - Research and Innovation action\",\"IMI2-CSA - Coordination & support action\",\"IMI2-RIA - Research and Innovation action\",\"MSCA-COFUND-FP - Fellowship programmes\",\"MSCA-ITN-EJD - European Joint Doctorates\",\"MSCA-ITN-ETN - European Training Networks\",\"MSCA-RISE - Marie Sk\\u0142odowska-Curie Research and Innovation Staff Exchange (RISE)\",\"SESAR-CSA - Coordination and Support Action\",\"SME-1 - SME instrument phase 1\",\"SME-2 - SME instrument phase 2\",\"CS2-IA - Innovation action\",\"CS2-RIA - Research and Innovation action\",\"ECSEL-CSA - ECSEL Coordination & Support action\",\"ERA-NET-Cofund - ERA-NET Cofund\",\"ERC-ADG - Advanced Grant\",\"ERC-COG - Consolidator Grant\",\"ERC-POC - Proof of Concept Grant\",\"ERC-STG - Starting Grant\",\"FCH2-IA - Innovation action\",\"FCH2-RIA - Research and Innovation action\",\"H2020-EEN-SGA - Specific Grant Agreement Enterprise Europe Network (EEN)\",\"IMI2-CSA - Coordination & support action\",\"IMI2-RIA - Research and Innovation action\",\"MSCA-COFUND-FP - Fellowship programmes\",\"MSCA-IF-EF-CAR - CAR \\u2013 Career Restart panel\",\"MSCA-IF-EF-RI - RI \\u2013 Reintegration panel\",\"MSCA-IF-EF-ST - Standard EF\",\"MSCA-IF-GF - Global Fellowships\",\"MSCA-ITN-ETN - European Training Networks\",\"MSCA-RISE - Marie Sk\\u0142odowska-Curie Research and Innovation Staff Exchange (RISE)\",\"SESAR-RIA - Research and Innovation action\",\"SGA-RIA - SGA-RIA\",\"SME-1 - SME instrument phase 1\",\"SME-2 - SME instrument phase 2\",\"Shift2Rail-RIA - Research and Innovation action\",\"CS2-IA - Innovation action\",\"CS2-RIA - Research and Innovation action\",\"ERC-POC - Proof of Concept Grant\",\"ERC-STG - Starting Grant\",\"FCH2-IA - Innovation action\",\"FCH2-RIA - Research and Innovation action\",\"H2020-EEN-SGA - Specific Grant Agreement Enterprise Europe Network (EEN)\",\"IMI2-CSA - Coordination & support action\",\"IMI2-RIA - Research and Innovation action\",\"MSCA-COFUND-FP - Fellowship programmes\",\"MSCA-IF-GF - Global Fellowships\",\"MSCA-RISE - Marie Sk\\u0142odowska-Curie Research and Innovation Staff Exchange (RISE)\",\"SGA-RIA - SGA-RIA\",\"SME-1 - SME instrument phase 1\",\"SME-2 - SME instrument phase 2\",\"Shift2Rail-IA - Innovation action\",\"Shift2Rail-RIA - Research and Innovation action\",\"ERC-STG - Starting Grant\",\"SGA-RIA - SGA-RIA\",\"SME-1 - SME instrument phase 1\",\"SME-2 - SME instrument phase 2\",\"CS2-IA - Innovation action\",\"CS2-RIA - Research and Innovation action\",\"ERC-ADG - Advanced Grant\",\"ERC-POC - Proof of Concept Grant\",\"FCH2-IA - Innovation action\",\"FCH2-RIA - Research and Innovation action\",\"IA-LS - Innovation action Lump Sum\",\"IMI2-RIA - Research and Innovation action\",\"MSCA-COFUND-FP - Fellowship programmes\",\"SESAR-RIA - Research and Innovation action\",\"SME-1 - SME instrument phase 1\",\"SME-2 - SME instrument phase 2\",\"Shift2Rail-RIA - Research and Innovation action\",\"CS2-IA - Innovation action\",\"CS2-RIA - Research and Innovation action\",\"FCH2-RIA - Research and Innovation action\",\"IMI2-RIA - Research and Innovation action\",\"MSCA-COFUND-FP - Fellowship programmes\",\"SESAR-RIA - Research and Innovation action\",\"SME-2 - SME instrument phase 2\",\"Shift2Rail-RIA - Research and Innovation action\",\"CS2-IA - Innovation action\",\"CS2-RIA - Research and Innovation action\",\"FCH2-RIA - Research and Innovation action\",\"SESAR-IA - Innovation action\",\"SESAR-RIA - Research and Innovation action\",\"Shift2Rail-CSA - Coordination and Support Action\",\"Shift2Rail-IA - Innovation action\",\"Shift2Rail-IA-LS - Innovation Action Lump-Sum\",\"Shift2Rail-RIA - Research and Innovation action\",\"Shift2Rail-RIA-LS - Shift2Rail Research and Innovation Action Lump-Sum\",\"CS2-IA - Innovation action\",\"CS2-RIA - Research and Innovation action\",\"FCH2-IA - Innovation action\",\"FCH2-RIA - Research and Innovation action\",\"SESAR-IA - Innovation action\",\"SESAR-RIA - Research and Innovation action\",\"CS2-IA - Innovation action\",\"FCH2-CSA - Coordination & support action\",\"FCH2-IA - Innovation action\",\"FCH2-RIA - Research and Innovation action\",\"H2020-EEN-SGA - Specific Grant Agreement Enterprise Europe Network (EEN)\",\"SESAR-RIA - Research and Innovation action\",\"IMI2-RIA - Research and Innovation action\",\"ECSEL-CSA - ECSEL Coordination & Support action\",\"ERC-ADG - Advanced Grant\",\"ERC-COG - Consolidator Grant\",\"IMI2-CSA - Coordination & support action\",\"IMI2-RIA - Research and Innovation action\",\"MSCA-COFUND-FP - Fellowship programmes\",\"RIA-LS - Research and Innovation action Lump Sum\",\"SESAR-IA - Innovation action\",\"H2020-EEN-SGA - Specific Grant Agreement Enterprise Europe Network (EEN)\",\"PCP - Pre-Commercial Procurement\",\"CSA-LS - CSA Lump sum\",\"ERA-NET-Cofund - ERA-NET Cofund\",\"FCH2-CSA - Coordination & support action\",\"H2020-EEN-SGA - Specific Grant Agreement Enterprise Europe Network (EEN)\",\"PCP - Pre-Commercial Procurement\",\"PCP - Pre-Commercial Procurement\",\"CS2-CSA - Coordination & support action\",\"CS2-IA - Innovation action\",\"CSA-LS - CSA Lump sum\",\"ERC-STG - Starting Grant\",\"FCH2-IA - Innovation action\",\"SESAR-IA - Innovation action\",\"SESAR-RIA - Research and Innovation action\",\"Shift2Rail-IA - Innovation action\",\"CSA-LS - CSA Lump sum\",\"ERC-ADG - Advanced Grant\",\"ERC-COG - Consolidator Grant\",\"MSCA-IF-EF-ST - Standard EF\",\"Shift2Rail-IA - Innovation action\",\"FCH2-CSA - Coordination & support action\",\"FCH2-IA - Innovation action\",\"SESAR-CSA - Coordination and Support Action\",\"SESAR-IA - Innovation action\",\"SESAR-RIA - Research and Innovation action\",\"Shift2Rail-IA-LS - Innovation Action Lump-Sum\",\"SESAR-CSA - Coordination and Support Action\",\"SESAR-RIA - Research and Innovation action\",\"Shift2Rail-IA - Innovation action\",\"Shift2Rail-IA-LS - Innovation Action Lump-Sum\",\"Shift2Rail-RIA-LS - Shift2Rail Research and Innovation Action Lump-Sum\",\"ERA-NET-Cofund - ERA-NET Cofund\",\"ERC-ADG - Advanced Grant\",\"ERC-COG - Consolidator Grant\",\"ERC-POC - Proof of Concept Grant\",\"MSCA-IF-EF-ST - Standard EF\",\"ERC-COG - Consolidator Grant\",\"MSCA-IF-EF-ST - Standard EF\",\"Shift2Rail-IA-LS - Innovation Action Lump-Sum\",\"Shift2Rail-RIA-LS - Shift2Rail Research and Innovation Action Lump-Sum\",\"ERC-ADG - Advanced Grant\",\"MSCA-IF-EF-ST - Standard EF\",\"ERC-COG - Consolidator Grant\",\"MSCA-IF-EF-ST - Standard EF\",\"MSCA-IF-GF - Global Fellowships\",\"ERC-COG - Consolidator Grant\",\"MSCA-IF-GF - Global Fellowships\",\"Shift2Rail-RIA-LS - Shift2Rail Research and Innovation Action Lump-Sum\"],\"start\":[\"BBI-CSA - Bio-based Industries Coordination and Support action\",\"BBI-CSA - Bio-based Industries Coordination and Support action\",\"BBI-CSA - Bio-based Industries Coordination and Support action\",\"BBI-CSA - Bio-based Industries Coordination and Support action\",\"BBI-CSA - Bio-based Industries Coordination and Support action\",\"BBI-IA-DEMO - Bio-based Industries Innovation action - Demonstration\",\"BBI-IA-DEMO - Bio-based Industries Innovation action - Demonstration\",\"BBI-IA-DEMO - Bio-based Industries Innovation action - Demonstration\",\"BBI-IA-DEMO - Bio-based Industries Innovation action - Demonstration\",\"BBI-IA-DEMO - Bio-based Industries Innovation action - Demonstration\",\"BBI-IA-DEMO - Bio-based Industries Innovation action - Demonstration\",\"BBI-IA-DEMO - Bio-based Industries Innovation action - Demonstration\",\"BBI-IA-DEMO - Bio-based Industries Innovation action - Demonstration\",\"BBI-IA-DEMO - Bio-based Industries Innovation action - Demonstration\",\"BBI-IA-DEMO - Bio-based Industries Innovation action - Demonstration\",\"BBI-IA-DEMO - Bio-based Industries Innovation action - Demonstration\",\"BBI-IA-DEMO - Bio-based Industries Innovation action - Demonstration\",\"BBI-IA-DEMO - Bio-based Industries Innovation action - Demonstration\",\"BBI-IA-DEMO - Bio-based Industries Innovation action - Demonstration\",\"BBI-IA-DEMO - Bio-based Industries Innovation action - Demonstration\",\"BBI-IA-DEMO - Bio-based Industries Innovation action - Demonstration\",\"BBI-IA-DEMO - Bio-based Industries Innovation action - Demonstration\",\"BBI-IA-DEMO - Bio-based Industries Innovation action - Demonstration\",\"BBI-RIA - Bio-based Industries Research and Innovation action\",\"BBI-RIA - Bio-based Industries Research and Innovation action\",\"BBI-RIA - Bio-based Industries Research and Innovation action\",\"BBI-RIA - Bio-based Industries Research and Innovation action\",\"BBI-RIA - Bio-based Industries Research and Innovation action\",\"BBI-RIA - Bio-based Industries Research and Innovation action\",\"BBI-RIA - Bio-based Industries Research and Innovation action\",\"BBI-RIA - Bio-based Industries Research and Innovation action\",\"BBI-RIA - Bio-based Industries Research and Innovation action\",\"BBI-RIA - Bio-based Industries Research and Innovation action\",\"BBI-RIA - Bio-based Industries Research and Innovation action\",\"BBI-RIA - Bio-based Industries Research and Innovation action\",\"BBI-RIA - Bio-based Industries Research and Innovation action\",\"BBI-RIA - Bio-based Industries Research and Innovation action\",\"BBI-RIA - Bio-based Industries Research and Innovation action\",\"BBI-RIA - Bio-based Industries Research and Innovation action\",\"CSA - Coordination and support action\",\"CSA - Coordination and support action\",\"CSA - Coordination and support action\",\"CSA - Coordination and support action\",\"CSA - Coordination and support action\",\"CSA - Coordination and support action\",\"CSA - Coordination and support action\",\"CSA - Coordination and support action\",\"CSA - Coordination and support action\",\"CSA - Coordination and support action\",\"CSA - Coordination and support action\",\"CSA - Coordination and support action\",\"CSA - Coordination and support action\",\"CSA - Coordination and support action\",\"CSA - Coordination and support action\",\"CSA - Coordination and support action\",\"CSA - Coordination and support action\",\"CSA - Coordination and support action\",\"CSA - Coordination and support action\",\"CSA - Coordination and support action\",\"CSA - Coordination and support action\",\"CSA - Coordination and support action\",\"CSA - Coordination and support action\",\"CSA - Coordination and support action\",\"CSA - Coordination and support action\",\"CSA - Coordination and support action\",\"CSA - Coordination and support action\",\"CSA - Coordination and support action\",\"CSA - Coordination and support action\",\"CSA - Coordination and support action\",\"CSA - Coordination and support action\",\"CSA - Coordination and support action\",\"CSA - Coordination and support action\",\"CSA - Coordination and support action\",\"CSA - Coordination and support action\",\"IA - Innovation action\",\"IA - Innovation action\",\"IA - Innovation action\",\"IA - Innovation action\",\"IA - Innovation action\",\"IA - Innovation action\",\"IA - Innovation action\",\"IA - Innovation action\",\"IA - Innovation action\",\"IA - Innovation action\",\"IA - Innovation action\",\"IA - Innovation action\",\"IA - Innovation action\",\"IA - Innovation action\",\"IA - Innovation action\",\"IA - Innovation action\",\"IA - Innovation action\",\"IA - Innovation action\",\"IA - Innovation action\",\"IA - Innovation action\",\"IA - Innovation action\",\"IA - Innovation action\",\"IA - Innovation action\",\"IA - Innovation action\",\"IA - Innovation action\",\"IA - Innovation action\",\"IA - Innovation action\",\"IA - Innovation action\",\"IA - Innovation action\",\"IA - Innovation action\",\"IA - Innovation action\",\"IA - Innovation action\",\"IA - Innovation action\",\"IA - Innovation action\",\"IA - Innovation action\",\"IA - Innovation action\",\"IA - Innovation action\",\"IA - Innovation action\",\"IA - Innovation action\",\"IA - Innovation action\",\"IA - Innovation action\",\"IA - Innovation action\",\"RIA - Research and Innovation action\",\"RIA - Research and Innovation action\",\"RIA - Research and Innovation action\",\"RIA - Research and Innovation action\",\"RIA - Research and Innovation action\",\"RIA - Research and Innovation action\",\"RIA - Research and Innovation action\",\"RIA - Research and Innovation action\",\"RIA - Research and Innovation action\",\"RIA - Research and Innovation action\",\"RIA - Research and Innovation action\",\"RIA - Research and Innovation action\",\"RIA - Research and Innovation action\",\"RIA - Research and Innovation action\",\"RIA - Research and Innovation action\",\"RIA - Research and Innovation action\",\"RIA - Research and Innovation action\",\"RIA - Research and Innovation action\",\"RIA - Research and Innovation action\",\"RIA - Research and Innovation action\",\"RIA - Research and Innovation action\",\"RIA - Research and Innovation action\",\"RIA - Research and Innovation action\",\"RIA - Research and Innovation action\",\"RIA - Research and Innovation action\",\"RIA - Research and Innovation action\",\"RIA - Research and Innovation action\",\"RIA - Research and Innovation action\",\"RIA - Research and Innovation action\",\"RIA - Research and Innovation action\",\"RIA - Research and Innovation action\",\"RIA - Research and Innovation action\",\"RIA - Research and Innovation action\",\"RIA - Research and Innovation action\",\"RIA - Research and Innovation action\",\"RIA - Research and Innovation action\",\"RIA - Research and Innovation action\",\"RIA - Research and Innovation action\",\"RIA - Research and Innovation action\",\"RIA - Research and Innovation action\",\"RIA - Research and Innovation action\",\"RIA - Research and Innovation action\",\"RIA - Research and Innovation action\",\"BBI-IA-FLAG - Bio-based Industries Innovation action - Flagship\",\"BBI-IA-FLAG - Bio-based Industries Innovation action - Flagship\",\"BBI-IA-FLAG - Bio-based Industries Innovation action - Flagship\",\"BBI-IA-FLAG - Bio-based Industries Innovation action - Flagship\",\"BBI-IA-FLAG - Bio-based Industries Innovation action - Flagship\",\"BBI-IA-FLAG - Bio-based Industries Innovation action - Flagship\",\"ECSEL-IA - ECSEL Innovation Action\",\"ECSEL-IA - ECSEL Innovation Action\",\"ECSEL-IA - ECSEL Innovation Action\",\"ECSEL-IA - ECSEL Innovation Action\",\"ECSEL-IA - ECSEL Innovation Action\",\"ECSEL-IA - ECSEL Innovation Action\",\"ECSEL-IA - ECSEL Innovation Action\",\"ECSEL-IA - ECSEL Innovation Action\",\"ECSEL-IA - ECSEL Innovation Action\",\"ECSEL-IA - ECSEL Innovation Action\",\"ECSEL-IA - ECSEL Innovation Action\",\"ECSEL-IA - ECSEL Innovation Action\",\"ECSEL-IA - ECSEL Innovation Action\",\"ECSEL-IA - ECSEL Innovation Action\",\"ECSEL-IA - ECSEL Innovation Action\",\"ECSEL-IA - ECSEL Innovation Action\",\"ECSEL-IA - ECSEL Innovation Action\",\"ECSEL-IA - ECSEL Innovation Action\",\"ECSEL-IA - ECSEL Innovation Action\",\"ECSEL-RIA - ECSEL Research and Innovation Action\",\"ECSEL-RIA - ECSEL Research and Innovation Action\",\"ECSEL-RIA - ECSEL Research and Innovation Action\",\"ECSEL-RIA - ECSEL Research and Innovation Action\",\"ECSEL-RIA - ECSEL Research and Innovation Action\",\"ECSEL-RIA - ECSEL Research and Innovation Action\",\"ECSEL-RIA - ECSEL Research and Innovation Action\",\"ECSEL-RIA - ECSEL Research and Innovation Action\",\"ECSEL-RIA - ECSEL Research and Innovation Action\",\"ECSEL-RIA - ECSEL Research and Innovation Action\",\"ECSEL-RIA - ECSEL Research and Innovation Action\",\"ECSEL-RIA - ECSEL Research and Innovation Action\",\"ECSEL-RIA - ECSEL Research and Innovation Action\",\"ECSEL-RIA - ECSEL Research and Innovation Action\",\"ECSEL-RIA - ECSEL Research and Innovation Action\",\"ECSEL-RIA - ECSEL Research and Innovation Action\",\"ECSEL-RIA - ECSEL Research and Innovation Action\",\"ECSEL-RIA - ECSEL Research and Innovation Action\",\"ECSEL-RIA - ECSEL Research and Innovation Action\",\"ECSEL-RIA - ECSEL Research and Innovation Action\",\"ECSEL-RIA - ECSEL Research and Innovation Action\",\"MSCA-COFUND-DP - Doctoral programmes\",\"MSCA-COFUND-DP - Doctoral programmes\",\"MSCA-COFUND-DP - Doctoral programmes\",\"MSCA-COFUND-DP - Doctoral programmes\",\"MSCA-COFUND-DP - Doctoral programmes\",\"MSCA-COFUND-DP - Doctoral programmes\",\"MSCA-COFUND-DP - Doctoral programmes\",\"MSCA-COFUND-DP - Doctoral programmes\",\"MSCA-COFUND-DP - Doctoral programmes\",\"MSCA-IF-EF-SE - Society and Enterprise panel\",\"MSCA-IF-EF-SE - Society and Enterprise panel\",\"MSCA-IF-EF-SE - Society and Enterprise panel\",\"MSCA-IF-EF-SE - Society and Enterprise panel\",\"MSCA-IF-EF-SE - Society and Enterprise panel\",\"MSCA-IF-EF-SE - Society and Enterprise panel\",\"MSCA-IF-EF-SE - Society and Enterprise panel\",\"MSCA-IF-EF-SE - Society and Enterprise panel\",\"MSCA-IF-EF-SE - Society and Enterprise panel\",\"MSCA-IF-EF-SE - Society and Enterprise panel\",\"MSCA-IF-EF-SE - Society and Enterprise panel\",\"MSCA-IF-EF-SE - Society and Enterprise panel\",\"MSCA-IF-EF-SE - Society and Enterprise panel\",\"MSCA-IF-EF-SE - Society and Enterprise panel\",\"MSCA-ITN-EID - European Industrial Doctorates\",\"MSCA-ITN-EID - European Industrial Doctorates\",\"MSCA-ITN-EID - European Industrial Doctorates\",\"MSCA-ITN-EID - European Industrial Doctorates\",\"MSCA-ITN-EID - European Industrial Doctorates\",\"MSCA-ITN-EID - European Industrial Doctorates\",\"MSCA-ITN-EID - European Industrial Doctorates\",\"MSCA-ITN-EID - European Industrial Doctorates\",\"MSCA-ITN-EID - European Industrial Doctorates\",\"MSCA-ITN-EID - European Industrial Doctorates\",\"MSCA-ITN-EID - European Industrial Doctorates\",\"MSCA-ITN-EID - European Industrial Doctorates\",\"MSCA-ITN-EID - European Industrial Doctorates\",\"MSCA-ITN-EID - European Industrial Doctorates\",\"MSCA-ITN-EID - European Industrial Doctorates\",\"MSCA-ITN-EJD - European Joint Doctorates\",\"MSCA-ITN-EJD - European Joint Doctorates\",\"MSCA-ITN-EJD - European Joint Doctorates\",\"MSCA-ITN-EJD - European Joint Doctorates\",\"MSCA-ITN-EJD - European Joint Doctorates\",\"MSCA-ITN-EJD - European Joint Doctorates\",\"MSCA-ITN-EJD - European Joint Doctorates\",\"MSCA-ITN-EJD - European Joint Doctorates\",\"MSCA-ITN-EJD - European Joint Doctorates\",\"MSCA-ITN-EJD - European Joint Doctorates\",\"MSCA-ITN-ETN - European Training Networks\",\"MSCA-ITN-ETN - European Training Networks\",\"MSCA-ITN-ETN - European Training Networks\",\"MSCA-ITN-ETN - European Training Networks\",\"MSCA-ITN-ETN - European Training Networks\",\"MSCA-ITN-ETN - European Training Networks\",\"MSCA-ITN-ETN - European Training Networks\",\"MSCA-ITN-ETN - European Training Networks\",\"MSCA-ITN-ETN - European Training Networks\",\"MSCA-ITN-ETN - European Training Networks\",\"MSCA-ITN-ETN - European Training Networks\",\"MSCA-ITN-ETN - European Training Networks\",\"MSCA-ITN-ETN - European Training Networks\",\"MSCA-ITN-ETN - European Training Networks\",\"MSCA-ITN-ETN - European Training Networks\",\"MSCA-ITN-ETN - European Training Networks\",\"MSCA-ITN-ETN - European Training Networks\",\"MSCA-ITN-ETN - European Training Networks\",\"MSCA-ITN-ETN - European Training Networks\",\"MSCA-ITN-ETN - European Training Networks\",\"MSCA-ITN-ETN - European Training Networks\",\"MSCA-ITN-ETN - European Training Networks\",\"MSCA-ITN-ETN - European Training Networks\",\"MSCA-ITN-ETN - European Training Networks\",\"MSCA-ITN-ETN - European Training Networks\",\"MSCA-RISE - Marie Sk\\u0142odowska-Curie Research and Innovation Staff Exchange (RISE)\",\"MSCA-RISE - Marie Sk\\u0142odowska-Curie Research and Innovation Staff Exchange (RISE)\",\"MSCA-RISE - Marie Sk\\u0142odowska-Curie Research and Innovation Staff Exchange (RISE)\",\"MSCA-RISE - Marie Sk\\u0142odowska-Curie Research and Innovation Staff Exchange (RISE)\",\"MSCA-RISE - Marie Sk\\u0142odowska-Curie Research and Innovation Staff Exchange (RISE)\",\"MSCA-RISE - Marie Sk\\u0142odowska-Curie Research and Innovation Staff Exchange (RISE)\",\"MSCA-RISE - Marie Sk\\u0142odowska-Curie Research and Innovation Staff Exchange (RISE)\",\"MSCA-RISE - Marie Sk\\u0142odowska-Curie Research and Innovation Staff Exchange (RISE)\",\"MSCA-RISE - Marie Sk\\u0142odowska-Curie Research and Innovation Staff Exchange (RISE)\",\"MSCA-RISE - Marie Sk\\u0142odowska-Curie Research and Innovation Staff Exchange (RISE)\",\"MSCA-RISE - Marie Sk\\u0142odowska-Curie Research and Innovation Staff Exchange (RISE)\",\"MSCA-RISE - Marie Sk\\u0142odowska-Curie Research and Innovation Staff Exchange (RISE)\",\"MSCA-RISE - Marie Sk\\u0142odowska-Curie Research and Innovation Staff Exchange (RISE)\",\"MSCA-RISE - Marie Sk\\u0142odowska-Curie Research and Innovation Staff Exchange (RISE)\",\"MSCA-RISE - Marie Sk\\u0142odowska-Curie Research and Innovation Staff Exchange (RISE)\",\"MSCA-RISE - Marie Sk\\u0142odowska-Curie Research and Innovation Staff Exchange (RISE)\",\"MSCA-RISE - Marie Sk\\u0142odowska-Curie Research and Innovation Staff Exchange (RISE)\",\"SGA-RIA - SGA-RIA\",\"SGA-RIA - SGA-RIA\",\"SGA-RIA - SGA-RIA\",\"SGA-RIA - SGA-RIA\",\"SME-1 - SME instrument phase 1\",\"SME-1 - SME instrument phase 1\",\"SME-1 - SME instrument phase 1\",\"SME-1 - SME instrument phase 1\",\"SME-1 - SME instrument phase 1\",\"SME-1 - SME instrument phase 1\",\"SME-1 - SME instrument phase 1\",\"SME-1 - SME instrument phase 1\",\"SME-1 - SME instrument phase 1\",\"SME-1 - SME instrument phase 1\",\"SME-1 - SME instrument phase 1\",\"SME-1 - SME instrument phase 1\",\"SME-1 - SME instrument phase 1\",\"SME-2 - SME instrument phase 2\",\"SME-2 - SME instrument phase 2\",\"SME-2 - SME instrument phase 2\",\"SME-2 - SME instrument phase 2\",\"SME-2 - SME instrument phase 2\",\"SME-2 - SME instrument phase 2\",\"SME-2 - SME instrument phase 2\",\"SME-2 - SME instrument phase 2\",\"Shift2Rail-RIA - Research and Innovation action\",\"Shift2Rail-RIA - Research and Innovation action\",\"Shift2Rail-RIA - Research and Innovation action\",\"Shift2Rail-RIA - Research and Innovation action\",\"Shift2Rail-RIA - Research and Innovation action\",\"Shift2Rail-RIA - Research and Innovation action\",\"Shift2Rail-RIA - Research and Innovation action\",\"Shift2Rail-RIA - Research and Innovation action\",\"Shift2Rail-RIA - Research and Innovation action\",\"Shift2Rail-RIA - Research and Innovation action\",\"CS2-RIA - Research and Innovation action\",\"CS2-RIA - Research and Innovation action\",\"CS2-RIA - Research and Innovation action\",\"CS2-RIA - Research and Innovation action\",\"CS2-RIA - Research and Innovation action\",\"CS2-RIA - Research and Innovation action\",\"FCH2-RIA - Research and Innovation action\",\"FCH2-RIA - Research and Innovation action\",\"FCH2-RIA - Research and Innovation action\",\"FCH2-RIA - Research and Innovation action\",\"FCH2-RIA - Research and Innovation action\",\"FCH2-RIA - Research and Innovation action\",\"COFUND-EJP - COFUND (European Joint Programme)\",\"IMI2-RIA - Research and Innovation action\",\"IMI2-RIA - Research and Innovation action\",\"IMI2-RIA - Research and Innovation action\",\"IMI2-RIA - Research and Innovation action\",\"IMI2-RIA - Research and Innovation action\",\"IMI2-RIA - Research and Innovation action\",\"IMI2-RIA - Research and Innovation action\",\"IMI2-RIA - Research and Innovation action\",\"COFUND-PCP - COFUND (PCP)\",\"COFUND-PCP - COFUND (PCP)\",\"H2020-EEN-SGA - Specific Grant Agreement Enterprise Europe Network (EEN)\",\"H2020-EEN-SGA - Specific Grant Agreement Enterprise Europe Network (EEN)\",\"H2020-EEN-SGA - Specific Grant Agreement Enterprise Europe Network (EEN)\",\"H2020-EEN-SGA - Specific Grant Agreement Enterprise Europe Network (EEN)\",\"H2020-EEN-SGA - Specific Grant Agreement Enterprise Europe Network (EEN)\",\"PCP - Pre-Commercial Procurement\",\"CS2-CSA - Coordination & support action\",\"CS2-IA - Innovation action\",\"CS2-IA - Innovation action\",\"CS2-IA - Innovation action\",\"CS2-IA - Innovation action\",\"CS2-IA - Innovation action\",\"CS2-IA - Innovation action\",\"CS2-IA - Innovation action\",\"CSA-LS - CSA Lump sum\",\"ERC-STG - Starting Grant\",\"ERC-STG - Starting Grant\",\"ERC-STG - Starting Grant\",\"ERC-STG - Starting Grant\",\"FCH2-IA - Innovation action\",\"FCH2-IA - Innovation action\",\"SESAR-IA - Innovation action\",\"SESAR-IA - Innovation action\",\"SESAR-IA - Innovation action\",\"SESAR-IA - Innovation action\",\"SESAR-RIA - Research and Innovation action\",\"SESAR-RIA - Research and Innovation action\",\"Shift2Rail-IA - Innovation action\",\"Shift2Rail-IA - Innovation action\",\"Shift2Rail-IA - Innovation action\",\"ERA-NET-Cofund - ERA-NET Cofund\",\"ERC-POC - Proof of Concept Grant\",\"ERC-POC - Proof of Concept Grant\",\"ERC-POC - Proof of Concept Grant\",\"ERC-POC - Proof of Concept Grant\",\"MSCA-COFUND-FP - Fellowship programmes\",\"MSCA-COFUND-FP - Fellowship programmes\",\"Shift2Rail-IA-LS - Innovation Action Lump-Sum\",\"Shift2Rail-IA-LS - Innovation Action Lump-Sum\",\"ERC-ADG - Advanced Grant\",\"ERC-ADG - Advanced Grant\",\"MSCA-IF-EF-ST - Standard EF\",\"MSCA-IF-EF-ST - Standard EF\",\"MSCA-IF-EF-ST - Standard EF\",\"ERC-COG - Consolidator Grant\",\"MSCA-IF-GF - Global Fellowships\",\"Shift2Rail-RIA-LS - Shift2Rail Research and Innovation Action Lump-Sum\"],\"weight\":[4,2,23,9,12,20,6,31,3,1,2,65,1,1,1,1,16,4,47,1,5,4,1,8,45,1,10,1,1,2,84,2,1,3,19,10,82,8,3,2,2,3,5,4,554,6,4,12,19,3,1,1,1,6,6,72,511,9,4,2,10,13,9,73,34,13,1,830,6,6,9,32,13,6,10,1,1,26,11,2,2,118,120,1,2,1,2,29,43,11,1461,7,1,9,9,3,1,13,1,44,23,278,93,3,2761,1,2,7,24,33,158,89,1,6,3,45,24,7,3,90,50,2,3,141,182,3,5,12,3,1,32,73,8,10,9,81,21,5,2,31,5,3,98,48,727,147,7,2938,1,21,36,68,185,90,1,9,7,67,1,1,1,1,1,2,1,2,2,177,142,3,4,2,3,1,7,1,28,5,1,2,9,7,6,4,3,4,2,92,4,3,2,1,1,1,8,1,29,7,2,1,10,14,10,2,6,1,1,1,1,1,3,13,2,2,1,1,5,4,3,1,18,2,4,27,8,3,7,4,3,3,2,3,5,1,6,7,69,12,1,5,6,4,3,4,1,5,1,7,29,4,1,3,2,9,7,1,2,1,1,9,2,3,10,7,13,104,8,1,2,3,3,279,97,3,18,49,26,8,3,1,1,1,1,5,2,1,4,1,4,84,5,44,10,1,1,1,36,1,2,3,2,1,4,1,7,1,2,1,2,16,398,3,3,2,3,3,1,1,3,3,2,1,1,1,2,5,9,20,103,5,58,14,1,2,2,3,1,6,50,48,1,2,3,2,1,1,51,319,9,1,1,2,2,13,2,1,146,1,1,4,122,1,1,2,1,3,1,6,1,1,1,1,8,39,17,17,86,2,86,247,6,3,2,2,1,1,3,2,1,1,1,4,2,4,3,3,3,1,2,2]},\"selected\":{\"id\":\"1687\",\"type\":\"Selection\"},\"selection_policy\":{\"id\":\"1686\",\"type\":\"UnionRenderers\"}},\"id\":\"1569\",\"type\":\"ColumnDataSource\"},{\"attributes\":{\"active_drag\":\"auto\",\"active_inspect\":\"auto\",\"active_multi\":null,\"active_scroll\":\"auto\",\"active_tap\":\"auto\",\"tools\":[{\"id\":\"1548\",\"type\":\"PanTool\"},{\"id\":\"1549\",\"type\":\"WheelZoomTool\"},{\"id\":\"1550\",\"type\":\"BoxZoomTool\"},{\"id\":\"1551\",\"type\":\"SaveTool\"},{\"id\":\"1552\",\"type\":\"ResetTool\"},{\"id\":\"1553\",\"type\":\"HelpTool\"},{\"id\":\"1614\",\"type\":\"HoverTool\"},{\"id\":\"1623\",\"type\":\"TapTool\"},{\"id\":\"1624\",\"type\":\"BoxSelectTool\"}]},\"id\":\"1554\",\"type\":\"Toolbar\"},{\"attributes\":{\"data_source\":{\"id\":\"1569\",\"type\":\"ColumnDataSource\"},\"glyph\":{\"id\":\"1597\",\"type\":\"MultiLine\"},\"hover_glyph\":{\"id\":\"1607\",\"type\":\"MultiLine\"},\"muted_glyph\":null,\"selection_glyph\":{\"id\":\"1602\",\"type\":\"MultiLine\"},\"view\":{\"id\":\"1571\",\"type\":\"CDSView\"}},\"id\":\"1570\",\"type\":\"GlyphRenderer\"},{\"attributes\":{\"line_color\":{\"value\":\"#fdae61\"},\"line_width\":{\"value\":1.5}},\"id\":\"1602\",\"type\":\"MultiLine\"},{\"attributes\":{},\"id\":\"1551\",\"type\":\"SaveTool\"},{\"attributes\":{\"line_color\":{\"value\":\"#abdda4\"},\"line_width\":{\"value\":1.5}},\"id\":\"1607\",\"type\":\"MultiLine\"},{\"attributes\":{\"source\":{\"id\":\"1569\",\"type\":\"ColumnDataSource\"}},\"id\":\"1571\",\"type\":\"CDSView\"},{\"attributes\":{\"overlay\":{\"id\":\"1682\",\"type\":\"BoxAnnotation\"}},\"id\":\"1550\",\"type\":\"BoxZoomTool\"},{\"attributes\":{\"callback\":null,\"tooltips\":[[\"Name:\",\"@name\"]]},\"id\":\"1614\",\"type\":\"HoverTool\"},{\"attributes\":{},\"id\":\"1549\",\"type\":\"WheelZoomTool\"},{\"attributes\":{},\"id\":\"1552\",\"type\":\"ResetTool\"},{\"attributes\":{},\"id\":\"1680\",\"type\":\"BasicTickFormatter\"},{\"attributes\":{\"graph_layout\":{\"BBI-CSA - Bio-based Industries Coordination and Support action\":[-0.09456858283107442,0.14708503529587577],\"BBI-IA-DEMO - Bio-based Industries Innovation action - Demonstration\":[-0.07114108153294503,0.04375653454338107],\"BBI-IA-FLAG - Bio-based Industries Innovation action - Flagship\":[-0.09853296300959732,0.08577211201093328],\"BBI-RIA - Bio-based Industries Research and Innovation action\":[0.0004096266755655822,0.07374459646262578],\"COFUND-EJP - COFUND (European Joint Programme)\":[-0.04953374377154284,-0.26172236621534256],\"COFUND-PCP - COFUND (PCP)\":[0.07929030926732196,-0.26598196853401285],\"CS2-CSA - Coordination & support action\":[-0.149126963530553,2.0],\"CS2-IA - Innovation action\":[0.04823401489417033,0.0072471433483876895],\"CS2-RIA - Research and Innovation action\":[0.08244090453817741,0.029012877181030565],\"CSA - Coordination and support action\":[0.008496344841057211,-0.09442399739058831],\"CSA-LS - CSA Lump sum\":[0.1537109296261356,-0.17180063240167967],\"ECSEL-CSA - ECSEL Coordination & Support action\":[-0.039068523224219574,-0.20177818629329283],\"ECSEL-IA - ECSEL Innovation Action\":[0.021511878730823903,0.034250538076816196],\"ECSEL-RIA - ECSEL Research and Innovation Action\":[0.06398271275687904,-0.0625637104980939],\"ERA-NET-Cofund - ERA-NET Cofund\":[0.20145736238531978,-0.09523596894964116],\"ERC-ADG - Advanced Grant\":[-0.21064101267903557,-0.1211186021423378],\"ERC-COG - Consolidator Grant\":[-0.24450458261163419,-0.08150890653402085],\"ERC-POC - Proof of Concept Grant\":[-0.1568045429789344,-0.0831236762578171],\"ERC-POC-LS - ERC Proof of Concept Lump Sum Pilot\":[0.19982311366002642,0.28501401872160603],\"ERC-STG - Starting Grant\":[-0.14784078449625415,0.02719059595847055],\"FCH2-CSA - Coordination & support action\":[0.1898303547324628,-0.13332618687945538],\"FCH2-IA - Innovation action\":[0.11497550603629032,0.009202015018975019],\"FCH2-RIA - Research and Innovation action\":[0.0886128294005563,-0.036140471083328296],\"H2020-EEN-SGA - Specific Grant Agreement Enterprise Europe Network (EEN)\":[0.09278719107900028,-0.15584865718032634],\"IA - Innovation action\":[0.030207816250853628,-0.03578539852279097],\"IA-LS - Innovation action Lump Sum\":[0.03201115424819976,-0.2333850596200783],\"IMI2-CSA - Coordination & support action\":[-0.17453552705095857,-0.04955930576163803],\"IMI2-RIA - Research and Innovation action\":[-0.07005562905043278,-0.1205585094643431],\"MSCA-COFUND-DP - Doctoral programmes\":[-0.04060453597312286,0.06069098349090367],\"MSCA-COFUND-FP - Fellowship programmes\":[-0.1178058776108951,-0.1182886122250125],\"MSCA-IF-EF-CAR - CAR \\u2013 Career Restart panel\":[-0.3311640128403845,0.2070906567251312],\"MSCA-IF-EF-RI - RI \\u2013 Reintegration panel\":[-0.003182888389761372,0.15190028535551828],\"MSCA-IF-EF-SE - Society and Enterprise panel\":[-0.12170177280425552,-0.02177096236776529],\"MSCA-IF-EF-ST - Standard EF\":[-0.22154634081341387,-0.020609275487682016],\"MSCA-IF-GF - Global Fellowships\":[-0.24375940848037528,0.07893818949164073],\"MSCA-ITN-EID - European Industrial Doctorates\":[-0.03539756441083547,-0.02020285186638029],\"MSCA-ITN-EJD - European Joint Doctorates\":[0.031219711742548367,-0.08105842815592251],\"MSCA-ITN-ETN - European Training Networks\":[-0.06958174745721067,-0.013540241528939104],\"MSCA-RISE - Marie Sk\\u0142odowska-Curie Research and Innovation Staff Exchange (RISE)\":[-0.04217689265542602,0.007361094598749523],\"PCP - Pre-Commercial Procurement\":[0.13136668874416482,-0.2386725681168642],\"PPI - Public Procurement of Innovative solutions\":[-0.01753845806393742,-0.4373392060276544],\"RIA - Research and Innovation action\":[-0.008961081961809607,-0.039156132279352725],\"RIA-LS - Research and Innovation action Lump Sum\":[-0.1382413257883367,-0.25231509539948044],\"SESAR-CSA - Coordination and Support Action\":[0.2783744401977426,-0.04599933268676334],\"SESAR-IA - Innovation action\":[0.16369386313382742,-0.005086382916253016],\"SESAR-RIA - Research and Innovation action\":[0.12791752199833706,-0.03709243180518436],\"SGA-CSA - Specific Grant agreement and Coordination and Support Action\":[0.3084824836571394,-0.307746197406362],\"SGA-RIA - SGA-RIA\":[-0.09644225770210853,-0.0643429081015102],\"SME-1 - SME instrument phase 1\":[-0.0273299425322957,-0.0665206440107735],\"SME-2 - SME instrument phase 2\":[-0.005831477025437641,-0.0005560112056571494],\"Shift2Rail-CSA - Coordination and Support Action\":[0.06451053719423756,0.2192397039246648],\"Shift2Rail-IA - Innovation action\":[0.06300111738070192,0.14591699972627206],\"Shift2Rail-IA-LS - Innovation Action Lump-Sum\":[0.18709506203040835,0.09475578345455697],\"Shift2Rail-RIA - Research and Innovation action\":[0.07466988999434529,0.07391581534325409],\"Shift2Rail-RIA-LS - Shift2Rail Research and Innovation Action Lump-Sum\":[0.1895061560804907,0.19207390658755086]}},\"id\":\"1576\",\"type\":\"StaticLayoutProvider\"},{\"attributes\":{},\"id\":\"1553\",\"type\":\"HelpTool\"},{\"attributes\":{\"fill_color\":{\"value\":\"#abdda4\"},\"size\":{\"units\":\"screen\",\"value\":15}},\"id\":\"1587\",\"type\":\"Circle\"},{\"attributes\":{\"line_color\":{\"value\":\"#CCCCCC\"}},\"id\":\"1597\",\"type\":\"MultiLine\"},{\"attributes\":{},\"id\":\"1679\",\"type\":\"NodesOnly\"},{\"attributes\":{},\"id\":\"1686\",\"type\":\"UnionRenderers\"},{\"attributes\":{\"dimension\":1,\"ticker\":{\"id\":\"1544\",\"type\":\"BasicTicker\"}},\"id\":\"1547\",\"type\":\"Grid\"},{\"attributes\":{\"fill_color\":{\"value\":\"blue\"},\"size\":{\"units\":\"screen\",\"value\":10}},\"id\":\"1577\",\"type\":\"Circle\"},{\"attributes\":{},\"id\":\"1669\",\"type\":\"BasicTickFormatter\"},{\"attributes\":{\"formatter\":{\"id\":\"1669\",\"type\":\"BasicTickFormatter\"},\"ticker\":{\"id\":\"1539\",\"type\":\"BasicTicker\"}},\"id\":\"1538\",\"type\":\"LinearAxis\"},{\"attributes\":{\"fill_color\":{\"value\":\"#fdae61\"},\"size\":{\"units\":\"screen\",\"value\":15}},\"id\":\"1582\",\"type\":\"Circle\"},{\"attributes\":{},\"id\":\"1612\",\"type\":\"NodesAndLinkedEdges\"},{\"attributes\":{\"callback\":null,\"end\":2.1,\"start\":-2.1},\"id\":\"1530\",\"type\":\"Range1d\"},{\"attributes\":{\"edge_renderer\":{\"id\":\"1570\",\"type\":\"GlyphRenderer\"},\"inspection_policy\":{\"id\":\"1679\",\"type\":\"NodesOnly\"},\"layout_provider\":{\"id\":\"1576\",\"type\":\"StaticLayoutProvider\"},\"node_renderer\":{\"id\":\"1566\",\"type\":\"GlyphRenderer\"},\"selection_policy\":{\"id\":\"1612\",\"type\":\"NodesAndLinkedEdges\"}},\"id\":\"1563\",\"type\":\"GraphRenderer\"},{\"attributes\":{},\"id\":\"1544\",\"type\":\"BasicTicker\"},{\"attributes\":{},\"id\":\"1687\",\"type\":\"Selection\"},{\"attributes\":{\"ticker\":{\"id\":\"1539\",\"type\":\"BasicTicker\"}},\"id\":\"1542\",\"type\":\"Grid\"},{\"attributes\":{\"callback\":null},\"id\":\"1623\",\"type\":\"TapTool\"},{\"attributes\":{\"formatter\":{\"id\":\"1680\",\"type\":\"BasicTickFormatter\"},\"ticker\":{\"id\":\"1544\",\"type\":\"BasicTicker\"}},\"id\":\"1543\",\"type\":\"LinearAxis\"},{\"attributes\":{\"fill_alpha\":{\"value\":0.9},\"size\":{\"units\":\"screen\",\"value\":15}},\"id\":\"1592\",\"type\":\"Circle\"},{\"attributes\":{\"callback\":null,\"overlay\":{\"id\":\"1683\",\"type\":\"BoxAnnotation\"}},\"id\":\"1624\",\"type\":\"BoxSelectTool\"},{\"attributes\":{},\"id\":\"1684\",\"type\":\"UnionRenderers\"},{\"attributes\":{},\"id\":\"1539\",\"type\":\"BasicTicker\"},{\"attributes\":{\"callback\":null,\"data\":{\"index\":[\"BBI-CSA - Bio-based Industries Coordination and Support action\",\"BBI-IA-DEMO - Bio-based Industries Innovation action - Demonstration\",\"BBI-RIA - Bio-based Industries Research and Innovation action\",\"CSA - Coordination and support action\",\"IA - Innovation action\",\"RIA - Research and Innovation action\",\"BBI-IA-FLAG - Bio-based Industries Innovation action - Flagship\",\"ECSEL-IA - ECSEL Innovation Action\",\"ECSEL-RIA - ECSEL Research and Innovation Action\",\"MSCA-COFUND-DP - Doctoral programmes\",\"MSCA-IF-EF-SE - Society and Enterprise panel\",\"MSCA-ITN-EID - European Industrial Doctorates\",\"MSCA-ITN-EJD - European Joint Doctorates\",\"MSCA-ITN-ETN - European Training Networks\",\"MSCA-RISE - Marie Sk\\u0142odowska-Curie Research and Innovation Staff Exchange (RISE)\",\"SGA-RIA - SGA-RIA\",\"SME-1 - SME instrument phase 1\",\"SME-2 - SME instrument phase 2\",\"Shift2Rail-RIA - Research and Innovation action\",\"CS2-RIA - Research and Innovation action\",\"FCH2-RIA - Research and Innovation action\",\"COFUND-EJP - COFUND (European Joint Programme)\",\"IMI2-RIA - Research and Innovation action\",\"COFUND-PCP - COFUND (PCP)\",\"H2020-EEN-SGA - Specific Grant Agreement Enterprise Europe Network (EEN)\",\"PCP - Pre-Commercial Procurement\",\"CS2-CSA - Coordination & support action\",\"CS2-IA - Innovation action\",\"CSA-LS - CSA Lump sum\",\"ERC-STG - Starting Grant\",\"FCH2-IA - Innovation action\",\"SESAR-IA - Innovation action\",\"SESAR-RIA - Research and Innovation action\",\"Shift2Rail-IA - Innovation action\",\"ECSEL-CSA - ECSEL Coordination & Support action\",\"ERA-NET-Cofund - ERA-NET Cofund\",\"ERC-POC - Proof of Concept Grant\",\"FCH2-CSA - Coordination & support action\",\"MSCA-COFUND-FP - Fellowship programmes\",\"PPI - Public Procurement of Innovative solutions\",\"MSCA-IF-EF-RI - RI \\u2013 Reintegration panel\",\"IA-LS - Innovation action Lump Sum\",\"SGA-CSA - Specific Grant agreement and Coordination and Support Action\",\"Shift2Rail-IA-LS - Innovation Action Lump-Sum\",\"ERC-ADG - Advanced Grant\",\"MSCA-IF-EF-ST - Standard EF\",\"ERC-COG - Consolidator Grant\",\"ERC-POC-LS - ERC Proof of Concept Lump Sum Pilot\",\"IMI2-CSA - Coordination & support action\",\"RIA-LS - Research and Innovation action Lump Sum\",\"SESAR-CSA - Coordination and Support Action\",\"Shift2Rail-CSA - Coordination and Support Action\",\"MSCA-IF-EF-CAR - CAR \\u2013 Career Restart panel\",\"MSCA-IF-GF - Global Fellowships\",\"Shift2Rail-RIA-LS - Shift2Rail Research and Innovation Action Lump-Sum\"],\"name\":[\"BBI-CSA - Bio-based Industries Coordination and Support action\",\"BBI-IA-DEMO - Bio-based Industries Innovation action - Demonstration\",\"BBI-RIA - Bio-based Industries Research and Innovation action\",\"CSA - Coordination and support action\",\"IA - Innovation action\",\"RIA - Research and Innovation action\",\"BBI-IA-FLAG - Bio-based Industries Innovation action - Flagship\",\"ECSEL-IA - ECSEL Innovation Action\",\"ECSEL-RIA - ECSEL Research and Innovation Action\",\"MSCA-COFUND-DP - Doctoral programmes\",\"MSCA-IF-EF-SE - Society and Enterprise panel\",\"MSCA-ITN-EID - European Industrial Doctorates\",\"MSCA-ITN-EJD - European Joint Doctorates\",\"MSCA-ITN-ETN - European Training Networks\",\"MSCA-RISE - Marie Sk\\u0142odowska-Curie Research and Innovation Staff Exchange (RISE)\",\"SGA-RIA - SGA-RIA\",\"SME-1 - SME instrument phase 1\",\"SME-2 - SME instrument phase 2\",\"Shift2Rail-RIA - Research and Innovation action\",\"CS2-RIA - Research and Innovation action\",\"FCH2-RIA - Research and Innovation action\",\"COFUND-EJP - COFUND (European Joint Programme)\",\"IMI2-RIA - Research and Innovation action\",\"COFUND-PCP - COFUND (PCP)\",\"H2020-EEN-SGA - Specific Grant Agreement Enterprise Europe Network (EEN)\",\"PCP - Pre-Commercial Procurement\",\"CS2-CSA - Coordination & support action\",\"CS2-IA - Innovation action\",\"CSA-LS - CSA Lump sum\",\"ERC-STG - Starting Grant\",\"FCH2-IA - Innovation action\",\"SESAR-IA - Innovation action\",\"SESAR-RIA - Research and Innovation action\",\"Shift2Rail-IA - Innovation action\",\"ECSEL-CSA - ECSEL Coordination & Support action\",\"ERA-NET-Cofund - ERA-NET Cofund\",\"ERC-POC - Proof of Concept Grant\",\"FCH2-CSA - Coordination & support action\",\"MSCA-COFUND-FP - Fellowship programmes\",\"PPI - Public Procurement of Innovative solutions\",\"MSCA-IF-EF-RI - RI \\u2013 Reintegration panel\",\"IA-LS - Innovation action Lump Sum\",\"SGA-CSA - Specific Grant agreement and Coordination and Support Action\",\"Shift2Rail-IA-LS - Innovation Action Lump-Sum\",\"ERC-ADG - Advanced Grant\",\"MSCA-IF-EF-ST - Standard EF\",\"ERC-COG - Consolidator Grant\",\"ERC-POC-LS - ERC Proof of Concept Lump Sum Pilot\",\"IMI2-CSA - Coordination & support action\",\"RIA-LS - Research and Innovation action Lump Sum\",\"SESAR-CSA - Coordination and Support Action\",\"Shift2Rail-CSA - Coordination and Support Action\",\"MSCA-IF-EF-CAR - CAR \\u2013 Career Restart panel\",\"MSCA-IF-GF - Global Fellowships\",\"Shift2Rail-RIA-LS - Shift2Rail Research and Innovation Action Lump-Sum\"]},\"selected\":{\"id\":\"1685\",\"type\":\"Selection\"},\"selection_policy\":{\"id\":\"1684\",\"type\":\"UnionRenderers\"}},\"id\":\"1565\",\"type\":\"ColumnDataSource\"},{\"attributes\":{\"text\":\"\"},\"id\":\"1528\",\"type\":\"Title\"},{\"attributes\":{\"bottom_units\":\"screen\",\"fill_alpha\":{\"value\":0.5},\"fill_color\":{\"value\":\"lightgrey\"},\"left_units\":\"screen\",\"level\":\"overlay\",\"line_alpha\":{\"value\":1.0},\"line_color\":{\"value\":\"black\"},\"line_dash\":[4,4],\"line_width\":{\"value\":2},\"render_mode\":\"css\",\"right_units\":\"screen\",\"top_units\":\"screen\"},\"id\":\"1683\",\"type\":\"BoxAnnotation\"},{\"attributes\":{},\"id\":\"1536\",\"type\":\"LinearScale\"},{\"attributes\":{\"bottom_units\":\"screen\",\"fill_alpha\":{\"value\":0.5},\"fill_color\":{\"value\":\"lightgrey\"},\"left_units\":\"screen\",\"level\":\"overlay\",\"line_alpha\":{\"value\":1.0},\"line_color\":{\"value\":\"black\"},\"line_dash\":[4,4],\"line_width\":{\"value\":2},\"render_mode\":\"css\",\"right_units\":\"screen\",\"top_units\":\"screen\"},\"id\":\"1682\",\"type\":\"BoxAnnotation\"},{\"attributes\":{},\"id\":\"1534\",\"type\":\"LinearScale\"},{\"attributes\":{},\"id\":\"1685\",\"type\":\"Selection\"},{\"attributes\":{\"source\":{\"id\":\"1565\",\"type\":\"ColumnDataSource\"}},\"id\":\"1567\",\"type\":\"CDSView\"},{\"attributes\":{\"data_source\":{\"id\":\"1565\",\"type\":\"ColumnDataSource\"},\"glyph\":{\"id\":\"1577\",\"type\":\"Circle\"},\"hover_glyph\":{\"id\":\"1587\",\"type\":\"Circle\"},\"muted_glyph\":{\"id\":\"1592\",\"type\":\"Circle\"},\"selection_glyph\":{\"id\":\"1582\",\"type\":\"Circle\"},\"view\":{\"id\":\"1567\",\"type\":\"CDSView\"}},\"id\":\"1566\",\"type\":\"GlyphRenderer\"},{\"attributes\":{\"callback\":null,\"end\":2.1,\"start\":-2.1},\"id\":\"1532\",\"type\":\"Range1d\"}],\"root_ids\":[\"1527\"]},\"title\":\"Bokeh Application\",\"version\":\"1.3.4\"}};\n",
              "  var render_items = [{\"docid\":\"6218703f-caac-46de-9414-4bc813834b9b\",\"roots\":{\"1527\":\"f704c2f3-2fa5-4c75-b726-6f010c9aa817\"}}];\n",
              "  root.Bokeh.embed.embed_items_notebook(docs_json, render_items);\n",
              "\n",
              "  }\n",
              "  if (root.Bokeh !== undefined) {\n",
              "    embed_document(root);\n",
              "  } else {\n",
              "    var attempts = 0;\n",
              "    var timer = setInterval(function(root) {\n",
              "      if (root.Bokeh !== undefined) {\n",
              "        embed_document(root);\n",
              "        clearInterval(timer);\n",
              "      }\n",
              "      attempts++;\n",
              "      if (attempts > 100) {\n",
              "        console.log(\"Bokeh: ERROR: Unable to run BokehJS code because BokehJS library is missing\");\n",
              "        clearInterval(timer);\n",
              "      }\n",
              "    }, 10, root)\n",
              "  }\n",
              "})(window);"
            ],
            "application/vnd.bokehjs_exec.v0+json": ""
          },
          "metadata": {
            "tags": [],
            "application/vnd.bokehjs_exec.v0+json": {
              "id": "1527"
            }
          }
        }
      ]
    },
    {
      "cell_type": "code",
      "metadata": {
        "id": "ZHG4hxTIlM1L",
        "colab_type": "code",
        "outputId": "61ae6458-59f4-48f4-a4d6-43010f331c57",
        "colab": {}
      },
      "source": [
        "print(nx.number_connected_components(G))"
      ],
      "execution_count": 0,
      "outputs": [
        {
          "output_type": "stream",
          "text": [
            "2\n"
          ],
          "name": "stdout"
        }
      ]
    },
    {
      "cell_type": "code",
      "metadata": {
        "id": "2Y-pC4PRlM1R",
        "colab_type": "code",
        "colab": {}
      },
      "source": [
        ""
      ],
      "execution_count": 0,
      "outputs": []
    }
  ]
}