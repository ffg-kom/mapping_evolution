{
  "nbformat": 4,
  "nbformat_minor": 0,
  "metadata": {
    "colab": {
      "name": "map_evo_slides.ipynb",
      "provenance": [],
      "collapsed_sections": [],
      "include_colab_link": true
    },
    "kernelspec": {
      "name": "python3",
      "display_name": "Python 3"
    }
  },
  "cells": [
    {
      "cell_type": "markdown",
      "metadata": {
        "id": "view-in-github",
        "colab_type": "text"
      },
      "source": [
        "<a href=\"https://colab.research.google.com/github/ffg-kom/mapping_evolution/blob/master/map_evo_slides.ipynb\" target=\"_parent\"><img src=\"https://colab.research.google.com/assets/colab-badge.svg\" alt=\"Open In Colab\"/></a>"
      ]
    },
    {
      "cell_type": "markdown",
      "metadata": {
        "id": "P3vtYpts2-tL",
        "colab_type": "text"
      },
      "source": [
        "# Diary\n",
        "\n",
        "A short overview of our day-to-day progress."
      ]
    },
    {
      "cell_type": "markdown",
      "metadata": {
        "id": "_L309Bas27KS",
        "colab_type": "text"
      },
      "source": [
        "**Monday, Oct 21st**\n",
        "* forming a project team\n",
        "* refining (and narrowing down) the project idea\n",
        "* getting a git repository up and running\n"
      ]
    },
    {
      "cell_type": "markdown",
      "metadata": {
        "id": "JB6k3c3Y4INj",
        "colab_type": "text"
      },
      "source": [
        "**Tuesday, Oct 22nd**\n",
        "\n",
        "* first sketches of possible visualisations\n",
        "* assigning tasks\n",
        "* deciding to use sankey diagrams\n",
        "* finished reading in data, added some additional parameters"
      ]
    },
    {
      "cell_type": "markdown",
      "metadata": {
        "id": "ZEy1H549xRw8",
        "colab_type": "text"
      },
      "source": [
        "**Wednesday, Oct 23rd**\n",
        "\n",
        "* getting data ready for sankey - tiresome\n",
        "   * steep learning curve on handling dataframes\n",
        "   * transferring data via csv worked\n",
        "   * surprises when processing data with sankey (problems with 'cyclic' data needed workaround)\n",
        "* modelling success via machine learning doesn't work out well\n",
        "   * only few parameteres are available and those are not really apt predictors \n",
        "* **We got a prototype!**"
      ]
    },
    {
      "cell_type": "markdown",
      "metadata": {
        "id": "XwVVlaHswlgo",
        "colab_type": "text"
      },
      "source": [
        "**Thursday, Oct 24th**\n",
        "* after the tutorial on networks we feel confident to try that, too\n",
        "* assembling the notebook that serves as our result\n",
        "* new problem: notebook didn't work seamlessly in Google Colab"
      ]
    },
    {
      "cell_type": "markdown",
      "metadata": {
        "id": "LBgK0Ct_fooC",
        "colab_type": "text"
      },
      "source": [
        "**Friday, Oct 25th**\n",
        "* finally achieved merging our work in one single notebook\n",
        "* elaborating on the sankey diagrams\n",
        "   * adding a drop-out lane\n",
        "   * visualizing three steps in one graph\n",
        "* preparing the slides\n",
        "    "
      ]
    },
    {
      "cell_type": "markdown",
      "metadata": {
        "colab_type": "text",
        "id": "xvBi6pe545W6"
      },
      "source": [
        "# Decisions\n",
        "\n",
        "What we committed to along the way, and why we did it."
      ]
    },
    {
      "cell_type": "markdown",
      "metadata": {
        "id": "2jP4epLH47dT",
        "colab_type": "text"
      },
      "source": [
        "**Documentation in a notebook**\n",
        "\n",
        "\n",
        "**Final result of the project is a notebook**\n",
        "* easily usable and adaptable by others - so everyone gets the most out of it"
      ]
    },
    {
      "cell_type": "markdown",
      "metadata": {
        "id": "z3Nz0yi63vuZ",
        "colab_type": "text"
      },
      "source": [
        "# Tasks\n",
        "\n",
        "This is to keep up with our tasks and document on how everyone can contribute."
      ]
    },
    {
      "cell_type": "markdown",
      "metadata": {
        "id": "xmd4ZSE1wtU0",
        "colab_type": "text"
      },
      "source": [
        "**Tasks**\n",
        "\n",
        "open:\n",
        "* prepare slides\n",
        "   \n",
        "done:\n",
        "* get data ready (Marvin)\n",
        "   * connect to the data\n",
        "   * define subset (private commercial, some programme...)\n",
        "   * getting data in right format for sankey\n",
        "* look into visualisation tools (James)\n",
        "   * networks\n",
        "      * networkX\n",
        "      * GraphTool\n",
        "      * bokeh\n",
        "      * gephi\n",
        "   * sankey\n",
        "      * ???\n",
        "* clustering funding schemes (Marvin) \n",
        "* preparing sankey-data for... (Marvin)\n",
        "   * first step (done)\n",
        "   * last step \n",
        "   * all steps \n",
        "* look into sankey options (James)\n",
        "* finalizing sankey notebook\n",
        "   * merging it into one\n",
        "* preparing network-data for... (Marvin)\n",
        "   * funding schemes (detailled)\n",
        "   * organisations\n",
        "* preparing network-graphics (James)\n",
        "* assessing success of organisations (Adrian)\n",
        "   * machine learning\n",
        "   * refine model\n",
        "* assigning topics to projects (Adrian)\n",
        "\n",
        "\n",
        "dropped:\n",
        "* structuring the repo apt for a data science project\n",
        "   * https://drivendata.github.io/cookiecutter-data-science/\n",
        "\n"
      ]
    },
    {
      "cell_type": "markdown",
      "metadata": {
        "id": "yZWeCwg-3eHJ",
        "colab_type": "text"
      },
      "source": [
        "# Lessons learned\n"
      ]
    },
    {
      "cell_type": "markdown",
      "metadata": {
        "id": "eVYLzhFJ4lNH",
        "colab_type": "text"
      },
      "source": [
        "* Surprisingly much time runs into getting the collaboration infrastructure ready.\n",
        "\n",
        "* SANKEY\n",
        "\n",
        "* having merged pull requests *really* feels great\n"
      ]
    }
  ]
}